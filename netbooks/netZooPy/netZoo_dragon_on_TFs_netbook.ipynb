{
 "cells": [
  {
   "cell_type": "markdown",
   "metadata": {},
   "source": [
    "# Investigating potential regulatory relationships between TFs in breast cancer using DRAGON\n",
    "\n",
    "Author: Deborah Weighill<sup>1</sup>\n",
    "\n",
    "<sup>1</sup> Department of Biostatistics, Harvard T.H. Chan School of Public Health, Boston, MA."
   ]
  },
  {
   "cell_type": "markdown",
   "metadata": {
    "lines_to_next_cell": 0
   },
   "source": [
    "\n",
    "# Overview\n",
    "In this tutorial, we investigate potential regulatory relationships between transcription factors (TFs) based on their methylation as well as gene expression. For this analysis we use the [DRAGON](https://netzoo.github.io/zooanimals/dragon/) algorithm **(Determining Regulatory Associations using Graphical models on multi-Omic Networks)** to calculate partial correlations between expression and methylation profiles of TFs. DRAGON calibrates its parameters to achieve an optimal trade-off between the network's complexity and estimation accuracy, while  explicitly accounting for the characteristics of each of the assessed omics layers. DRAGON is distributed through the Network Zoo package (netZooPy v0.9; [netzoo.github.io](netzoo.github.io)) in Python. However, for this tutorial, we will call the Python function from R because we need to use TCGA2BED software to process the data.\n",
    "\n",
    "# Load libraries\n",
    "First, we start first by loading the libraries."
   ]
  },
  {
   "cell_type": "code",
   "execution_count": null,
   "metadata": {},
   "outputs": [],
   "source": [
    "library('dplyr')\n",
    "library('tidyr')\n",
    "library('RcppCNPy')\n",
    "library('ggplot2') # for plotting\n",
    "library('ggthemes')\n",
    "library('visNetwork') # to visualize the network\n",
    "library('RColorBrewer')\n",
    "source(\"./dragonScripts/call_dragon.R\") #script to load Dragon from netZooPy and bind to Python"
   ]
  },
  {
   "cell_type": "markdown",
   "metadata": {
    "lines_to_next_cell": 0
   },
   "source": [
    "# Make input matrices\n",
    "We construct our input matrices for DRAGON. We obtained TCGA breast cancer expression and methylation data which had already been preprocessed as `.bed` files from TCGA2BED<sup>1</sup> (see http://bioinf.iasi.cnr.it/tcga2bed/) and used the TCGA2BED software to create a combined methylation and gene expression matrix. From this combined matrix, we perform the following preprocessing steps:\n",
    "\n",
    "1. Create a gene expression matrix removing genes with consistently low expression\n",
    "2. Scale the expression matrix\n",
    "3. Create a methylation matrix which removes unknown methylation values.\n",
    "4. Scale the methylation matrix.\n",
    "5. Down-select matrices to TFs."
   ]
  },
  {
   "cell_type": "code",
   "execution_count": null,
   "metadata": {
    "lines_to_next_cell": 2
   },
   "outputs": [],
   "source": [
    "# Load combined matrix\n",
    "data <- read.table(\"/opt/data/netZooPy/dragon/combined_RNASeq_Meth_matrix_BRCA.txt\", header = TRUE, row.names = 1)\n",
    "meth <- t(data[,c(1:20049)])\n",
    "expr <- t(data[,c(20050:40534)])\n",
    "\n",
    "# Expr: Remove low-expressed genes - note - these are rsem normalized, and then scale\n",
    "exprLow <- apply(expr , MARGIN = 1, FUN = function(x) length(x[(is.na(x)| x<=1) ]))\n",
    "cleanExpr <- expr[exprLow <= (0.2*ncol(expr)),]\n",
    "scaled_expr <- scale(t(cleanExpr))\n",
    "\n",
    "# Methelation: remove \"?\" genes and then scale\n",
    "methNA <- apply(meth , MARGIN = 1, FUN = function(x) length(which(x == \"?\")))\n",
    "cleanMeth <- meth[methNA == 0,]\n",
    "write.table(cleanMeth, file = \"../data/cleanMeth.txt\", sep = \"\\t\", quote = FALSE, row.names = TRUE, col.names = TRUE)\n",
    "cleanMeth2 <- read.table(\"../data/cleanMeth.txt\", header = TRUE, row.names = 1)\n",
    "scaled_meth <- scale(t(cleanMeth2))\n",
    "\n",
    "# select TFs from methylation\n",
    "tfs_meth <- read.table(\"/opt/data/netZooPy/dragon/meth_tf_ids.txt\", header = FALSE)\n",
    "methylation_subset <- scaled_meth[,which(colnames(scaled_meth) %in% tfs_meth$V1)]\n",
    "\n",
    "# select TFs from expression\n",
    "tfs_expr <- read.table(\"/opt/data/netZooPy/dragon/rnaseq_tf_ids.txt\", header = FALSE)\n",
    "expression_subset <- scaled_expr[,which(colnames(scaled_expr) %in% tfs_expr$V1)]"
   ]
  },
  {
   "cell_type": "markdown",
   "metadata": {
    "lines_to_next_cell": 0
   },
   "source": [
    "# Run DRAGON\n",
    "Now we run DRAGON, which will calculate partial correlations, p-values and adjusted p-values for pairs of TFs based on their expression/methylation profiles."
   ]
  },
  {
   "cell_type": "code",
   "execution_count": null,
   "metadata": {},
   "outputs": [],
   "source": [
    "XA0 <- expression_subset\n",
    "XB0 <- methylation_subset\n",
    "\n",
    "# DRAGON reports the partial correlations, p-values and adjusted p-values betweene each pair of TFs (i,j) in the following structure: the AA result contains partial correlations between the expression profile of TF i and the expression profile of TF j; the BB result contains partial correlations between the methylation profile of TF i and the methylation profile of TF j; the AB result contains partial correlations between the expression profile of TF i and the methylation profile of TF j\n",
    "res2 <- call.dragon(XA0, XB0)\n",
    "head(res2$resAA)\n",
    "head(res2$resAB)\n",
    "head(res2$resBB)\n",
    "\n",
    "# parse feature columns to get clean TF ids\n",
    "exp_meth_2layer <- res2$resAB\n",
    "exp_meth_2layer <- separate(exp_meth_2layer, feature1, c(\"tf_rnaseq\",NA), \"_\", remove = TRUE)\n",
    "exp_meth_2layer <- separate(exp_meth_2layer, feature2, c(\"tf_dnameth\",NA), \"_\", remove = TRUE)\n",
    "head(exp_meth_2layer)\n",
    "\n",
    "meth_meth_2layer <- res2$resBB\n",
    "meth_meth_2layer <- separate(meth_meth_2layer, feature1, c(\"tf_dnameth1\",NA), \"_\", remove = TRUE)\n",
    "meth_meth_2layer <- separate(meth_meth_2layer, feature2, c(\"tf_dnameth2\",NA), \"_\", remove = TRUE)\n",
    "meth_meth_2layer$id <- paste0(meth_meth_2layer$tf_dnameth1,meth_meth_2layer$tf_dnameth2)\n",
    "head(meth_meth_2layer)\n",
    "\n",
    "exp_exp_2layer <- res2$resAA\n",
    "exp_exp_2layer <- separate(exp_exp_2layer, feature1, c(\"tf_rnaseq1\",NA), \"_\", remove = TRUE)\n",
    "exp_exp_2layer <- separate(exp_exp_2layer, feature2, c(\"tf_rnaseq2\",NA), \"_\", remove = TRUE)\n",
    "exp_exp_2layer$id <- paste0(exp_exp_2layer$tf_rnaseq1,exp_exp_2layer$tf_rnaseq2)\n",
    "head(exp_exp_2layer)"
   ]
  },
  {
   "cell_type": "markdown",
   "metadata": {
    "lines_to_next_cell": 0
   },
   "source": [
    "# Run standard GGM\n",
    "Here we run standard Gaussian Graphical Model to calculate partial correlations between a single layer of expression data (i.e. no methylation information included). This will allow us to investigate if there exist TF-TF relationships that are better explained by including a methylation layer."
   ]
  },
  {
   "cell_type": "code",
   "execution_count": null,
   "metadata": {},
   "outputs": [],
   "source": [
    "XA0 <- expression_subset\n",
    "\n",
    "res1 <- call.GGM(XA0)\n",
    "res1$res\n",
    "saveRDS(res1,\"../data/dragon_TFs_results_1layer_03102021.Rds\")\n",
    "exp_exp_1layer <- res1$res\n",
    "exp_exp_1layer <- separate(exp_exp_1layer, feature1, c(\"tf_rnaseq1\",NA), \"_\", remove = TRUE)\n",
    "exp_exp_1layer <- separate(exp_exp_1layer, feature2, c(\"tf_rnaseq2\",NA), \"_\", remove = TRUE)\n",
    "exp_exp_1layer$id <- paste0(exp_exp_1layer$tf_rnaseq1,exp_exp_1layer$tf_rnaseq2)"
   ]
  },
  {
   "cell_type": "markdown",
   "metadata": {
    "lines_to_next_cell": 0
   },
   "source": [
    "Now we select TF-TF relationships which are significant at an adjusted p-value of 0.05, investigate if there are significant relationships in the GGM which are altered when looking at the 2-layer DRAGON relationships."
   ]
  },
  {
   "cell_type": "code",
   "execution_count": null,
   "metadata": {},
   "outputs": [],
   "source": [
    "# apply adjusted p-value threshold\n",
    "exp_exp_1layer_0.05 <- exp_exp_1layer[which(exp_exp_1layer$adj_p_vals <= 0.05),]\n",
    "exp_exp_2layer_0.05 <- exp_exp_2layer[which(exp_exp_2layer$adj_p_vals <= 0.05),]\n",
    "meth_meth_2layer_0.05 <- meth_meth_2layer[which(meth_meth_2layer$adj_p_vals <= 0.05),]\n",
    "\n",
    "# Identify relationships (network edges) significant in the expression GGM, non-significant in the DRAGON expression network and significant in the DRAGON methylation network.\n",
    "exp_exp_1layer_0.05[which(!(exp_exp_1layer_0.05$id %in% exp_exp_2layer_0.05$id) & (exp_exp_1layer_0.05$id %in% meth_meth_2layer_0.05$id)),]\n",
    "\n",
    "# print the p-values\n",
    "exp_exp_1layer[which((exp_exp_1layer$tf_rnaseq1 == \"ELF4\") &(exp_exp_1layer$tf_rnaseq2 == \"ZBTB33\")),]\n",
    "exp_exp_2layer[which((exp_exp_2layer$tf_rnaseq1 == \"ELF4\") &(exp_exp_2layer$tf_rnaseq2 == \"ZBTB33\")),]\n",
    "meth_meth_2layer_0.05[which((meth_meth_2layer_0.05$tf_dnameth1 == \"ELF4\") &(meth_meth_2layer_0.05$tf_dnameth2 == \"ZBTB33\")),]"
   ]
  },
  {
   "cell_type": "markdown",
   "metadata": {
    "lines_to_next_cell": 0
   },
   "source": [
    "These results show the relationship between TFs ELF4 and ZBTB33, which appear to be correlated in terms of expression in the GGM, are in fact not significantly correlated in the DRAGON expression network, but are significantly correlated in the DRAGON methylation network. This suggets that this relationship is driven by co-methylation and not co-expression.\n",
    "\n",
    "# Investigate proximity of co-methylated genes\n",
    "Now, we investigate the physical proximity of TF gene regions in the genome and how this relates to co-methylation."
   ]
  },
  {
   "cell_type": "code",
   "execution_count": null,
   "metadata": {},
   "outputs": [],
   "source": [
    "# read in gene annotation file\n",
    "genes <- read.table(\"/opt/data/netZooPy/dragon/geneID_name_map.txt\", header = FALSE)\n",
    "colnames(genes) <- c(\"ensID\",\"name\",\"chrom\",\"start\",\"stop\")\n",
    "# calcualte gene midpoint\n",
    "genes$mid <- (genes$stop - genes$start)/2\n",
    "\n",
    "# identify the chromosome on which the TF's gene resides\n",
    "meth_meth_2layer$chrom1 <- genes$chrom[match(meth_meth_2layer$tf_dnameth1, genes$name)]\n",
    "meth_meth_2layer$chrom2 <- genes$chrom[match(meth_meth_2layer$tf_dnameth2, genes$name)]\n",
    "# if the TFs' respective genes reside on the same chromosome, calcualte the distance between the midpoints of the genes.\n",
    "meth_meth_2layer$distance <- ifelse(meth_meth_2layer$chrom1 == meth_meth_2layer$chrom2, abs((genes$mid[match(meth_meth_2layer$tf_dnameth1, genes$name)]) - (genes$mid[match(meth_meth_2layer$tf_dnameth2, genes$name)])), NA)\n",
    "# mark each pair of TFs as significantly co-methylated or not, based on DRAGON adjusted p-values.\n",
    "meth_meth_2layer$signif <- ifelse(meth_meth_2layer$adj_p_vals <= 0.05, \"P <= 0.05\",\"P > 0.05\")\n",
    "\n",
    "meth_meth_2layer_0.05$chrom1 <- genes$chrom[match(meth_meth_2layer_0.05$tf_dnameth1, genes$name)]\n",
    "meth_meth_2layer_0.05$chrom2 <- genes$chrom[match(meth_meth_2layer_0.05$tf_dnameth2, genes$name)]\n",
    "meth_meth_2layer_0.05$distance <- ifelse(meth_meth_2layer_0.05$chrom1 == meth_meth_2layer_0.05$chrom2, abs((genes$mid[match(meth_meth_2layer_0.05$tf_dnameth1, genes$name)]) - (genes$mid[match(meth_meth_2layer_0.05$tf_dnameth2, genes$name)])), NA)\n",
    "\n",
    "\n",
    "# plot distance vs significance as a violin plot (for pairs of TFs on the same chromosome)\n",
    "p <- ggplot(meth_meth_2layer, aes(x=signif, y=distance, fill=signif)) + geom_violin(trim = FALSE)  + theme_bw() + scale_fill_manual(values=c(\"red\", \"blue\",\"orange\",\"cyan\", \"darkgreen\", \"violet\")) + labs(x=\"P-value\", y = \"Distance between genes (bp)\", title = \"Gene proximity distributions\") + theme(legend.position = \"none\")\n",
    "p\n",
    "\n",
    "# count the number of significant associations\n",
    "num_signif <- length(meth_meth_2layer$distance[which(meth_meth_2layer$signif == \"P <= 0.05\")])\n",
    "# count the number of non-significant associations\n",
    "num_non_signif <- length(meth_meth_2layer$distance[which(meth_meth_2layer$signif == \"P > 0.05\")])\n",
    "# count the number of significant associations on different chromosomes\n",
    "num_signif_interChrom <- length(which(is.na(meth_meth_2layer$distance[which(meth_meth_2layer$signif == \"P <= 0.05\")])))\n",
    "# count the number of non-significant associations on different chromosomes\n",
    "num_Nonsignif_interChrom <- length(which(is.na(meth_meth_2layer$distance[which(meth_meth_2layer$signif == \"P > 0.05\")])))\n",
    "\n",
    "num_signif\n",
    "num_non_signif\n",
    "num_signif_interChrom\n",
    "num_Nonsignif_interChrom"
   ]
  },
  {
   "cell_type": "markdown",
   "metadata": {},
   "source": [
    "Note, almost 95 percent of non-significant edges are across chromosomes."
   ]
  },
  {
   "cell_type": "markdown",
   "metadata": {},
   "source": [
    "# Visualize network\n",
    "Now we plot the significant DRAGON relationships with expression-expression relationships colored orange, methylation-methylation edges colored green, and expression-methylation relationships colored purple."
   ]
  },
  {
   "cell_type": "code",
   "execution_count": null,
   "metadata": {},
   "outputs": [],
   "source": [
    "mm_edges <- meth_meth_2layer_0.05[,c(4,5)]\n",
    "colnames(mm_edges) <- c(\"from\",\"to\")\n",
    "mm_edges$color <- \"green\"\n",
    "\n",
    "ee_edges <- exp_exp_2layer_0.05[,c(4,5)]\n",
    "colnames(ee_edges) <- c(\"from\",\"to\")\n",
    "ee_edges$color <- \"orange\"\n",
    "\n",
    "meth_exp_2layer_0.05 <- exp_meth_2layer[which(exp_meth_2layer$adj_p_vals <= 0.05),]\n",
    "me_edges <- meth_exp_2layer_0.05[,c(4,5)]\n",
    "colnames(me_edges) <- c(\"from\",\"to\")\n",
    "me_edges$color <- \"purple\"\n",
    "\n",
    "edges <- rbind(mm_edges, ee_edges, me_edges)\n",
    "nodes <- data.frame(id = unique(as.vector(as.matrix(edges[,c(1,2)]))))\n",
    "nodes$label <- nodes$id\n",
    "#nodes$color <- \"darkolivegreen2\"\n",
    "\n",
    "net <- visNetwork(nodes, edges, width = \"100%\")\n",
    "net              "
   ]
  },
  {
   "cell_type": "markdown",
   "metadata": {},
   "source": [
    "# References\n",
    "1- Cumbo, Fabio, et al. \"TCGA2BED: extracting, extending, integrating, and querying The Cancer Genome Atlas.\" BMC bioinformatics 18.1 (2017): 1-9."
   ]
  }
 ],
 "metadata": {
  "jupytext": {
   "cell_metadata_filter": "-all",
   "main_language": "R",
   "notebook_metadata_filter": "-all"
  },
  "kernelspec": {
   "display_name": "R",
   "language": "R",
   "name": "ir"
  },
  "language_info": {
   "codemirror_mode": "r",
   "file_extension": ".r",
   "mimetype": "text/x-r-source",
   "name": "R",
   "pygments_lexer": "r",
   "version": "4.0.3"
  }
 },
 "nbformat": 4,
 "nbformat_minor": 4
}
