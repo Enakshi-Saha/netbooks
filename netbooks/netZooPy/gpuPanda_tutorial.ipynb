{
 "cells": [
  {
   "cell_type": "markdown",
   "metadata": {
    "colab_type": "text",
    "id": "RaDKNFlku6d6"
   },
   "source": [
    "# Running Panda and Lioness using the Graphical Processing Unit (GPU)"
   ]
  },
  {
   "cell_type": "markdown",
   "metadata": {},
   "source": [
    "### Author: \n",
    "Daniel Morgan*.\n",
    "\n",
    "*Channing division of network medicine, Brigham's and Women hospital and Harvard Medical School, Boston, MA."
   ]
  },
  {
   "cell_type": "markdown",
   "metadata": {},
   "source": [
    "## Introduction\n",
    "PANDA [1] estimates gene regulatory networks using information from Transcription Factor (TF) Protein-Protein Interaction (PPI), gene coexpression, and TF DNA binding motifs. At its core, PANDA computes similarites between the three sources of information to infer the weight of regulatory edges, using matrix mulitplication. To accelerate the network inference, Graphical Processing Units (GPUs) can be used to perform matrix multiplication in an efficient manner. The complete case study of this tool can be found here: https://netzoo.github.io/zooanimals/gpuzoo/"
   ]
  },
  {
   "cell_type": "markdown",
   "metadata": {
    "colab_type": "text",
    "id": "CWHop1VSe8Fp"
   },
   "source": [
    "## 1. Setup Environment: download, install & import latest packages\n",
    "\n",
    "Please make sure to install the following package on your Python environment, then import them as follows:"
   ]
  },
  {
   "cell_type": "code",
   "execution_count": null,
   "metadata": {
    "colab": {},
    "colab_type": "code",
    "id": "gGbB1syJekAh"
   },
   "outputs": [],
   "source": [
    "import os\n",
    "import s3fs\n",
    "import pandas as pd\n",
    "import numpy as np\n",
    "from psutil import *"
   ]
  },
  {
   "cell_type": "markdown",
   "metadata": {},
   "source": [
    "Also make sure that nvcc, the Nvidia CUDA compiler is installed, you can verify the version as follows:"
   ]
  },
  {
   "cell_type": "code",
   "execution_count": null,
   "metadata": {
    "colab": {},
    "colab_type": "code",
    "id": "ogmMRRhqewZq"
   },
   "outputs": [],
   "source": [
    "!nvcc --version"
   ]
  },
  {
   "cell_type": "markdown",
   "metadata": {
    "colab_type": "text",
    "id": "8LtkmrxtfNXT"
   },
   "source": [
    "### 1.1 Configure cupy for installed Cuda version\n",
    "gpuPANDA uses CUDA through the `cuPy` library\n",
    "\n",
    "1.   use cuda version based on above release (*e.g.* release 10.1= cuda101)\n",
    "2.   install cupy version 7.4.0 or above \n",
    "\n",
    "First, we need to install cuPy."
   ]
  },
  {
   "cell_type": "code",
   "execution_count": null,
   "metadata": {
    "colab": {
     "base_uri": "https://localhost:8080/",
     "height": 245
    },
    "colab_type": "code",
    "id": "Ix7nCFlZfOwr",
    "outputId": "4967afd9-0f9a-4124-c77f-a20014999279"
   },
   "outputs": [],
   "source": [
    "!pip install cupy-cuda101==7.4.0"
   ]
  },
  {
   "cell_type": "markdown",
   "metadata": {},
   "source": [
    "Then, we need to import it."
   ]
  },
  {
   "cell_type": "code",
   "execution_count": null,
   "metadata": {},
   "outputs": [],
   "source": [
    "import cupy as cp\n",
    "# print(cp.__version__)\n",
    "!pip freeze | grep cupy"
   ]
  },
  {
   "cell_type": "markdown",
   "metadata": {},
   "source": [
    "## 1.2 GPU and CPU info\n",
    "\n",
    "In a second step, we need to make sure that the computer detects the GPU card and its drivers installed. This can be done as follows:"
   ]
  },
  {
   "cell_type": "code",
   "execution_count": null,
   "metadata": {},
   "outputs": [],
   "source": [
    "!nvidia-smi"
   ]
  },
  {
   "cell_type": "code",
   "execution_count": null,
   "metadata": {},
   "outputs": [],
   "source": [
    "!cat /proc/cpuinfo"
   ]
  },
  {
   "cell_type": "markdown",
   "metadata": {},
   "source": [
    "### 1.3 Clone netZoo\n",
    "Finally, we need to install gpuPANDA through the netZooPy package. First, we clone the package from GitHub."
   ]
  },
  {
   "cell_type": "code",
   "execution_count": null,
   "metadata": {
    "colab": {},
    "colab_type": "code",
    "id": "x5-MkWXGfQuY"
   },
   "outputs": [],
   "source": [
    "!git clone --single-branch --branch devel https://github.com/netZoo/netZooPy.git\n",
    "os.chdir('netZooPy')\n",
    "!pip install -e .\n",
    "os.chdir('..')"
   ]
  },
  {
   "cell_type": "markdown",
   "metadata": {},
   "source": [
    "Then, we import netZooPy."
   ]
  },
  {
   "cell_type": "code",
   "execution_count": null,
   "metadata": {
    "colab": {},
    "colab_type": "code",
    "id": "k0h_SJjYf2O9"
   },
   "outputs": [],
   "source": [
    "import netZooPy\n",
    "from netZooPy.panda import Panda\n",
    "from netZooPy.lioness import Lioness"
   ]
  },
  {
   "cell_type": "markdown",
   "metadata": {
    "colab_type": "text",
    "id": "eiMr4wpkgDy_"
   },
   "source": [
    "## 2. Load test data"
   ]
  },
  {
   "cell_type": "markdown",
   "metadata": {},
   "source": [
    "To test gpuPANDA. First, we get the input data from the [GRAND database](https://grand.networkmedicine.org/download/). This can be done directly through the package `pandas`."
   ]
  },
  {
   "cell_type": "code",
   "execution_count": null,
   "metadata": {
    "colab": {},
    "colab_type": "code",
    "id": "q7s_Ea6hf6ov"
   },
   "outputs": [],
   "source": [
    "LCL_ppi=pd.read_csv('https://granddb.s3.amazonaws.com/cells/ppi/LCL_ppi.txt',sep='\\t',header=None)\n",
    "LCL_expression=pd.read_csv('https://granddb.s3.amazonaws.com/optPANDA/expression/Hugo_exp1_lcl.txt',sep='\\t',header=None)\n",
    "LCL_motif=pd.read_csv('https://granddb.s3.amazonaws.com/gpuPANDA/Hugo_motifCellLine_reduced.txt',sep='\\t',header=None)\n",
    "LCL_ppi.to_csv('LCL_ppi.txt',sep='\\t',index=False)\n",
    "LCL_expression.to_csv('Hugo_exp1_lcl.txt',sep='\\t',index=False)\n",
    "LCL_motif.to_csv('Hugo_motifCellLine_reduced.txt',sep='\\t',index=False)"
   ]
  },
  {
   "cell_type": "markdown",
   "metadata": {},
   "source": [
    "Then, we specify the path to the files we downloaded from the database."
   ]
  },
  {
   "cell_type": "code",
   "execution_count": null,
   "metadata": {
    "colab": {},
    "colab_type": "code",
    "id": "M5JqR6R4f9zE"
   },
   "outputs": [],
   "source": [
    "expression_data='Hugo_exp1_lcl.txt'\n",
    "motif_data='Hugo_motifCellLine_reduced.txt'\n",
    "ppi_data='LCL_ppi.txt'"
   ]
  },
  {
   "cell_type": "markdown",
   "metadata": {
    "colab_type": "text",
    "id": "c6ydrGxdgI9B"
   },
   "source": [
    "## 3. Run Panda with GPU & precision flags"
   ]
  },
  {
   "cell_type": "markdown",
   "metadata": {},
   "source": [
    "Finally, we run PANDA through the command line. There a few important parameters to conisder. First, we need to set `precision` to `gpu` to run gpuPANDA.\n",
    "Second, the precision flags allow to compute the network in sinlgle (7 decimal digits) or double precision (15 decimal digits). Although double precision networks are more accurate, single precision can be useful to free memory on devices and for faster run times. It is a tradeoff that depends on each application."
   ]
  },
  {
   "cell_type": "code",
   "execution_count": null,
   "metadata": {
    "colab": {},
    "colab_type": "code",
    "id": "yqZCQubJf_By"
   },
   "outputs": [],
   "source": [
    "panda_obj = Panda(expression_data, motif_data, ppi_data,computing='gpu',precision='single',save_tmp=False,save_memory = False, remove_missing=True, keep_expression_matrix = True,modeProcess = 'intersection')"
   ]
  },
  {
   "cell_type": "code",
   "execution_count": null,
   "metadata": {
    "colab": {},
    "colab_type": "code",
    "id": "nDfmfIr6G6X0"
   },
   "outputs": [],
   "source": [
    "panda_obj.save_panda_results('single_cpu_panda.txt')"
   ]
  },
  {
   "cell_type": "markdown",
   "metadata": {},
   "source": [
    "## 4. Run LIONESS with GPU"
   ]
  },
  {
   "cell_type": "markdown",
   "metadata": {},
   "source": [
    "LIONESS [2] calls PANDA to estimate regulatory networks for each sample. We can use the GPU acceleration capabilities to estimate sample-specific networks through setting the `computing` flag to `gpu`."
   ]
  },
  {
   "cell_type": "code",
   "execution_count": null,
   "metadata": {
    "colab": {},
    "colab_type": "code",
    "id": "n5Y4dQivGUvh"
   },
   "outputs": [],
   "source": [
    "lioness_obj = Lioness(panda_obj,computing='gpu',start=1, end=5, save_dir='lioness_output', save_fmt='txt')"
   ]
  },
  {
   "cell_type": "code",
   "execution_count": null,
   "metadata": {},
   "outputs": [],
   "source": [
    "lioness_obj.panda_network.shape"
   ]
  },
  {
   "cell_type": "markdown",
   "metadata": {},
   "source": [
    "### References\n",
    "[1] Glass, Kimberly, et al. \"Passing messages between biological networks to refine predicted interactions.\" PloS one 8.5 (2013).\n",
    "\n",
    "[2] Kuijjer, Marieke Lydia, et al. \"Estimating sample-specific regulatory networks.\" iScience 14 (2019): 226-240."
   ]
  }
 ],
 "metadata": {
  "accelerator": "GPU",
  "colab": {
   "collapsed_sections": [],
   "machine_shape": "hm",
   "name": "gpuPanda_tutorial.ipynb",
   "provenance": [],
   "toc_visible": true
  },
  "kernelspec": {
   "display_name": "Python 3",
   "language": "python",
   "name": "python3"
  },
  "language_info": {
   "codemirror_mode": {
    "name": "ipython",
    "version": 3
   },
   "file_extension": ".py",
   "mimetype": "text/x-python",
   "name": "python",
   "nbconvert_exporter": "python",
   "pygments_lexer": "ipython3",
   "version": "3.9.7"
  }
 },
 "nbformat": 4,
 "nbformat_minor": 1
}
