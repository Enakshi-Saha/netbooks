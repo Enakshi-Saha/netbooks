{
 "cells": [
  {
   "cell_type": "markdown",
   "metadata": {},
   "source": [
    "# DRAGON example\n",
    "\n",
    "Michael Altenbuchinger<sup>1</sup>\n",
    "\n",
    "<sup>1</sup> Institut für Biologie, Universitat Hoehenhein.\n",
    "\n",
    "## Load DRAGON\n",
    "We first load DRAGON functions from netZooPy (> v0.9). If you need to install netZooPy, please refer to the [installation guide](https://github.com/netZoo/netZooPy/blob/master/README.md)."
   ]
  },
  {
   "cell_type": "code",
   "execution_count": null,
   "metadata": {},
   "outputs": [],
   "source": [
    "from netZooPy.dragon import *\n",
    "import matplotlib.pyplot as plt\n",
    "import numpy as np\n",
    "from mpl_toolkits.mplot3d import Axes3D, art3d"
   ]
  },
  {
   "cell_type": "markdown",
   "metadata": {},
   "source": [
    "## Simulate data with two omics layers\n",
    "To start, we use `simulate_dragon_data` to simulate multi-omics data. Here, `p1` and `p2` refers to the number of variables in omics layer 1 and 2, respectively. The proportion of edges within layer 1 and 2 is set by `eta11` and `eta22`, respectively, and the proportion of edges which connect variables from layer 1 with variables from layer 2 is `eta12`. The sample size is given by n, the noise by epsilon, and the seed by seed."
   ]
  },
  {
   "cell_type": "code",
   "execution_count": null,
   "metadata": {},
   "outputs": [],
   "source": [
    "n = 1000\n",
    "p1 = 500\n",
    "p2 = 100"
   ]
  },
  {
   "cell_type": "code",
   "execution_count": null,
   "metadata": {},
   "outputs": [],
   "source": [
    "X1, X2, Theta, _ = simulate_dragon_data(eta11=0.005, eta12=0.005, eta22=0.05,\n",
    "                                        p1=100, p2=500, epsilon=[0.1,0.1],\n",
    "                                        n=n, seed=123)"
   ]
  },
  {
   "cell_type": "markdown",
   "metadata": {},
   "source": [
    "This returns data from omics layer 1, `X1`, and from layer 2, `X2`, with n measurements in the rows and with p1 and p2 variables in the columns. Theta corresponds to the underlying, true precision matrix. We verify the dimensions of `X1` and `X2`:"
   ]
  },
  {
   "cell_type": "code",
   "execution_count": null,
   "metadata": {},
   "outputs": [],
   "source": [
    "X1 = Scale(X1)\n",
    "X2 = Scale(X2)\n",
    "X1.shape\n",
    "X2.shape"
   ]
  },
  {
   "cell_type": "markdown",
   "metadata": {},
   "source": [
    "## Regularization\n",
    "### Estimate regularization\n",
    "DRAGON uses an efficient way to estimate regularization parameters:"
   ]
  },
  {
   "cell_type": "code",
   "execution_count": null,
   "metadata": {},
   "outputs": [],
   "source": [
    "lambdas, lambdas_landscape = estimate_penalty_parameters_dragon(X1, X2)\n",
    "print(lambdas)"
   ]
  },
  {
   "cell_type": "markdown",
   "metadata": {},
   "source": [
    "### Plot regularization landscape\n",
    "We can also visualize the regularization landscape as follows."
   ]
  },
  {
   "cell_type": "code",
   "execution_count": null,
   "metadata": {},
   "outputs": [],
   "source": [
    "fig = plt.figure()\n",
    "ax = plt.axes(projection='3d')\n",
    "x = np.arange(0,1.01,0.01)\n",
    "ax.contour3D(x, x, lambdas_landscape, 50, cmap='binary')\n",
    "ind = np.unravel_index(np.argmin(lambdas_landscape, axis=None),\n",
    "                       lambdas_landscape.shape)\n",
    "ax.plot([x[int(ind[1])]], [x[int(ind[0])]],\n",
    "       [lambdas_landscape[int(ind[0]),int(ind[1])]],\n",
    "       markerfacecolor='k', markeredgecolor='r', marker='o',\n",
    "       markersize=7, alpha=1)\n",
    "ax.set_xlabel('$\\lambda_1$', fontsize=16)\n",
    "ax.set_ylabel('$\\lambda_2$', labelpad=15, fontsize=16)\n",
    "plt.show()"
   ]
  },
  {
   "cell_type": "markdown",
   "metadata": {},
   "source": [
    "## Estimate the DRAGON-regularized partial correlation matrix\n",
    "Next, we estimate shrunken partial correlations using the regularization parameters determined above."
   ]
  },
  {
   "cell_type": "code",
   "execution_count": null,
   "metadata": {},
   "outputs": [],
   "source": [
    "r = get_partial_correlation_dragon(X1, X2, lambdas)"
   ]
  },
  {
   "cell_type": "markdown",
   "metadata": {},
   "source": [
    "## Assign significance levels\n",
    "Finally, we assign significance levels. Here, we need to correctly specify `n`, `p1` and `p2`, and we have to use exactly the values lambdas that we used to estimate r."
   ]
  },
  {
   "cell_type": "code",
   "execution_count": null,
   "metadata": {},
   "outputs": [],
   "source": [
    "adj_p_vals, p_vals = estimate_p_values_dragon(r, n, p1, p2, lambdas)"
   ]
  },
  {
   "cell_type": "markdown",
   "metadata": {},
   "source": [
    "We can visualize the original precision matrix by"
   ]
  },
  {
   "cell_type": "code",
   "execution_count": null,
   "metadata": {},
   "outputs": [],
   "source": [
    "plt.imshow(Theta[0:20,0:20])\n",
    "plt.colorbar()\n",
    "plt.show()"
   ]
  },
  {
   "cell_type": "markdown",
   "metadata": {},
   "source": [
    "and the significance levels of estimated edges by"
   ]
  },
  {
   "cell_type": "code",
   "execution_count": null,
   "metadata": {},
   "outputs": [],
   "source": [
    "plt.imshow(adj_p_vals[0:20,0:20])\n",
    "plt.colorbar()\n",
    "plt.show()"
   ]
  }
 ],
 "metadata": {
  "kernelspec": {
   "display_name": "Python 3",
   "language": "python",
   "name": "python3"
  },
  "language_info": {
   "codemirror_mode": {
    "name": "ipython",
    "version": 3
   },
   "file_extension": ".py",
   "mimetype": "text/x-python",
   "name": "python",
   "nbconvert_exporter": "python",
   "pygments_lexer": "ipython3",
   "version": "3.9.1"
  }
 },
 "nbformat": 4,
 "nbformat_minor": 4
}
