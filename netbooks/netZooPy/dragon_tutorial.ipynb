{
 "cells": [
  {
   "cell_type": "markdown",
   "metadata": {},
   "source": [
    "# DRAGON: Determining Regulatory Associations using Graphical models on multi-Omic Networks\n",
    "\n",
    "Michael Altenbuchinger<sup>1</sup>\n",
    "\n",
    "<sup>1</sup> Institut für Biologie, Universitat Hoehenhein, Germany.\n",
    "\n",
    "# 1. Introduction\n",
    "\n",
    "Correlation analysis in often used to find associations between biological entities. However, there can be two challenges with this apporach: 1) the emergence of spurious correlations in high dimensional data and 2) the variables we are interested in modeling can have different scales such as in a genotype to phenotype analysis. DRAGON<sup>1</sup> attempts to address these questions by computing partial correlations between variables across 2 biological layers. The difference in scale in these 2 layers is modeled a covariance shrinkage apporach<sup>2</sup>.\n",
    "\n",
    "In this vignette, we will first generate 2 sets of synthetic data, then estimate the regularization parameters, and finally estimate partial correlation between the variables represented in each of the 2 data sets and compute the significance of associations.\n",
    "\n",
    "# 2. Load DRAGON\n",
    "We first load DRAGON functions from netZooPy (> v0.9). If you need to install netZooPy, please refer to the [installation guide](https://github.com/netZoo/netZooPy/blob/master/README.md)."
   ]
  },
  {
   "cell_type": "code",
   "execution_count": null,
   "metadata": {},
   "outputs": [],
   "source": [
    "from netZooPy.dragon import *      # To load DRAGON\n",
    "import matplotlib.pyplot as plt    # To load plotting functions\n",
    "import numpy as np                 # To generate synthetic data\n",
    "from mpl_toolkits.mplot3d import Axes3D, art3d # To regularization landscape"
   ]
  },
  {
   "cell_type": "markdown",
   "metadata": {},
   "source": [
    "# 3. Simulate data with two omics layers\n",
    "To start, we use `simulate_dragon_data` to simulate multi-omics data. Here, `p1` and `p2` refers to the number of variables in omics layer 1 and 2, respectively. The proportion of edges within layer 1 and 2 is set by `eta11` and `eta22`, respectively, and the proportion of edges which connect variables from layer 1 with variables from layer 2 is `eta12`. The sample size is given by `n`, the noise by `epsilon`, and the seed by `seed`."
   ]
  },
  {
   "cell_type": "code",
   "execution_count": null,
   "metadata": {},
   "outputs": [],
   "source": [
    "n = 1000\n",
    "p1 = 500\n",
    "p2 = 100"
   ]
  },
  {
   "cell_type": "markdown",
   "metadata": {},
   "source": [
    "After setting the parameters, we can simulate the 2 data sets"
   ]
  },
  {
   "cell_type": "code",
   "execution_count": null,
   "metadata": {},
   "outputs": [],
   "source": [
    "X1, X2, Theta, _ = simulate_dragon_data(eta11=0.005, eta12=0.005, eta22=0.05,\n",
    "                                        p1=100, p2=500, epsilon=[0.1,0.1],\n",
    "                                        n=n, seed=123)"
   ]
  },
  {
   "cell_type": "markdown",
   "metadata": {},
   "source": [
    "This returns data from omics layer 1, `X1`, and from layer 2, `X2`, with n measurements in the rows and with p1 and p2 variables in the columns. Theta corresponds to the underlying, true precision matrix. We verify the dimensions of `X1` and `X2`:"
   ]
  },
  {
   "cell_type": "code",
   "execution_count": null,
   "metadata": {},
   "outputs": [],
   "source": [
    "X1 = Scale(X1)\n",
    "X2 = Scale(X2)\n",
    "X1.shape\n",
    "X2.shape"
   ]
  },
  {
   "cell_type": "markdown",
   "metadata": {},
   "source": [
    "# 4. Regularization\n",
    "## Estimate regularization\n",
    "DRAGON uses an efficient way to estimate regularization parameters for each data set:"
   ]
  },
  {
   "cell_type": "code",
   "execution_count": null,
   "metadata": {},
   "outputs": [],
   "source": [
    "lambdas, lambdas_landscape = estimate_penalty_parameters_dragon(X1, X2)\n",
    "print(lambdas)"
   ]
  },
  {
   "cell_type": "markdown",
   "metadata": {},
   "source": [
    "## Plot regularization landscape\n",
    "We can also visualize the regularization landscape as follows."
   ]
  },
  {
   "cell_type": "code",
   "execution_count": null,
   "metadata": {},
   "outputs": [],
   "source": [
    "fig = plt.figure()\n",
    "ax = plt.axes(projection='3d')\n",
    "x = np.arange(0,1.01,0.01)\n",
    "ax.contour3D(x, x, lambdas_landscape, 50, cmap='binary')\n",
    "ind = np.unravel_index(np.argmin(lambdas_landscape, axis=None),\n",
    "                       lambdas_landscape.shape)\n",
    "ax.plot([x[int(ind[1])]], [x[int(ind[0])]],\n",
    "       [lambdas_landscape[int(ind[0]),int(ind[1])]],\n",
    "       markerfacecolor='k', markeredgecolor='r', marker='o',\n",
    "       markersize=7, alpha=1)\n",
    "ax.set_xlabel('$\\lambda_1$', fontsize=16)\n",
    "ax.set_ylabel('$\\lambda_2$', labelpad=15, fontsize=16)\n",
    "plt.show()"
   ]
  },
  {
   "cell_type": "markdown",
   "metadata": {},
   "source": [
    "# 5. Estimate the DRAGON-regularized partial correlation matrix\n",
    "Next, we estimate shrunken partial correlations using the regularization parameters determined above."
   ]
  },
  {
   "cell_type": "code",
   "execution_count": null,
   "metadata": {},
   "outputs": [],
   "source": [
    "r = get_partial_correlation_dragon(X1, X2, lambdas)\n",
    "r.shape"
   ]
  },
  {
   "cell_type": "markdown",
   "metadata": {},
   "source": [
    "`r` contains partial correlations between each of the variables in our data. Since we have 500 variables in `X1` and 100 variables in `X2`, `r` has a size of 600 by 600."
   ]
  },
  {
   "cell_type": "markdown",
   "metadata": {},
   "source": [
    "# 6. Assign significance levels\n",
    "Finally, we assign significance levels by computing p-values. Here, we need to correctly specify `n`, `p1` and `p2`, and we have to use exactly the values lambdas that we used to estimate r."
   ]
  },
  {
   "cell_type": "code",
   "execution_count": null,
   "metadata": {},
   "outputs": [],
   "source": [
    "adj_p_vals, p_vals = estimate_p_values_dragon(r, n, p1, p2, lambdas)"
   ]
  },
  {
   "cell_type": "markdown",
   "metadata": {},
   "source": [
    "`p_vals` contains the p-values for the associations found in `r`, while `adj_p_vals` has the adjusted p-values for multiple testing."
   ]
  },
  {
   "cell_type": "markdown",
   "metadata": {},
   "source": [
    "We can visualize the original precision matrix by"
   ]
  },
  {
   "cell_type": "code",
   "execution_count": null,
   "metadata": {},
   "outputs": [],
   "source": [
    "plt.imshow(Theta[0:20,0:20])\n",
    "plt.colorbar()\n",
    "plt.show()"
   ]
  },
  {
   "cell_type": "markdown",
   "metadata": {},
   "source": [
    "and the significance levels of estimated edges by"
   ]
  },
  {
   "cell_type": "code",
   "execution_count": null,
   "metadata": {},
   "outputs": [],
   "source": [
    "plt.imshow(adj_p_vals[0:20,0:20])\n",
    "plt.colorbar()\n",
    "plt.show()"
   ]
  },
  {
   "cell_type": "markdown",
   "metadata": {},
   "source": [
    "This can tell us both about the magnitude of association as given by the partial correlations (first matrix), and their significance (second matrix)."
   ]
  },
  {
   "cell_type": "markdown",
   "metadata": {},
   "source": [
    "# References"
   ]
  },
  {
   "cell_type": "markdown",
   "metadata": {},
   "source": [
    "1- Weighill, Deborah, et al. \"DRAGON: Determining Regulatory Associations using Graphical models on multi-Omic Networks.\" arXiv preprint arXiv:2104.01690 (2021).\n",
    "\n",
    "2- Altenbuchinger, Michael, et al. \"Gaussian and Mixed Graphical Models as (multi-) omics data analysis tools.\" Biochimica et Biophysica Acta (BBA)-Gene Regulatory Mechanisms 1863.6 (2020): 194418."
   ]
  }
 ],
 "metadata": {
  "kernelspec": {
   "display_name": "Python 3",
   "language": "python",
   "name": "python3"
  },
  "language_info": {
   "codemirror_mode": {
    "name": "ipython",
    "version": 3
   },
   "file_extension": ".py",
   "mimetype": "text/x-python",
   "name": "python",
   "nbconvert_exporter": "python",
   "pygments_lexer": "ipython3",
   "version": "3.9.7"
  }
 },
 "nbformat": 4,
 "nbformat_minor": 4
}
