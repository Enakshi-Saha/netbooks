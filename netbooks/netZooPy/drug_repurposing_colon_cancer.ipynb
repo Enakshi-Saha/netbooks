{
 "cells": [
  {
   "cell_type": "markdown",
   "metadata": {},
   "source": [
    "# Drug repurposing analysis in colon cancer\n",
    "Marouen Ben Guebila <sup>1</sup>\n",
    "\n",
    "<sup>1</sup> Harvard School of Public Health, Harvard University, Boston, MA, USA."
   ]
  },
  {
   "cell_type": "markdown",
   "metadata": {},
   "source": [
    "# Introduction\n",
    "In this case study, we will provide an example on using [GRAND database](https://grand.networkmedicine.org/) to compute differential gene regulatory networks in colon cancer and find small molecule drugs that can reverse the cancer network to a 'normal' network.\n",
    "\n",
    "This study corresponds to figure 5 of the GRAND database description<sup>1</sup>.\n",
    "\n",
    "First, we start by loading the library for the analysis."
   ]
  },
  {
   "cell_type": "code",
   "execution_count": null,
   "metadata": {},
   "outputs": [],
   "source": [
    "import pandas as pd\n",
    "import numpy as np\n",
    "import scipy\n",
    "import matplotlib.pyplot as plt\n",
    "import networkx as nx # for network plotting\n",
    "from matplotlib import cm # for color palette\n",
    "from matplotlib.colors import ListedColormap, LinearSegmentedColormap # for color palette\n",
    "from scipy.stats import zscore # to compute zscore"
   ]
  },
  {
   "cell_type": "markdown",
   "metadata": {},
   "source": [
    "Here, we define the path to load the data from the server."
   ]
  },
  {
   "cell_type": "code",
   "execution_count": null,
   "metadata": {},
   "outputs": [],
   "source": [
    "ppath = '/opt/data/netZooPy/coloncancer/'"
   ]
  },
  {
   "cell_type": "markdown",
   "metadata": {},
   "source": [
    "Then, let's define a set of functions to perfrom the analyses.\n",
    "`ismember` simply finds the membership of the elements of array a in array b, but as opposed to `np.in1d`, it follows the style of MATLAB ismember function."
   ]
  },
  {
   "cell_type": "code",
   "execution_count": null,
   "metadata": {},
   "outputs": [],
   "source": [
    "def ismember(a, b):\n",
    "    # tf = np.in1d(a,b) # for newer versions of numpy\n",
    "    tf = np.array([i in b for i in a])\n",
    "    u = np.unique(a[tf])\n",
    "    index = np.array([(np.where(b == i))[0][-1] if t else 0 for i,t in zip(a,tf)])\n",
    "    return tf, index"
   ]
  },
  {
   "cell_type": "markdown",
   "metadata": {},
   "source": [
    "`plothist` plots a histogram and overlays lines on the tails of the distribution."
   ]
  },
  {
   "cell_type": "code",
   "execution_count": null,
   "metadata": {},
   "outputs": [],
   "source": [
    "def plothist(tar,diffTar,a):\n",
    "    if tar=='gene':\n",
    "        plt.hist(diffTar)\n",
    "        plt.plot([diffTar.iloc[a[-301]],diffTar.iloc[a[-301]]] , [0,3500], 'r')\n",
    "        plt.plot([diffTar.iloc[a[301]], diffTar.iloc[a[301]]], [0,3500], 'r')\n",
    "    elif tar=='tf':\n",
    "        plt.hist(diffTar)\n",
    "        plt.plot([diffTar.iloc[a[-101]],diffTar.iloc[a[-101]]], [0,250] ,'r')\n",
    "        plt.plot([diffTar.iloc[a[101]],diffTar.iloc[a[101]]], [0,250] , 'r')"
   ]
  },
  {
   "cell_type": "markdown",
   "metadata": {},
   "source": [
    "`printTopTar` prints a list of TFs and genes by targeting scores"
   ]
  },
  {
   "cell_type": "code",
   "execution_count": null,
   "metadata": {},
   "outputs": [],
   "source": [
    "def printTopTar(tar, a, diffTar):\n",
    "    # Down-targeted genes/tfs\n",
    "    print('Largest targeting scores \\n')\n",
    "    if tar=='tf':\n",
    "        print(\"\\n\".join(diffTar.index[a[:100]]))\n",
    "        diffTar.iloc[a[100]]\n",
    "    elif tar=='gene':\n",
    "        print(\"\\n\".join(diffTar.index[a[:300]]))\n",
    "        diffTar.iloc[a[300]]\n",
    "\n",
    "    print('Smallest targeting scores \\n')\n",
    "    # Up-targeted genes/tfs\n",
    "    if tar=='tf':\n",
    "        print(\"\\n\".join(diffTar.index[a[-101:-1]]))\n",
    "        diffTar.iloc[a[-101]]\n",
    "    elif tar=='gene':\n",
    "        print(\"\\n\".join(diffTar.index[a[-301:-1]]))\n",
    "        diffTar.iloc[a[-301]]"
   ]
  },
  {
   "cell_type": "markdown",
   "metadata": {},
   "source": [
    "`computeTargeting` computes targeting scores in a network."
   ]
  },
  {
   "cell_type": "code",
   "execution_count": null,
   "metadata": {},
   "outputs": [],
   "source": [
    "def computeTargeting(colonCancer,colonHealthy,tar):\n",
    "    if tar=='tf':\n",
    "        cancerTar = colonCancer.sum(axis=1)\n",
    "        healthTar = colonHealthy.sum(axis=1)\n",
    "    else:\n",
    "        cancerTar = colonCancer.sum(axis=0)\n",
    "        healthTar = colonHealthy.sum(axis=0)\n",
    "    return cancerTar,healthTar"
   ]
  },
  {
   "cell_type": "markdown",
   "metadata": {},
   "source": [
    "After defining these functions, the first step is to compute a differential colon cancer network. This can be done by comparing a colon cancer network and a normal colon the network. The former is a PANDA network built on TCGA gene expressiond data and the latter is a PANDA network using GTEx gene expression collected across normal human tissues."
   ]
  },
  {
   "cell_type": "code",
   "execution_count": null,
   "metadata": {},
   "outputs": [],
   "source": [
    "colonCancer  = pd.read_csv(ppath+'Colon_cancer_TCGA.csv',index_col=0)\n",
    "colonHealthy = pd.read_csv(ppath+'Colon_Sigmoid.csv',index_col=0)"
   ]
  },
  {
   "cell_type": "markdown",
   "metadata": {},
   "source": [
    "# 1. Gene targeting analysis\n",
    "The first analysis consists of computing differences in gene targeting between colon cancer and normal colon networks. Since gene names are in ENSEMBL gene ids, we need to set the following parameter to convert them to HGO gene symbols."
   ]
  },
  {
   "cell_type": "code",
   "execution_count": null,
   "metadata": {},
   "outputs": [],
   "source": [
    "conv='2hugo'"
   ]
  },
  {
   "cell_type": "markdown",
   "metadata": {},
   "source": [
    "Then, we compute gene targeting."
   ]
  },
  {
   "cell_type": "code",
   "execution_count": null,
   "metadata": {},
   "outputs": [],
   "source": [
    "tar='gene'\n",
    "[cancerTar,healthTar] = computeTargeting(colonCancer,colonHealthy,tar)"
   ]
  },
  {
   "cell_type": "markdown",
   "metadata": {},
   "source": [
    "And, we convert gene names."
   ]
  },
  {
   "cell_type": "code",
   "execution_count": null,
   "metadata": {},
   "outputs": [],
   "source": [
    "# Read conversion file\n",
    "convMat = pd.read_csv(ppath+'geneNames.txt',sep='\\t')\n",
    "if tar=='gene':\n",
    "    if conv=='2ens':\n",
    "        inter,ix=ismember(np.array(cancerTar.index), np.array(convMat.geneNames) ) #inter,ix is lia,locb\n",
    "        cancerTar.index=convMat.Ensemble[ix]\n",
    "    elif conv=='2hugo':\n",
    "        inter,ix=ismember(np.array(healthTar.index), np.array(convMat.Ensemble) ) #inter,ix is lia,locb\n",
    "        healthTar.index=convMat.geneNames[ix]"
   ]
  },
  {
   "cell_type": "markdown",
   "metadata": {},
   "source": [
    "Next, these networks do not have the same size, therefore, we take the intersection of their nodes"
   ]
  },
  {
   "cell_type": "code",
   "execution_count": null,
   "metadata": {},
   "outputs": [],
   "source": [
    "# Intersect both healthy and cancer\n",
    "inter2,ix2 = ismember(np.array(healthTar.index), np.array(cancerTar.index))"
   ]
  },
  {
   "cell_type": "markdown",
   "metadata": {},
   "source": [
    "Finally, we computed a differential network by simply taking the difference between the edges, and computing the zscores of this differential network. There are more sophisticated methods to estimate differences between networks such as [ALPACA and MONSTER](netzoo.github.io)."
   ]
  },
  {
   "cell_type": "code",
   "execution_count": null,
   "metadata": {},
   "outputs": [],
   "source": [
    "# Compute differential targeting\n",
    "diffTar = cancerTar[ix2[inter2]] - healthTar[inter2]\n",
    "diffTar=(diffTar-np.mean(diffTar)) / (np.std(diffTar))"
   ]
  },
  {
   "cell_type": "markdown",
   "metadata": {},
   "source": [
    "For this particular analysis, we chose to take the 300 largest and smallest genes by targeting scores to define a differential targeting profile that can be used later for drug repruposing analysis using [cluereg](https://grand.networkmedicine.org/analysis/)."
   ]
  },
  {
   "cell_type": "code",
   "execution_count": null,
   "metadata": {},
   "outputs": [],
   "source": [
    "a=np.argsort(list(diffTar))\n",
    "printTopTar(tar, a, diffTar)"
   ]
  },
  {
   "cell_type": "markdown",
   "metadata": {},
   "source": [
    "These 300 genes can be seen in the histogram of targeting scores in the differential network."
   ]
  },
  {
   "cell_type": "code",
   "execution_count": null,
   "metadata": {},
   "outputs": [],
   "source": [
    "# Plot histogram of targeting scores\n",
    "plothist(tar,diffTar,a)\n",
    "plt.xlabel('Differential targeting scores')\n",
    "plt.xlabel('Frequency')\n",
    "plt.title('Differential gene targeting scores')"
   ]
  },
  {
   "cell_type": "markdown",
   "metadata": {},
   "source": [
    "Finally, we can list the top 10 Genes by largest differential targeting scores"
   ]
  },
  {
   "cell_type": "code",
   "execution_count": null,
   "metadata": {},
   "outputs": [],
   "source": [
    "print(\"\\n\".join(diffTar.index[a[:10]]))"
   ]
  },
  {
   "cell_type": "markdown",
   "metadata": {},
   "source": [
    "and the top 10 Genes by smallest targeting scores among the 300 we selected."
   ]
  },
  {
   "cell_type": "code",
   "execution_count": null,
   "metadata": {},
   "outputs": [],
   "source": [
    "print(\"\\n\".join(diffTar.index[a[-11:-1]]))"
   ]
  },
  {
   "cell_type": "markdown",
   "metadata": {},
   "source": [
    "# 2. TF targeting scores\n",
    "PANDA networks are bipartite graphs that link Transcription Factors (TFs) to their target genes. We did the previous targeting analysis on only one part of the networks. In this section, we can extend the association to TFs to compute their differential targeting profiles."
   ]
  },
  {
   "cell_type": "code",
   "execution_count": null,
   "metadata": {},
   "outputs": [],
   "source": [
    "tar='tf'\n",
    "# Compute gene targeting\n",
    "[cancerTar,healthTar] = computeTargeting(colonCancer,colonHealthy,tar)"
   ]
  },
  {
   "cell_type": "code",
   "execution_count": null,
   "metadata": {},
   "outputs": [],
   "source": [
    "# Intersect both healthy and cancer\n",
    "inter2,ix2 = ismember(np.array(healthTar.index), np.array(cancerTar.index))"
   ]
  },
  {
   "cell_type": "code",
   "execution_count": null,
   "metadata": {},
   "outputs": [],
   "source": [
    "# Compute differential targeting\n",
    "diffTar = cancerTar[ix2[inter2]] - healthTar[inter2]\n",
    "diffTar=(diffTar-np.mean(diffTar)) / (np.std(diffTar))"
   ]
  },
  {
   "cell_type": "code",
   "execution_count": null,
   "metadata": {},
   "outputs": [],
   "source": [
    "# Plot histogram of targeting scores\n",
    "a=np.argsort(list(diffTar))\n",
    "plothist(tar,diffTar,a)\n",
    "plt.xlabel('Differential targeting scores')\n",
    "plt.xlabel('Frequency')\n",
    "plt.title('Differential TF targeting scores')"
   ]
  },
  {
   "cell_type": "markdown",
   "metadata": {},
   "source": [
    "List top 10 TFs by largest differential targeting scores"
   ]
  },
  {
   "cell_type": "code",
   "execution_count": null,
   "metadata": {},
   "outputs": [],
   "source": [
    "print(\"\\n\".join(diffTar.index[a[:10]]))"
   ]
  },
  {
   "cell_type": "markdown",
   "metadata": {},
   "source": [
    "List top 10 TFs by smallest differential targeting scores"
   ]
  },
  {
   "cell_type": "code",
   "execution_count": null,
   "metadata": {},
   "outputs": [],
   "source": [
    "print(\"\\n\".join(diffTar.index[a[-11:-1]]))"
   ]
  },
  {
   "cell_type": "markdown",
   "metadata": {},
   "source": [
    "In particular, we see that `SP1` and `ZBTB7B` are the TFs that have the smallest differential targeting scores."
   ]
  },
  {
   "cell_type": "markdown",
   "metadata": {},
   "source": [
    "In this case, we can consider differntially targeted TFs as those that have the largest and smallest targeting scores, which can be seen on the previous hisotgram of targeting scores."
   ]
  },
  {
   "cell_type": "code",
   "execution_count": null,
   "metadata": {},
   "outputs": [],
   "source": [
    "printTopTar(tar, a, diffTar)"
   ]
  },
  {
   "cell_type": "markdown",
   "metadata": {},
   "source": [
    "In particular, we see that `BHLHA15` and `ARNTL` are the TFs that have the largest differential targeting scores."
   ]
  },
  {
   "cell_type": "markdown",
   "metadata": {},
   "source": [
    "# 3. Plot differential network\n",
    "In this section, we will plot a subset of the differntial network, taking the 2 largest targeted TFs and the 2 smallest targeted TFs. First, we need to convert gene names to HUGO symbols as we did previously."
   ]
  },
  {
   "cell_type": "code",
   "execution_count": null,
   "metadata": {
    "scrolled": false
   },
   "outputs": [],
   "source": [
    "# Convert gene names and label networks\n",
    "inter,ix=ismember(np.array(colonHealthy.columns), np.array(convMat.Ensemble) )\n",
    "colonHealthy.columns=convMat.geneNames[ix]\n",
    "diffCols,diffColsInd=ismember(colonHealthy.columns,colonCancer.columns)\n",
    "colonHealthy=colonHealthy.loc[:,diffCols]\n",
    "colonCancer =colonCancer.iloc[:,diffColsInd[diffCols]]\n",
    "diffRows,diffRowsInd=ismember(colonHealthy.index,colonCancer.index)\n",
    "colonHealthy=colonHealthy.loc[diffRows,:]\n",
    "colonCancer=colonCancer.iloc[diffRowsInd[diffRows],:]"
   ]
  },
  {
   "cell_type": "markdown",
   "metadata": {},
   "source": [
    "Then, we need to compute the differential network by taking the difference between adjacency matrices and z-scoring the result."
   ]
  },
  {
   "cell_type": "code",
   "execution_count": null,
   "metadata": {},
   "outputs": [],
   "source": [
    "# build differential network\n",
    "diffNet=colonCancer-colonHealthy\n",
    "diffNet=diffNet.transpose().apply(zscore, axis=0).transpose() # z-score by TF\n",
    "diffNetBip=pd.DataFrame(data=diffNet.values.flatten())\n",
    "diffNetBip['target']=list(diffNet.columns)*len(diffNet.index)\n",
    "b=[[tf]*len(diffNet.columns) for tf in diffNet.index]\n",
    "diffNetBip['source']=sum(b, [])"
   ]
  },
  {
   "cell_type": "markdown",
   "metadata": {},
   "source": [
    "For visualization purposes, we will plot the top differntially targeted TFs in both sides of the distribution. In this case, `BHLHA15`, `ARNTL` have the largest scores, and `ZBTB7B`, `SP1` have the smallest scores."
   ]
  },
  {
   "cell_type": "code",
   "execution_count": null,
   "metadata": {},
   "outputs": [],
   "source": [
    "# select edges\n",
    "diffNetBip=diffNetBip.sort_values(by=0, ascending=False)\n",
    "Bip1 = diffNetBip[diffNetBip.source=='BHLHA15'].iloc[pd.np.r_[0:5, -6:-1]]\n",
    "Bip2 = diffNetBip[diffNetBip.source=='ARNTL'].iloc[pd.np.r_[0:5, -6:-1]]\n",
    "Bip3 = diffNetBip[diffNetBip.source=='ZBTB7B'].iloc[pd.np.r_[0:5, -6:-1]]\n",
    "Bip4 = diffNetBip[diffNetBip.source=='SP1'].iloc[pd.np.r_[0:5, -6:-1]]\n",
    "Bip  = pd.concat([Bip1,Bip2,Bip3,Bip4])"
   ]
  },
  {
   "cell_type": "markdown",
   "metadata": {},
   "source": [
    "Finally, we can draw the network for these 4 TFs. Genes are colored in blue and TFs in red."
   ]
  },
  {
   "cell_type": "code",
   "execution_count": null,
   "metadata": {},
   "outputs": [],
   "source": [
    "# Draw\n",
    "g_data=nx.from_pandas_edgelist(Bip, source='source', target='target', edge_attr=True)\n",
    "color_map = []\n",
    "color_map = []\n",
    "for node in g_data:\n",
    "    if node in ['BHLHA15','ARNTL','ZBTB7B','SP1']:\n",
    "        color_map.append('red')\n",
    "    else:\n",
    "        color_map.append('blue')\n",
    "\n",
    "pos = nx.spring_layout(g_data)\n",
    "nx.draw(g_data, with_labels=True, node_color=color_map ,pos=pos,node_size=100)"
   ]
  },
  {
   "cell_type": "markdown",
   "metadata": {},
   "source": [
    "# 4. Drug repruposing\n",
    "To find drugs that can potentially reverse the regualtory 'signature' of colon cancer, that is, the differentially-targeted TFs and genes, we can use the targeting scores that we computed as input to [cluereg](https://grand.networkmedicine.org/analysis/). This tool uses the connectivity idea<sup>2</sup> to find drug repurposing candidates. The Connectivity Map<sup>3</sup> was the original tool that explored this idea on gene expression ([clue.io](https://clue.io)).\n",
    "\n",
    "We can do this analysis on [the webserver](https://grand.networkmedicine.org/analysis/), or we can run cluereg locally as we will do next. We start first by loading small molecule 'sigantures' from cluereg."
   ]
  },
  {
   "cell_type": "code",
   "execution_count": null,
   "metadata": {},
   "outputs": [],
   "source": [
    "# load gene/tf diff matrix\n",
    "sparse_matrix   = scipy.sparse.load_npz(ppath+'sparse_cmapreg.npz')\n",
    "sparse_matrixtf = scipy.sparse.load_npz(ppath+'sparse_cmapregtf.npz')\n",
    "genNames   = pd.read_csv(ppath+'geneNames.csv',header=None)\n",
    "drugNames  = pd.read_csv(ppath+'drugNames.csv',header=None)\n",
    "tfNames    = pd.read_csv(ppath+'tfNames.csv',header=None)\n",
    "drugGeneDf=pd.DataFrame(data=sparse_matrix.toarray(),columns=drugNames.iloc[:,0],index=pd.concat([genNames,genNames]).iloc[:,0])\n",
    "drugTfDf=pd.DataFrame(data=sparse_matrixtf.toarray(),columns=drugNames.iloc[:,0],index=pd.concat([tfNames,tfNames]).iloc[:,0])"
   ]
  },
  {
   "cell_type": "markdown",
   "metadata": {},
   "source": [
    "In figure 5 of our analysis<sup>1</sup>, we found that MK-5108, was a drug repurposing candidate for colon cancer, so let's dig a bit deeper on how does this compound affect gene regulation. We first load the signature of this drug."
   ]
  },
  {
   "cell_type": "code",
   "execution_count": null,
   "metadata": {},
   "outputs": [],
   "source": [
    "# Drug signature\n",
    "print(\"\\n\".join(drugTfDf.index[drugTfDf['MK-5108']!=0]))"
   ]
  },
  {
   "cell_type": "markdown",
   "metadata": {},
   "source": [
    "Then, we plot the number of TFs that are up-regualted and down-regulated following MK-5108 exposure."
   ]
  },
  {
   "cell_type": "code",
   "execution_count": null,
   "metadata": {},
   "outputs": [],
   "source": [
    "# plot drug signature\n",
    "plt.bar(['up','down'],[len(drugTfDf.index[drugTfDf['MK-5108']==1]),len(drugTfDf.index[drugTfDf['MK-5108']==-1])])"
   ]
  },
  {
   "cell_type": "markdown",
   "metadata": {},
   "source": [
    "We can also list these TFs."
   ]
  },
  {
   "cell_type": "code",
   "execution_count": null,
   "metadata": {},
   "outputs": [],
   "source": [
    "# find the reversed profiles\n",
    "print(diffTar.index[a[:100]]) # down targeted TFs\n",
    "print(diffTar.index[a[-101:-1]]) # up targeted TFs"
   ]
  },
  {
   "cell_type": "markdown",
   "metadata": {},
   "source": [
    "As an illsutration, we can selected the 2 largest and smallest TFs by targeting scores and mapping them back in colon cancer. We see indeed that their profiles are reversed, TFs that are up-regulated by MK-5108, are down-regulated in colon cancer, and vice-versa."
   ]
  },
  {
   "cell_type": "code",
   "execution_count": null,
   "metadata": {
    "scrolled": true
   },
   "outputs": [],
   "source": [
    "# drug signature\n",
    "ia,locb=ismember(np.array(diffTar.index[a[:100]]),np.array(tfNames.iloc[:,0])) # down\n",
    "ia2,locb2=ismember(np.array(diffTar.index[a[-101:-1]]),np.array(tfNames.iloc[:,0])) #up\n",
    "\n",
    "down2up=pd.concat((diffTar.iloc[a[:100]],drugTfDf['MK-5108'].iloc[locb[ia]]),axis=1) # down-targeted by colon cancer becoming up-targeted by drug\n",
    "up2down=pd.concat((diffTar.iloc[a[-101:-1]],drugTfDf['MK-5108'].iloc[locb2[ia2]+len(tfNames)]),axis=1) # up-targeted by colon cancer becoming down-targeted by drug\n",
    "\n",
    "#pick two down and two up\n",
    "down2up.sort_values(0,ascending=True)\n",
    "up2down.sort_values(0,ascending=False)\n",
    "down2up[down2up['MK-5108']==1]\n",
    "up2down[up2down['MK-5108']==-1]\n",
    "\n",
    "plt.plot(down2up[down2up['MK-5108']==1].iloc[0:2,0],'o')\n",
    "plt.plot(up2down[up2down['MK-5108']==-1].iloc[-3:-1, 0], 'o')"
   ]
  },
  {
   "cell_type": "markdown",
   "metadata": {},
   "source": [
    "# References"
   ]
  },
  {
   "cell_type": "markdown",
   "metadata": {},
   "source": [
    "1 - Guebila, Marouen Ben, et al. \"GRAND: A database of gene regulatory network models across human conditions.\" bioRxiv (2021).\n",
    "\n",
    "2 - Keenan, Alexandra B., et al. \"Connectivity mapping: methods and applications.\" Annual Review of Biomedical Data Science 2 (2019): 69-92.\n",
    "\n",
    "3- Subramanian, Aravind, et al. \"A next generation connectivity map: L1000 platform and the first 1,000,000 profiles.\" Cell 171.6 (2017): 1437-1452."
   ]
  }
 ],
 "metadata": {
  "kernelspec": {
   "display_name": "Python 3",
   "language": "python",
   "name": "python3"
  },
  "language_info": {
   "codemirror_mode": {
    "name": "ipython",
    "version": 3
   },
   "file_extension": ".py",
   "mimetype": "text/x-python",
   "name": "python",
   "nbconvert_exporter": "python",
   "pygments_lexer": "ipython3",
   "version": "3.9.7"
  }
 },
 "nbformat": 4,
 "nbformat_minor": 4
}
