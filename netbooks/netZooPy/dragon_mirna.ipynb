{
 "cells": [
  {
   "cell_type": "markdown",
   "metadata": {},
   "source": [
    "# Building a DRAGON miRNA gene regulatory network using CCLE data\n",
    "Marouen Ben Guebila<sup>1</sup>\n",
    "\n",
    "<sup>1</sup> Department of Biostatistics, Harvard T.H. Chan School of Public Health, Boston, MA."
   ]
  },
  {
   "cell_type": "markdown",
   "metadata": {},
   "source": [
    "# Introduction\n",
    "\n",
    "microRNAs (miRNA) play an important role in post-transcriptional regulation. For a long time, it has been assumed that miRNA acted on the translation of mRNA to protein, however recent evidence suggested that they module mRNA levels<sup>1</sup>. In this notebook, we will build a miRNA to mRNA network using [DRAGON](https://netzoo.github.io/zooanimals/dragon/)<sup>2</sup>, which allows to build multiomic network by implementing Gaussian Graphical Models (GGM) with covariance shrinkage. This approach has a greater accuracy than GGM, requires fewer samples to estimate partial correlations, and allows to scale different data structures such as the ones in 2 biological layers, miRNA and mRNA in our example.\n",
    "\n",
    "We will use miRNA and mRNA expression data from 938 cell lines in the CCLE database<sup>3</sup>. The network can be visualized in the [GRAND database](https://grand.networkmedicine.org/cell/mirna/)."
   ]
  },
  {
   "cell_type": "markdown",
   "metadata": {},
   "source": [
    "## Load libraries\n",
    "First, we start by loading the libraries."
   ]
  },
  {
   "cell_type": "code",
   "execution_count": null,
   "metadata": {},
   "outputs": [],
   "source": [
    "import pandas as pd          # To read dataframes\n",
    "import os\n",
    "import numpy as np\n",
    "from netZooPy import dragon # To load dragon"
   ]
  },
  {
   "cell_type": "markdown",
   "metadata": {},
   "source": [
    "Next, we define data path on netbooks server."
   ]
  },
  {
   "cell_type": "code",
   "execution_count": null,
   "metadata": {},
   "outputs": [],
   "source": [
    "ppath = '/opt/data/netZooPy/dragonnet/'"
   ]
  },
  {
   "cell_type": "markdown",
   "metadata": {},
   "source": [
    "In the following, we will define a set of functions that will allow use to run network inference. First, we deefine a scale function to scale the inout data before calling DRAGON."
   ]
  },
  {
   "cell_type": "code",
   "execution_count": null,
   "metadata": {},
   "outputs": [],
   "source": [
    "def Scale(X):\n",
    "    X_temp = X\n",
    "    X_std = np.std(X_temp, axis=0)\n",
    "    X_mean = np.mean(X_temp, axis=0)\n",
    "    return (X_temp - X_mean) / X_std"
   ]
  },
  {
   "cell_type": "markdown",
   "metadata": {},
   "source": [
    "Then define a function to filter the network for miRNA to gene edges and prune gene to gene and miRNA to gene edges. This part is imporatant because we are interested in bipartite edges for our analysis."
   ]
  },
  {
   "cell_type": "code",
   "execution_count": null,
   "metadata": {},
   "outputs": [],
   "source": [
    "def createVisNet(methyl,expression,r_methyl_mrna,methylMat,layer1,layer2,nedges=2000):\n",
    "    if methyl.shape[1]==expression.shape[0]:\n",
    "        pdNames_methyl_mrna = methyl.index.append(expression.columns)\n",
    "    elif methyl.shape[0]==expression.shape[1]:\n",
    "        pdNames_methyl_mrna = methyl.columns.append(expression.index)\n",
    "    elif methyl.shape[0] == expression.shape[0]:\n",
    "        pdNames_methyl_mrna = methyl.columns.append(expression.columns)\n",
    "    r_methyl_mrna_pd = pd.DataFrame(r_methyl_mrna,index=pdNames_methyl_mrna,columns=pdNames_methyl_mrna)\n",
    "    r_methyl_mrna_pd = r_methyl_mrna_pd.iloc[:methylMat.shape[1],methylMat.shape[1]:]\n",
    "    return r_methyl_mrna_pd"
   ]
  },
  {
   "cell_type": "markdown",
   "metadata": {},
   "source": [
    "The next function is a wrapper that calls DRAGON to estimate partial correlations. The first part, estimate the penalty parameters based on the structure of miRNA and mRNA data. The second part compute the partial correlations between miRNA and genes using both gene expression and miRNA profiles across 938 cell line samples."
   ]
  },
  {
   "cell_type": "code",
   "execution_count": null,
   "metadata": {},
   "outputs": [],
   "source": [
    "def estimateDragonValues(ppiMat, expressionMat,pval=False):\n",
    "    print('computing lambdas')\n",
    "    lambdas_exp_ppi, lambdas_landscape_exp_ppi = dragon.estimate_penalty_parameters_dragon(ppiMat, expressionMat)\n",
    "    print('lambdas are ', lambdas_exp_ppi)\n",
    "    # 8. compute partial correlation\n",
    "    print('computing corrs')\n",
    "    r_exp_ppi = dragon.get_partial_correlation_dragon(ppiMat, expressionMat, lambdas_exp_ppi)\n",
    "    if pval==True:\n",
    "        # 9. Compute pvalues\n",
    "        n_exp_ppi =ppiMat.shape[0]\n",
    "        p1_exp_ppi=ppiMat.shape[1]\n",
    "        p2_exp_ppi=expressionMat.shape[1]\n",
    "        adj_p_vals_exp_ppi, p_vals_exp_ppi = dragon.estimate_p_values_dragon(r_exp_ppi, n_exp_ppi, p1_exp_ppi, p2_exp_ppi, lambdas_exp_ppi)\n",
    "    else:\n",
    "        adj_p_vals_exp_ppi=[]\n",
    "    return r_exp_ppi, adj_p_vals_exp_ppi"
   ]
  },
  {
   "cell_type": "markdown",
   "metadata": {},
   "source": [
    "The following function converts cell name IDs to dependency map IDs, to help with the downstream analyses."
   ]
  },
  {
   "cell_type": "code",
   "execution_count": null,
   "metadata": {},
   "outputs": [],
   "source": [
    "def convertToDepMap(methyl,cellNames):\n",
    "    # convert cell names to depmap IDs\n",
    "    interListBool = np.in1d(methyl.columns, cellNames['CCLE_Name'])\n",
    "    # Some cell lines do not exist in depmap so remove them\n",
    "    methyl = methyl.loc[:, interListBool]\n",
    "    # rename columns\n",
    "    interList = np.intersect1d(methyl.columns, cellNames['CCLE_Name'], return_indices=True)\n",
    "    methyl.columns = cellNames['DepMap_ID'][interList[2]].values\n",
    "    return methyl"
   ]
  },
  {
   "cell_type": "markdown",
   "metadata": {},
   "source": [
    "And this function aligns two dataframes either by rows or by columns, which is intended to align the miRNA and mRNA dataframe across the same sample set."
   ]
  },
  {
   "cell_type": "code",
   "execution_count": null,
   "metadata": {},
   "outputs": [],
   "source": [
    "def alignDF(expression, methyl, remove_std=0):\n",
    "    interListMerge = np.intersect1d(methyl.columns, expression.index, return_indices=True)\n",
    "    methyl = methyl.iloc[:, interListMerge[1]]\n",
    "    expression = expression.iloc[interListMerge[2], :]\n",
    "    if remove_std==1:\n",
    "        # remove columsn with zero std\n",
    "        a = np.std(expression, axis=0)\n",
    "        expression = expression.drop(labels=expression.columns[np.where(a == 0)[0]], axis=1)\n",
    "    elif remove_std==2:\n",
    "        methyl=methyl.transpose()\n",
    "        # remove columns with zero std\n",
    "        a = np.std(methyl, axis=0)\n",
    "        methyl = methyl.drop(labels=methyl.columns[np.where(a == 0)[0]], axis=1)\n",
    "    return expression, methyl"
   ]
  },
  {
   "cell_type": "markdown",
   "metadata": {},
   "source": [
    "We will also need to read CCLE cell metadata to convert cell line names and IDs."
   ]
  },
  {
   "cell_type": "code",
   "execution_count": null,
   "metadata": {},
   "outputs": [],
   "source": [
    "cellNames=pd.read_csv(ppath+'sample_info.csv')"
   ]
  },
  {
   "cell_type": "markdown",
   "metadata": {},
   "source": [
    "Finally, we chose to impute missing data by zero, although other approaches can be considered as well."
   ]
  },
  {
   "cell_type": "code",
   "execution_count": null,
   "metadata": {},
   "outputs": [],
   "source": [
    "imputationMissing='zero'"
   ]
  },
  {
   "cell_type": "markdown",
   "metadata": {},
   "source": [
    "# 1. Read miRNA expression data and gene expression data\n",
    "In this section, we will read and clean the input files."
   ]
  },
  {
   "cell_type": "code",
   "execution_count": null,
   "metadata": {},
   "outputs": [],
   "source": [
    "mirna=pd.read_csv(ppath+'CCLE_miRNA_20181103.gct',sep='\\t',comment='#',skiprows=2,index_col=1)"
   ]
  },
  {
   "cell_type": "markdown",
   "metadata": {},
   "source": [
    "Then remove unnecessary metdata columns"
   ]
  },
  {
   "cell_type": "code",
   "execution_count": null,
   "metadata": {},
   "outputs": [],
   "source": [
    "mirna = mirna.iloc[:,1:]"
   ]
  },
  {
   "cell_type": "markdown",
   "metadata": {},
   "source": [
    "Next convert cell names to depmap IDs "
   ]
  },
  {
   "cell_type": "code",
   "execution_count": null,
   "metadata": {},
   "outputs": [],
   "source": [
    "mirna=convertToDepMap(mirna,cellNames)\n",
    "mirna"
   ]
  },
  {
   "cell_type": "markdown",
   "metadata": {},
   "source": [
    "miRNA data has miRNA expression measurments across 952 cells for 734 miRNAs."
   ]
  },
  {
   "cell_type": "code",
   "execution_count": null,
   "metadata": {},
   "outputs": [],
   "source": [
    "expression=pd.read_csv(ppath+'CCLE_expression.csv',index_col=0)\n",
    "expression"
   ]
  },
  {
   "cell_type": "markdown",
   "metadata": {},
   "source": [
    "Gene expression data has measurments for 19177 genes for 1376 cells. Finally we align both miRNA and gene expression dataframes on their intersecting cells."
   ]
  },
  {
   "cell_type": "code",
   "execution_count": null,
   "metadata": {},
   "outputs": [],
   "source": [
    "expression,mirna=alignDF(expression,mirna,remove_std=1)\n",
    "expression"
   ]
  },
  {
   "cell_type": "markdown",
   "metadata": {},
   "source": [
    "We see that miRNA and mRNA expression is shared among 938 intersecting cells."
   ]
  },
  {
   "cell_type": "markdown",
   "metadata": {},
   "source": [
    "# 2. Scale miRNA and gene expression data\n",
    "\n",
    "Before calling DRAGON on our 2 multi-omic layers (miRNA, mRNA), we need to scale the input data, which standardizes the expression for genes and miRNA across samples to be of mean 0 and variance 1."
   ]
  },
  {
   "cell_type": "code",
   "execution_count": null,
   "metadata": {},
   "outputs": [],
   "source": [
    "mirnaMat     = mirna.values\n",
    "expressionMat= expression.values"
   ]
  },
  {
   "cell_type": "markdown",
   "metadata": {},
   "source": [
    "The miRNA data is a miRNA by sample matrix, therefore, we transpose it."
   ]
  },
  {
   "cell_type": "code",
   "execution_count": null,
   "metadata": {},
   "outputs": [],
   "source": [
    "mirnaMat     = Scale(np.transpose(mirnaMat))\n",
    "expressionMat= Scale(expressionMat)"
   ]
  },
  {
   "cell_type": "markdown",
   "metadata": {},
   "source": [
    "# 3. Call Dragon\n",
    "\n",
    "Finally, we call DRAGON on the processed data to estimate the partial correlations. In this specific application, we will skip computing the p-values for associations."
   ]
  },
  {
   "cell_type": "code",
   "execution_count": null,
   "metadata": {},
   "outputs": [],
   "source": [
    "r_mir_exp, adj_p_vals_mir_exp=estimateDragonValues(mirnaMat, expressionMat)"
   ]
  },
  {
   "cell_type": "markdown",
   "metadata": {},
   "source": [
    "Finally, we prune the edges between the nodes of the same type to create a bipartite network."
   ]
  },
  {
   "cell_type": "code",
   "execution_count": null,
   "metadata": {},
   "outputs": [],
   "source": [
    "mir_exp_edges=createVisNet(mirna,expression,r_mir_exp,mirnaMat,'mir','exp')"
   ]
  },
  {
   "cell_type": "markdown",
   "metadata": {},
   "source": [
    "The final network links miRNAs to their potential target transcripts. Edge weights represent partial correlations constructed across 2 biological layers across 938 cells, correcting for all other variables in the system, which can be useful to infer direct associations and remove spurious correlations. In this network, positive edge weights indicate a positive association, negative edge weights indicate anegative association, and partial correlations of zero indicate independence between the variables. This network can be visualized in GRAND database: https://grand.networkmedicine.org/cell/mirna/."
   ]
  },
  {
   "cell_type": "markdown",
   "metadata": {},
   "source": [
    "# References"
   ]
  },
  {
   "cell_type": "markdown",
   "metadata": {},
   "source": [
    "1- Catalanotto, Caterina, Carlo Cogoni, and Giuseppe Zardo. \"MicroRNA in control of gene expression: an overview of nuclear functions.\" International journal of molecular sciences 17.10 (2016): 1712.\n",
    "\n",
    "2- Weighill, Deborah, et al. \"DRAGON: Determining Regulatory Associations using Graphical models on multi-Omic Networks.\" arXiv preprint arXiv:2104.01690 (2021).\n",
    "\n",
    "3- Ghandi, Mahmoud, et al. \"Next-generation characterization of the cancer cell line encyclopedia.\" Nature 569.7757 (2019): 503-508."
   ]
  }
 ],
 "metadata": {
  "kernelspec": {
   "display_name": "Python 3",
   "language": "python",
   "name": "python3"
  },
  "language_info": {
   "codemirror_mode": {
    "name": "ipython",
    "version": 3
   },
   "file_extension": ".py",
   "mimetype": "text/x-python",
   "name": "python",
   "nbconvert_exporter": "python",
   "pygments_lexer": "ipython3",
   "version": "3.9.7"
  }
 },
 "nbformat": 4,
 "nbformat_minor": 4
}
