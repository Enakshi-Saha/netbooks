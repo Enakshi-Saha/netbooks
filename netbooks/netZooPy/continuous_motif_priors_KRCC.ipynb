{
 "cells": [
  {
   "cell_type": "markdown",
   "metadata": {},
   "source": [
    "# Benchmarking motif networks for the reconstruction of kidney cancer regulatory network\n",
    "\n",
    "Marouen Ben Guebila<sup>1</sup>\n",
    "\n",
    "<sup>1</sup> Department of Biostatistics, Harvard T.H. Chan School of Public Health, Boston, MA."
   ]
  },
  {
   "cell_type": "markdown",
   "metadata": {},
   "source": [
    "# Introduction\n",
    "\n",
    "In a [previous tutorial](Building_a_regulation_prior_network.ipynb), we built motif prior networks based on TF motif and target gene sequences using four different approaches. In this step, we will build a PANDA<sup>1</sup> Kidney Renal Clear Cell Carcinoma (KRCC) gene regulatory network using as input the four motif prior networks and we will benchmark the four final networks in terms of:\n",
    "\n",
    "- Dependence on initial conditions\n",
    "- Modularity score\n",
    "- GO term enrichment analysis\n",
    "- ChIP-seq accuracy\n",
    "\n",
    "PANDA uses three inputs to compute a gene regulatory network:\n",
    "- A TF-gene regulation network that will be one of the four matrices that we [computed previsouly](Building_a_regulation_prior_network.ipynb).  \n",
    "- A gene coexpression matrix to provide regulation context. We will use the KRCC gene expression data from the TCGA<sup>2</sup> project that we [processed previously](../netZooR/gene_expression_for_coexpression_nets.ipynb) by controlling the variance between samples to compute a normalized coexpression matrix.\n",
    "- A TF PPI network extracted from StringDB<sup>3</sup> that informs about TF regulatory complexes.\n",
    "\n",
    "Let's start first by loading the required packages."
   ]
  },
  {
   "cell_type": "code",
   "execution_count": 1,
   "metadata": {},
   "outputs": [],
   "source": [
    "import pandas as pd # to load adjacency matrices\n",
    "import numpy as np\n",
    "import json\n",
    "import requests # to query enrichr\n",
    "from netZooPy import condor\n",
    "from netZooPy.panda.panda import Panda # to build a GRN network\n",
    "import matplotlib.pyplot as plt # for plotting\n",
    "from sklearn.metrics import roc_curve, auc # for auroc plotting\n",
    "from sklearn.metrics import average_precision_score # to compute precision score"
   ]
  },
  {
   "cell_type": "markdown",
   "metadata": {},
   "source": [
    "## Building KRCC regulatory networks\n",
    "\n",
    "Since we are benchmarking KRCC networks by varying the regulatory prior matrix, the two other inputs (the coexpression matrix and the PPI matrix) are fixed. We can start first by loading them. The expression data has 25224 genes over 544 samples. We will skip the PANDA computation part because it takes some time, however, we will provide the computed network for the following analyses. We will use the `intersection` mode of PANDA that takes the intersection of genes and TFs in the three input networks to build four regulatory network based on each of the four motif regulatory networks. The regulatory network built using the `intersection` mode yields a final model of 1132 TFs targeting 24815 genes.\n",
    "\n",
    "As a reminder the four motif networks are one binary network and three continuous networks: Garcia-Alonso model (continuous prior 1), Ouyang model (continuous prior 2), and the Regulatory Potential (RP) model (continuous prior 3). The three continuous networks were processed by quantile normalization followed by scaling between 0 and 1."
   ]
  },
  {
   "cell_type": "code",
   "execution_count": null,
   "metadata": {},
   "outputs": [],
   "source": [
    "expression_data = pd.read_csv('/opt/data/netZooPy/krcc/scaled_gene_expression_KRCC.csv')"
   ]
  },
  {
   "cell_type": "code",
   "execution_count": null,
   "metadata": {},
   "outputs": [],
   "source": [
    "ppi_data = pd.read_csv('/opt/data/netZooPy/krcc/ppi_complete.txt',sep='\\t',header=None,index_col=None)"
   ]
  },
  {
   "cell_type": "markdown",
   "metadata": {},
   "source": [
    "### Continuous prior 1"
   ]
  },
  {
   "cell_type": "code",
   "execution_count": 4,
   "metadata": {},
   "outputs": [],
   "source": [
    "motif_dataCont1 = pd.read_csv('regMatCont1Processed.csv',index_col=0)\n",
    "meltedmotifCont1=motif_dataCont1.stack().reset_index().rename(columns={'level_0':'source','level_1':'target', 0:'weight'})\n",
    "#KRCCNetCont1 = Panda(expression_data, meltedmotifCont1, ppi_data, modeProcess='intersection', save_memory=False)\n",
    "#KRCCNetCont1 = pd.DataFrame(KRCCNetCont1.panda_network, index=KRCCNetCont1.unique_tfs, columns=KRCCNetCont1.gene_names)"
   ]
  },
  {
   "cell_type": "code",
   "execution_count": 5,
   "metadata": {},
   "outputs": [],
   "source": [
    "KRCCNetCont1 = pd.read_csv('KRCC_contprior1.csv',index_col=0)"
   ]
  },
  {
   "cell_type": "markdown",
   "metadata": {},
   "source": [
    "### Continuous prior 2"
   ]
  },
  {
   "cell_type": "code",
   "execution_count": 7,
   "metadata": {},
   "outputs": [],
   "source": [
    "motif_dataCont2 = pd.read_csv('regMatCont2Processed.csv',index_col=0)\n",
    "meltedmotifCont2=motif_dataCont2.stack().reset_index().rename(columns={'level_0':'source','level_1':'target', 0:'weight'})\n",
    "#KRCCNetCont2 = Panda(expression_data, meltedmotifCont2, ppi_data, modeProcess='intersection', save_memory=False)\n",
    "#KRCCNetCont2 = pd.DataFrame(KRCCNetCont2.panda_network, index=KRCCNetCont2.unique_tfs, columns=KRCCNetCont2.gene_names)"
   ]
  },
  {
   "cell_type": "code",
   "execution_count": 6,
   "metadata": {},
   "outputs": [],
   "source": [
    "KRCCNetCont2 = pd.read_csv('KRCC_contprior2.csv',index_col=0)"
   ]
  },
  {
   "cell_type": "markdown",
   "metadata": {},
   "source": [
    "### Continuous prior 3"
   ]
  },
  {
   "cell_type": "code",
   "execution_count": 9,
   "metadata": {},
   "outputs": [],
   "source": [
    "motif_dataCont3 = pd.read_csv('regMatCont3Processed.csv',index_col=0)\n",
    "meltedmotifCont3=motif_dataCont3.stack().reset_index().rename(columns={'level_0':'source','level_1':'target', 0:'weight'})\n",
    "#KRCCNetCont3 = Panda(expression_data, meltedmotifCont3, ppi_data, modeProcess='intersection', save_memory=False)\n",
    "#KRCCNetCont3 = pd.DataFrame(KRCCNetCont3.panda_network, index=KRCCNetCont3.unique_tfs, columns=KRCCNetCont3.gene_names)"
   ]
  },
  {
   "cell_type": "code",
   "execution_count": 8,
   "metadata": {},
   "outputs": [],
   "source": [
    "KRCCNetCont3 = pd.read_csv('KRCC_contprior3.csv',index_col=0)"
   ]
  },
  {
   "cell_type": "markdown",
   "metadata": {},
   "source": [
    "### Binary prior "
   ]
  },
  {
   "cell_type": "code",
   "execution_count": 10,
   "metadata": {},
   "outputs": [],
   "source": [
    "motif_dataBin1 = pd.read_csv('regMatBin1thr005.csv',index_col=0)\n",
    "meltedmotifBin1=motif_dataBin1.stack().reset_index().rename(columns={'level_0':'source','level_1':'target', 0:'weight'})\n",
    "#KRCCNetBin1 = Panda(expression_data, meltedmotifBin1, ppi_data, modeProcess='intersection', save_memory=False)\n",
    "#KRCCNetBin1 = pd.DataFrame(KRCCNetBin1.panda_network, index=KRCCNetBin1.unique_tfs, columns=KRCCNetBin1.gene_names)"
   ]
  },
  {
   "cell_type": "code",
   "execution_count": 11,
   "metadata": {},
   "outputs": [],
   "source": [
    "KRCCNetBin1 = pd.read_csv('KRCC_binprior1.csv',index_col=0)"
   ]
  },
  {
   "cell_type": "markdown",
   "metadata": {},
   "source": [
    "# Benchmarking the regulatory networks\n",
    "## 1. Dependence on motif prior\n",
    "\n",
    "A key aspect to explore is the dependence of the final network on the initial motif prior networks. In other words, which edges were up-scored or down-scored in the motif prior network by integrating data from the PPI and coexpression networks.\n",
    "\n",
    "### Binary motif prior networks"
   ]
  },
  {
   "cell_type": "code",
   "execution_count": null,
   "metadata": {},
   "outputs": [],
   "source": [
    "bins = np.linspace(-5, 10, 1000)\n",
    "df = motif_dataBin1.loc[motif_dataBin1.index.isin(KRCCNetBin1.index),motif_dataBin1.columns.isin(KRCCNetBin1.columns)]\n",
    "KRCCNetBin1.sort_index(inplace=True)\n",
    "KRCCNetBin1.sort_index(axis=1,inplace=True)\n",
    "df.sort_index(inplace=True)\n",
    "df.sort_index(axis=1,inplace=True)\n",
    "cc=KRCCNetBin1.values.flatten()\n",
    "dd=KRCCNetBin1.values.flatten()[df.values.flatten()==1]\n",
    "\n",
    "#fig=plt.figure(figsize=(4,4), dpi= 100, facecolor='w', edgecolor='k')\n",
    "plt.hist([cc,dd], bins);\n",
    "plt.xlabel('Edge weight');\n",
    "plt.ylabel('Frequency');\n",
    "plt.legend(['all edges','motif edges']);"
   ]
  },
  {
   "cell_type": "code",
   "execution_count": null,
   "metadata": {},
   "outputs": [],
   "source": [
    "fpr, tpr, _ = roc_curve(df.values.flatten(), KRCCNetBin1.values.flatten())\n",
    "roc_auc = auc(fpr, tpr)\n",
    "print(\"AUROC is \",roc_auc)"
   ]
  },
  {
   "cell_type": "code",
   "execution_count": null,
   "metadata": {},
   "outputs": [],
   "source": [
    "plt.plot(fpr,tpr);\n",
    "plt.xlabel('False positive rate');\n",
    "plt.ylabel('True positive rate');"
   ]
  },
  {
   "cell_type": "markdown",
   "metadata": {},
   "source": [
    "We see that binary motifs produce gene regulatory networks that are entirely determined by the initial network. In the first figure, we see that the distribution of the final network is bimodal, which is reminiscient from the binary structure of the initial network. We can see that clearly when we map the edges in the final network to the edges in the motif network that had a value of one. In other words, the final network retains the original structure of the motif network. This can be further demonstrated by computing the AUROC of the classification of motif edges by the final network edges. In this case, AUROC is equal to 1, which shows that final network is undistinguishable from the initial network."
   ]
  },
  {
   "cell_type": "markdown",
   "metadata": {},
   "source": [
    "### Continuous motif prior networks\n",
    "Plotting the distribution of the network edges that were computed using continuous motif prior, shows that they are distributed using a unimodal distribution that can be probably approached by a Gaussian distribution. This can help in downstream analyses as several analytical tools assumes a normal distribution of the underlying data."
   ]
  },
  {
   "cell_type": "code",
   "execution_count": 12,
   "metadata": {},
   "outputs": [
    {
     "data": {
      "text/plain": [
       "Text(0.5, 1.0, 'Edge weight distribution in continuous network 3')"
      ]
     },
     "execution_count": 12,
     "metadata": {},
     "output_type": "execute_result"
    },
    {
     "data": {
      "image/png": "[encoded data removed]",
      "text/plain": [
       "<Figure size 432x288 with 1 Axes>"
      ]
     },
     "metadata": {
      "needs_background": "light"
     },
     "output_type": "display_data"
    },
    {
     "data": {
      "image/png": "[encoded data removed]",
      "text/plain": [
       "<Figure size 432x288 with 1 Axes>"
      ]
     },
     "metadata": {
      "needs_background": "light"
     },
     "output_type": "display_data"
    },
    {
     "data": {
      "image/png": "[encoded data removed]",
      "text/plain": [
       "<Figure size 432x288 with 1 Axes>"
      ]
     },
     "metadata": {
      "needs_background": "light"
     },
     "output_type": "display_data"
    }
   ],
   "source": [
    "bins = np.linspace(-5, 38, 1000)\n",
    "plt.hist(KRCCNetCont1.values.flatten(), bins);\n",
    "plt.xlabel('Edge weight')\n",
    "plt.ylabel('Frequency')\n",
    "plt.title('Edge weight distribution in continuous network 1')\n",
    "\n",
    "plt.figure()\n",
    "plt.hist(KRCCNetCont2.values.flatten(), bins);\n",
    "plt.xlabel('Edge weight')\n",
    "plt.ylabel('Frequency')\n",
    "plt.title('Edge weight distribution in continuous network 2')\n",
    "\n",
    "plt.figure()\n",
    "plt.hist(KRCCNetCont3.values.flatten(), bins);\n",
    "plt.xlabel('Edge weight')\n",
    "plt.ylabel('Frequency')\n",
    "plt.title('Edge weight distribution in continuous network 3')"
   ]
  },
  {
   "cell_type": "code",
   "execution_count": 13,
   "metadata": {},
   "outputs": [],
   "source": [
    "KRCCNetCont1.sort_index(inplace=True)\n",
    "KRCCNetCont1.sort_index(axis=1,inplace=True)\n",
    "df1 = motif_dataCont1.loc[motif_dataCont1.index.isin(KRCCNetCont1.index),motif_dataCont1.columns.isin(KRCCNetCont1.columns)]\n",
    "df1.sort_index(inplace=True)\n",
    "df1.sort_index(axis=1,inplace=True)"
   ]
  },
  {
   "cell_type": "code",
   "execution_count": 14,
   "metadata": {},
   "outputs": [],
   "source": [
    "KRCCNetCont2.sort_index(inplace=True)\n",
    "KRCCNetCont2.sort_index(axis=1,inplace=True)\n",
    "df2 = motif_dataCont2.loc[motif_dataCont2.index.isin(KRCCNetCont2.index),motif_dataCont2.columns.isin(KRCCNetCont2.columns)]\n",
    "df2.sort_index(inplace=True)\n",
    "df2.sort_index(axis=1,inplace=True)"
   ]
  },
  {
   "cell_type": "code",
   "execution_count": 15,
   "metadata": {},
   "outputs": [],
   "source": [
    "KRCCNetCont3.sort_index(inplace=True)\n",
    "KRCCNetCont3.sort_index(axis=1,inplace=True)\n",
    "df3 = motif_dataCont3.loc[motif_dataCont3.index.isin(KRCCNetCont3.index),motif_dataCont3.columns.isin(KRCCNetCont3.columns)]\n",
    "df3.sort_index(inplace=True)\n",
    "df3.sort_index(axis=1,inplace=True)"
   ]
  },
  {
   "cell_type": "code",
   "execution_count": 20,
   "metadata": {},
   "outputs": [
    {
     "name": "stdout",
     "output_type": "stream",
     "text": [
      "[[1.         0.55516905]\n",
      " [0.55516905 1.        ]]\n",
      "[[1.         0.54243048]\n",
      " [0.54243048 1.        ]]\n",
      "[[1.         0.77082632]\n",
      " [0.77082632 1.        ]]\n"
     ]
    },
    {
     "data": {
      "image/png": "[encoded data removed]",
      "text/plain": [
       "<Figure size 1296x432 with 3 Axes>"
      ]
     },
     "metadata": {
      "needs_background": "light"
     },
     "output_type": "display_data"
    }
   ],
   "source": [
    "plt.rcParams[\"font.family\"] = \"arial\"\n",
    "fig, (ax1, ax2, ax3) = plt.subplots(1, 3, sharey=False, figsize=(18, 6))\n",
    "\n",
    "\n",
    "ax1.plot(df1.values.flatten(),KRCCNetCont1.values.flatten(), 'o');\n",
    "ax1.tick_params(axis='both', which='major', labelsize=16)\n",
    "print(np.corrcoef(df1.values.flatten(),KRCCNetCont1.values.flatten()))\n",
    "\n",
    "\n",
    "\n",
    "ax2.plot(df2.values.flatten(),KRCCNetCont2.values.flatten(), 'o');\n",
    "ax2.tick_params(axis='both', which='major', labelsize=16)\n",
    "print(np.corrcoef(df2.values.flatten(),KRCCNetCont2.values.flatten()))\n",
    "\n",
    "\n",
    "\n",
    "ax3.plot(df3.values.flatten(),KRCCNetCont3.values.flatten(), 'o');\n",
    "ax3.tick_params(axis='both', which='major', labelsize=16)\n",
    "print(np.corrcoef(df3.values.flatten(),KRCCNetCont3.values.flatten()))\n",
    "\n",
    "#fig.text(0.5, 0.04, 'Edge weight in final network', ha='center')\n",
    "#fig.text(0.04, 0.5, 'Edge weight in motif prior', va='center', rotation='vertical')\n",
    "#plt.suptitle('Correlation between motif prior edge weights and continuous network 1 edge weights');\n",
    "plt.savefig('/Users/mab8354/motifPaper/paper/figures/figure6/figure6.png',format='png')\n",
    "\n",
    "\n",
    "\n",
    "\n"
   ]
  },
  {
   "cell_type": "markdown",
   "metadata": {},
   "source": [
    "In networks generated with continuous motif priors, we can see that the correlation between the final network edges and the prior networks edges is 0.5 for the first and second networks and 0.77 for the third networks. In other words,  the final network does retain some structure from the input network but it is not completely determined by the initial network. We can see for example that edges that started with a low score in the initial network can be upweighted in the final network using the updated information from the two other inputs: PPI and coexpression networks.\n",
    "\n",
    "However, there is a bias to be noted here, the edges that have a low score initially can be upweighted in the final network, but the opposite is not correct. The edges that start with a high score will not be down-weighted. This is inherent to PANDA, the reconstruction method, rather than the nature of the input matrices. The bias can be noted also in the distribution of the final edges, that shows a centered yet assymetrical distribution with a heavier tail in the positive values."
   ]
  },
  {
   "cell_type": "markdown",
   "metadata": {},
   "source": [
    "## 2. Community detection\n",
    "Now we will compare the four final regulatory networks in their ability to form clusters by computing their modularity. Biological networks are highly modular, therefore, we expect this property to be reflected in the final network. We will use CONDOR<sup>4</sup> to compute the modularity score and assign communities in the final networks."
   ]
  },
  {
   "cell_type": "code",
   "execution_count": null,
   "metadata": {},
   "outputs": [],
   "source": [
    "modVec, percVec = [], []\n",
    "for net in [motif_dataBin1, KRCCNetBin1, motif_dataCont1, KRCCNetCont1, motif_dataCont2, KRCCNetCont2, motif_dataCont3, KRCCNetCont3]:\n",
    "    net = net.stack().reset_index();\n",
    "    net['level_0']=net['level_0']+'_tf'\n",
    "    numEdges=len(net.iloc[:,2])\n",
    "    net =net[net.iloc[:,2]>=0];\n",
    "    percVec.append(len(net.iloc[:,2])/a)\n",
    "    condor_object = condor.condor_object(net);\n",
    "    condor_object.keys();\n",
    "    condor_object = condor.initial_community(condor_object);\n",
    "    condor_object = condor.brim(condor_object,deltaQmin=\"def\");\n",
    "    modVec.append(condor_object['modularity']);"
   ]
  },
  {
   "cell_type": "code",
   "execution_count": null,
   "metadata": {},
   "outputs": [],
   "source": [
    "labels = ['Binary', 'Continuous 1','Continuous 2','Continuous 3']\n",
    "bin_means = [modVec[0], modVec[2],modVec[4],modVec[6]]\n",
    "cont_means = [modVec[1], modVec[3],modVec[5],modVec[7]]\n",
    "\n",
    "x = np.arange(len(labels))  # the label locations\n",
    "width = 0.35  # the width of the bars\n",
    "\n",
    "fig, ax = plt.subplots()\n",
    "rects1 = ax.bar(x - width/2, bin_means, width, label='Motif prior')\n",
    "rects2 = ax.bar(x + width/2, cont_means, width, label='PANDA network')\n",
    "\n",
    "# Add some text for labels, title and custom x-axis tick labels, etc.\n",
    "ax.set_ylabel('Modularity score')\n",
    "ax.set_title('Modularity score of the motif prior and final networks')\n",
    "ax.set_xticks(x)\n",
    "ax.set_xticklabels(labels)\n",
    "ax.legend()\n",
    "\n",
    "fig.tight_layout()\n",
    "\n",
    "plt.show()"
   ]
  },
  {
   "cell_type": "markdown",
   "metadata": {},
   "source": [
    "By computing the modularity scores of the final networks using CONDOR, we see that all the initial motif prior networks have a low modularity score (~0.15). However, the network based on binary motif prior still has a low modularity (0.24). The networks that are based on continuous motif priors have a much larger modularity (0.39-0.44) which is expected in biological networks.\n",
    "\n",
    "Since CONDOR takes only positive edges in the network, there could be a bias in the modularity score towards the number of positive edges in each network."
   ]
  },
  {
   "cell_type": "code",
   "execution_count": null,
   "metadata": {},
   "outputs": [],
   "source": [
    "labels = ['Binary', 'Continuous 1','Continuous 2','Continuous 3']\n",
    "bin_means = [percVec[0], percVec[2],percVec[4],percVec[6]]\n",
    "cont_means = [percVec[1], percVec[3],percVec[5],percVec[7]]\n",
    "\n",
    "x = np.arange(len(labels))  # the label locations\n",
    "width = 0.35  # the width of the bars\n",
    "\n",
    "fig, ax = plt.subplots()\n",
    "rects1 = ax.bar(x - width/2, bin_means, width, label='Motif prior')\n",
    "rects2 = ax.bar(x + width/2, cont_means, width, label='PANDA network')\n",
    "\n",
    "# Add some text for labels, title and custom x-axis tick labels, etc.\n",
    "ax.set_title('Percentage of positive edges as input to CONDOR')\n",
    "ax.set_ylabel('Percentage')\n",
    "ax.set_xticks(x)\n",
    "ax.set_xticklabels(labels)\n",
    "ax.legend()\n",
    "\n",
    "fig.tight_layout()\n",
    "\n",
    "plt.show()"
   ]
  },
  {
   "cell_type": "code",
   "execution_count": null,
   "metadata": {},
   "outputs": [],
   "source": [
    "targetDen=np.min(cont_means)"
   ]
  },
  {
   "cell_type": "markdown",
   "metadata": {},
   "source": [
    "We see that all motif priors have 100% of positive edges, therefore their scores are comparable. However, positive edges in final PANDA networks vary between 28%-47%. We need to balance the number of positive edges to obtain comparable modularity score by taking the top 28% positive edges in PANDA networks."
   ]
  },
  {
   "cell_type": "code",
   "execution_count": null,
   "metadata": {},
   "outputs": [],
   "source": [
    "modVecCorrected = []\n",
    "fracEdges=int(targetDen*numEdges)\n",
    "for net in [KRCCNetBin1, KRCCNetCont1, KRCCNetCont2, KRCCNetCont3]:\n",
    "    net = net.stack().reset_index();\n",
    "    net['level_0']=net['level_0']+'_tf'\n",
    "    net.sort_values(0, axis=0, ascending=False, inplace=True)\n",
    "    net =net[0:fracEdges];\n",
    "    condor_object = condor.condor_object(net);\n",
    "    condor_object.keys();\n",
    "    condor_object = condor.initial_community(condor_object);\n",
    "    condor_object = condor.brim(condor_object,deltaQmin=\"def\");\n",
    "    modVecCorrected.append(condor_object['modularity']);"
   ]
  },
  {
   "cell_type": "code",
   "execution_count": null,
   "metadata": {},
   "outputs": [],
   "source": [
    "labels = ['Binary', 'Continuous 1','Continuous 2','Continuous 3']\n",
    "\n",
    "x = np.arange(len(labels))  # the label locations\n",
    "width = 0.35  # the width of the bars\n",
    "\n",
    "fig, ax = plt.subplots()\n",
    "rects1 = ax.bar(x - width/2, modVecCorrected, width, label='PANDA networks')\n",
    "\n",
    "# Add some text for labels, title and custom x-axis tick labels, etc.\n",
    "ax.set_title('Balanced modularity score')\n",
    "ax.set_ylabel('Modularity')\n",
    "ax.set_xticks(x)\n",
    "ax.set_xticklabels(labels)\n",
    "ax.legend()\n",
    "\n",
    "fig.tight_layout()\n",
    "\n",
    "plt.show()"
   ]
  },
  {
   "cell_type": "markdown",
   "metadata": {},
   "source": [
    "After correcting for the number of positive edges, we see that modularity scores are similar to our previous result, highlighting that the improved modularity is inherent to the network itself rather than a selection bias."
   ]
  },
  {
   "cell_type": "markdown",
   "metadata": {},
   "source": [
    "## 3. Gene enrichment analysis\n",
    "The next benchmark is testing the top weighted genes in the network in Gene Ontology (GO) biological processes. We picked the top 100 genes in each network by their differential targeting score<sup>5</sup>, which the sum of the weighted outgree of each gene and queried Enrichr<sup>6</sup> using the web API."
   ]
  },
  {
   "cell_type": "code",
   "execution_count": null,
   "metadata": {},
   "outputs": [],
   "source": [
    "j=-1\n",
    "titleArray=['Binary network 100 genes','Continous network 1 100 genes','Continous network 2 100 genes','Continous network 3 100 genes']\n",
    "for net in [KRCCNetBin1,KRCCNetCont1,KRCCNetCont2,KRCCNetCont3]:\n",
    "    j=j+1\n",
    "    a=net.values.sum(axis=0)\n",
    "    b=np.argsort(-a)\n",
    "    c=net.columns[b[0:100]]\n",
    "    genes_str='\\n'.join(c)\n",
    "    ENRICHR_URL = 'http://maayanlab.cloud/Enrichr/addList'\n",
    "    query_string = '?userListId=%s&backgroundType=%s'\n",
    "\n",
    "    description = 'Example gene list'\n",
    "    payload = {\n",
    "        'list': (None, genes_str),\n",
    "        'description': (None, description)\n",
    "    }\n",
    "\n",
    "    response = requests.post(ENRICHR_URL, files=payload)\n",
    "    if not response.ok:\n",
    "        raise Exception('Error analyzing gene list')\n",
    "\n",
    "    data = json.loads(response.text)\n",
    "\n",
    "    user_list_id = data['userListId']\n",
    "    gene_set_library = 'GO_Biological_Process_2018'\n",
    "    ENRICHR_URL = 'http://maayanlab.cloud/Enrichr/enrich'\n",
    "    response = requests.get(\n",
    "        ENRICHR_URL + query_string % (user_list_id, gene_set_library)\n",
    "     )\n",
    "    if not response.ok:\n",
    "        raise Exception('Error fetching enrichment results')\n",
    "\n",
    "    data = json.loads(response.text);\n",
    "    processBio=[]\n",
    "    pvals=[]\n",
    "    for i in range(1,10):\n",
    "        processBio.append(data['GO_Biological_Process_2018'][i][1])\n",
    "        pvals.append(data['GO_Biological_Process_2018'][i][2])\n",
    "    plt.figure()\n",
    "    y_pos = np.arange(len(processBio))\n",
    "    plt.barh(y_pos, -np.log10(pvals))\n",
    "    plt.yticks(ticks=y_pos,labels=processBio);\n",
    "    plt.gca().invert_yaxis()  \n",
    "    plt.xlabel('-log(p-value)')\n",
    "    plt.title(titleArray[j])"
   ]
  },
  {
   "cell_type": "markdown",
   "metadata": {},
   "source": [
    "In this case, we see that there aren't differences in the enriched terms between the networks. Usually, one network does not capture the context, but it is rather a differential network in a case vs control setting that allows to do so. In our case, we need to analyze the KRCC network using a background network of healthy kidney for example, to be able to get an enrichment of cancer-specific processes or terms related to kidney physiology."
   ]
  },
  {
   "cell_type": "markdown",
   "metadata": {},
   "source": [
    "## 4. Validation on ChIP-seq\n",
    "We can also look at the performance of the final networks in classifying ChIP-seq binding events. First, we download ChIP-seq peaks from Remap 2020<sup>7</sup> database, which aggregated many ChIP-seq experiments and processed them using a uniform pipeline. Then, we identify the peaks that correspond to the binding of a TF in the TSS+/-1kb region, which matches our search sequence in the motif prior that we computed to generate the networks."
   ]
  },
  {
   "cell_type": "code",
   "execution_count": null,
   "metadata": {},
   "outputs": [],
   "source": [
    "chip=pd.read_csv('/opt/data/netZooPy/krcc/ChIP_seq_HEK293.csv',index_col=0)"
   ]
  },
  {
   "cell_type": "code",
   "execution_count": null,
   "metadata": {},
   "outputs": [],
   "source": [
    "chip.sort_index(inplace=True)\n",
    "chip.sort_index(axis=1,inplace=True)\n",
    "\n",
    "KRCCNetCont1.sort_index(inplace=True)\n",
    "KRCCNetCont1.sort_index(axis=1,inplace=True)\n",
    "\n",
    "KRCCNetCont2.sort_index(inplace=True)\n",
    "KRCCNetCont2.sort_index(axis=1,inplace=True)\n",
    "\n",
    "KRCCNetCont3.sort_index(inplace=True)\n",
    "KRCCNetCont3.sort_index(axis=1,inplace=True)\n",
    "\n",
    "KRCCNetBin1.sort_index(inplace=True)\n",
    "KRCCNetBin1.sort_index(axis=1,inplace=True)\n",
    "\n",
    "commonTFs  = chip.index[chip.index.isin(KRCCNetCont3.index)]\n",
    "commonGenes= chip.columns[chip.columns.isin(KRCCNetCont3.columns)]\n",
    "\n",
    "df=chip.loc[commonTFs, commonGenes]\n",
    "df0=KRCCNetBin1.loc[commonTFs, commonGenes]\n",
    "df1=KRCCNetCont1.loc[commonTFs, commonGenes]\n",
    "df2=KRCCNetCont2.loc[commonTFs, commonGenes]\n",
    "df3=KRCCNetCont3.loc[commonTFs, commonGenes]"
   ]
  },
  {
   "cell_type": "code",
   "execution_count": null,
   "metadata": {},
   "outputs": [],
   "source": [
    "fpr, tpr, _ = roc_curve(df.values.flatten(), df1.values.flatten())\n",
    "roc_aucCont1 = auc(fpr, tpr)\n",
    "print(\"AUROC for continuous network 1 is \",roc_aucCont1)\n",
    "fpr, tpr, _ = roc_curve(df.values.flatten(), df2.values.flatten())\n",
    "roc_aucCont2 = auc(fpr, tpr)\n",
    "print(\"AUROC for continuous network 2 is \",roc_aucCont2)\n",
    "fpr, tpr, _ = roc_curve(df.values.flatten(), df3.values.flatten())\n",
    "roc_aucCont3 = auc(fpr, tpr)\n",
    "print(\"AUROC for continuous network 3 is \",roc_aucCont3)\n",
    "fpr, tpr, _ = roc_curve(df.values.flatten(), df0.values.flatten())\n",
    "roc_aucBin = auc(fpr, tpr)\n",
    "print(\"AUROC for binary network is \",roc_aucBin)"
   ]
  },
  {
   "cell_type": "code",
   "execution_count": null,
   "metadata": {},
   "outputs": [],
   "source": [
    "average_precisionBin = average_precision_score(\n",
    "...     df.values.flatten(), df0.values.flatten())\n",
    "average_precisionCont1 = average_precision_score(\n",
    "...     df.values.flatten(), df1.values.flatten())\n",
    "average_precisionCont2 = average_precision_score(\n",
    "...     df.values.flatten(), df2.values.flatten())\n",
    "average_precisionCont3 = average_precision_score(\n",
    "...     df.values.flatten(), df3.values.flatten())"
   ]
  },
  {
   "cell_type": "code",
   "execution_count": null,
   "metadata": {},
   "outputs": [],
   "source": [
    "print('Average precision score for binary network is',average_precisionBin)\n",
    "print('Average precision score for continuous network 1 is',average_precisionCont1)\n",
    "print('Average precision score for continuous network 2 is',average_precisionCont2)\n",
    "print('Average precision score for continuous network 3 is',average_precisionCont3)"
   ]
  },
  {
   "cell_type": "markdown",
   "metadata": {},
   "source": [
    "Comparing the performance of each network in identifying ChIP-seq binding using AUROC and AUPR metrics shows that all four networks perform equally bad. In a different work, we found that perfromance against ground truth can be tuned by choosing the optimal parameter set using Bayesian Optimization in a [method  called optPANDA](https://github.com/netZoo/netZooM/tree/master/tutorials/opt_panda)."
   ]
  },
  {
   "cell_type": "markdown",
   "metadata": {},
   "source": [
    "# Summary\n",
    "\n",
    "Taken together, we see that using continuous prior motif networks allow the generation of improved PANDA gene regulatory networks in terms of:\n",
    "\n",
    "- Better modularity (0.24 binary versus 0.39 to 0.44 in continuous)\n",
    "- Less dependence on initial conditions (AUROC of 1 in binary versus correlation of 0.5 to 0.7 in continuous)\n",
    "- A unimodal structure that can be approached by a Gaussian distribution for downstream analyses like [variance correction](Controlling_The_Variance_Of_PANDA_Networks.ipynb)\n",
    "- Avoiding to standardize a discrete variable as the first step in PANDA standardizes the input matrix, which makes sense with continuous input but not with discrete input.\n",
    "\n",
    "The second continuous network (Ouyang model) seems to perform better in terms of modularity and independence from the initial network. The edges in this network are computed as a composite measure between significance of TF binding and distance to TSS, which could explain the good performance in the metrics we explored in this work."
   ]
  },
  {
   "cell_type": "markdown",
   "metadata": {},
   "source": [
    "# References"
   ]
  },
  {
   "cell_type": "markdown",
   "metadata": {},
   "source": [
    "1- Glass, Kimberly, et al. \"Passing messages between biological networks to refine predicted interactions.\" PloS one 8.5 (2013): e64832.\n",
    "\n",
    "2- The, I. C. G. C., TCGA Pan-Cancer Analysis of Whole, and Genomes Consortium. \"Pan-cancer analysis of whole genomes.\" Nature 578.7793 (2020): 82.\n",
    "\n",
    "3- Szklarczyk, Damian, et al. \"STRING v11: protein–protein association networks with increased coverage, supporting functional discovery in genome-wide experimental datasets.\" Nucleic acids research 47.D1 (2019): D607-D613.\n",
    "\n",
    "4- Platig, John, et al. \"Bipartite community structure of eQTLs.\" PLoS computational biology 12.9 (2016): e1005033.\n",
    "\n",
    "5- Weighill, Deborah, et al. \"Gene targeting in disease networks.\" arXiv preprint arXiv:2101.03985 (2021).\n",
    "\n",
    "6- Chen, Edward Y., et al. \"Enrichr: interactive and collaborative HTML5 gene list enrichment analysis tool.\" BMC bioinformatics 14.1 (2013): 1-14.\n",
    "\n",
    "7- Chèneby, Jeanne, et al. \"ReMap 2020: a database of regulatory regions from an integrative analysis of Human and Arabidopsis DNA-binding sequencing experiments.\" Nucleic acids research 48.D1 (2020): D180-D188."
   ]
  }
 ],
 "metadata": {
  "kernelspec": {
   "display_name": "Python 3",
   "language": "python",
   "name": "python3"
  },
  "language_info": {
   "codemirror_mode": {
    "name": "ipython",
    "version": 3
   },
   "file_extension": ".py",
   "mimetype": "text/x-python",
   "name": "python",
   "nbconvert_exporter": "python",
   "pygments_lexer": "ipython3",
   "version": "3.9.1"
  }
 },
 "nbformat": 4,
 "nbformat_minor": 4
}
