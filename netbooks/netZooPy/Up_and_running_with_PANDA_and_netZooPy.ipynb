{
 "cells": [
  {
   "cell_type": "markdown",
   "metadata": {},
   "source": [
    "# Up and running with PANDA and netZooPy"
   ]
  },
  {
   "cell_type": "markdown",
   "metadata": {},
   "source": [
    "### Author:\n",
    "Daniel Morgan*.\n",
    "\n",
    "*Channing division of network medicine, Brigham's and Women hospital and Harvard Medical School, Boston, MA."
   ]
  },
  {
   "cell_type": "markdown",
   "metadata": {},
   "source": [
    "## Introduction\n",
    "Regulatory network reconstruction is a fundamental problem in computational biology. There are significant limitations to such reconstruction using individual datasets, and increasingly people attempt to construct networks using multiple, independent datasets obtained from complementary sources, but methods for this integration are lacking. We developed PANDA (Passing Attributes between Networks for Data Assimilation), a message-passing model using multiple sources of information to predict regulatory relationships, and used it to integrate protein-protein interaction, gene expression, and sequence motif data to reconstruct genome-wide, condition-specific regulatory networks in yeast as a model. The resulting networks were not only more accurate than those produced using individual data sets and other existing methods, but they also captured information regarding specific biological mechanisms and pathways that were missed using other methodologies. PANDA is scalable to higher eukaryotes, applicable to specific tissue or cell type data and conceptually generalizable to include a variety of regulatory, interaction, expression, and other genome-scale data.\n",
    "\n",
    "PANDA starts with a prior network of putative regulatory interactions (center network in the image below), a prior network of protein-protein interactions between transcription factors, and target gene expression data, which is converted into a co-expression network.\n",
    "\n",
    "<img src=\"img/panda.png\" style=\"width: 200px;\">  \n",
    "\n",
    "A message passing framework is used to find agreement between the three input networks. First, the responsibility (R) is calculated: \n",
    "\n",
    "<img src=\"img/responsibility.png\" style=\"width: 200px;\">  \n",
    "\n",
    "as well as the availability (A): \n",
    "\n",
    "<img src=\"img/availability.png\" style=\"width: 200px;\">  \n",
    "\n",
    "The prior gene regulatory network W is then updated using the responsibility and availability:  \n",
    "\n",
    "<img src=\"img/combine.png\" style=\"width: 300px;\">  \n",
    "\n",
    "Next, the protein cooperativity and gene co-regulatory networks are updated::\n",
    "\n",
    "<img src=\"img/cooperativity.png\" style=\"width: 300px;\">  \n",
    "<img src=\"img/co-regulatory.png\" style=\"width: 300px;\"> \n",
    "\n",
    "Self-interactions in P and C are also updated to satisfy convergence:  \n",
    "\n",
    "<img src=\"img/p.png\" style=\"width: 300px;\">  \n",
    "<img src=\"img/c.png\" style=\"width: 300px;\">  \n",
    "\n",
    ", which is evaluated using a hamming distance:\n",
    "\n",
    "<img src=\"img/hamming.png\" style=\"width: 300px;\">  "
   ]
  },
  {
   "cell_type": "code",
   "execution_count": null,
   "metadata": {},
   "outputs": [],
   "source": [
    "from IPython.display import Image\n",
    "from IPython.core.display import HTML\n",
    "Image(url= \"https://journals.plos.org/plosone/article/figure/image?size=large&id=info:doi/10.1371/journal.pone.0064832.g001\", width=500, height=500)"
   ]
  },
  {
   "cell_type": "markdown",
   "metadata": {},
   "source": [
    "## 1. Installation and Setup"
   ]
  },
  {
   "cell_type": "code",
   "execution_count": null,
   "metadata": {},
   "outputs": [],
   "source": [
    "#%%bash\n",
    "#cd ~\n",
    "# git clone https://github.com/netZoo/netZooPy.git\n",
    "#cd netZooPy\n",
    "#pip3 install -e ."
   ]
  },
  {
   "cell_type": "markdown",
   "metadata": {},
   "source": [
    "or with conda"
   ]
  },
  {
   "cell_type": "code",
   "execution_count": null,
   "metadata": {},
   "outputs": [],
   "source": [
    "# source activate myenv\n",
    "# conda install git pip\n",
    "# pip install git+git://github.com/netZoo/netZooPy.git"
   ]
  },
  {
   "cell_type": "code",
   "execution_count": null,
   "metadata": {},
   "outputs": [],
   "source": [
    "import os\n",
    "# os.getcwd()\n",
    "# os.chdir(\"~/\")\n",
    "os.getcwd()"
   ]
  },
  {
   "cell_type": "code",
   "execution_count": null,
   "metadata": {},
   "outputs": [],
   "source": [
    "from netZooPy.panda.panda import Panda\n",
    "import pandas as pd\n",
    "import matplotlib.pyplot as plt"
   ]
  },
  {
   "cell_type": "markdown",
   "metadata": {},
   "source": [
    "## 2. Parameter Setting & Exploring the Data"
   ]
  },
  {
   "cell_type": "markdown",
   "metadata": {},
   "source": [
    "First, we start by setting the path to the 1) motif prior network, 2) the gene expression data, and 3) the ppi network data.\n",
    "The motif prior network is typically a TF-by-gene binary matrix where 1 indicates the presence of sequence (motif) of a TF in the gene regulatory region and 0 otherwise.\n",
    "Gene expression data is typically a gene-by-sample matrix containing expression data.\n",
    "PPI network is a TF-by-TF binary matrix, where 1 indicates a physical interaction between two TFs and 0 otherwise.\n",
    "If two TFs are likely to binding, they are likely to form regulatory complexes for the same genes."
   ]
  },
  {
   "cell_type": "code",
   "execution_count": null,
   "metadata": {},
   "outputs": [],
   "source": [
    "expression_data='/opt/data/ToyExpressionData.txt'\n",
    "motif_data='/opt/data/ToyMotifData.txt'\n",
    "ppi_data='/opt/data/ToyPPIData.txt'\n",
    "panda_output='../data/output_panda.txt'"
   ]
  },
  {
   "cell_type": "markdown",
   "metadata": {},
   "source": [
    "There are 1000 genes and 51 samples in our toy data. This is your novel input. The remaining files are known interaction lists."
   ]
  },
  {
   "cell_type": "code",
   "execution_count": null,
   "metadata": {},
   "outputs": [],
   "source": [
    "motif_data=pd.read_csv(motif_data,sep=\"\\t\",header=None)\n",
    "motif_data[0].unique().size"
   ]
  },
  {
   "cell_type": "code",
   "execution_count": null,
   "metadata": {},
   "outputs": [],
   "source": [
    "motif_data[1].unique().size"
   ]
  },
  {
   "cell_type": "markdown",
   "metadata": {},
   "source": [
    "Since the first column is TF, you thus have 87 TF and 913 genes are returned from the second column, with their interaction weights in the third column (motif_data[2]). Now lets check out the ppi data, another interaction list with three columns, with 238 interactions between the TF."
   ]
  },
  {
   "cell_type": "code",
   "execution_count": null,
   "metadata": {},
   "outputs": [],
   "source": [
    "ppi_data=pd.read_csv(ppi_data,sep=\"\\t\",header=None)\n",
    "ppi_data.shape"
   ]
  },
  {
   "cell_type": "markdown",
   "metadata": {},
   "source": [
    "## 3. Calling PANDA"
   ]
  },
  {
   "cell_type": "markdown",
   "metadata": {},
   "source": [
    "One can chose to run in terminal simply by pointing to the input files"
   ]
  },
  {
   "cell_type": "code",
   "execution_count": null,
   "metadata": {},
   "outputs": [],
   "source": [
    "# %%bash\n",
    "# cd netZooPy\n",
    "# pip3 install -e .\n",
    "# python netZooPy/panda/run_panda.py -e netZooPy/tests/ToyData/ToyExpressionData.txt -m netZooPy/tests/ToyData/ToyMotifData.txt -p netZooPy/tests/ToyData/ToyPPIData.txt -f True -o test_panda.txt"
   ]
  },
  {
   "cell_type": "markdown",
   "metadata": {},
   "source": [
    "Alternatively one can continue running in Jupyter, using all data sources:"
   ]
  },
  {
   "cell_type": "code",
   "execution_count": null,
   "metadata": {},
   "outputs": [],
   "source": [
    "expression_data='/opt/data/ToyExpressionData.txt'\n",
    "motif_data='/opt/data/ToyMotifData.txt'\n",
    "ppi_data='/opt/data/ToyPPIData.txt'\n",
    "panda_obj = Panda(expression_data, motif_data, ppi_data, save_tmp=True,save_memory = False, remove_missing=False, keep_expression_matrix = False)\n",
    "panda_obj.save_panda_results(panda_output)"
   ]
  },
  {
   "cell_type": "code",
   "execution_count": null,
   "metadata": {},
   "outputs": [],
   "source": [
    "import sys\n",
    "sys.getsizeof(panda_obj)"
   ]
  },
  {
   "cell_type": "code",
   "execution_count": null,
   "metadata": {},
   "outputs": [],
   "source": [
    "panda_obj.top_network_plot(top=10, file='../data/panda_top_10.png')"
   ]
  },
  {
   "cell_type": "markdown",
   "metadata": {},
   "source": [
    "using only the motif prior"
   ]
  },
  {
   "cell_type": "code",
   "execution_count": null,
   "metadata": {},
   "outputs": [],
   "source": [
    "expression_data=None\n",
    "motif_data='/opt/data/ToyMotifData.txt'\n",
    "ppi_data=None\n",
    "panda_obj = Panda(expression_data,  motif_data, ppi_data,remove_missing=True, save_memory=False)\n",
    "panda_obj.save_panda_results(panda_output)"
   ]
  },
  {
   "cell_type": "code",
   "execution_count": null,
   "metadata": {},
   "outputs": [],
   "source": [
    "panda_obj.top_network_plot(top=10, file='../data/panda_top_10.png')"
   ]
  },
  {
   "cell_type": "markdown",
   "metadata": {},
   "source": [
    "without the expression matrix"
   ]
  },
  {
   "cell_type": "code",
   "execution_count": null,
   "metadata": {},
   "outputs": [],
   "source": [
    "expression_data=None\n",
    "motif_data='/opt/data/ToyMotifData.txt'\n",
    "ppi_data='/opt/data/ToyPPIData.txt'\n",
    "panda_obj = Panda(expression_data,  motif_data, ppi_data,remove_missing=True, save_memory=False)\n",
    "panda_obj.save_panda_results(panda_output)"
   ]
  },
  {
   "cell_type": "code",
   "execution_count": null,
   "metadata": {},
   "outputs": [],
   "source": [
    "panda_obj.top_network_plot(top=10, file='../data/panda_top_10.png')"
   ]
  },
  {
   "cell_type": "markdown",
   "metadata": {},
   "source": [
    "and without using a motif prior"
   ]
  },
  {
   "cell_type": "code",
   "execution_count": null,
   "metadata": {},
   "outputs": [],
   "source": [
    "expression_data='/opt/data/ToyExpressionData.txt'\n",
    "motif_data=None\n",
    "ppi_data='/opt/data/ToyPPIData.txt'\n",
    "panda_obj = Panda(expression_data, motif_data, ppi_data, save_memory=False)\n",
    "panda_obj.save_panda_results(panda_output)"
   ]
  },
  {
   "cell_type": "markdown",
   "metadata": {},
   "source": [
    "You can also save the memory by deleting intermediary variables by using `save_memory=True`. However, we will compute the gene indegree, therefore we need to keep those variables in the object by setting `save_memory=False`."
   ]
  },
  {
   "cell_type": "code",
   "execution_count": null,
   "metadata": {
    "scrolled": false
   },
   "outputs": [],
   "source": [
    "expression_data='/opt/data/ToyExpressionData.txt'\n",
    "motif_data='/opt/data/ToyMotifData.txt'\n",
    "ppi_data='/opt/data/ToyPPIData.txt'\n",
    "panda_obj = Panda(expression_data, motif_data, ppi_data, save_memory=False)\n",
    "panda_obj.save_panda_results(panda_output)"
   ]
  },
  {
   "cell_type": "markdown",
   "metadata": {},
   "source": [
    "Basic follow up analysis is also possible, such as degree calculation per gene"
   ]
  },
  {
   "cell_type": "code",
   "execution_count": null,
   "metadata": {},
   "outputs": [],
   "source": [
    "panda_obj.return_panda_indegree()"
   ]
  },
  {
   "cell_type": "code",
   "execution_count": null,
   "metadata": {},
   "outputs": [],
   "source": [
    "panda_obj.save_panda_results(panda_output)"
   ]
  },
  {
   "cell_type": "markdown",
   "metadata": {},
   "source": [
    "## 4. References\n",
    "Glass K, Huttenhower C, Quackenbush J, Yuan GC. Passing Messages Between Biological Networks to Refine Predicted Interactions, PLoS One, 2013 May 31;8(5):e64832"
   ]
  }
 ],
 "metadata": {
  "kernelspec": {
   "display_name": "Python 3",
   "language": "python",
   "name": "python3"
  },
  "language_info": {
   "codemirror_mode": {
    "name": "ipython",
    "version": 3
   },
   "file_extension": ".py",
   "mimetype": "text/x-python",
   "name": "python",
   "nbconvert_exporter": "python",
   "pygments_lexer": "ipython3",
   "version": "3.7.5"
  }
 },
 "nbformat": 4,
 "nbformat_minor": 4
}
