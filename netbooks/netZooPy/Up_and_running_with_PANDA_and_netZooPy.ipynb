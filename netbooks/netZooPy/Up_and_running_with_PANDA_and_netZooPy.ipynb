{
 "cells": [
  {
   "cell_type": "markdown",
   "metadata": {},
   "source": [
    "# Up and running with PANDA and netZooPy\n",
    "Author:\n",
    "Daniel Morgan<sup>1</sup>\n",
    "\n",
    "<sup>1</sup>Channing division of network medicine, Brigham's and Women hospital and Harvard Medical School, Boston, MA."
   ]
  },
  {
   "cell_type": "markdown",
   "metadata": {},
   "source": [
    "## Introduction\n",
    "Regulatory network reconstruction is a fundamental problem in computational biology. There are significant limitations to such reconstruction using individual datasets, and increasingly people attempt to construct networks using multiple, independent datasets obtained from complementary sources, but methods for this integration are lacking. We developed PANDA<sup>1</sup> (Passing Attributes between Networks for Data Assimilation), a message-passing model using multiple sources of information to predict regulatory relationships, and used it to integrate protein-protein interaction, gene expression, and sequence motif data to reconstruct genome-wide, condition-specific regulatory networks in yeast as a model. The resulting networks were not only more accurate than those produced using individual data sets and other existing methods, but they also captured information regarding specific biological mechanisms and pathways that were missed using other methodologies. PANDA is scalable to higher eukaryotes, applicable to specific tissue or cell type data and conceptually generalizable to include a variety of regulatory, interaction, expression, and other genome-scale data.\n",
    "\n",
    "PANDA starts with a prior network of putative regulatory interactions (center network in the image below), a prior network of protein-protein interactions between transcription factors, and target gene expression data, which is converted into a co-expression network.\n",
    "\n",
    "<img src=\"img/panda.png\" style=\"width: 200px;\">  \n",
    "\n",
    "A message passing framework is used to find agreement between the three input networks. First, the responsibility (R) is calculated: \n",
    "\n",
    "<img src=\"img/responsibility.png\" style=\"width: 200px;\">  \n",
    "\n",
    "Then, the availability (A): \n",
    "\n",
    "<img src=\"img/availability.png\" style=\"width: 200px;\">  \n",
    "\n",
    "The prior gene regulatory network W is then updated using the responsibility and availability:  \n",
    "\n",
    "<img src=\"img/combine.png\" style=\"width: 300px;\">  \n",
    "\n",
    "Next, the protein cooperativity and gene co-regulatory networks are updated::\n",
    "\n",
    "<img src=\"img/cooperativity.png\" style=\"width: 300px;\">  \n",
    "<img src=\"img/co-regulatory.png\" style=\"width: 300px;\"> \n",
    "\n",
    "Self-interactions in P and C are also updated to satisfy convergence:  \n",
    "\n",
    "<img src=\"img/p.png\" style=\"width: 300px;\">  \n",
    "<img src=\"img/c.png\" style=\"width: 300px;\">  \n",
    "\n",
    "Convergence is evaluated using a hamming distance:\n",
    "\n",
    "<img src=\"img/hamming.png\" style=\"width: 300px;\">  "
   ]
  },
  {
   "cell_type": "markdown",
   "metadata": {},
   "source": [
    "An overview of the algorithm is detailed in this figure."
   ]
  },
  {
   "cell_type": "code",
   "execution_count": null,
   "metadata": {},
   "outputs": [],
   "source": [
    "from IPython.display import Image\n",
    "from IPython.core.display import HTML\n",
    "Image(url= \"https://journals.plos.org/plosone/article/figure/image?size=large&id=info:doi/10.1371/journal.pone.0064832.g001\", width=500, height=500)"
   ]
  },
  {
   "cell_type": "markdown",
   "metadata": {},
   "source": [
    "## 1. Installation and Setup\n",
    "This vignette can be ran on the server or locally by setting this parameter."
   ]
  },
  {
   "cell_type": "code",
   "execution_count": null,
   "metadata": {},
   "outputs": [],
   "source": [
    "runserver=1"
   ]
  },
  {
   "cell_type": "markdown",
   "metadata": {},
   "source": [
    "PANDA is distributed through the netZooPy package, which can be installed as follows:"
   ]
  },
  {
   "cell_type": "code",
   "execution_count": null,
   "metadata": {},
   "outputs": [],
   "source": [
    "if runserver==0:\n",
    "    !cd ~\n",
    "    !git clone https://github.com/netZoo/netZooPy.git\n",
    "    !cd netZooPy\n",
    "    !pip3 install -e .\n",
    "    ppath='netZooPy/tests/ToyData/'\n",
    "elif runserver==1:\n",
    "    ppath='/opt/data/'"
   ]
  },
  {
   "cell_type": "markdown",
   "metadata": {},
   "source": [
    "The previous command allows to set the data folder for the analysis on the server. Then, we load the libraries to run the analysis."
   ]
  },
  {
   "cell_type": "code",
   "execution_count": null,
   "metadata": {},
   "outputs": [],
   "source": [
    "import os\n",
    "from netZooPy.panda.panda import Panda # To load PANDA\n",
    "import pandas as pd                    # To read data frames\n",
    "import matplotlib.pyplot as plt        # To plot networks\n",
    "import sys                             # To compute size of variables"
   ]
  },
  {
   "cell_type": "markdown",
   "metadata": {},
   "source": [
    "## 2. Parameter Setting & Exploring the Data"
   ]
  },
  {
   "cell_type": "markdown",
   "metadata": {},
   "source": [
    "First, we start by setting the path to the 1) motif prior network, 2) the gene expression data, and 3) the ppi network data.\n",
    "The motif prior network is typically a TF-by-gene binary matrix where 1 indicates the presence of sequence (motif) of a TF in the gene regulatory region and 0 otherwise.\n",
    "Gene expression data is typically a gene-by-sample matrix containing expression data.\n",
    "PPI network is a TF-by-TF binary matrix, where 1 indicates a physical interaction between two TFs and 0 otherwise.\n",
    "If two TFs are likely to bind, they are likely to form regulatory complexes for the same genes, which will be updated in the network inference process."
   ]
  },
  {
   "cell_type": "code",
   "execution_count": null,
   "metadata": {},
   "outputs": [],
   "source": [
    "expression_data=ppath+'ToyExpressionData.txt'\n",
    "motif_data     =ppath+'ToyMotifData.txt'\n",
    "ppi_data       =ppath+'ToyPPIData.txt'\n",
    "panda_output   ='../data/output_panda.txt'"
   ]
  },
  {
   "cell_type": "markdown",
   "metadata": {},
   "source": [
    "First, we can read the gene expression data."
   ]
  },
  {
   "cell_type": "code",
   "execution_count": null,
   "metadata": {},
   "outputs": [],
   "source": [
    "expression=pd.read_csv(expression_data,sep=\"\\t\",header=None, index_col=0)"
   ]
  },
  {
   "cell_type": "markdown",
   "metadata": {},
   "source": [
    "There are 1000 genes and 50 samples in our toy gene expression data. Among the three networks, gene expression data is the one that provides \"context\" to the network. The remaining files are \"generic\" and include known interaction lists."
   ]
  },
  {
   "cell_type": "code",
   "execution_count": null,
   "metadata": {},
   "outputs": [],
   "source": [
    "motif_data=pd.read_csv(motif_data,sep=\"\\t\",header=None)\n",
    "motif_data"
   ]
  },
  {
   "cell_type": "markdown",
   "metadata": {},
   "source": [
    "The motif network has three columns: 1) a source node (TF), 2) target node (Genes), and 3) an edge weight of either 1 or 0."
   ]
  },
  {
   "cell_type": "markdown",
   "metadata": {},
   "source": [
    "The number of TFs:"
   ]
  },
  {
   "cell_type": "code",
   "execution_count": null,
   "metadata": {},
   "outputs": [],
   "source": [
    "motif_data[0].unique().size"
   ]
  },
  {
   "cell_type": "markdown",
   "metadata": {},
   "source": [
    "The number of genes:"
   ]
  },
  {
   "cell_type": "code",
   "execution_count": null,
   "metadata": {},
   "outputs": [],
   "source": [
    "motif_data[1].unique().size"
   ]
  },
  {
   "cell_type": "markdown",
   "metadata": {},
   "source": [
    "Since the first column is TF, you thus have 87 TF and 913 genes are returned from the second column, with their interaction weights in the third column (motif_data[2]). Now lets check out the ppi data, another interaction list with three columns, with 238 interactions between the TF."
   ]
  },
  {
   "cell_type": "code",
   "execution_count": null,
   "metadata": {},
   "outputs": [],
   "source": [
    "ppi_data=pd.read_csv(ppi_data,sep=\"\\t\",header=None)\n",
    "ppi_data"
   ]
  },
  {
   "cell_type": "markdown",
   "metadata": {},
   "source": [
    "The TF PPI network is typically built from STRING database<sup>2</sup> and has the source nodes in the first column, the target TF in the second column, and the edge weight that varies between 0 and 1."
   ]
  },
  {
   "cell_type": "markdown",
   "metadata": {},
   "source": [
    "## 3. Calling PANDA"
   ]
  },
  {
   "cell_type": "markdown",
   "metadata": {},
   "source": [
    "One can chose to run in terminal simply by pointing to the input files using this function from netZooPy <br>\n",
    "`python run_panda.py -e ToyExpressionData.txt -m ToyMotifData.txt -p ToyPPIData.txt -f True -o test_panda.txt`"
   ]
  },
  {
   "cell_type": "markdown",
   "metadata": {},
   "source": [
    "Alternatively one can continue running in Jupyter, using all data sources:"
   ]
  },
  {
   "cell_type": "code",
   "execution_count": null,
   "metadata": {},
   "outputs": [],
   "source": [
    "expression_data=ppath+'ToyExpressionData.txt'\n",
    "motif_data     =ppath+'ToyMotifData.txt'\n",
    "ppi_data       =ppath+'ToyPPIData.txt'"
   ]
  },
  {
   "cell_type": "markdown",
   "metadata": {},
   "source": [
    "Then, we call PANDA as follows."
   ]
  },
  {
   "cell_type": "code",
   "execution_count": null,
   "metadata": {},
   "outputs": [],
   "source": [
    "panda_obj = Panda(expression_data, motif_data, ppi_data, save_tmp=True,save_memory = False, remove_missing=False, keep_expression_matrix = False)"
   ]
  },
  {
   "cell_type": "markdown",
   "metadata": {},
   "source": [
    "The network can be saved using the function `save_panda_results`."
   ]
  },
  {
   "cell_type": "code",
   "execution_count": null,
   "metadata": {},
   "outputs": [],
   "source": [
    "panda_obj.save_panda_results(panda_output)"
   ]
  },
  {
   "cell_type": "markdown",
   "metadata": {},
   "source": [
    "We can verify the size of the object on memory. This is useful when computing large-scale networks."
   ]
  },
  {
   "cell_type": "code",
   "execution_count": null,
   "metadata": {},
   "outputs": [],
   "source": [
    "sys.getsizeof(panda_obj)"
   ]
  },
  {
   "cell_type": "markdown",
   "metadata": {},
   "source": [
    "Finally, we can plot the top network edges and save them as a file."
   ]
  },
  {
   "cell_type": "code",
   "execution_count": null,
   "metadata": {},
   "outputs": [],
   "source": [
    "panda_obj.top_network_plot(top=10, file='../data/panda_top_10.png')"
   ]
  },
  {
   "cell_type": "markdown",
   "metadata": {},
   "source": [
    "## Running PANDA with missing input"
   ]
  },
  {
   "cell_type": "markdown",
   "metadata": {},
   "source": [
    "We can run PANDA without expression and PPI data, this will replace these networks by the identity matrix and run the inference using only the motif network."
   ]
  },
  {
   "cell_type": "code",
   "execution_count": null,
   "metadata": {},
   "outputs": [],
   "source": [
    "expression_data=None\n",
    "motif_data='/opt/data/ToyMotifData.txt'\n",
    "ppi_data=None"
   ]
  },
  {
   "cell_type": "markdown",
   "metadata": {},
   "source": [
    "PANDA can be called as follows:"
   ]
  },
  {
   "cell_type": "code",
   "execution_count": null,
   "metadata": {},
   "outputs": [],
   "source": [
    "panda_obj = Panda(expression_data,  motif_data, ppi_data,remove_missing=True, save_memory=False)"
   ]
  },
  {
   "cell_type": "markdown",
   "metadata": {},
   "source": [
    "The result network can be saved using the function `save_panda_results`."
   ]
  },
  {
   "cell_type": "code",
   "execution_count": null,
   "metadata": {},
   "outputs": [],
   "source": [
    "panda_obj.save_panda_results(panda_output)"
   ]
  },
  {
   "cell_type": "markdown",
   "metadata": {},
   "source": [
    "Like we saw earlier, the result network can be plotted and saved using the function `top_network_plot`."
   ]
  },
  {
   "cell_type": "code",
   "execution_count": null,
   "metadata": {},
   "outputs": [],
   "source": [
    "panda_obj.top_network_plot(top=10, file='../data/panda_top_10.png')"
   ]
  },
  {
   "cell_type": "markdown",
   "metadata": {},
   "source": [
    "Another possiblity would be to run PANDA without the expression matrix and using only the motif and PPI data. In this case, the co-expression network will be replaced by the identity matrix."
   ]
  },
  {
   "cell_type": "code",
   "execution_count": null,
   "metadata": {},
   "outputs": [],
   "source": [
    "expression_data=None\n",
    "motif_data='/opt/data/ToyMotifData.txt'\n",
    "ppi_data='/opt/data/ToyPPIData.txt'"
   ]
  },
  {
   "cell_type": "markdown",
   "metadata": {},
   "source": [
    "The function call is the following:"
   ]
  },
  {
   "cell_type": "code",
   "execution_count": null,
   "metadata": {},
   "outputs": [],
   "source": [
    "panda_obj = Panda(expression_data,  motif_data, ppi_data,remove_missing=True, save_memory=False)"
   ]
  },
  {
   "cell_type": "markdown",
   "metadata": {},
   "source": [
    "The results can be saved using `save_panda_results`."
   ]
  },
  {
   "cell_type": "code",
   "execution_count": null,
   "metadata": {},
   "outputs": [],
   "source": [
    "panda_obj.save_panda_results(panda_output)"
   ]
  },
  {
   "cell_type": "markdown",
   "metadata": {},
   "source": [
    "The network can be plotted as follows:"
   ]
  },
  {
   "cell_type": "code",
   "execution_count": null,
   "metadata": {},
   "outputs": [],
   "source": [
    "panda_obj.top_network_plot(top=10, file='../data/panda_top_10.png')"
   ]
  },
  {
   "cell_type": "markdown",
   "metadata": {},
   "source": [
    "Also, PANDA can be ran without a motif network, which will be replace by the identity matrix."
   ]
  },
  {
   "cell_type": "code",
   "execution_count": null,
   "metadata": {},
   "outputs": [],
   "source": [
    "expression_data='/opt/data/ToyExpressionData.txt'\n",
    "motif_data=None\n",
    "ppi_data='/opt/data/ToyPPIData.txt'"
   ]
  },
  {
   "cell_type": "code",
   "execution_count": null,
   "metadata": {},
   "outputs": [],
   "source": [
    "panda_obj = Panda(expression_data, motif_data, ppi_data, save_memory=False)"
   ]
  },
  {
   "cell_type": "markdown",
   "metadata": {},
   "source": [
    "Here as well, the result can be saved using `save_panda_results`."
   ]
  },
  {
   "cell_type": "code",
   "execution_count": null,
   "metadata": {},
   "outputs": [],
   "source": [
    "panda_obj.save_panda_results(panda_output)"
   ]
  },
  {
   "cell_type": "markdown",
   "metadata": {},
   "source": [
    "You can also save RAM memory for large-scale networks by deleting intermediary variables by using `save_memory=True`. However, for downstream analyses such as gene indegree computation, we need to keep those variables in the object by setting `save_memory=False`. In this case, the function call is:"
   ]
  },
  {
   "cell_type": "code",
   "execution_count": null,
   "metadata": {
    "scrolled": false
   },
   "outputs": [],
   "source": [
    "expression_data=ppath+'ToyExpressionData.txt'\n",
    "motif_data     =ppath+'ToyMotifData.txt'\n",
    "ppi_data       =ppath+'ToyPPIData.txt'\n",
    "panda_obj = Panda(expression_data, motif_data, ppi_data, save_memory=False)\n",
    "panda_obj.save_panda_results(panda_output)"
   ]
  },
  {
   "cell_type": "markdown",
   "metadata": {},
   "source": [
    "Basic follow up analysis is also possible, such as degree calculation per gene, called gene targeting scores<sup>3</sup>, which is a summary score that can be used to find associations between network features and clinical variables and phenotypes."
   ]
  },
  {
   "cell_type": "code",
   "execution_count": null,
   "metadata": {},
   "outputs": [],
   "source": [
    "panda_obj.return_panda_indegree()"
   ]
  },
  {
   "cell_type": "markdown",
   "metadata": {},
   "source": [
    "These results can be saved using `save_panda_results`."
   ]
  },
  {
   "cell_type": "code",
   "execution_count": null,
   "metadata": {},
   "outputs": [],
   "source": [
    "panda_obj.save_panda_results(panda_output)"
   ]
  },
  {
   "cell_type": "markdown",
   "metadata": {},
   "source": [
    "# References\n",
    "1- Glass K, Huttenhower C, Quackenbush J, Yuan GC. Passing Messages Between Biological Networks to Refine Predicted Interactions, PLoS One, 2013 May 31;8(5):e64832\n",
    "\n",
    "2- Mering, Christian von, et al. \"STRING: a database of predicted functional associations between proteins.\" Nucleic acids research 31.1 (2003): 258-261.\n",
    "\n",
    "3- Weighill, Deborah, et al. \"Gene targeting in disease networks.\" Frontiers in Genetics 12 (2021): 501."
   ]
  }
 ],
 "metadata": {
  "kernelspec": {
   "display_name": "Python 3",
   "language": "python",
   "name": "python3"
  },
  "language_info": {
   "codemirror_mode": {
    "name": "ipython",
    "version": 3
   },
   "file_extension": ".py",
   "mimetype": "text/x-python",
   "name": "python",
   "nbconvert_exporter": "python",
   "pygments_lexer": "ipython3",
   "version": "3.9.7"
  }
 },
 "nbformat": 4,
 "nbformat_minor": 4
}
