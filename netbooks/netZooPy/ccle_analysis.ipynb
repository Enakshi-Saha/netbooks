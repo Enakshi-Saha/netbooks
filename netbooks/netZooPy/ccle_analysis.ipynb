{
 "cells": [
  {
   "cell_type": "markdown",
   "metadata": {},
   "source": [
    "# Multiomic CCLE analysis using the Network Zoo\n",
    "Marouen Ben Guebila <sup>1</sup>\n",
    "\n",
    "<sup>1</sup> Harvard T.H. Chan School of Public Health, Boston, MA, USA."
   ]
  },
  {
   "cell_type": "markdown",
   "metadata": {},
   "source": [
    "# Introduction\n",
    "The Cancer Cell Line Encyclopedia (CCLE) has collected various omic data for more than a thousand cancer cell lines, representative of many lineages and tissue type. In this analysis, we will first use DRAGON to find associations between multiomic data types, and second, we will use PANDA-LIONESS-MONSTER to model a transition from primary to metastatic melanoma and identify drivers of this transition. \n",
    "# Import packages"
   ]
  },
  {
   "cell_type": "code",
   "execution_count": null,
   "metadata": {},
   "outputs": [],
   "source": [
    "import numpy as np\n",
    "from scipy.stats import skew\n",
    "import matplotlib.pyplot as plt\n",
    "import os\n",
    "import pandas as pd\n",
    "import seaborn as sns"
   ]
  },
  {
   "cell_type": "markdown",
   "metadata": {},
   "source": [
    "We set plotting parameters"
   ]
  },
  {
   "cell_type": "code",
   "execution_count": null,
   "metadata": {},
   "outputs": [],
   "source": [
    "imputationMissing='zero'\n",
    "plt.rcParams[\"font.family\"] = \"arial\""
   ]
  },
  {
   "cell_type": "markdown",
   "metadata": {},
   "source": [
    "Next, we define data path on netbooks server."
   ]
  },
  {
   "cell_type": "code",
   "execution_count": null,
   "metadata": {},
   "outputs": [],
   "source": [
    "ppath = '/opt/data/netZooPy/ccle/'"
   ]
  },
  {
   "cell_type": "markdown",
   "metadata": {},
   "source": [
    "Then, we define a set of functions to import and process CCLE data."
   ]
  },
  {
   "cell_type": "code",
   "execution_count": null,
   "metadata": {},
   "outputs": [],
   "source": [
    "def processdepdata(imputationMissing):\n",
    "    dep = pd.read_csv(ppath+'Achilles_gene_effect.csv', index_col=0)\n",
    "    if imputationMissing=='zero':\n",
    "        dep.replace(to_replace=np.nan, value=0, inplace=True)\n",
    "    return dep"
   ]
  },
  {
   "cell_type": "code",
   "execution_count": null,
   "metadata": {},
   "outputs": [],
   "source": [
    "def processmirnadata(imputationMissing,cellNames):\n",
    "    mirna=pd.read_csv(ppath+'CCLE_miRNA_20181103.gct',sep='\\t',comment='#',skiprows=2,index_col=1)\n",
    "    # remove unnecessary columns\n",
    "    mirna = mirna.iloc[:,1:]\n",
    "    # convert cell names to depmap IDs\n",
    "    mirna=convertToDepMap(mirna,cellNames)\n",
    "    mirna=mirna.transpose()\n",
    "    return mirna"
   ]
  },
  {
   "cell_type": "code",
   "execution_count": null,
   "metadata": {},
   "outputs": [],
   "source": [
    "def processDrugs(imputationMissing):\n",
    "    drugs=pd.read_csv(ppath+'primary-screen-replicate-collapsed-logfold-change.csv',index_col=0)\n",
    "    drugMeta=pd.read_csv(ppath+'primary-screen-replicate-collapsed-treatment-info.csv')\n",
    "    # remove failed drug experiments\n",
    "    keepind=[]\n",
    "    for i in range(drugs.shape[0]):\n",
    "        if len(drugs.index[i].split('_')) == 1:\n",
    "            keepind.append(i)\n",
    "    #filter drug df\n",
    "    drugs=drugs.iloc[keepind,:]\n",
    "    #change drug name\n",
    "    xy, x_ind, y_ind = np.intersect1d(drugs.columns,drugMeta.loc[:,'column_name'], return_indices=True)\n",
    "    #first reorganize df by intersection\n",
    "    drugs=drugs.iloc[:,x_ind]\n",
    "    #then map drug names\n",
    "    drugs.columns=drugMeta.loc[y_ind,'name']\n",
    "    if imputationMissing=='zero':\n",
    "        drugs.replace(to_replace=np.nan, value=0, inplace=True)\n",
    "    return drugs"
   ]
  },
  {
   "cell_type": "code",
   "execution_count": null,
   "metadata": {},
   "outputs": [],
   "source": [
    "def processPPI(imputationMissing,cellNames):\n",
    "    ppi = pd.read_csv(ppath+'Table_S2_Protein_Quant_Normalized.csv')\n",
    "    # remove extra columns manually\n",
    "    ppi=ppi.iloc[:,:426]\n",
    "    # Keep SW948_LARGE_INTESTINE_TenPx20, CAL120_BREAST_TenPx28, and HCT15_LARGE_INTESTINE_TenPx18\n",
    "    # according to https://www.biorxiv.org/content/10.1101/2020.02.03.932384v1\n",
    "    swintestine=[i for i,item in enumerate(ppi.columns) if \"SW948_LARGE_INTESTINE\" in item] #132\n",
    "    calbreast=[i for i,item in enumerate(ppi.columns) if \"CAL120_BREAST\" in item] #64\n",
    "    hctintestine=[i for i,item in enumerate(ppi.columns) if \"HCT15_LARGE_INTESTINE\" in item] #338\n",
    "    ppi= ppi.drop(labels=ppi.columns[[132,64,338]],axis=1)\n",
    "    # remove more metadata columns\n",
    "    ppiindex=ppi.iloc[:,1]\n",
    "    ppi=ppi.iloc[:,49:]\n",
    "    ppi.index=ppiindex\n",
    "    if imputationMissing=='zero':\n",
    "        ppi=ppi.fillna(0)\n",
    "    # rename columns\n",
    "    newColumns=[]\n",
    "    for i in range(len(ppi.columns)):\n",
    "        newColumns.append('_'.join(str.split(ppi.columns[i],'_')[0:2]))\n",
    "    ppi.columns=newColumns\n",
    "    # remove nan entries in index\n",
    "    ppi = ppi.loc[ppi.index.dropna()]\n",
    "    ppi = convertToDepMap(ppi, cellNames)\n",
    "    ppi = ppi.transpose()\n",
    "    return ppi"
   ]
  },
  {
   "cell_type": "code",
   "execution_count": null,
   "metadata": {},
   "outputs": [],
   "source": [
    "def processmetabolism():\n",
    "    metabolism = pd.read_csv(ppath+'CCLE_metabolomics_20190502.csv', index_col=1)\n",
    "    # remove extra column in metabolism\n",
    "    # manually remove nan row\n",
    "    metabolism = metabolism.iloc[:, 1:]\n",
    "    metabolism = metabolism.loc[metabolism.index.dropna()]\n",
    "    return metabolism"
   ]
  },
  {
   "cell_type": "markdown",
   "metadata": {},
   "source": [
    "# 1. DRAGON multiomic CCLE network\n",
    "First, we load the metadata."
   ]
  },
  {
   "cell_type": "code",
   "execution_count": null,
   "metadata": {},
   "outputs": [],
   "source": [
    "cellNames=pd.read_csv(ppath+'sample_info.csv')\n",
    "drugMeta=pd.read_csv(ppath+'primary-screen-replicate-collapsed-treatment-info.csv')"
   ]
  },
  {
   "cell_type": "markdown",
   "metadata": {},
   "source": [
    "## 1.1. Correlations between miRNA and gene dependency"
   ]
  },
  {
   "cell_type": "markdown",
   "metadata": {},
   "source": [
    "We compute correlations between miRNA levels and gene dependency."
   ]
  },
  {
   "cell_type": "code",
   "execution_count": null,
   "metadata": {},
   "outputs": [],
   "source": [
    "def estimatemirnadep(imputationMissing,cellNames):\n",
    "    dep = processdepdata(imputationMissing)\n",
    "    mirna=processmirnadata(imputationMissing,cellNames)\n",
    "    # align dataframes\n",
    "    dep,mirna=alignDF(dep,mirna)\n",
    "    # Call DRAGON\n",
    "    mirnaMat     = mirna.values\n",
    "    depMat       = dep.values\n",
    "    # Transpose and scale arrays (do not transpose expression)\n",
    "    mirnaMat     = Scale(mirnaMat)\n",
    "    depMat       = Scale(depMat)\n",
    "    # Estimate lambdas\n",
    "    r_mir_dep, adj_p_vals_mir_dep, p_vals_mir_dep=estimateDragonValues(mirnaMat, depMat, pval=False)\n",
    "    # edge format top 5k and bottom 5k edges\n",
    "    mir_dep_edges = createVisNet(mirna, dep, r_mir_dep, 'mir', 'dep', nedges=0)\n",
    "    return mir_dep_edges"
   ]
  },
  {
   "cell_type": "code",
   "execution_count": null,
   "metadata": {},
   "outputs": [],
   "source": [
    "mir_dep_edges=estimatemirnadep(imputationMissing,cellNames)\n",
    "sortedarray = np.sort(mir_dep_edges.stack().values)[::-1]\n",
    "#indsort = np.argwhere(np.abs(sortedarray) > 0.003)\n",
    "plt.plot(sortedarray,'o',mfc='none', alpha=0.1, color='slategrey')\n",
    "plt.xticks([])\n",
    "plt.savefig('/Users/mab8354/netzoopap/figures/figure2/figure2a.png',format='png',dpi=1200)\n",
    "\n",
    "c=np.argsort(mir_dep_edges.values, axis=None)#small to large\n",
    "tdindices=np.unravel_index(c, mir_dep_edges.shape)\n",
    "numindex=tdindices[0][2]\n",
    "numcol=tdindices[1][2]\n",
    "print(mir_dep_edges.iloc[numindex,numcol])\n",
    "print(mir_dep_edges.index[numindex])\n",
    "print(mir_dep_edges.columns[numcol])\n",
    "#for -1:-1 http://mirdb.org/cgi-bin/search.cgi\n",
    "#for 0:0\n",
    "# mirdb: http://mirdb.org/cgi-bin/search.cgi?searchType=miRNA&searchBox=hsa-miR-664a-3p&full=1\n",
    "# targetscan: http://www.targetscan.org/cgi-bin/targetscan/vert_71/targetscan.cgi?mirg=hsa-miR-664a-3p"
   ]
  },
  {
   "cell_type": "markdown",
   "metadata": {},
   "source": [
    "## 1.2. Correlations between drug cell viability and gene dependency\n",
    "We compute DRAGON partial correlations between drug cell viability and gene dependency."
   ]
  },
  {
   "cell_type": "code",
   "execution_count": null,
   "metadata": {},
   "outputs": [],
   "source": [
    "def estimatedepdrug(imputationMissing):\n",
    "    print('Dep-Drug')\n",
    "    # Read proteins and drugs\n",
    "    dep  = processdepdata(imputationMissing)\n",
    "    drugs= processDrugs(imputationMissing)\n",
    "    # align dfs\n",
    "    dep,drugs=alignDF(dep,drugs)\n",
    "    # Call DRAGON\n",
    "    depMat       = dep.values\n",
    "    drugsMat     = drugs.values\n",
    "    # Transpose and scale arrays (do not transpose expression)\n",
    "    depMat       = Scale(depMat) #replace by dragon.scale\n",
    "    drugsMat     = Scale(drugsMat)\n",
    "    # Estimate lambdas\n",
    "    r_dep_drugs, adj_p_vals_dep_drugs, p_vals_dep_drugs=estimateDragonValues(depMat, drugsMat)\n",
    "    # edge format top 5k and bottom 5k edges\n",
    "    dep_drugs_edges=createVisNet(dep, drugs, r_dep_drugs,'dep','drugs',nedges=0)\n",
    "    return dep_drugs_edges"
   ]
  },
  {
   "cell_type": "code",
   "execution_count": null,
   "metadata": {},
   "outputs": [],
   "source": [
    "\n",
    "dep_drugs_edges = estimatedepdrug(imputationMissing)\n",
    "\n",
    "oncdep_drugs_edges=dep_drugs_edges[oncdrugindex]\n",
    "oncdep_drugs_edges['dabrafenib'].sort_values()[-20:]\n",
    "oncdep_drugs_edges['gemcitabine'].sort_values()[-20:]\n",
    "oncdep_drugs_edges['trametinib'].sort_values()[-20:]#interesting RAF, EGFR, kRAS\n",
    "oncdep_drugs_edges['irinotecan'].sort_values()[-20:]\n",
    "oncdep_drugs_edges['vinblastine'].sort_values()[-20:]\n",
    "oncdep_drugs_edges['topotecan'].sort_values()[-20:]\n",
    "oncdep_drugs_edges['methotrexate'].iloc[:,0].sort_values()[-20:]\n",
    "oncdep_drugs_edges['methotrexate'].iloc[:,1].sort_values()[-20:]\n",
    "oncdep_drugs_edges['methotrexate'].iloc[:,2].sort_values()[-20:]\n",
    "oncdep_drugs_edges['methotrexate'].iloc[:,3].sort_values()[-20:]\n",
    "#dep_drugs_edges['ceritinib'].sort_values()[-20:]\n",
    "flierprops = dict(markerfacecolor='0.75', markersize=5,\n",
    "              linestyle='none',marker='o')\n",
    "sns_plot = sns.boxplot(oncdep_drugs_edges['dabrafenib'], orient='v',width=.6,flierprops=flierprops)\n",
    "plt.savefig('/Users/mab8354/netzoopap/figures/figure2/figure2c.eps',format='eps')"
   ]
  },
  {
   "cell_type": "markdown",
   "metadata": {},
   "source": [
    "## 1.3. Correlations between LDH protein levels and metabolite levels\n",
    "We compute correlations between LDH proteins levels and metabolite levels."
   ]
  },
  {
   "cell_type": "code",
   "execution_count": null,
   "metadata": {},
   "outputs": [],
   "source": [
    "def estimateprotmet(cellNames):\n",
    "    # IV. Protein-metabolome\n",
    "    print('Prot-met')\n",
    "    # Read proteins and metabolism\n",
    "    ppi        = processPPI(imputationMissing,cellNames)\n",
    "    metabolism = processmetabolism()\n",
    "    # align dataframes\n",
    "    metabolism, ppi = alignDF(metabolism, ppi)\n",
    "    # Call DRAGON\n",
    "    ppiMat        = ppi.values\n",
    "    metabolismMat = metabolism.values\n",
    "    # Transpose and scale arrays (do not transpose expression)\n",
    "    ppiMat        = Scale(ppiMat)  # replace by dragon.scale\n",
    "    metabolismMat = Scale(metabolismMat)\n",
    "    # Estimate lambdas\n",
    "    r_ppi_met, adj_p_vals_ppi_met, p_vals_ppi_met = estimateDragonValues(ppiMat, metabolismMat)\n",
    "    # edge format top 5k and bottom 5k edges\n",
    "    ppi_met_edges = createVisNet(ppi, metabolism, r_ppi_met, 'prot', 'met',nedges=0)\n",
    "    return ppi_met_edges"
   ]
  },
  {
   "cell_type": "code",
   "execution_count": null,
   "metadata": {},
   "outputs": [],
   "source": [
    "ppi_met_edges=estimateprotmet(cellNames)\n",
    "c=ppi_met_edges.loc['LDHA',].sort_values()\n",
    "d=ppi_met_edges.loc['LDHB',].sort_values()\n",
    "##warburg effect: neg corr g3p, PEP with LDHA and low corr with fumarate/maleate shows that TCA is not used\n",
    "sns_plot = sns.swarmplot([Scale(c.values),Scale(d.values], orient='v')\n",
    "plt.savefig('/Users/mab8354/netzoopap/figures/figure3/figure3_ldha_ldhb.eps',format='eps')\n",
    "\n",
    "f = {'LDHA': c.values, 'LDHB': d.values}\n",
    "dff=pd.DataFrame(data=f)\n",
    "sns_plot = sns.swarmplot(data=Scale(dff), orient='v')\n",
    "\n",
    "##warburg effect: neg corr g3p, PEP with LDHA and low corr with fumarate/maleate shows that TCA is not used\n",
    "plt.savefig('/Users/mab8354/netzoopap/figures/figure3/figure3_ldha_ldhb.eps',format='eps')\n",
    "\n",
    "np.where(d.index=='lactate')\n",
    "ll=np.zeros(225)\n",
    "ll[156]=1\n",
    "f = {'LDHA': c.values, 'LDHB': d.values, 'lactate':ll}\n",
    "dff=pd.DataFrame(data=f)\n",
    "sns_plot = sns.swarmplot(data=Scale(dff), y='LDHB', x=np.ones(len(dff)), hue=\"lactate\")\n",
    "\n",
    "ddd[0]=[3.7052299080735225e-05]"
   ]
  },
  {
   "cell_type": "markdown",
   "metadata": {},
   "source": [
    "## 1.4. Correlations between TF targeting scores and metabolite levels\n",
    "We first load TF and gene targeting scores for all CCLE cell lines."
   ]
  },
  {
   "cell_type": "code",
   "execution_count": null,
   "metadata": {},
   "outputs": [],
   "source": [
    "genetar = pd.read_csv(ppath+'CCLE_genetar.csv',index_col=0)\n",
    "tftar   = pd.read_csv(ppath+'CCLE_tftar.csv',index_col=0)"
   ]
  },
  {
   "cell_type": "markdown",
   "metadata": {},
   "source": [
    "We compute correlations between TF targeting scores and metabolite levels."
   ]
  },
  {
   "cell_type": "code",
   "execution_count": null,
   "metadata": {},
   "outputs": [],
   "source": [
    "def estimatetftarmet(cellNames, tftar):\n",
    "    print('tftar-met')\n",
    "    tftar=tftar.transpose()\n",
    "    # Read proteins and metabolism\n",
    "    metabolism = processmetabolism()\n",
    "    # align dataframes\n",
    "    metabolism, tftar = alignDF(metabolism, tftar)\n",
    "    # Call DRAGON\n",
    "    tftarMat        = tftar.values\n",
    "    metabolismMat   = metabolism.values\n",
    "    # Transpose and scale arrays (do not transpose expression)\n",
    "    tftarMat        = Scale(tftarMat)  # replace by dragon.scale\n",
    "    metabolismMat = Scale(metabolismMat)\n",
    "    # Estimate lambdas\n",
    "    r_tftar_met, adj_p_vals_tftar_met, p_vals_tftar_met = estimateDragonValues(tftarMat, metabolismMat)\n",
    "    # edge format top 5k and bottom 5k edges\n",
    "    tftar_met_edges = createVisNet(tftar, metabolism, r_tftar_met, 'tftar', 'met',nedges=0)\n",
    "    return tftar_met_edges"
   ]
  },
  {
   "cell_type": "code",
   "execution_count": null,
   "metadata": {},
   "outputs": [],
   "source": [
    "tftar_met_edges = estimatetftarmet(cellNames, tftar)\n",
    "c=tftar_met_edges['2-hydroxyglutarate'].sort_values()\n",
    "sns_plot = sns.boxplot(data=Scale(c.values))\n",
    "plt.savefig('/Users/mab8354/netzoopap/figures/figure3/figure3_oncomet.eps',format='eps')"
   ]
  },
  {
   "cell_type": "markdown",
   "metadata": {},
   "source": [
    "# 2. MONSTER transition analysis in melanoma"
   ]
  },
  {
   "cell_type": "code",
   "execution_count": null,
   "metadata": {},
   "outputs": [],
   "source": []
  }
 ],
 "metadata": {
  "kernelspec": {
   "display_name": "Python 3",
   "language": "python",
   "name": "python3"
  },
  "language_info": {
   "codemirror_mode": {
    "name": "ipython",
    "version": 3
   },
   "file_extension": ".py",
   "mimetype": "text/x-python",
   "name": "python",
   "nbconvert_exporter": "python",
   "pygments_lexer": "ipython3",
   "version": "3.9.7"
  }
 },
 "nbformat": 4,
 "nbformat_minor": 4
}
