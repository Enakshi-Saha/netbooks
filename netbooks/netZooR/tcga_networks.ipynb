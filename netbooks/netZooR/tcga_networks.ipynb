{
 "cells": [
  {
   "cell_type": "markdown",
   "metadata": {},
   "source": [
    "# Generating 26 cancer gene regulatory network using TCGA datasets\n",
    "Authors: Camila Lopes-Ramos<sup>1</sup>\n",
    "\n",
    "<sup>1</sup> Department of Biostatistics, Harvard T.H. Chan School of Public Health, Boston, MA.\n",
    "\n",
    "## Introduction\n",
    "\n",
    "In this tutorial, we will generate 26 cancer gene regulatory networks using PANDA<sup>1</sup> from TCGA gene expression data. First, we need to normalize gene expression data accounting for batch effects using smooth quantile normalization (qsmooth)<sup>2</sup>, then we will call PANDA by using gene expression for each tissue as input along with TF PPI from StringDB<sup>3</sup>, and a motif prior network using TF motifs from CIS-BP ran on promoter regions of target genes using FIMO<sup>4</sup>.\n",
    "\n",
    "The generated networks are available in the cancer catalog of [GRAND](https://grand.networkmedicine.org/) database."
   ]
  },
  {
   "cell_type": "code",
   "execution_count": null,
   "metadata": {},
   "outputs": [],
   "source": [
    "library(Biobase)\n",
    "library(qsmooth)# for quantile normalization\n",
    "library(netZooR) # for GRN reconstruction using PANDA"
   ]
  },
  {
   "cell_type": "markdown",
   "metadata": {},
   "source": [
    "## 1. Normalize gene expression data using qsmooth\n",
    "This script normalizes the raw counts by qsmooth<sup>2</sup>, log2 transform and save one expression file for each of 26 cancer types"
   ]
  },
  {
   "cell_type": "code",
   "execution_count": null,
   "metadata": {},
   "outputs": [],
   "source": [
    "load(\"/opt/data/netZooR/tcganets/rnaseq_tumor_clin2019_06_26.rdata\")"
   ]
  },
  {
   "cell_type": "markdown",
   "metadata": {},
   "source": [
    "Qsmooth normalization"
   ]
  },
  {
   "cell_type": "code",
   "execution_count": null,
   "metadata": {},
   "outputs": [],
   "source": [
    "counts <- exprs(obj2)\n",
    "qsmooth1 <- qsmooth(object = counts, group_factor = pData(obj2)$tumorID)\n",
    "qs <- qsmoothData(qsmooth1)\n",
    "exp <- log2(qs+1)"
   ]
  },
  {
   "cell_type": "markdown",
   "metadata": {},
   "source": [
    "Save clinical and expression files for each tumor type (log2 transformed)"
   ]
  },
  {
   "cell_type": "code",
   "execution_count": null,
   "metadata": {},
   "outputs": [],
   "source": [
    "cancer <- unique(pData(obj2)$tumorID)\n",
    "for(i in 1:length(cancer)){\n",
    "  k <- which(pData(obj2)$tumorID == cancer[i])\n",
    "  exp1 <- exp[,k]\n",
    "  clin <- pData(obj2)[k,]\n",
    "  d <- ifelse(is.na(clin$days_to_last_followup), yes=clin$last_contact_days_to, no=clin$days_to_last_followup)\n",
    "  clin$days_to_last_followup <- d\n",
    "  j <- c(\"age_at_initial_pathologic_diagnosis\", \"gender\", \"race\", \"ajcc_pathologic_tumor_stage\", \"days_to_last_followup\", \"vital_status\", \"tumorID\")\n",
    "  clin1 <- clin[,which(colnames(clin) %in% j)]\n",
    "  \n",
    "  write.table(exp1, file=paste0(\"expression/expression_tcga_\", cancer[i],\".txt\"),sep=\"\\t\",quote=F)\n",
    "  write.table(clin1,file=paste0(\"phenotypic/pheno_tcga_\", cancer[i],\".txt\"),sep=\"\\t\",quote=F)\n",
    "}"
   ]
  },
  {
   "cell_type": "markdown",
   "metadata": {},
   "source": [
    "## 2. Gene regulatory network reconstruction\n",
    "Now, we will generate 26 cancer networks using the data processed above and PANDA<sup>1</sup> as implemented in [netZooR](netzoo.github.io) v0.9."
   ]
  },
  {
   "cell_type": "code",
   "execution_count": null,
   "metadata": {},
   "outputs": [],
   "source": [
    "for (cancer in c(\"ACC\",\"BLCA\",\"CHOL\",\"COAD\",\"DLBC\",\"ESCA\",\"GBM\",\"HNSC\",\"KICH\",\"KIRC\",\"KIRP\",\"LAML\",\"LGG\",\"LIHC\",\"LUAD\",\"LUSC\",\"MESO\",\"PAAD\",\"PCPG\",\"READ\",\"SARC\",\"SKCM\",\"STAD\",\"THCA\",\"THYM\",\"UVM\")){\n",
    "  exp <- read.delim(paste0(\"expression/expression_tcga_\",cancer,\".txt\"), check.names = FALSE)\n",
    "  ppi <- read.delim(\"prior/ppi.txt\",stringsAsFactors=F,header=F)\n",
    "  motif <- read.delim(\"prior/motif.txt\",stringsAsFactors=F,header=F)\n",
    "  \n",
    "  \n",
    "  panda_results <- panda(motif,exp, ppi, mode=\"intersection\")\n",
    "  write.csv(panda_results@regNet, file=paste0(\"network/panda_\", cancer, \".csv\"), quote=F)\n",
    "}"
   ]
  },
  {
   "cell_type": "markdown",
   "metadata": {},
   "source": [
    "## References\n",
    "1 - Glass, Kimberly, et al. \"Passing messages between biological networks to refine predicted interactions.\" PloS one 8.5 (2013): e64832.\n",
    "\n",
    "2 - Hicks, Stephanie C., et al. \"Smooth quantile normalization.\" Biostatistics 19.2 (2018): 185-198.\n",
    "\n",
    "3 - Szklarczyk, Damian, et al. \"The STRING database in 2017: quality-controlled protein–protein association networks, made broadly accessible.\" Nucleic acids research (2016): gkw937.\n",
    "\n",
    "4 - Weirauch, Matthew T., et al. \"Determination and inference of eukaryotic transcription factor sequence specificity.\" Cell 158.6 (2014): 1431-1443."
   ]
  }
 ],
 "metadata": {
  "kernelspec": {
   "display_name": "R",
   "language": "R",
   "name": "ir"
  },
  "language_info": {
   "codemirror_mode": "r",
   "file_extension": ".r",
   "mimetype": "text/x-r-source",
   "name": "R",
   "pygments_lexer": "r",
   "version": "4.0.3"
  }
 },
 "nbformat": 4,
 "nbformat_minor": 4
}
