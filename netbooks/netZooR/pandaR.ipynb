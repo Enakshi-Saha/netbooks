{
 "cells": [
  {
   "cell_type": "markdown",
   "metadata": {},
   "source": [
    "# An Introduction to the pandaR Package\n",
    "Author: Daniel Schlauch, Albert Young, Joseph N. Paulson<sup>1</sup>\n",
    "\n",
    "<sup>1</sup> Department of Biostatistics, Harvard T.H. Chan School of Public Health, Boston, MA."
   ]
  },
  {
   "cell_type": "markdown",
   "metadata": {
    "lines_to_next_cell": 0
   },
   "source": [
    "\n",
    "## Introduction\n",
    "The fundamental concepts behind the PANDA approach is to model the regulatory network as a bipartite network and estimate edge weights based on the evidence that information from a particular transcription factor *i* is successfully being passed to a particular gene *j*. This evidence comes from the agreement between two measured quantities. First, the correlation in expression between gene *j* and other genes. And second, the strength of evidence of the existence of an edge between TF *i* and those same genes. This concordance is measured using Tanimoto similarity. A gene is said to be available if there is strong evidence of this type of agreement. Analogous to this is the concept of responsibility which similarly focuses on a TF-gene network edge but instead measures the concordance between suspected protein-complex partners of TF *i* and the respective strength of evidence of a regulatory pathway between those TFs and gene *j*.\n",
    "\n",
    " PANDA utilizes an iterative approach to updating the bipartite edge weights incrementally as evidence for new edges emerges and evidence for existing edges diminishes. This process continues until the algorithm reaches a point of convergence settling on a final score for the strength of information supporting a regulatory mechanism for every pairwise combination of TFs and genes. This package provides a straightforward tool for applying this established method. Beginning with data.frames or matrices representing a set of gene expression samples, motif priors and optional protein-protein interaction users can generate an *m* by *n* matrix representing the bipartite network from *m* TFs regulating *n* genes. Additionally, pandaR reports the co-regulation and cooperative networks at convergence. These are reported as complete graphs representing the evidence for gene co-regulation and transcription factor cooperation.\n",
    " \n",
    "## Example\n",
    "An example dataset derived from a subset of stress-induced Yeast is available by running"
   ]
  },
  {
   "cell_type": "code",
   "execution_count": null,
   "metadata": {},
   "outputs": [],
   "source": [
    "library(netZooR)\n",
    "library(pandaR)\n",
    "data(pandaToyData)"
   ]
  },
  {
   "cell_type": "markdown",
   "metadata": {},
   "source": [
    " **pandaToyData** is a list containing a regulatory structure derived from sequence motif analysis, protein-protein interaction data and a gene expression.\n",
    "The primary function in pandaR is called with"
   ]
  },
  {
   "cell_type": "code",
   "execution_count": null,
   "metadata": {},
   "outputs": [],
   "source": [
    "pandaResult <- panda(pandaToyData$motif, pandaToyData$expression, pandaToyData$ppi)\n",
    "pandaResult"
   ]
  },
  {
   "cell_type": "markdown",
   "metadata": {},
   "source": [
    "Where **pandaResult** is a 'panda' object which contains **data.frame**s describing the complete bipartite gene regulatory network as well as complete networks for gene coregulation and transcription factor cooperation.  Due to completeness, edgeweights for the regulatory network are reported for all *m*x*n* possible TF-gene edges.  The distribution of these edge weights for these networks has approximate mean 0 and standard deviation 1.  The edges are therefore best interpreted in a relative sense.  Strongly positive values indicative of relatively larger amounts of evidence in favor a regulatory mechanism and conversely, smaller or negative values can be interpreted as lacking evidence of a shared biological role.  It is naturally of interest to specify a high edge weight subset of the complete network to investigate as a set of present/absent edges.\n",
    "This is easily performed by using the **topedges** function.\n",
    "A network containing the top 1000 edge scores as binary edges can be obtained by:"
   ]
  },
  {
   "cell_type": "code",
   "execution_count": null,
   "metadata": {
    "lines_to_next_cell": 0
   },
   "outputs": [],
   "source": [
    "topNet <- topedges(pandaResult, 1000)"
   ]
  },
  {
   "cell_type": "markdown",
   "metadata": {
    "lines_to_next_cell": 0
   },
   "source": [
    "Users may then examine the genes targeted by a transcription factor of interest."
   ]
  },
  {
   "cell_type": "code",
   "execution_count": null,
   "metadata": {
    "lines_to_next_cell": 0
   },
   "outputs": [],
   "source": [
    "targetedGenes(topNet, c(\"AR\"))"
   ]
  },
  {
   "cell_type": "markdown",
   "metadata": {
    "lines_to_next_cell": 0
   },
   "source": [
    "The network can be further simplified by focusing only on transcription factors on interest and the genes that they are found to regulate.  The **subnetwork** method serves this function"
   ]
  },
  {
   "cell_type": "code",
   "execution_count": null,
   "metadata": {
    "lines_to_next_cell": 0
   },
   "outputs": [],
   "source": [
    "topSubnet <- subnetwork(topNet, c(\"AR\",\"ARID3A\",\"ELK1\"))"
   ]
  },
  {
   "cell_type": "markdown",
   "metadata": {
    "lines_to_next_cell": 0
   },
   "source": [
    "Existing R packages, such as igraph, can be used to visualize the results"
   ]
  },
  {
   "cell_type": "code",
   "execution_count": null,
   "metadata": {},
   "outputs": [],
   "source": [
    "plotGraph(topSubnet)"
   ]
  },
  {
   "cell_type": "markdown",
   "metadata": {
    "lines_to_next_cell": 0
   },
   "source": [
    "## Comparing state-specific PANDA networks\n",
    "\n",
    "We provide a number of useful plotting functions for the analysis of the networks. The main functions used to plot and analyze\n",
    "the PANDA networks are: \n",
    "\n",
    "* *plotZ* -Comparison of Z scores between two PANDA runs\n",
    "* *plotZbyTF* - Plot Z by TF outdegree quartiles\n",
    "\n",
    "We can compare how parameter choices effect the Z-score estimation between two PANDA runs. Additionally, we can compare two phenotypes:"
   ]
  },
  {
   "cell_type": "code",
   "execution_count": null,
   "metadata": {
    "name": "plotZ"
   },
   "outputs": [],
   "source": [
    "panda.res1 <- with(pandaToyData, panda(motif, expression, ppi, hamming=1))\n",
    "panda.res2 <- with(pandaToyData, panda(motif, expression + \n",
    "                   rnorm(prod(dim(expression)),sd=5), ppi, hamming=1))\n",
    "plotZ(panda.res1, panda.res2,addLine=FALSE)"
   ]
  },
  {
   "cell_type": "markdown",
   "metadata": {},
   "source": [
    "Other comparisons are underway...\n",
    "\n",
    "## Other helpful functions\n",
    "\n",
    "There are a host of other helpful functions, including *testMotif*, *plotCommunityDetection*, and *multiplot*. See the full help pages.\n",
    "\n",
    "##References\n",
    "\n",
    "Glass K, Huttenhower C, Quackenbush J, Yuan GC. Passing Messages Between Biological Networks to Refine Predicted Interactions, *PLoS One*, 2013 May 31;8(5):e64832\n",
    "\n",
    "Glass K, Quackenbush J, Silverman EK, Celli B, Rennard S, Yuan GC and DeMeo DL. Sexually-dimorphic targeting of functionally-related genes in COPD, *BMC Systems Biology*, 2014 Nov 28; **8**:118\n"
   ]
  }
 ],
 "metadata": {
  "jupytext": {
   "cell_metadata_filter": "name,-all",
   "main_language": "R",
   "notebook_metadata_filter": "-all"
  },
  "kernelspec": {
   "display_name": "R",
   "language": "R",
   "name": "ir"
  },
  "language_info": {
   "codemirror_mode": "r",
   "file_extension": ".r",
   "mimetype": "text/x-r-source",
   "name": "R",
   "pygments_lexer": "r",
   "version": "3.6.2"
  }
 },
 "nbformat": 4,
 "nbformat_minor": 4
}
