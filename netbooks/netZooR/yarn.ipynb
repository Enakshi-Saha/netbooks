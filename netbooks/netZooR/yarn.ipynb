{
 "cells": [
  {
   "cell_type": "markdown",
   "metadata": {},
   "source": [
    "# YARN: Robust Multi-Tissue RNA-Seq Preprocessing and Normalization\n",
    "Author: Joseph N. Paulson<sup>1</sup>, John Quackenbush<sup>1</sup>\n",
    "\n",
    "<sup>1</sup> Harvard T.H. Chan School of Public Health, Boston, MA, USA"
   ]
  },
  {
   "cell_type": "markdown",
   "metadata": {},
   "source": [
    "# 1. YARN - Yet Another RNa-seq package\n",
    "\n",
    "The goal of yarn<sup>1</sup> is to expedite large RNA-seq analyses using a combination of previously developed tools. Yarn is meant to make it easier for the user to perform accurate comparison of conditions by leveraging many Bioconductor tools and various statistical and normalization techniques while accounting for the large heterogeneity and sparsity found in very large RNA-seq experiments.\n",
    "\n",
    "## Installation\n",
    "\n",
    "You can install yarn from github through the netZoo package with:\n",
    "\n",
    "```R\n",
    "remotes::install_github(\"netZoo/netZooR\", build_vignettes = FALSE)\n",
    "```\n",
    "Then, we can load the libraries as follows:"
   ]
  },
  {
   "cell_type": "code",
   "execution_count": null,
   "metadata": {},
   "outputs": [],
   "source": [
    "library(yarn)         # To load yarn\n",
    "library(RColorBrewer) # To plot the heatmap"
   ]
  },
  {
   "cell_type": "markdown",
   "metadata": {},
   "source": [
    "## Quick Introduction\n",
    "\n",
    "If you're here to grab the GTEx version 6.0 data then look no further than this \n",
    "[gist](https://gist.github.com/jnpaulson/8c2ccfb0185dc490ff72e51aef86678c) that uses yarn to download all the data and preprocess it for you.\n",
    "\n",
    "# 2. Preprocessing\n",
    "\n",
    "Below are a few of the functions we can use to preprocess a large RNA-seq experiment. We follow a particular procedure where we:\n",
    "\n",
    "1. Filter poor quality samples\n",
    "2. Merge samples of similar conditions for increased power\n",
    "3. Filter genes while preserving tissue or group specificity\n",
    "4. Normalize while accounting for global differences in tissue distribution\n",
    "\n",
    "We will make use of the `skin` dataset for examples. The `skin` dataset is a small sample of the full GTEx data that can be downloaded using the `downloadGTEx` function. First, we load the `skin` dataset"
   ]
  },
  {
   "cell_type": "code",
   "execution_count": null,
   "metadata": {},
   "outputs": [],
   "source": [
    "skin"
   ]
  },
  {
   "cell_type": "markdown",
   "metadata": {},
   "source": [
    "The `skin` dataset looks like this: "
   ]
  },
  {
   "cell_type": "code",
   "execution_count": null,
   "metadata": {
    "lines_to_next_cell": 0,
    "tags": [
     "remove_input",
     "remove_cell"
    ]
   },
   "outputs": [],
   "source": [
    "data(skin)"
   ]
  },
  {
   "cell_type": "markdown",
   "metadata": {
    "lines_to_next_cell": 0
   },
   "source": [
    "It has gene expression data for 40,824 genes across 20 samples from the GTEx project.\n",
    "This is a basic workflow. Details will be fleshed out: \n",
    "\n",
    "0. First always remember to have the library loaded.\n",
    "```R\n",
    "library(yarn)\n",
    "```\n",
    "\n",
    "1.  Download the GTEx gene count data as an ExpressionSet object or load the sample skin dataset.\n",
    "\n",
    "For computational reasons we load the sample skin data instead of having the user download the \n",
    "```R\n",
    "library(yarn)\n",
    "data(skin)\n",
    "```\n",
    "\n",
    "2. Check mis-annotation of gender or other phenotypes using group-specific genes. This function does dimension reduciton using MDS to find misannotated samples."
   ]
  },
  {
   "cell_type": "code",
   "execution_count": null,
   "metadata": {
    "name": "checkMisAnnotation"
   },
   "outputs": [],
   "source": [
    "checkMisAnnotation(skin,\"GENDER\",controlGenes=\"Y\",legendPosition=\"topleft\")"
   ]
  },
  {
   "cell_type": "markdown",
   "metadata": {
    "lines_to_next_cell": 0
   },
   "source": [
    "3. Decide what sub-groups should be merged"
   ]
  },
  {
   "cell_type": "code",
   "execution_count": null,
   "metadata": {
    "name": "checkTissuesToMerge"
   },
   "outputs": [],
   "source": [
    "checkTissuesToMerge(skin,\"SMTS\",\"SMTSD\")"
   ]
  },
  {
   "cell_type": "markdown",
   "metadata": {
    "lines_to_next_cell": 0
   },
   "source": [
    "4. Filter lowly expressed genes"
   ]
  },
  {
   "cell_type": "code",
   "execution_count": null,
   "metadata": {
    "name": "filterGenes"
   },
   "outputs": [],
   "source": [
    "skin_filtered = filterLowGenes(skin,\"SMTSD\")\n",
    "dim(skin)\n",
    "dim(skin_filtered)"
   ]
  },
  {
   "cell_type": "markdown",
   "metadata": {
    "lines_to_next_cell": 0
   },
   "source": [
    "Or group specific genes"
   ]
  },
  {
   "cell_type": "code",
   "execution_count": null,
   "metadata": {
    "name": "filter"
   },
   "outputs": [],
   "source": [
    "tmp = filterGenes(skin,labels=c(\"X\",\"Y\",\"MT\"),featureName = \"chromosome_name\")"
   ]
  },
  {
   "cell_type": "markdown",
   "metadata": {},
   "source": [
    "Instead of filtering, we can also keep only the genes with the input labeled. In this case, we only keep the sex names instead of filtering them"
   ]
  },
  {
   "cell_type": "code",
   "execution_count": null,
   "metadata": {},
   "outputs": [],
   "source": [
    "tmp = filterGenes(skin,labels=c(\"X\",\"Y\",\"MT\"),featureName = \"chromosome_name\",keepOnly=TRUE)"
   ]
  },
  {
   "cell_type": "markdown",
   "metadata": {
    "lines_to_next_cell": 0
   },
   "source": [
    "5. Normalize in a tissue or group-aware manner"
   ]
  },
  {
   "cell_type": "code",
   "execution_count": null,
   "metadata": {
    "name": "density"
   },
   "outputs": [],
   "source": [
    "plotDensity(skin_filtered,\"SMTSD\",main=expression('log'[2]*' raw expression'))\n",
    "skin_filtered = normalizeTissueAware(skin_filtered,\"SMTSD\")\n",
    "plotDensity(skin_filtered,\"SMTSD\",normalized=TRUE,main=\"Normalized\")"
   ]
  },
  {
   "cell_type": "markdown",
   "metadata": {},
   "source": [
    "The first plot shows the log2 normalization of raw expression, while the second one shows the tissue-aware normalization that is available in YARN."
   ]
  },
  {
   "cell_type": "markdown",
   "metadata": {
    "lines_to_next_cell": 0
   },
   "source": [
    "## Helper functions\n",
    "\n",
    "Other than `checkMisAnnotation` and `checkTissuesToMerge` we provide a few plotting function.\n",
    "We include, `plotCMDS`, `plotDensity`, `plotHeatmap`.\n",
    "\n",
    "`plotCMDS` - PCoA / Classical Multi-Dimensional Scaling of the most variable genes. "
   ]
  },
  {
   "cell_type": "code",
   "execution_count": null,
   "metadata": {},
   "outputs": [],
   "source": [
    "data(skin)\n",
    "res = plotCMDS(skin,pch=21,bg=factor(pData(skin)$SMTSD))"
   ]
  },
  {
   "cell_type": "markdown",
   "metadata": {
    "lines_to_next_cell": 0
   },
   "source": [
    "`plotDensity` - Density plots colored by phenotype of choosing. Allows for inspection of global trend differences."
   ]
  },
  {
   "cell_type": "code",
   "execution_count": null,
   "metadata": {},
   "outputs": [],
   "source": [
    "filtData = filterLowGenes(skin,\"SMTSD\")\n",
    "plotDensity(filtData,groups=\"SMTSD\",legendPos=\"topleft\")"
   ]
  },
  {
   "cell_type": "markdown",
   "metadata": {
    "lines_to_next_cell": 0
   },
   "source": [
    "`plotHeatmap` - Heatmap of the most variable genes."
   ]
  },
  {
   "cell_type": "code",
   "execution_count": null,
   "metadata": {},
   "outputs": [],
   "source": [
    "tissues = pData(skin)$SMTSD\n",
    "heatmapColColors=brewer.pal(12,\"Set3\")[as.integer(factor(tissues))]\n",
    "heatmapCols = colorRampPalette(brewer.pal(9, \"RdBu\"))(50)\n",
    "plotHeatmap(skin,normalized=FALSE,log=TRUE,trace=\"none\",n=10,\n",
    "col = heatmapCols,ColSideColors = heatmapColColors,cexRow = 0.25,cexCol = 0.25)"
   ]
  },
  {
   "cell_type": "markdown",
   "metadata": {},
   "source": [
    "## Information"
   ]
  },
  {
   "cell_type": "code",
   "execution_count": null,
   "metadata": {},
   "outputs": [],
   "source": [
    "sessionInfo()"
   ]
  },
  {
   "cell_type": "markdown",
   "metadata": {},
   "source": [
    "# References\n",
    "1- Paulson, Joseph N., et al. \"Tissue-aware RNA-Seq processing and normalization for heterogeneous and sparse data.\" BMC bioinformatics 18.1 (2017): 1-10."
   ]
  }
 ],
 "metadata": {
  "jupytext": {
   "cell_metadata_filter": "tags,name,-all",
   "main_language": "R",
   "notebook_metadata_filter": "-all"
  },
  "kernelspec": {
   "display_name": "R",
   "language": "R",
   "name": "ir"
  },
  "language_info": {
   "codemirror_mode": "r",
   "file_extension": ".r",
   "mimetype": "text/x-r-source",
   "name": "R",
   "pygments_lexer": "r",
   "version": "4.1.1"
  }
 },
 "nbformat": 4,
 "nbformat_minor": 4
}
