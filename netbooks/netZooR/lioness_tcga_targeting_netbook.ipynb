{
 "cells": [
  {
   "cell_type": "markdown",
   "metadata": {},
   "source": [
    "# Differential gene targeting of PDAC tumor subtypes\n",
    "Author: Deborah Weighill<sup>1</sup>, Marouen Ben Guebila<sup>1</sup>\n",
    "\n",
    "<sup>1</sup> Department of Biostatistics, Harvard T.H. Chan School of Public Health, Boston, MA."
   ]
  },
  {
   "cell_type": "markdown",
   "metadata": {
    "lines_to_next_cell": 0
   },
   "source": [
    "# Introduction\n",
    "\n",
    "Pancreatic ductal adenocarcinoma (PDAC)  is the fourth leading leading cause of cancer worldwide <sup>1</sup>, with few efficient therapeutic options. In fact, PDAC is a highly hetergenous disease, this is why one size fits all approach to treatment have provided limited success so far. Therefore, subtype identification is necessary to tailor therapeutic approaches to the specific molecular characteristic of disease progression in each patient.\n",
    "\n",
    "Recent work<sup>2,3</sup> has suggested novel subtypes in PDAC by the virtual dissection of the genomic markers. It has been suggested that gene expression could be an informative feature in classifying patients<sup>4</sup>. In addition, gene regulation could play a major role in the emergence of distinct phenotypes in PDAC. Therefore, modeling regulatory features in PDAC could provide a novel approach to stratify patients and provide tailored therapeutic apporaches.\n",
    "\n",
    "![https://www.pancreaticcancer.org.uk/information/just-diagnosed-with-pancreatic-cancer/types-of-pancreatic-cancer/](https://www.pancreaticcancer.org.uk/wp-content/uploads/2020/09/anatomy-of-pancreas-final-sept-2016-1-1024x676.jpg)\n",
    "\n",
    "In this analysis, we will study PDAC hetergenity by building gene regulatory networks using gene expression data from TCGA<sup>5</sup>. We will also use data provided by a novel classification approach<sup>3</sup> to startify patients by the classical and basal-like subtype. Finally, we will compute a network metric called the gene targeting score to identify differentially regulated genes between basal-like and classical subtypes.\n",
    "\n",
    "# Loading data and libraries\n",
    "\n",
    "## Loading the packages\n",
    "\n",
    "First, we need to install the [netZooR package](netzoo.github.io) that has the network analysis tools."
   ]
  },
  {
   "cell_type": "code",
   "execution_count": null,
   "metadata": {},
   "outputs": [],
   "source": [
    "# install.packages(\"devtools\") \n",
    "library(devtools)\n",
    "# install netZooR pkg with vignettes, otherwise remove the \"build_vignettes = TRUE\" argument.\n",
    "#devtools::install_github(\"netZoo/netZooR\", build_vignettes = TRUE)"
   ]
  },
  {
   "cell_type": "markdown",
   "metadata": {},
   "source": [
    "Then, we can load the packages that are needed for the analysis."
   ]
  },
  {
   "cell_type": "code",
   "execution_count": null,
   "metadata": {
    "lines_to_next_cell": 2,
    "message": false
   },
   "outputs": [],
   "source": [
    "library(netZooR) # to use network reconstruction methods PANDA and LIONESS\n",
    "library(recount)\n",
    "library(limma) # to compute differential targeting \n",
    "library(tidyr)\n",
    "library(data.table)\n",
    "library(reticulate) # to call Python functions\n",
    "#use_python(\"/home/ubuntu/.local/bin/venv/bin/python3\") # Please replace the path in the reticulate command use_python with you Python installation path."
   ]
  },
  {
   "cell_type": "markdown",
   "metadata": {
    "lines_to_next_cell": 0
   },
   "source": [
    "## Load gene expression data\n",
    "Now, let's load TCGA PDAC gene expression data, which was obtained from [recount2](https://jhubiostatistics.shinyapps.io/recount/)<sup>6</sup>. The recount project has processed all the publicly availble gene expression data using a uniform pipeline, which allows to control the variance between the studies and extract biological signal with minimal interference of effects due to the analysis method.\n",
    "\n",
    "First, we need to to normalize the counts to consider the coverage of all the samples using the Transcript Per Million method (TPM). This method takes into account sequencing depth and gene length to normalize gene expression<sup>7</sup>."
   ]
  },
  {
   "cell_type": "code",
   "execution_count": null,
   "metadata": {},
   "outputs": [],
   "source": [
    "# Load gene expression object downloaded from recount.\n",
    "load(\"/opt/data/tttutorial/rse_gene_pancreas.Rdata\")\n",
    "\n",
    "#convert to TPMs\n",
    "TPM <- getTPM(rse_gene, length_var = \"bp_length\", mapped_var = 'mapped_read_count')\n",
    "rownames(TPM)<-sub(\"\\\\.[0-9]*\",\"\", rownames(TPM))"
   ]
  },
  {
   "cell_type": "markdown",
   "metadata": {},
   "source": [
    "Then, we need to map TCGA ID to samples and further clean the metadata."
   ]
  },
  {
   "cell_type": "code",
   "execution_count": null,
   "metadata": {},
   "outputs": [],
   "source": [
    "#extract meta data and map RNA-seq file name to TCGA ID\n",
    "metadata <- rse_gene@colData\n",
    "metadata <- metadata[,c(\"gdc_cases.samples.portions.analytes.aliquots.submitter_id\",\"gdc_cases.demographic.gender\",\"gdc_cases.demographic.race\",\"gdc_cases.demographic.ethnicity\",\"gdc_cases.exposures.weight\",\"gdc_cases.exposures.height\",\"gdc_cases.project.primary_site\",\"gdc_cases.diagnoses.primary_diagnosis\",\"cgc_case_age_at_diagnosis\",\"gdc_cases.diagnoses.tumor_stage\",\"gdc_cases.diagnoses.days_to_death\",\"gdc_cases.diagnoses.vital_status\")]\n",
    "metadata$rnaseq_column <- rownames(metadata)\n",
    "metadata <- separate(data.frame(metadata), gdc_cases.samples.portions.analytes.aliquots.submitter_id, c(\"proj\", \"tss\", \"participant\", \"sample\",\"portion\",\"plate\",\"center\"), \"-\",remove = FALSE)\n",
    "metadata$sampletype <- as.numeric(substr(metadata$sample,1,2))\n",
    "colnames(TPM) <- metadata$gdc_cases.samples.portions.analytes.aliquots.submitter_id[match(colnames(TPM),metadata$rnaseq_column)]"
   ]
  },
  {
   "cell_type": "markdown",
   "metadata": {},
   "source": [
    "# Extract samples with subtypes\n",
    "\n",
    "TCGA includes samples taken from the site of tumor but also samples from the healthy tissues around the tumor. These samples are called adjacent normal samples and we need to process the data to remove them from our analysis.\n",
    "\n",
    "Using TCGA barcodes (see https://docs.gdc.cancer.gov/Encyclopedia/pages/TCGA_Barcode/), we extract only samples corresponding to tumor (i.e. removing adjacent normal tissue)."
   ]
  },
  {
   "cell_type": "code",
   "execution_count": null,
   "metadata": {},
   "outputs": [],
   "source": [
    "metadata$tumor <- ifelse(((metadata$sampletype >= 1) & (metadata$sampletype <= 9)),\"tumor\",\"non_tumor\")\n",
    "tumor_samples <- metadata$gdc_cases.samples.portions.analytes.aliquots.submitter_id[which(metadata$tumor == \"tumor\")]\n",
    "selected_samples_pdac <- TPM[,tumor_samples]"
   ]
  },
  {
   "cell_type": "markdown",
   "metadata": {},
   "source": [
    "Now we need to convert gene expression data into a data frame to be able to work with it in the network modeling step. Also, we need to annotate the columns and rows of the expression matrix."
   ]
  },
  {
   "cell_type": "code",
   "execution_count": null,
   "metadata": {
    "message": false
   },
   "outputs": [],
   "source": [
    "# load the data and parse the TCGA ids\n",
    "samples <- as.data.frame(tumor_samples)\n",
    "colnames(samples) <- \"sampleID\"\n",
    "samples <- separate(samples, sampleID, c(\"proj\", \"tss\", \"participant\",\"sample\",\"portion\",\"plate\",\"center\"), \"-\", remove = FALSE)\n",
    "samples$shorterID <- paste(samples[,2],samples[,3],samples[,4],samples[,5], sep = \"-\")\n",
    "colnames(selected_samples_pdac) <- samples$shorterID"
   ]
  },
  {
   "cell_type": "markdown",
   "metadata": {},
   "source": [
    "We now load the previously annotation file of the molecular subtypes of the samples, as determined in Moffit et al.<sup>3</sup>. We narrow down our samples to those assigned a subtype. In this example, we focus on genes which vary in their expression the most, and thus chose those with $std(logTPM) \\geq 0.4$. If one has access to enough memory and computational time, one can use the whole genome.\n",
    "\n",
    "First, we start by loading and exploring the subtype assignment file."
   ]
  },
  {
   "cell_type": "code",
   "execution_count": null,
   "metadata": {},
   "outputs": [],
   "source": [
    "sample_subtypes <- read.table(\"/opt/data/tttutorial/subtypes.txt\", header = FALSE)\n",
    "colnames(sample_subtypes) <- c(\"sample\",\"subtype\")\n",
    "head(sample_subtypes)"
   ]
  },
  {
   "cell_type": "markdown",
   "metadata": {},
   "source": [
    "Then, we filter the samples based on the criteria we specified earlier."
   ]
  },
  {
   "cell_type": "code",
   "execution_count": null,
   "metadata": {
    "lines_to_next_cell": 2,
    "message": false
   },
   "outputs": [],
   "source": [
    "subtype_samples <- as.vector(sample_subtypes$sample[which(!(is.na(sample_subtypes$subtype)))])\n",
    "tpms_selected_samples <- selected_samples_pdac[,subtype_samples]\n",
    "rowsums <- apply(data.matrix(tpms_selected_samples),MARGIN = 1, FUN = sum)\n",
    "tpms_selected_samples_genes <- tpms_selected_samples[names(which(rowsums != 0)),]\n",
    "logtpms_selected_samples_genes <- log10(data.matrix(tpms_selected_samples_genes))\n",
    "sdev <- apply(data.matrix(logtpms_selected_samples_genes),MARGIN = 1, FUN = sd)\n",
    "logtpms_selected_samples_genes_sd <- logtpms_selected_samples_genes[names(which(sdev >= 0.4)),]\n",
    "write.table(logtpms_selected_samples_genes_sd,file = \"pdac_expression_sd_log_04.txt\", row.names = TRUE, col.names = FALSE, quote=FALSE,sep = \"\\t\")"
   ]
  },
  {
   "cell_type": "markdown",
   "metadata": {
    "lines_to_next_cell": 0
   },
   "source": [
    "# Network analysis\n",
    "\n",
    "## Reconstruction of single-sample gene regulatory networks\n",
    "Now, we build an aggregate gene regulatory network for all the samples in the dataset using PANDA<sup>8</sup>. Then we dissect infer a single-sample network from the single-sample expression and the aggregate network using LIONESS<sup>9</sup>.\n",
    "\n",
    "These methods take as an input inputs three data types: the gene expression data from TCGA, a naive motif prior (generated from FIMO<sup>10</sup> scans of the human genome), and a protein-protein interaction network from STRINGdb<sup>11</sup>. The PPI and motif prior network were processed as in [Sonawane et al.](https://doi.org/10.1016/j.celrep.2017.10.001)<sup>12</sup>.\n",
    "\n",
    "We will call the `lioness.py` function here, which will call PANDA underneath the hood. This is a Python implementation that is called from R using the `reticulate` package, so make sure that Python path is correctly speicifed in the `use_python` command. Otherwise, please check the README file of [netZooR](https://github.com/netZoo/netZooR) for detailed instructions."
   ]
  },
  {
   "cell_type": "code",
   "execution_count": null,
   "metadata": {},
   "outputs": [],
   "source": [
    "lioness_pdac <- lioness.py(expr_file = \"./pdac_expression_sd_log_04.txt\" , motif_file = \"/opt/data/tttutorial/motif_prior.txt\", ppi_file = \"/opt/data/tttutorial/ppi.txt\")\n",
    "#save(lioness_pdac, file = \"lioness_pdac.RData\")"
   ]
  },
  {
   "cell_type": "markdown",
   "metadata": {
    "lines_to_next_cell": 0
   },
   "source": [
    "## Calculate gene targeting score\n",
    "Now, for each gene in each sample-specific network, we calculate the gene targeting score as the degree (sum of adjacent edge weights) in that sample's network. "
   ]
  },
  {
   "cell_type": "code",
   "execution_count": null,
   "metadata": {},
   "outputs": [],
   "source": [
    "map <- read.table(\"/opt/data/tttutorial/geneID_name_map.txt\")\n",
    "sample_order <- colnames(logtpms_selected_samples_genes_sd)\n",
    "subtype_order <- sample_subtypes$subtype[match(sample_order,sample_subtypes$sample)]\n",
    "subtype_order_names <- ifelse(subtype_order == 1,\"basal\",\"classical\")\n",
    "colnames(lioness_pdac) <- c(\"TF\",\"Gene\",sample_order)\n",
    "geneTargetting <- aggregate(. ~ Gene, lioness_pdac[-1], sum)"
   ]
  },
  {
   "cell_type": "markdown",
   "metadata": {
    "lines_to_next_cell": 0
   },
   "source": [
    "## Differential targeting\n",
    "Finally, We use limma<sup>13</sup> ([Ritchie et al.](https://doi.org/10.1093/nar/gkv007)) to identify differentially targeted genes between basal-like and classical samples, i.e., the genes that have a differential targeting score in each of the subtype."
   ]
  },
  {
   "cell_type": "code",
   "execution_count": null,
   "metadata": {},
   "outputs": [],
   "source": [
    "gene_targetting_matrix <- geneTargetting[,c(2:151)]\n",
    "rownames(gene_targetting_matrix) <- rownames(geneTargetting)\n",
    "subtype <- as.factor(subtype_order_names)\n",
    "design <- model.matrix(~subtype)\n",
    "fit = lmFit(as.matrix(gene_targetting_matrix),design)\n",
    "fit = eBayes(fit)"
   ]
  },
  {
   "cell_type": "markdown",
   "metadata": {},
   "source": [
    "Then, we can build our result table and see which genes are differentially targeted across samples."
   ]
  },
  {
   "cell_type": "code",
   "execution_count": null,
   "metadata": {},
   "outputs": [],
   "source": [
    "adjustedTarg <- topTable(fit, number = Inf, adjust = \"fdr\", coef = \"subtypeclassical\")\n",
    "adjustedTarg$Gene <- geneTargetting$Gene[as.numeric(rownames(adjustedTarg))]\n",
    "head(adjustedTarg)"
   ]
  },
  {
   "cell_type": "markdown",
   "metadata": {},
   "source": [
    "# Conclusion\n",
    "A complete biological interepretation of the resultls and the rationale behind the use of targeting in finding difefremtial regulatory patterns is described in [our publication](https://arxiv.org/abs/2101.03985) that comes with this tutorial. In particular, we showed that targeting is a network score that can reveal new biological insights not covered by coexpression networks, and differential gene expression analysis."
   ]
  },
  {
   "cell_type": "markdown",
   "metadata": {},
   "source": [
    "# References\n",
    "\n",
    "1- Adamska, Aleksandra, Alice Domenichini, and Marco Falasca. \"Pancreatic ductal adenocarcinoma: current and evolving therapies.\" International journal of molecular sciences 18.7 (2017): 1338.\n",
    "\n",
    "2- Rashid, Naim U., et al. \"Purity independent subtyping of tumors (PurIST), A clinically robust, single-sample classifier for tumor subtyping in pancreatic cancer.\" Clinical Cancer Research 26.1 (2020): 82-92.\n",
    "\n",
    "3- Moffitt, Richard A., et al. \"Virtual microdissection identifies distinct tumor-and stroma-specific subtypes of pancreatic ductal adenocarcinoma.\" Nature genetics 47.10 (2015): 1168.\n",
    "\n",
    "4- Diaferia, Giuseppe R., et al. \"Dissection of transcriptional and cis‐regulatory control of differentiation in human pancreatic cancer.\" The EMBO journal 35.6 (2016): 595-617.\n",
    "\n",
    "5- Weinstein, John N., et al. \"The cancer genome atlas pan-cancer analysis project.\" Nature genetics 45.10 (2013): 1113.\n",
    "\n",
    "6- Collado-Torres, Leonardo, et al. \"Reproducible RNA-seq analysis using recount2.\" Nature biotechnology 35.4 (2017): 319-321.\n",
    "\n",
    "7- Li, Bo, et al. \"RNA-Seq gene expression estimation with read mapping uncertainty.\" Bioinformatics 26.4 (2010): 493-500.\n",
    "\n",
    "8- Glass, Kimberly, et al. \"Passing messages between biological networks to refine predicted interactions.\" PloS one 8.5 (2013): e64832.\n",
    "\n",
    "9- Kuijjer, Marieke Lydia, et al. \"Estimating sample-specific regulatory networks.\" Iscience 14 (2019): 226-240.\n",
    "\n",
    "10- Grant, Charles E., Timothy L. Bailey, and William Stafford Noble. \"FIMO: scanning for occurrences of a given motif.\" Bioinformatics 27.7 (2011): 1017-1018.\n",
    "\n",
    "11- Szklarczyk, Damian, et al. \"STRING v11: protein–protein association networks with increased coverage, supporting functional discovery in genome-wide experimental datasets.\" Nucleic acids research 47.D1 (2019): D607-D613.\n",
    "\n",
    "12- Sonawane, Abhijeet Rajendra, et al. \"Understanding tissue-specific gene regulation.\" Cell reports 21.4 (2017): 1077-1088.\n",
    "\n",
    "13- Ritchie, Matthew E., et al. \"limma powers differential expression analyses for RNA-sequencing and microarray studies.\" Nucleic acids research 43.7 (2015): e47-e47.\n",
    "\n",
    "14- Weighill, Deborah, et al. \"Gene targeting in disease networks\" arXiv 2101.03985 (2021). https://arxiv.org/abs/2101.03985\n",
    "\n",
    "\n",
    "## Image credit \n",
    "\n",
    "https://www.pancreaticcancer.org.uk/information/just-diagnosed-with-pancreatic-cancer/types-of-pancreatic-cancer/"
   ]
  }
 ],
 "metadata": {
  "jupytext": {
   "cell_metadata_filter": "message,-all",
   "main_language": "R",
   "notebook_metadata_filter": "-all"
  },
  "kernelspec": {
   "display_name": "Python 3",
   "language": "python",
   "name": "python3"
  },
  "language_info": {
   "codemirror_mode": {
    "name": "ipython",
    "version": 3
   },
   "file_extension": ".py",
   "mimetype": "text/x-python",
   "name": "python",
   "nbconvert_exporter": "python",
   "pygments_lexer": "ipython3",
   "version": "3.9.1"
  }
 },
 "nbformat": 4,
 "nbformat_minor": 4
}
