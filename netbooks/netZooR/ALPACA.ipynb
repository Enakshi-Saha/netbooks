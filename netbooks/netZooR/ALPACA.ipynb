{
 "cells": [
  {
   "cell_type": "raw",
   "metadata": {},
   "source": [
    "---\n",
    "title: \"Detecting differential modules using ALPACA\"\n",
    "author: Megha Padi\n",
    "date: \"2017-10-19\"\n",
    "output: rmarkdown::html_vignette\n",
    "vignette: >\n",
    "  %\\VignetteIndexEntry{ALPACA}\n",
    "  %\\VignetteEngine{knitr::rmarkdown}\n",
    "  %\\VignetteEncoding{UTF-8}\n",
    "---"
   ]
  },
  {
   "cell_type": "markdown",
   "metadata": {
    "lines_to_next_cell": 0
   },
   "source": [
    "Install and load netZooR package"
   ]
  },
  {
   "cell_type": "code",
   "execution_count": null,
   "metadata": {
    "eval": false
   },
   "outputs": [],
   "source": [
    "# install.packages(\"devtools\") \n",
    "library(devtools)\n",
    "# install netZooR pkg with vignettes, otherwise remove the \"build_vignettes = TRUE\" argument.\n",
    "devtools::install_github(\"netZoo/netZooR\", build_vignettes = TRUE)"
   ]
  },
  {
   "cell_type": "code",
   "execution_count": null,
   "metadata": {
    "message": false,
    "warning": false
   },
   "outputs": [],
   "source": [
    "library(netZooR)"
   ]
  },
  {
   "cell_type": "markdown",
   "metadata": {
    "lines_to_next_cell": 0
   },
   "source": [
    "This vignettes can be accessed in R by using below line. when netZoooR was installed with arguments *\"build_vignettes = TRUE\"*."
   ]
  },
  {
   "cell_type": "code",
   "execution_count": null,
   "metadata": {
    "eval": false
   },
   "outputs": [],
   "source": [
    "vignette(\"ALPACA\",package=\"netZooR\")"
   ]
  },
  {
   "cell_type": "markdown",
   "metadata": {
    "lines_to_next_cell": 0
   },
   "source": [
    "\\section{A simple example with two node groups}\n",
    "We will show how ALPACA can find changes in modular structure between two simulated networks. The networks both have 20 regulator nodes and 80 target nodes. The baseline network consists of two groups that are strongly connected to each other, whereas the perturbed network has weaker connections between the two groups. The two groups consist of nodes {A1-A10,B1-B40} and {A11-A20,B41-B80}. Contrasting the two networks using ALPACA identifies these two groups as being the modules that best characterize the perturbation.\n",
    "\n",
    "These simulated networks is available in our public AWS S3 bucket. Change the preferred working directory to store the Example_2comm.txt file, otherwise the store directory is current working directory."
   ]
  },
  {
   "cell_type": "code",
   "execution_count": null,
   "metadata": {
    "lines_to_next_cell": 2
   },
   "outputs": [],
   "source": [
    "system(\"curl -O  https://netzoo.s3.us-east-2.amazonaws.com/netZooR/tutorial_datasets/Example_2comm.txt\")\n",
    "simp.mat <- read.table(\"./Example_2comm.txt\",header=T) "
   ]
  },
  {
   "cell_type": "code",
   "execution_count": null,
   "metadata": {
    "echo": true,
    "message": false,
    "warning": false
   },
   "outputs": [],
   "source": [
    "simp.alp <- alpaca(simp.mat,NULL,verbose=F)\n",
    "simp.alp2 <- simp.alp[[1]]\n",
    "simp.memb <- as.vector(simp.alp2)\n",
    "names(simp.memb) <- names(simp.alp2)\n",
    "\n",
    "simp.memb\n",
    "\n"
   ]
  }
 ],
 "metadata": {
  "jupytext": {
   "cell_metadata_filter": "message,eval,warning,echo,-all",
   "main_language": "R",
   "notebook_metadata_filter": "-all"
  },
  "kernelspec": {
   "display_name": "R",
   "language": "R",
   "name": "ir"
  },
  "language_info": {
   "codemirror_mode": "r",
   "file_extension": ".r",
   "mimetype": "text/x-r-source",
   "name": "R",
   "pygments_lexer": "r",
   "version": "3.6.2"
  }
 },
 "nbformat": 4,
 "nbformat_minor": 4
}
