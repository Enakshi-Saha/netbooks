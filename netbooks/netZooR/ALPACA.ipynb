{
 "cells": [
  {
   "cell_type": "markdown",
   "metadata": {},
   "source": [
    "# Detecting differential modules using ALPACA\n",
    "Author: Megha Padi<sup>1</sup>\n",
    "\n",
    "<sup>1</sup>Department of Molecular and Cellular Biology, University of Arizona, Tucson, AZ, USA."
   ]
  },
  {
   "cell_type": "markdown",
   "metadata": {},
   "source": [
    "# 1. Introduction\n",
    "\n",
    "ALtered Partitions Across Community Architectures (ALPACA)<sup>1</sup> is a method that allows to compare a case and a control network by finding differences in their community structure. In this vignette, we will explore the structure of the input data to ALPACA and the interpretation of the output."
   ]
  },
  {
   "cell_type": "markdown",
   "metadata": {},
   "source": [
    "You need to set the `runserver` parameter to 1, if you're running this vignette on the server. Otherwise, if the vignette is ran locally this parameter has to be set to 0."
   ]
  },
  {
   "cell_type": "code",
   "execution_count": null,
   "metadata": {},
   "outputs": [],
   "source": [
    "runserver=1"
   ]
  },
  {
   "cell_type": "markdown",
   "metadata": {},
   "source": [
    "if you're running this vignette locally, you need to install ALPACA through the netZooR package by running the following lines."
   ]
  },
  {
   "cell_type": "code",
   "execution_count": null,
   "metadata": {},
   "outputs": [],
   "source": [
    "if (runserver==0){\n",
    "    is_netZooR_available <- require(\"netZooR\")\n",
    "    if (is_netZooR_available==0){\n",
    "        install.packages(\"remotes\") \n",
    "        library(remotes)\n",
    "        remotes::install_github(\"netZoo/netZooR\", build_vignettes = TRUE)\n",
    "    }\n",
    "    ppath=''\n",
    "}else{\n",
    "    ppath='/opt/data/'\n",
    "}"
   ]
  },
  {
   "cell_type": "markdown",
   "metadata": {},
   "source": [
    "Then, we need to load the `netZooR` package to use ALPACA."
   ]
  },
  {
   "cell_type": "code",
   "execution_count": null,
   "metadata": {},
   "outputs": [],
   "source": [
    "library(netZooR)"
   ]
  },
  {
   "cell_type": "markdown",
   "metadata": {
    "lines_to_next_cell": 0
   },
   "source": [
    "# 2. A simple example with two node groups\n",
    "We will show how ALPACA can find changes in modular structure between two simulated networks. The networks both have 20 regulator nodes and 80 target nodes. The baseline network consists of two groups that are strongly connected to each other, whereas the perturbed network has weaker connections between the two groups. The two groups consist of nodes {A1-A10,B1-B40} and {A11-A20,B41-B80}. Contrasting the two networks using ALPACA identifies these two groups as being the modules that best characterize the perturbation.\n",
    "\n",
    "These simulated networks are available in netbooks public AWS S3 bucket (s3://netzoo). Change the preferred working directory to store the Example_2comm.txt file, otherwise the store directory is current working directory.\n",
    "\n",
    "If you are running the netbook locally, please run the following command line to download the file from AWS."
   ]
  },
  {
   "cell_type": "code",
   "execution_count": null,
   "metadata": {},
   "outputs": [],
   "source": [
    "if (runserver==0){\n",
    "    system(\"curl -O  https://netzoo.s3.us-east-2.amazonaws.com/netZooR/tutorial_datasets/Example_2comm.txt\")\n",
    "}"
   ]
  },
  {
   "cell_type": "markdown",
   "metadata": {},
   "source": [
    "On the server, the file can be loaded as follows:"
   ]
  },
  {
   "cell_type": "code",
   "execution_count": null,
   "metadata": {
    "lines_to_next_cell": 2
   },
   "outputs": [],
   "source": [
    "simp.mat <- read.table(paste0(ppath,\"Example_2comm.txt\"),header=T) \n",
    "simp.mat"
   ]
  },
  {
   "cell_type": "markdown",
   "metadata": {},
   "source": [
    "The input to ALPACA `simp.mat` in this case is a 4-column dataframe that include:\n",
    "- Source nodes in column 1 (TFs)\n",
    "- Target nodes in column 2 (Genes)\n",
    "- Edge weight in control network (network 1)\n",
    "- Edge weight in case network (network 2)\n",
    "\n",
    "Now, we can run ALPACA on these 2 networks"
   ]
  },
  {
   "cell_type": "code",
   "execution_count": null,
   "metadata": {},
   "outputs": [],
   "source": [
    "simp.alp <- alpaca(simp.mat,NULL,verbose=F)\n",
    "simp.alp"
   ]
  },
  {
   "cell_type": "markdown",
   "metadata": {},
   "source": [
    "The result list `simp.alp` contains 2 slots. The first one is a community assignement for each node and the second one is a modularity score for each node, which indicates the contribution of each node to the modularity of the community that it belongs to. \n",
    "In the first slot, the node are not labeled, therefore, we need to label them as follows"
   ]
  },
  {
   "cell_type": "code",
   "execution_count": null,
   "metadata": {
    "echo": true,
    "message": false,
    "warning": false
   },
   "outputs": [],
   "source": [
    "simp.alp2 <- simp.alp[[1]]\n",
    "simp.memb <- as.vector(simp.alp2)\n",
    "names(simp.memb) <- names(simp.alp2)\n",
    "simp.memb"
   ]
  },
  {
   "cell_type": "markdown",
   "metadata": {},
   "source": [
    "`simp.memb` has the labeled node memberships, for example `A1` belongs to community 1 and `A19` belongs to community 2."
   ]
  },
  {
   "cell_type": "markdown",
   "metadata": {},
   "source": [
    "# References\n",
    "\n",
    "1- Padi, Megha, and John Quackenbush. \"Detecting phenotype-driven transitions in regulatory network structure.\" NPJ systems biology and applications 4.1 (2018): 1-12."
   ]
  }
 ],
 "metadata": {
  "jupytext": {
   "cell_metadata_filter": "message,eval,warning,echo,-all",
   "main_language": "R",
   "notebook_metadata_filter": "-all"
  },
  "kernelspec": {
   "display_name": "R",
   "language": "R",
   "name": "ir"
  },
  "language_info": {
   "codemirror_mode": "r",
   "file_extension": ".r",
   "mimetype": "text/x-r-source",
   "name": "R",
   "pygments_lexer": "r",
   "version": "4.1.1"
  }
 },
 "nbformat": 4,
 "nbformat_minor": 4
}
