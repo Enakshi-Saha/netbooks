{
 "cells": [
  {
   "cell_type": "markdown",
   "metadata": {},
   "source": [
    "# Building PANDA and LIONESS Regulatory Networks from GTEx Gene Expression Data in R\n",
    "Author: Deborah Weighill<sup>1</sup>\n",
    "\n",
    "<sup>1</sup> Department of Biostatistics, Harvard T.H. Chan School of Public Health, Boston, MA."
   ]
  },
  {
   "cell_type": "markdown",
   "metadata": {
    "lines_to_next_cell": 0
   },
   "source": [
    "# Introduction\n",
    "In this vignette, we will demonstrate the functionalities of netZooR. \n",
    "\n",
    "# PANDA\n",
    "\n",
    "## PANDA Overview\n",
    "PANDA (Passing Attributes between Networks for Data Assimilation) is a method for constructing gene regulatory networks. It uses message passing to find congruence between 3 different data layers: protein-protein interaction (PPI), gene expression, and transcription factor (TF) motif data.\n",
    "\n",
    "More details can be found in the published paper https://doi.org/10.1371/journal.pone.0064832.\n",
    "\n",
    "## Running a single PANDA analysis\n",
    "\n",
    "Load some libraries. We use the data.table library for reading in large datasets as it is more efficient."
   ]
  },
  {
   "cell_type": "code",
   "execution_count": null,
   "metadata": {
    "message": false,
    "warning": false
   },
   "outputs": [],
   "source": [
    "library(netZooR)\n",
    "library(data.table)"
   ]
  },
  {
   "cell_type": "code",
   "execution_count": null,
   "metadata": {
    "eval": false
   },
   "outputs": [],
   "source": [
    "# point R to your python 3 installation. Make sure that this is the installation that has all the required python libraries (numpy, scipy, etc) installed. netZooR uses a python implementation of PANDA under the hood.\n",
    "#use_python(\"/usr/bin/python3\") # for example, you can check the installation with py_config()"
   ]
  },
  {
   "cell_type": "markdown",
   "metadata": {
    "lines_to_next_cell": 0
   },
   "source": [
    "Now we locate our ppi and motif priors. The ppi represents physical interactions between transcription factor proteins, and is an undirected network. The motif prior represents putative regulation events where a transcription factor binds in the promotor of a gene to regulate its expression, as predicted by the presence of transcription factor binding motifs in the promotor region of the gene. The motif prior is thus a directed network linking transcription factors to their predicted gene targets. These are small example priors for the purposes of demonstrating this method. \n",
    "\n",
    "The ppi and motif priors are available in our AWS public bucket, and can be downloaded into current working directory.\n",
    "\n",
    "Let's download and take a look at the priors:"
   ]
  },
  {
   "cell_type": "code",
   "execution_count": null,
   "metadata": {
    "message": false
   },
   "outputs": [],
   "source": [
    "#system(\"curl -O  https://netzoo.s3.us-east-2.amazonaws.com/netZooR/tutorial_datasets/motif_GTEx.txt\")\n",
    "#system(\"curl -O  https://netzoo.s3.us-east-2.amazonaws.com/netZooR/tutorial_datasets/ppi_GTEx.txt\")\n",
    "motif <- read.table(\"/opt/data/motif_GTEx.txt\") \n",
    "ppi <- read.table(\"/opt/data/ppi_GTEx.txt\")\n",
    "ppi[1:5,]\n",
    "motif[1:5,]"
   ]
  },
  {
   "cell_type": "markdown",
   "metadata": {
    "lines_to_next_cell": 0
   },
   "source": [
    "Now we locate out expression data. \n",
    "\n",
    "As example, We will use a portion of the GTEx (Genotype-Tissue Expression) version 7 RNA-Seq data, read in the expression data and the list of LCL samples. Then parse the expression data.\n",
    "\n",
    "We can either \n",
    "\n",
    "1) downlaod the file GTEx_Analysis_2016-01-15_v7_RNASeQCv1.1.8_gene_tpm.gct from from https://gtexportal.org/home/datasets or in our AWS bucket and place it in the folder \"expressionData\". We will initially use the LCL RNA-seq data to create a regulatory network for this cell line. Later, we will also generate a regulatory network for whole blood for comaprison. \n",
    "\n",
    "Here, we use the expression data and sample ids file copy from our AWS bucket."
   ]
  },
  {
   "cell_type": "code",
   "execution_count": null,
   "metadata": {
    "eval": false
   },
   "outputs": [],
   "source": [
    "runFromScratch = 0\n",
    "if(runFromScratch){\n",
    "    #system(\"curl -O  https://netzoo.s3.us-east-2.amazonaws.com/netZooR/tutorial_datasets/GTEx_Analysis_2016-01-15_v7_RNASeQCv1.1.8_gene_tpm.gct\")\n",
    "    # load the GTEx expression matrix\n",
    "    expr <- fread(\"/opt/data/GTEx_Analysis_2016-01-15_v7_RNASeQCv1.1.8_gene_tpm.gct\", header = TRUE, skip = 2, data.table = TRUE)\n",
    "    # remove the transcript ids so that the genes match the gene ids in the tf-motif prior\n",
    "    expr$Name<-sub(\"\\\\.[0-9]\",\"\", expr$Name)\n",
    "\n",
    "    #downlooad and load the sample ids of LCL samples\n",
    "    #system(\"curl -O  https://netzoo.s3.us-east-2.amazonaws.com/netZooR/tutorial_datasets/LCL_samples.txt\")\n",
    "    lcl_samples <-fread(\"/opt/data/LCL_samples.txt\", header = FALSE, data.table=FALSE)\n",
    "\n",
    "    #select the columns of the expression matrix corresponding to the LCL samples.\n",
    "    lcl_expr <- expr[,union(\"Name\",intersect(c(lcl_samples[1:149,]),colnames(expr))), with=FALSE]\n",
    "\n",
    "    #determine the number of non-NA/non-zero rows in the expression data. This is to be able to ensure that PANDA will have enough values in the vectors to calculate pearson correlations between gene expression profiles in the construction of the gene co-exression prior.\n",
    "    zero_na_counts <- apply(lcl_expr, MARGIN = 1, FUN = function(x) length(x[(!is.na(x)| x!=0) ]))\n",
    "\n",
    "    #maintain only genes with at least 20 valid gene expression entries\n",
    "    clean_data <- lcl_expr[zero_na_counts > 20,]\n",
    "\n",
    "    #write the cleaned expression data to a file, ready to be passed as an argument to the PANDA algorithm.\n",
    "    write.table(clean_data, file = \"../data/pandaExprLCL.txt\", sep = \"\\t\", col.names = FALSE, row.names = FALSE, quote = FALSE)\n",
    "}"
   ]
  },
  {
   "cell_type": "markdown",
   "metadata": {
    "lines_to_next_cell": 0
   },
   "source": [
    "Or\n",
    "\n",
    "Download our pre-processed pandaExprLCL.txt from our AWS S3 Bucket."
   ]
  },
  {
   "cell_type": "code",
   "execution_count": null,
   "metadata": {
    "message": false,
    "warning": false
   },
   "outputs": [],
   "source": [
    "#system(\"curl -O  https://netzoo.s3.us-east-2.amazonaws.com/netZooR/tutorial_datasets/pandaExprLCL.txt\")"
   ]
  },
  {
   "cell_type": "markdown",
   "metadata": {
    "lines_to_next_cell": 0
   },
   "source": [
    "Now we run PANDA, pointing it to the parsed expression data, motif prior and ppi prior."
   ]
  },
  {
   "cell_type": "code",
   "execution_count": null,
   "metadata": {
    "message": false,
    "warning": false
   },
   "outputs": [],
   "source": [
    "panda_results_LCL <- panda.py(expr_file = \"/opt/data/pandaExprLCL.txt\" , motif_file = \"/opt/data/motif_GTEx.txt\", ppi_file = \"/opt/data/ppi_GTEx.txt\", modeProcess=\"legacy\", remove_missing = TRUE)"
   ]
  },
  {
   "cell_type": "markdown",
   "metadata": {},
   "source": [
    "Let's take a look at the results. The output contains a list of three data frames:\n",
    "\n",
    "* data frame containing the regulatory network (bipartite graph) with edge weights representing the \"likelihood\" that a transcription factor binds the promotor of and regulates the expression of a gene.  \n",
    "* data frame odf the in-degrees of genes (sum of the weights of inbound edges around a gene)\n",
    "* data frame of the out-degrees of TFs (sum of the weights of outbound edges around a TF)"
   ]
  },
  {
   "cell_type": "code",
   "execution_count": null,
   "metadata": {},
   "outputs": [],
   "source": [
    "# the bipartite regulatory network\n",
    "regNetLCL <- panda_results_LCL$panda\n",
    "regNetLCL[1:5,]\n",
    "\n",
    "# gene in-degree\n",
    "inDegreeLCL <- panda_results_LCL$indegree\n",
    "head(inDegreeLCL)\n",
    "\n",
    "# TF out-degree\n",
    "outDegreeLCL <- panda_results_LCL$outdegree\n",
    "head(outDegreeLCL)"
   ]
  },
  {
   "cell_type": "markdown",
   "metadata": {
    "lines_to_next_cell": 0
   },
   "source": [
    "## Run another PANDA analysis on Whole Blood Samples\n",
    "\n",
    "Like the LCL expression data in previous section, we can either download the raw data and process;"
   ]
  },
  {
   "cell_type": "code",
   "execution_count": null,
   "metadata": {
    "eval": false
   },
   "outputs": [],
   "source": [
    "runFromScratch = 1\n",
    "if(runFromScratch){\n",
    "    #### skip this part if you already did same process in LCL expression data section\n",
    "    system(\"curl -O  https://netzoo.s3.us-east-2.amazonaws.com/netZooR/tutorial_datasets/GTEx_Analysis_2016-01-15_v7_RNASeQCv1.1.8_gene_tpm.gct\")\n",
    "    # load the GTEx expression matrix\n",
    "    expr <- fread(\"./GTEx_Analysis_2016-01-15_v7_RNASeQCv1.1.8_gene_tpm.gct\", header = TRUE, skip = 2, data.table = TRUE)\n",
    "    # remove the transcript ids so that the genes match the gene ids in the tf-motif prior\n",
    "    expr$Name<-sub(\"\\\\.[0-9]\",\"\", expr$Name)\n",
    "    #####\n",
    "\n",
    "    #load the sample ids of Whole Blood samples\n",
    "    system(\"curl -O https://netzoo.s3.us-east-2.amazonaws.com/netZooR/tutorial_datasets/WholeBlood_samples.txt\")\n",
    "    wblood_samples <-fread(\"./WholeBlood_samples.txt\", header = FALSE, data.table=FALSE)\n",
    "\n",
    "    #select the columns of the expression matrix corresponding to the LCL samples.\n",
    "    wblood_expr <- expr[,union(\"Name\",intersect(c(wblood_samples[1:149,]),colnames(expr))), with=FALSE]\n",
    "\n",
    "    #determine the number of non-NA/non-zero rows in the expression data. This is to be able to ensure that PANDA will have enough values in the vectors to calculate pearson correlations between gene expression profiles in the construction of the gene co-exression prior.\n",
    "    zero_na_counts_wblood <- apply(wblood_expr, MARGIN = 1, FUN = function(x) length(x[(!is.na(x)| x!=0) ]))\n",
    "\n",
    "    #maintain only genes with at least 20 valid gene expression entries\n",
    "    clean_data_wb <- wblood_expr[zero_na_counts_wblood > 20,]\n",
    "\n",
    "    #write the cleaned expression data to a file, ready to be passed as an argument to the PANDA algorithm.\n",
    "    write.table(clean_data_wb, file = \"pandaExprWholeBlood.txt\", sep = \"\\t\", col.names = FALSE, row.names = FALSE, quote = FALSE)\n",
    "}"
   ]
  },
  {
   "cell_type": "markdown",
   "metadata": {
    "lines_to_next_cell": 0
   },
   "source": [
    "or download the whole blood expression data directly from AWS Bucket."
   ]
  },
  {
   "cell_type": "code",
   "execution_count": null,
   "metadata": {
    "message": false,
    "warning": false
   },
   "outputs": [],
   "source": [
    "#system(\"curl -O https://netzoo.s3.us-east-2.amazonaws.com/netZooR/tutorial_datasets/pandaExprWholeBlood.txt\")"
   ]
  },
  {
   "cell_type": "code",
   "execution_count": null,
   "metadata": {
    "warning": false
   },
   "outputs": [],
   "source": [
    "#run PANDA\n",
    "panda_results_wblood <- panda.py(expr_file = \"/opt/data/pandaExprWholeBlood.txt\" , motif_file = \"/opt/data/motif_GTEx.txt\", ppi_file = \"/opt/data/ppi_GTEx.txt\", modeProcess=\"legacy\", remove_missing = TRUE)"
   ]
  },
  {
   "cell_type": "code",
   "execution_count": null,
   "metadata": {
    "eval": false
   },
   "outputs": [],
   "source": [
    "install.packages(\"visNetwork\",repos = \"http://cran.us.r-project.org\",dependencies=TRUE)\n",
    "library(visNetwork)\n",
    "edges <- head(panda_results_wblood$panda[order(panda_results_wblood$panda$Score,decreasing = TRUE),], 500)\n",
    "colnames(edges) <- c(\"from\",\"to\",\"motif\",\"force\")\n",
    "nodes <- data.frame(id = unique(as.vector(as.matrix(edges[,c(1,2)]))))\n",
    "nodes$group <- ifelse(nodes$id %in% edges$from, \"TF\", \"gene\")\n",
    "\n",
    "net <- visNetwork(nodes, edges, width = \"100%\")\n",
    "net <- visGroups(net, groupname = \"TF\", shape = \"square\",\n",
    "                     color = list(background = \"teal\", border=\"black\"))\n",
    "net <- visGroups(net, groupname = \"gene\", shape = \"dot\",       \n",
    "                     color = list(background = \"gold\", border=\"black\"))\n",
    "visLegend(net, main=\"Legend\", position=\"right\", ncol=1) "
   ]
  },
  {
   "cell_type": "markdown",
   "metadata": {},
   "source": [
    "# LIONESS\n",
    "\n",
    "LIONESS (Linear Interpolation to Obtain Network Estimates for Single Samples) is a method for creating sample-specific networks. When applied to a PANDA regulatory network, the result is a set of gene regulatory networks, one for each sample in the gene expression dataset. More information on LIONESS can be found in the published paper: https://doi.org/10.1016/j.isci.2019.03.021\n",
    "\n",
    "Running LIONESS with netZoo is simple, and very similar to running PANDA:"
   ]
  },
  {
   "cell_type": "code",
   "execution_count": null,
   "metadata": {
    "echo": true,
    "tags": [
     "remove_output"
    ]
   },
   "outputs": [],
   "source": [
    "lionessLCL <- lioness.py(expr_file = \"pandaExprLCL.txt\" , motif_file = \"./motif_GTEx.txt\", ppi_file = \"./ppi_GTEx.txt\", modeProcess=\"legacy\", remove_missing = TRUE)"
   ]
  },
  {
   "cell_type": "markdown",
   "metadata": {},
   "source": [
    "The result is a data frame in which the first colum  contains TFs, the second column contains genes and each subsequent column contains the edge weight for that particular TF-gene pair in a particular sample."
   ]
  },
  {
   "cell_type": "code",
   "execution_count": null,
   "metadata": {
    "lines_to_next_cell": 0
   },
   "outputs": [],
   "source": [
    "lionessLCL[1:5,1:10]"
   ]
  },
  {
   "cell_type": "markdown",
   "metadata": {},
   "source": [
    "\n",
    "\n",
    "\n"
   ]
  }
 ],
 "metadata": {
  "jupytext": {
   "cell_metadata_filter": "message,eval,warning,tags,echo,-all",
   "main_language": "R",
   "notebook_metadata_filter": "-all"
  },
  "kernelspec": {
   "display_name": "R",
   "language": "R",
   "name": "ir"
  },
  "language_info": {
   "codemirror_mode": "r",
   "file_extension": ".r",
   "mimetype": "text/x-r-source",
   "name": "R",
   "pygments_lexer": "r",
   "version": "3.6.2"
  }
 },
 "nbformat": 4,
 "nbformat_minor": 4
}
