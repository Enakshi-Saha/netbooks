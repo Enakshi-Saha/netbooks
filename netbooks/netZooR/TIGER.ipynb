{
 "cells": [
  {
   "cell_type": "markdown",
   "metadata": {},
   "source": [
    "# TIGER: Transcriptional Inference using Gene Expression and Regulatory data\n",
    "Chen Chen<sup>1</sup>\n",
    "\n",
    "<sup>1</sup> Department of Epidemiology and Biostatistics, University of Arizona Mel and Enid Zuckerman College of Public Health, Tucson, AZ, USA\n",
    "\n",
    "# Introduction\n",
    "The goal of TIGER<sup>1</sup> is to estimate gene regulatory network and transcription factor \n",
    "activities using Bayesian matrix factorization.        \n",
    "![](TIGER.png)\n",
    "\n",
    "## Installation\n",
    "\n",
    "TIGER relies on [cmdstanr](https://mc-stan.org/cmdstanr/) for Beyesian Inference. \n",
    "You can install the latest beta release of the cmdstanr R package with\n"
   ]
  },
  {
   "cell_type": "markdown",
   "metadata": {},
   "source": [
    "``` R\n",
    "install.packages(\"cmdstanr\", repos = c(\"https://mc-stan.org/r-packages/\", getOption(\"repos\")))\n",
    "```"
   ]
  },
  {
   "cell_type": "markdown",
   "metadata": {},
   "source": [
    "Then, you can use cmdstanr to install [CmdStan](https://mc-stan.org/users/interfaces/cmdstan.html), the shell interface to [Stan](https://mc-stan.org/) with\n"
   ]
  },
  {
   "cell_type": "markdown",
   "metadata": {},
   "source": [
    "```R\n",
    "install_cmdstan()\n",
    "```"
   ]
  },
  {
   "cell_type": "markdown",
   "metadata": {},
   "source": [
    "These two steps are usually enough if your C++ toolchain is set up properly. For example, use RTools 4.0 toolchain which contains a g++ 8 compiler and mingw32-make on Windows platform. If you see problems with installation, you can go to cmdstanr [installation](https://mc-stan.org/cmdstanr/articles/cmdstanr.html) for more information.     \n",
    "\n",
    "After cmdstan is correctly installed, you can install the development version of TIGER with:\n"
   ]
  },
  {
   "cell_type": "markdown",
   "metadata": {},
   "source": [
    "``` R\n",
    "devtools::install_github(\"cchen22/TIGER\")\n",
    "```"
   ]
  },
  {
   "cell_type": "markdown",
   "metadata": {},
   "source": [
    "We also need to install DoRothEA R package from [Bioconductor](https://bioconductor.org/packages/release/data/experiment/html/dorothea.html)"
   ]
  },
  {
   "cell_type": "markdown",
   "metadata": {},
   "source": [
    "```R\n",
    "BiocManager::install(\"dorothea\")\n",
    "```"
   ]
  },
  {
   "cell_type": "markdown",
   "metadata": {},
   "source": [
    "# Quick start\n",
    "\n",
    "This is a simple example of TIGER on a small dataset. TIGER requires two inputs:      \n",
    "1. a normalized expression matrix with rows as genes and column as samples;       \n",
    "2. a prior network with rows as TFs and column as genes. The network is signed and binarized (e.g., -1,0,1).       \n"
   ]
  },
  {
   "cell_type": "markdown",
   "metadata": {},
   "source": [
    "First, we load the library"
   ]
  },
  {
   "cell_type": "code",
   "execution_count": null,
   "metadata": {},
   "outputs": [],
   "source": [
    "library(TIGER)"
   ]
  },
  {
   "cell_type": "markdown",
   "metadata": {},
   "source": [
    "then, we load the data"
   ]
  },
  {
   "cell_type": "code",
   "execution_count": null,
   "metadata": {},
   "outputs": [],
   "source": [
    "expr = TIGER::expr\n",
    "prior = TIGER::prior"
   ]
  },
  {
   "cell_type": "markdown",
   "metadata": {},
   "source": [
    "We can run TIGER with default parameters as follows"
   ]
  },
  {
   "cell_type": "code",
   "execution_count": null,
   "metadata": {},
   "outputs": [],
   "source": [
    "ss = TIGER(expr,prior)"
   ]
  },
  {
   "cell_type": "markdown",
   "metadata": {},
   "source": [
    "We can print the TFA score in first three samples aas follows"
   ]
  },
  {
   "cell_type": "code",
   "execution_count": null,
   "metadata": {},
   "outputs": [],
   "source": [
    "tgres = ss$Z\n",
    "tgres[,1:3]"
   ]
  },
  {
   "cell_type": "markdown",
   "metadata": {},
   "source": [
    "# Wokring with DoRothEA prior\n",
    "TIGER provides some convenient functions to work with DoRothEA<sup>2</sup> prior database. "
   ]
  },
  {
   "cell_type": "markdown",
   "metadata": {},
   "source": [
    "DoRothEA provides regulons for two species - human and mouse. For example, if we have a human cancer expression matrix and want to estimate the TFA in each cancer sample, then we can use the following code to prepare the prior network. First, we start by loading dorothea pancancer database:"
   ]
  },
  {
   "cell_type": "code",
   "execution_count": null,
   "metadata": {},
   "outputs": [],
   "source": [
    "df = dorothea::dorothea_hs_pancancer"
   ]
  },
  {
   "cell_type": "markdown",
   "metadata": {},
   "source": [
    "Then convert it to TIGER prior format (e.g., adjacency matrix) "
   ]
  },
  {
   "cell_type": "code",
   "execution_count": null,
   "metadata": {},
   "outputs": [],
   "source": [
    "prior = el2adj(df[,-2])"
   ]
  },
  {
   "cell_type": "markdown",
   "metadata": {},
   "source": [
    "# References\n",
    "\n",
    "1- Chen, Chen, and Megha Padi. \"Joint inference of transcription factor activity and context-specific regulatory networks.\" bioRxiv (2022).\n",
    "\n",
    "2- Garcia-Alonso, Luz, et al. \"Benchmark and integration of resources for the estimation of human transcription factor activities.\" Genome research 29.8 (2019): 1363-1375."
   ]
  }
 ],
 "metadata": {
  "anaconda-cloud": "",
  "kernelspec": {
   "display_name": "R",
   "language": "R",
   "name": "ir"
  },
  "language_info": {
   "codemirror_mode": "r",
   "file_extension": ".r",
   "mimetype": "text/x-r-source",
   "name": "R",
   "pygments_lexer": "r",
   "version": "4.2.2"
  }
 },
 "nbformat": 4,
 "nbformat_minor": 1
}
