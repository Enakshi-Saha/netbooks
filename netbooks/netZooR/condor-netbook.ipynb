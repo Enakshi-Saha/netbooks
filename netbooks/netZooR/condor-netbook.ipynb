{
 "cells": [
  {
   "cell_type": "markdown",
   "metadata": {},
   "source": [
    "# Network analysis of eQTLs with CONDOR\n",
    "Authors: Deborah Weighill<sup>1</sup>, Maud Fagny<sup>2</sup>\n",
    "\n",
    "<sup>1</sup> Lineberger Comprehensive Cancer Center, University of North Carolina at Chapel Hill\n",
    "\n",
    "<sup>2</sup> Université Paris-Saclay, INRAE, CNRS, AgroParisTech, GQE - Le Moulon, 91190, Gif-sur-Yvette, France\n",
    "\n",
    "## 1. Introduction\n",
    "This netbook will demonstrate the analysis from the study by Fagny et al.<sup>1</sup>, which explored tissue regulation by eQTLs in several human tissues.\n",
    "\n",
    "This study explored the structure of expression quantitative loci (eQTL) networks in 13 different tissues. Each edge in a given network represented an eQTL relationship between a genetic variant and the expression of a given gene, represented as a link connecting the variant to the gene. The collection of these eQTL relatipnsips forms a bipartite network for each tissue. These networks were found to be highly modular, often grouping genes based on functional processes. Both tissue specific communities as well as tissue-conserved communities were identified.\n",
    "\n",
    "This notebook will take the reader through large sections of the analysis performed in the above study<sup>1</sup>. In addition, a shiny app that was developed with the paper allows to browse the networks and download them at http://networkmedicine.org:3838/eqtl/.\n",
    "\n",
    "## 2. Load packages\n",
    "We start first by loading the required packages."
   ]
  },
  {
   "cell_type": "code",
   "execution_count": null,
   "metadata": {},
   "outputs": [],
   "source": [
    ".libPaths(c(\"~/R/x86_64-redhat-linux-gnu-library/\",\"/nas/longleaf/apps/r/3.6.0/lib64/R/library\"))\n",
    "library(netZooR)\n",
    "library(tidyr)\n",
    "library(data.table)\n",
    "library(gprofiler2)"
   ]
  },
  {
   "cell_type": "markdown",
   "metadata": {},
   "source": [
    "## 3. The Data\n",
    "This study made use of eQTLs derived from genome variant and gene expression data of 13 different tissues from GTEx version 6. Associations between SNPs and gene expression levels were tested while correcting for potentially confounding variables, including sex, age, ethnic background and the first three principle components of the genotype data."
   ]
  },
  {
   "cell_type": "markdown",
   "metadata": {},
   "source": [
    "## 4. cis- vs. trans-eQTLs\n",
    "\n",
    "Here we investigate and plot the number of cis- and trans-eQTLs in each tissue, as a function of sample size. First we load data objects containing tissue names, number of samples for each tissue, and eQTLs for each tissue. "
   ]
  },
  {
   "cell_type": "code",
   "execution_count": null,
   "metadata": {},
   "outputs": [],
   "source": [
    "# Load data objects\n",
    "## names of different tissues\n",
    "load(\"/opt/data/netZooR/tissueeqtl/data/tissue_names.RData\")\n",
    "head(Tissues)"
   ]
  },
  {
   "cell_type": "code",
   "execution_count": null,
   "metadata": {},
   "outputs": [],
   "source": [
    "## number of samples for each tissue\n",
    "load(\"/opt/data/netZooR/tissueeqtl/data/nb_samples.RData\")\n",
    "head(nb.samples)\n",
    "## eQTLs\n",
    "load(\"/opt/data/netZooR/tissueeqtl/data/all_tissues_eqtls_fdr0.20.2_1MB.Rdata\")\n",
    "eqtl$adipose_subcutaneous[c(1:5),]"
   ]
  },
  {
   "cell_type": "markdown",
   "metadata": {},
   "source": [
    "Next, we count the number of cis- and trans-eQTLs in each tissue"
   ]
  },
  {
   "cell_type": "code",
   "execution_count": null,
   "metadata": {},
   "outputs": [],
   "source": [
    "# Count number of cis and trans eQTLs for each tissue\n",
    "size.com <- lapply(eqtl, function(x){\n",
    "    c(\"cis\"=sum(x$cis.or.trans==\"cis\" & x$FDR<=0.05),\n",
    "    \"trans\"=sum(x$cis.or.trans==\"trans\" & x$FDR<=0.05))\n",
    "})\n",
    "nb.cis <- unlist(lapply(size.com, function(x){x['cis']}))\n",
    "nb.trans <- unlist(lapply(size.com, function(x){x['trans']}))\n",
    "names(nb.cis) <- gsub(\"\\\\.cis\", \"\", names(nb.cis))\n",
    "names(nb.trans) <- gsub(\"\\\\.trans\", \"\", names(nb.trans))"
   ]
  },
  {
   "cell_type": "code",
   "execution_count": null,
   "metadata": {},
   "outputs": [],
   "source": [
    "head(nb.cis)\n",
    "head(nb.trans)"
   ]
  },
  {
   "cell_type": "markdown",
   "metadata": {},
   "source": [
    "Next we plot the number of cis/trans eQTLs as a function of number of samples in a bar chart. From this plot we can clearly see that there were a lot more cis-eQTLs identified than trans-eQTLs, and that the number of eQTLs identified was higher in tissues with higher sample sizes which would affect eQTL significance and discovery."
   ]
  },
  {
   "cell_type": "code",
   "execution_count": null,
   "metadata": {},
   "outputs": [],
   "source": [
    "# Plot number of cis- and trans-eQTLs as a function of tissue sample size\n",
    "par(mar=c(4,5,1,1)+0.1)\n",
    "plot(nb.samples[names(nb.cis)], (nb.cis), pch=16, col=\"red\", log='y',\n",
    "     ylim=c(1000,700000), xlab=\"Nb samples\", ylab=\"Nb eQTLs\")\n",
    "points(nb.samples[names(nb.trans)], (nb.trans), pch=17, col=\"blue\")\n",
    "legend(\"topleft\", bty='n', legend=c(\"cis-eQTLs\", \"trans-eQTLs\"), pch=16:17, col=c(\"red\", \"blue\"))"
   ]
  },
  {
   "cell_type": "markdown",
   "metadata": {},
   "source": [
    "## 5. Cluster eQTL networks using CONDOR\n",
    "\n",
    "We next cluster the eQTL network of each tissue into communities using CONDOR<sup>1</sup>, a bipartite network clustering method designed specifically for eQTL networks. For each tissue separately, we load the object of eQTLs and convert it to a condor object."
   ]
  },
  {
   "cell_type": "code",
   "execution_count": null,
   "metadata": {},
   "outputs": [],
   "source": [
    "# For each tissue:\n",
    "for (x in rownames(Tissues)){\n",
    "    ## load the eQTLs for that tissue\n",
    "    eqtl.file <- paste0(\"data/\",x,\"_eqtls.RData\")\n",
    "    load(eqtl.file)\n",
    "    if((\"RS_ID_dbSNP142_CHG37p13\" %in% colnames(eqtls)) & (\"RS_ID_dbSNP135_original_VCF\" %in% colnames(eqtls))){\n",
    "        eqtls$RSID <- eqtls$RS_ID_dbSNP142_CHG37p13\n",
    "        eqtls$RSID[eqtls$RS_ID_dbSNP142_CHG37p13=='.'] <- eqtls$RS_ID_dbSNP135_original_VCF[eqtls$RS_ID_dbSNP142_CHG37p13=='.']\n",
    "    }\n",
    "    \n",
    "    ## assign eQTL SNPs to the \"red\" group and eQTL genes to the \"blue\" group\n",
    "    elist<- data.frame(\"red\" = eqtls$RSID, \"blue\" = eqtls$genes)\n",
    "    \n",
    "    ## create a CONDOR object of nodes, edges, and properties\n",
    "    condor.object <- create.condor.object(elist)\n",
    "    \n",
    "    ## compute clusters and node modularity, and save the results\n",
    "    condor.result <- condor.cluster(condor.object,project=F)\n",
    "    condor.modularity <- condor.qscore(condor.result)\n",
    "    clust.file <- paste0(\"../data/\",x,\"_clusters.RData\")\n",
    "    mod.file <- paste0(\"../data/\",x,\"_mods.RData\")\n",
    "    \n",
    "    # save the clustering results to file\n",
    "    save(condor.result, file=clust.file)\n",
    "    save(condor.modularity, file=mod.file)   \n",
    "}"
   ]
  },
  {
   "cell_type": "markdown",
   "metadata": {},
   "source": [
    "## 6. Investigate community modularities\n",
    "\n",
    "Different clusterings of networks have different modularities, or \"tightness\" of the clusters. We will plot the modularities of different tissue's networks. First, we combine our individual CONDOR modularity objects into a list and save that as an object for later use. "
   ]
  },
  {
   "cell_type": "code",
   "execution_count": null,
   "metadata": {},
   "outputs": [],
   "source": [
    "# the list where we will store the community/modularity objects per tissue\n",
    "communities <- list()\n",
    "# for each tissue\n",
    "for (x in tissues){\n",
    "    # load the CONDOR modularity object for that tissue\n",
    "    mods.file <- paste0(\"/opt/data/netZooR/tissueeqtl/data/\",x,\"_mods.RData\")\n",
    "    load(mods.file)\n",
    "    # insert the modularity object into the list at the position named after the tissue.\n",
    "    communities[[`x`]] <- condor.modularity\n",
    "}\n",
    "# save the communities list to a RData file\n",
    "save(communities, file=\"../data/all_tissues_communities.RData\")"
   ]
  },
  {
   "cell_type": "markdown",
   "metadata": {},
   "source": [
    "Create objects containing lists of the SNPs, genes, and edges in each tissue-specific network."
   ]
  },
  {
   "cell_type": "code",
   "execution_count": null,
   "metadata": {},
   "outputs": [],
   "source": [
    "# Extract snps\n",
    "snps <- lapply(communities, function(x){tapply(as.character(x$red.memb$red.names), x$red.memb$com, function(y){y})})\n",
    "\n",
    "# Extract genes\n",
    "genes <- lapply(communities, function(x){tapply(as.character(x$blue.memb$blue.names), x$blue.memb$com, function(y){y})})\n",
    "\n",
    "# Extract edges\n",
    "edges <- lapply(communities, function(x){\n",
    "    g <- x$blue.memb$com\n",
    "    names(g) <- as.character(x$blue.memb$blue.names)\n",
    "    s <- x$red.memb$com\n",
    "    names(s) <- as.character(x$red.memb$red.names)\n",
    "    e <- x$edges\n",
    "    e$snp.com <- s[e$red]\n",
    "    e$gen.com <- g[e$blue]\n",
    "    f <- e[e$snp.com == e$gen.com, ]\n",
    "    tapply(paste(f$red, f$blue, sep=\"_\"), f$snp.com, function(x){x})\n",
    "})\n",
    "\n",
    "save(snps, file=\"../data/all_tissues_snps.RData\")\n",
    "save(genes, file=\"../data/all_tissues_genes.RData\")\n",
    "save(edges, file=\"../data/all_tissues_edges.RData\")"
   ]
  },
  {
   "cell_type": "markdown",
   "metadata": {},
   "source": [
    "To plot the modularity of, we load the communities data object (if it is not already loaded) "
   ]
  },
  {
   "cell_type": "code",
   "execution_count": null,
   "metadata": {},
   "outputs": [],
   "source": [
    "# Load data\n",
    "communities.file <- \"data/all_tissues_communities.RData\"\n",
    "load(\"/opt/data/netZooR/tissueeqtl/data/tissue_names.RData\")\n",
    "load(communities.file)\n",
    "\n",
    "# extract network modularities from the communities data list\n",
    "modularity <- unlist(lapply(communities, function(x){max(x$modularity)}))\n",
    "\n",
    "# Plot modularity\n",
    "mod <- sort(modularity, decreasing=T)\n",
    "n <- as.character(Tissues[names(modularity)[order(modularity, decreasing=T)],2])\n",
    "barplot(mod, horiz=T, main = 'Modularity',  xlab = 'Modularity',cex.names=0.4, names=n, xlim = c(0,1), col='darkorchid')"
   ]
  },
  {
   "cell_type": "markdown",
   "metadata": {},
   "source": [
    "We can visually represent a network's community structure as a heatmap. Below we plot the communities for the breast tissue network. Each column represents a SNP, each row represents a gene, and each point within the heatmap represents an eQTL edge between a SNP and a gene. Intracommunity edges are plotted in blue, whereas intercommunity edges are plotted in black. "
   ]
  },
  {
   "cell_type": "code",
   "execution_count": null,
   "metadata": {},
   "outputs": [],
   "source": [
    "# breast tissue\n",
    "load(\"/opt/data/netZooR/tissueeqtl/data/breast_mammary_tissue_clusters.RData\")\n",
    "cols = rep(\"dodgerblue\",length(unique(condor.result$red.memb$com)))\n",
    "condor.plot.communities(condor.result,color_list = cols)"
   ]
  },
  {
   "cell_type": "markdown",
   "metadata": {},
   "source": [
    "## 7. Distribution of communities across chromosomes\n",
    "A question that might arise is wherether or not a communities within a network tend to contain SNPs/genes co-localized on the same chromosome. To investigate this, we first count the number of chromosomes represented by SNPs/genes in each community within each tissue."
   ]
  },
  {
   "cell_type": "code",
   "execution_count": null,
   "metadata": {},
   "outputs": [],
   "source": [
    "load(\"/opt/data/netZooR/tissueeqtl/data/all_tissues_eqtls_fdr0.20.2_1MB.Rdata\")\n",
    "load(\"/opt/data/netZooR/tissueeqtl/data/all_tissues_edges.RData\")\n",
    "load(\"/opt/data/netZooR/tissueeqtl/data/nb_samples.RData\")\n",
    "\n",
    "# Output files\n",
    "chr.data.file <- paste0('../data/summary_cluster_chr.Rdata')\n",
    "\n",
    "# Function to count number of chromosomes \n",
    "count.chr <- function(edg, qtl){\n",
    "    a <- unique(data.frame(qtl[edges %in% edg,], stringsAsFactors=F)$Chr)\n",
    "    b <- unique(data.frame(qtl[edges %in% edg], stringsAsFactors=F)$chr)\n",
    "    c(\"SNP\"=length(a), \"Genes\"=length(b), \"All\"=length(unique(c(a, b))))\n",
    "}\n",
    "\n",
    "### For each tissue, for each community, calculate number of chromosomes to which SNPs/Genes map\n",
    "nb.chr <- list()\n",
    "for(tissue in names(eqtl)){\n",
    "    print(tissue)\n",
    "    qtl <- eqtl[[`tissue`]]\n",
    "    qtl$edges <- paste(qtl$RSID, qtl$genes, sep='_')\n",
    "    qtl <- data.table(qtl)\n",
    "    setkey(qtl, edges)\n",
    "    nb.chr[[`tissue`]] <- matrix(unlist(lapply(edges[[`tissue`]], count.chr, qtl)), ncol=3, byrow=T)\n",
    "}\n",
    "save(nb.chr, file=chr.data.file)"
   ]
  },
  {
   "cell_type": "markdown",
   "metadata": {},
   "source": [
    "Now create a table summarizing the fraction of communities within a tissue that represent 1, 2, ..., uo to 22 chromosomes."
   ]
  },
  {
   "cell_type": "code",
   "execution_count": null,
   "metadata": {},
   "outputs": [],
   "source": [
    "## Create table summarizing proportion of communities with element in 1, 2, ..., 22 chromosomes for one tissue.\n",
    "tab.chr.snps <- data.frame( matrix(0, ncol=22, nrow=length(nb.chr)) )\n",
    "tab.chr.genes <- data.frame( matrix(0, ncol=22, nrow=length(nb.chr)) )\n",
    "tab.chr.all <- data.frame( matrix(0, ncol=22, nrow=length(nb.chr)) )\n",
    "colnames(tab.chr.snps ) <- colnames(tab.chr.genes ) <- colnames(tab.chr.all ) <- as.character(1:22)\n",
    "rownames(tab.chr.snps ) <- rownames(tab.chr.genes ) <- rownames(tab.chr.all ) <- Tissues[names(nb.chr),2]\n",
    "\n",
    "for(i in 1:length(nb.chr)){\n",
    "    tmp.snps <- table(nb.chr[[i]][,1])\n",
    "    tmp.genes <- table(nb.chr[[i]][,2])\n",
    "    tmp.all <- table(nb.chr[[i]][,3])\n",
    "    tab.chr.snps[i,names(tmp.snps)] <- tmp.snps/sum(tmp.snps)\n",
    "    tab.chr.genes[i,names(tmp.genes)] <- tmp.genes/sum(tmp.genes)\n",
    "    tab.chr.all[i,names(tmp.all)] <- tmp.all/sum(tmp.all)\n",
    "}\n",
    "head(tab.chr.snps)"
   ]
  },
  {
   "cell_type": "markdown",
   "metadata": {},
   "source": [
    "Vizualize the table as a bar plot."
   ]
  },
  {
   "cell_type": "code",
   "execution_count": null,
   "metadata": {},
   "outputs": [],
   "source": [
    "## Plot proportion of communities with SNPs and genes from more than 2 chromosomes\n",
    "b<-cbind(1-tab.chr.snps[,1], 1-tab.chr.genes[,1], 1-tab.chr.all[,1])\n",
    "rownames(b) <- rownames(tab.chr.snps)\n",
    "colnames(b) <- c(\"SNPs\", \"Genes\", \"Both\")\n",
    "barplot(t(b[,3:1]), horiz=T, beside=T, cex.names=0.4,\n",
    "        col=c( \"green3\", \"blue\",\"red\"), xlab=\"Proportion of community with SNPs and genes in >2chr\",\n",
    "        xlim=0:1)\n",
    "legend(\"right\", legend=colnames(b), fill=c(\"red\", \"blue\", \"green3\"), bty='n')"
   ]
  },
  {
   "cell_type": "markdown",
   "metadata": {},
   "source": [
    "## 8. Functional enrichment in communities"
   ]
  },
  {
   "cell_type": "markdown",
   "metadata": {},
   "source": [
    "We now investigate if different communities in aorta tissue are enriched for any biological functions. First we load the communities data object, select our tissue of interest, and then remove the \".1\" transcript numbers from the gene IDs so that we can perform enrichment using the gprofiler package."
   ]
  },
  {
   "cell_type": "code",
   "execution_count": null,
   "metadata": {},
   "outputs": [],
   "source": [
    "# load data\n",
    "load(\"/opt/data/netZooR/tissueeqtl/data/all_tissues_communities.RData\")\n",
    "names(communities)\n",
    "\n",
    "# select tissue\n",
    "tissue=\"artery_aorta\"\n",
    "condor.modularity <- communities[[`tissue`]]"
   ]
  },
  {
   "cell_type": "code",
   "execution_count": null,
   "metadata": {},
   "outputs": [],
   "source": [
    "# parse gene ids\n",
    "condor.modularity$blue.memb <- separate(data = condor.modularity$blue.memb, blue.names, c(\"gene\", \"transcript_num\"), sep=\"\\\\.\")\n",
    "head(condor.modularity$blue.memb)"
   ]
  },
  {
   "cell_type": "markdown",
   "metadata": {},
   "source": [
    "Now we order communities by size."
   ]
  },
  {
   "cell_type": "code",
   "execution_count": null,
   "metadata": {},
   "outputs": [],
   "source": [
    "coms <- unique(condor.modularity$blue.memb$com)\n",
    "com_size <- aggregate(gene ~ com, data=condor.modularity$blue.memb, FUN = length)\n",
    "head(com_size[order(-com_size$gene),])\n",
    "com_member_list <- lapply(com_size$com, FUN = function(x){\n",
    "  return(as.vector(unique(condor.modularity$blue.memb$gene[which(condor.modularity$blue.memb$com==x)])))\n",
    "})\n",
    "com_member_list_ordered <- as.list(com_member_list[order(-com_size$gene)])\n"
   ]
  },
  {
   "cell_type": "code",
   "execution_count": null,
   "metadata": {},
   "outputs": [],
   "source": [
    "# determine enrichment of GO biological processes, KEGG pathways and reactome terms in each community\n",
    "go_enrich <- gost(query = com_member_list_ordered,\n",
    "                organism = \"hsapiens\",\n",
    "                significant = TRUE, sources = c(\"GO:BP\",\"KEGG\",\"REAC\"),\n",
    "                domain_scope = \"annotated\", custom_bg = as.vector(unique(condor.modularity$blue.memb$gene)))\n",
    "gostplot(go_enrich, capped = FALSE, interactive = TRUE, )\n"
   ]
  },
  {
   "cell_type": "markdown",
   "metadata": {},
   "source": [
    "Let's make a separate plot for communities \"query 15\" and \"query 9\" so that we can see the plots better:"
   ]
  },
  {
   "cell_type": "code",
   "execution_count": null,
   "metadata": {},
   "outputs": [],
   "source": [
    "go_enrich <- gost(query = com_member_list_ordered[15],\n",
    "                organism = \"hsapiens\",\n",
    "                significant = TRUE, sources = c(\"GO:BP\",\"KEGG\",\"REAC\"),\n",
    "                domain_scope = \"annotated\", custom_bg = as.vector(unique(condor.modularity$blue.memb$gene)))\n",
    "gostplot(go_enrich, capped = FALSE, interactive = TRUE, )\n"
   ]
  },
  {
   "cell_type": "code",
   "execution_count": null,
   "metadata": {},
   "outputs": [],
   "source": [
    "go_enrich <- gost(query = com_member_list_ordered[9],\n",
    "                organism = \"hsapiens\",\n",
    "                significant = TRUE, sources = c(\"GO:BP\",\"KEGG\",\"REAC\"),\n",
    "                domain_scope = \"annotated\", custom_bg = as.vector(unique(condor.modularity$blue.memb$gene)))\n",
    "gostplot(go_enrich, capped = FALSE, interactive = TRUE, )"
   ]
  },
  {
   "cell_type": "markdown",
   "metadata": {},
   "source": [
    "These are interactive plots, and the enriched terms can be seen by hovering over the individual points. The first cluster is enriched for functions related to synaptic signalling and nervous system development, whereas the second cluster is enriched for metal ion response functions."
   ]
  },
  {
   "cell_type": "markdown",
   "metadata": {},
   "source": [
    "# References\n",
    "\n",
    "[1] Fagny M, Paulson JN, Kuijjer ML, Sonawane AR, Chen C.-Y., Lopes-Ramos CM, Glass K, Quackenbush J, Platig J. (2017) Exploring regulation in tissues with eQTL networks. _PNAS_ __114(37)__:E7841-E7850. [https://doi.org/10.1073/pnas.1707375114](https://doi.org/10.1073/pnas.1707375114)\n",
    "\n",
    "[2] Platig J, Castaldi PJ, DeMeo D, Quackenbush J. Bipartite community structure of eQTLs. PLoS computational biology. 2016 Sep 12;12(9):e1005033. [\n",
    "https://doi.org/10.1371/journal.pcbi.1005033](https://doi.org/10.1371/journal.pcbi.1005033)"
   ]
  }
 ],
 "metadata": {
  "kernelspec": {
   "display_name": "R",
   "language": "R",
   "name": "ir"
  },
  "language_info": {
   "codemirror_mode": "r",
   "file_extension": ".r",
   "mimetype": "text/x-r-source",
   "name": "R",
   "pygments_lexer": "r",
   "version": "4.0.3"
  }
 },
 "nbformat": 4,
 "nbformat_minor": 4
}
