{
 "cells": [
  {
   "cell_type": "raw",
   "metadata": {},
   "source": [
    "---\n",
    "title: \"Building PANDA Regulatory Networks from GTEx Gene Expression Data in R\"\n",
    "author: Camila Lopes-Ramos\n",
    "date: 2020-10-19\n",
    "output:\n",
    "  rmarkdown::html_vignette:\n",
    "    toc: yes\n",
    "vignette: >\n",
    "  %\\VignetteIndexEntry{pandaRApplicationinGTExData}\n",
    "  %\\VignetteEngine{knitr::rmarkdown}\n",
    "  %\\VignetteEncoding{UTF-8}\n",
    "---"
   ]
  },
  {
   "cell_type": "code",
   "execution_count": null,
   "metadata": {
    "lines_to_next_cell": 2,
    "tags": [
     "remove_cell"
    ]
   },
   "outputs": [],
   "source": [
    "knitr::opts_chunk$set(\n",
    "  collapse = TRUE,\n",
    "  comment = \"#>\"\n",
    ")"
   ]
  },
  {
   "cell_type": "markdown",
   "metadata": {
    "lines_to_next_cell": 0
   },
   "source": [
    "# Introduction\n",
    "In this vignette, we will build one regulatory network for LCL cell line samples and one for whole blood samples from the GTEx gene expression data using the netZooR package. Next, we will compare the two networks, and find the pathways enriched for genes differentially targeted between the LCL cell line and whole blood. \n",
    "  \n",
    "Cell lines are an essential tool in biomedical research and often used as surrogates for tissues. LCLs (obtained from the transformation of B cells present in whole blood) are among the most widely used continuous cell lines with the ability to proliferate indefinitely. By comparing the regulatory networks of LCL cell lines with its tissue of origin (whole blood), we find that LCLs exhibit large changes in their patterns of transcription factor regulation, specifically a loss of repressive transcription factor targeting of cell cycle genes.\n",
    "\n",
    "## Install packages\t"
   ]
  },
  {
   "cell_type": "code",
   "execution_count": null,
   "metadata": {
    "message": false,
    "tags": [
     "remove_output"
    ],
    "warning": false
   },
   "outputs": [],
   "source": [
    "if (!requireNamespace(\"BiocManager\", quietly = TRUE))\t\n",
    "    install.packages(\"BiocManager\",repos = \"http://cran.us.r-project.org\")\t\n",
    "BiocManager::install(\"fgsea\")\t\n",
    "# install.packages(\"reshape2\",repos = \"http://cran.us.r-project.org\")\t\n",
    "install.packages(\"ggplot2\",repos = \"http://cran.us.r-project.org\")\t"
   ]
  },
  {
   "cell_type": "code",
   "execution_count": null,
   "metadata": {
    "eval": false
   },
   "outputs": [],
   "source": [
    "install.packages(\"devtools\")\t\n",
    "library(devtools)\n",
    "devtools::install_github(\"netZoo/netZooR\", build_vignettes = FALSE)"
   ]
  },
  {
   "cell_type": "markdown",
   "metadata": {
    "lines_to_next_cell": 0
   },
   "source": [
    "## Load packages"
   ]
  },
  {
   "cell_type": "code",
   "execution_count": null,
   "metadata": {
    "lines_to_next_cell": 2,
    "message": false,
    "warning": false
   },
   "outputs": [],
   "source": [
    "library(netZooR)\n",
    "library(fgsea)\n",
    "library(ggplot2)\n",
    "library(reshape2)"
   ]
  },
  {
   "cell_type": "markdown",
   "metadata": {},
   "source": [
    "# PANDA\n",
    "\n",
    "## PANDA Overview\n",
    "PANDA (Passing Attributes between Networks for Data Assimilation) is a method for constructing gene regulatory networks. It uses message passing to find congruence between 3 different data layers: protein-protein interaction (PPI), gene expression, and transcription factor (TF) motif data.\n",
    "\n",
    "More details can be found in the published paper https://doi.org/10.1371/journal.pone.0064832.\n",
    "\n",
    "## Building a PANDA regulatory network\n",
    "\n",
    "Now we locate our ppi and motif priors. The ppi represents physical interactions between transcription factor proteins, and is an undirected network. The transcription factor motif prior represents putative regulation events where a transcription factor binds in the promotor of a gene to regulate its expression, as predicted by the presence of transcription factor binding motifs in the promotor region of the gene. The motif prior is thus a directed network linking transcription factors to their predicted gene targets. These are small example priors for the purposes of demonstrating this method. A complete set of motif priors by species can be downloaded from: https://sites.google.com/a/channing.harvard.edu/kimberlyglass/tools/resources  \n",
    "The function source.PPI can be used to source the protein-protein interaction in the STRING database.\n",
    "\n",
    "Let's take a look at the priors:"
   ]
  },
  {
   "cell_type": "code",
   "execution_count": null,
   "metadata": {},
   "outputs": [],
   "source": [
    "# download motif and ppi file from AWS Bucket\n",
    "system(\"curl -O  https://netzoo.s3.us-east-2.amazonaws.com/netZooR/tutorial_datasets/motif_subset.txt\")\n",
    "system(\"curl -O https://netzoo.s3.us-east-2.amazonaws.com/netZooR/tutorial_datasets/ppi_subset.txt\")\n",
    "motif <- read.delim(\"./motif_subset.txt\", stringsAsFactors=F, header=F)\n",
    "ppi <- read.delim(\"./ppi_subset.txt\", stringsAsFactors=F, header=F)\n",
    "ppi[1:5,]\n",
    "motif[1:5,]"
   ]
  },
  {
   "cell_type": "markdown",
   "metadata": {},
   "source": [
    "Now we locate our expression data. As an example, we will use a subset of the GTEx version 7 RNA-Seq data, downloaded from https://gtexportal.org/home/datasets. We start with a subset of RNA-Seq data (tpm normalized) for 1,000 genes from 130 LCL cell line samples and 407 whole blood samples. "
   ]
  },
  {
   "cell_type": "code",
   "execution_count": null,
   "metadata": {},
   "outputs": [],
   "source": [
    "# dowload and load the GTEx expression matrix (tpm normalized expression)\n",
    "system(\"curl -O  https://netzoo.s3.us-east-2.amazonaws.com/netZooR/tutorial_datasets/expression_tpm_lcl_blood_subset.txt\")\n",
    "exp <- read.delim(\"./expression_tpm_lcl_blood_subset.txt\", stringsAsFactors = F, check.names = F)\n",
    "# Log transform the tpm normalized expression\n",
    "exp <- log2(exp+1)\n",
    "# Determine the number of non-NA/non-zero rows in the expression data. This is to be able to ensure that PANDA will have enough values in the vectors to calculate pearson correlations between gene expression profiles in the construction of the gene co-expression prior.\n",
    "zero_na_counts <- apply(exp, MARGIN = 1, FUN = function(x) length(x[(!is.na(x) & x!=0) ]))\n",
    "# Maintain only genes with at least 20 valid gene expression entries\n",
    "exp <- exp[zero_na_counts > 20,]\n",
    "# # The set of genes in the expression, motif and ppi matrices must be the same\n",
    "# exp <- exp[rownames(exp) %in% motif$V2,]\n",
    "# motif_subset <- motif[(motif$V1 %in% rownames(exp)) & (motif$V2 %in% rownames(exp)),]\n",
    "# ppi_subset <- ppi[(ppi$V1 %in% motif_subset$V1) & (ppi$V2 %in% motif_subset$V1),]\n",
    "# Load the sample ids of LCL samples\n",
    "system(\"curl -O  https://netzoo.s3.us-east-2.amazonaws.com/netZooR/tutorial_datasets/LCL_samples.txt\")\n",
    "lcl_samples <-read.delim(\"./LCL_samples.txt\", header=FALSE, stringsAsFactors=FALSE)\n",
    "# Select the columns of the expression matrix corresponding to the LCL samples\n",
    "lcl_exp <- exp[,colnames(exp) %in% lcl_samples[,1]]\n",
    "# Load the sample ids of whole blood samples\n",
    "system(\"curl -O https://netzoo.s3.us-east-2.amazonaws.com/netZooR/tutorial_datasets/WholeBlood_samples.txt\")\n",
    "wblood_samples <-read.delim(\"./WholeBlood_samples.txt\", header=FALSE, stringsAsFactors=FALSE)\n",
    "# Select the columns of the expression matrix corresponding to the whole blood samples\n",
    "wb_exp <- exp[,colnames(exp) %in% wblood_samples[,1]]"
   ]
  },
  {
   "cell_type": "markdown",
   "metadata": {},
   "source": [
    "Now we run PANDA, pointing it to the parsed expression data, motif prior and ppi prior. We will point to the same motif and ppi priors for each PANDA run, which represents the initial putative regulatory information. We then point to the expression matrix correspoding to the LCL samples to generate the LCL regulatory network, and to the expression matrix corresponding to the whole blood samples to generate the whole blood regulatory network."
   ]
  },
  {
   "cell_type": "code",
   "execution_count": null,
   "metadata": {},
   "outputs": [],
   "source": [
    "pandaLCL <- panda(motif, lcl_exp, ppi, mode=\"intersection\")\n",
    "pandaWB <- panda(motif, wb_exp, ppi, mode=\"intersection\")\n",
    "pandaLCL\n",
    "pandaWB"
   ]
  },
  {
   "cell_type": "markdown",
   "metadata": {},
   "source": [
    "The regulatory network (bipartite graph) with edge weights representing the \"likelihood\" that a transcription factor binds the promotor of and regulates the expression of a gene.  "
   ]
  },
  {
   "cell_type": "code",
   "execution_count": null,
   "metadata": {},
   "outputs": [],
   "source": [
    "# The bipartite regulatory network (transcription factors as rows and target genes as columns)\n",
    "regNetLCL <- pandaLCL@regNet\n",
    "regNetLCL[1:5,1:5]\n",
    "regNetWB <- pandaWB@regNet"
   ]
  },
  {
   "cell_type": "markdown",
   "metadata": {
    "lines_to_next_cell": 0
   },
   "source": [
    "# Visualizing networks in Cytoscape\n",
    "In this section we will visualize parts of the network using the Cytoscape software.\n",
    "Download Cytoscape from: https://cytoscape.org and have the software open before calling the function.\n",
    "\n",
    "## Preparing data to plot"
   ]
  },
  {
   "cell_type": "code",
   "execution_count": null,
   "metadata": {},
   "outputs": [],
   "source": [
    "# We will use the function vis.panda.in.cytoscape to plot a set of nodes and edges on Cytoscape. The input for this function is a data.frame of edges to plot with 4 columns: \"tf\", \"gene\", \"motif\" (TF motif present or not on gene promoter), \"force\" (edge weight calculated by PANDA).\n",
    "lcl_vis <- reshape2::melt(pandaLCL@regNet)\n",
    "wb_vis <- reshape2::melt(pandaWB@regNet)\n",
    "lcl_vis <- data.frame(\"TF\"=as.character(lcl_vis[,1]),\"Gene\"=as.character(lcl_vis[,2]),\"Motif\"=NA,\"Score\"=as.numeric(lcl_vis[,3]),stringsAsFactors = FALSE)\n",
    "wb_vis <- data.frame(\"TF\"=as.character(wb_vis[,1]),\"Gene\"=as.character(wb_vis[,2]),\"Motif\"=NA,\"Score\"=as.numeric(wb_vis[,3]),stringsAsFactors = FALSE)\n",
    "head(lcl_vis)"
   ]
  },
  {
   "cell_type": "markdown",
   "metadata": {
    "lines_to_next_cell": 0
   },
   "source": [
    "## Plot the 200 highest edge weights"
   ]
  },
  {
   "cell_type": "code",
   "execution_count": null,
   "metadata": {
    "eval": false
   },
   "outputs": [],
   "source": [
    "n=200 # number of edges to plot \n",
    "top <- order(lcl_vis$Score,decreasing=T)[1:n]\n",
    "lcl_vis_top <- lcl_vis[top,]\n",
    "# Plot in cytoscape (open Cytoscape before running this command)\n",
    "vis.panda.in.cytoscape(lcl_vis_top, network_name=\"LCL\")\n",
    "# Here we will load a customized visual style for our network, in which TF nodes are orange circles, target gene nodes are blue squares, and edges shade and width are the edge weight (likelyhood of regulatory interaction between the TF and gene). You can further customize the network style directly from Cytoscape.\n",
    "create.panda.style(style_name=\"PandaStyle\")"
   ]
  },
  {
   "cell_type": "markdown",
   "metadata": {
    "lines_to_next_cell": 0
   },
   "source": [
    "## Plot the top differential edges betwen LCL and WB"
   ]
  },
  {
   "cell_type": "code",
   "execution_count": null,
   "metadata": {
    "eval": false,
    "message": false,
    "warning": false
   },
   "outputs": [],
   "source": [
    "# Select the top differential edge weights betweeen LCL and whole blood\n",
    "diffRes <- panda.diff.edges(lcl_vis, wb_vis, condition_name=\"LCL\")\n",
    "head(diffRes)\n",
    "# Number of differential edges is:\n",
    "nrow(diffRes)\n",
    "# Select the top differential edges higher in LCL to plot in Cytoscape\n",
    "n=200 # number of edges to select from each condition\n",
    "diffResLCL <- diffRes[diffRes$LCL==\"T\",]\n",
    "diffResLCL <- diffResLCL[order(diffResLCL$Score,decreasing=TRUE),][1:n,]\n",
    "# Select the top differential edges higher in whole blood to plot in Cytoscape\n",
    "diffResWB <- diffRes[diffRes$LCL==\"F\",]\n",
    "diffResWB <- diffResWB[order(diffResWB$Score,decreasing=TRUE),][1:n,]\n",
    "# Combine top differential edges in LCL and WB to plot in Cytoscape\n",
    "diffRes_vis <- rbind(diffResLCL, diffResWB)\n",
    "# Plot the network (open Cytoscape before running this command)\n",
    "# Purple edges indicate higher edge weight in the defined \"condition_name\" parameter (LCL in our example), and green edges indicate higher edge weight in the other condition (whole blood in our example).\n",
    "vis.diff.panda.in.cytoscape(diffRes_vis, condition_name = \"LCL\", network_name=\"diff.PANDA\")\n",
    "# Apply the style to the network\n",
    "create.diff.panda.style(style_name=\"Diff.PandaStyle\", condition_name=\"LCL\")"
   ]
  },
  {
   "cell_type": "markdown",
   "metadata": {},
   "source": [
    "# Calculating degree  \n",
    "* out-degrees of TFs: sum of the weights of outbound edges around a TF\n",
    "* in-degrees of genes: sum of the weights of inbound edges around a gene"
   ]
  },
  {
   "cell_type": "code",
   "execution_count": null,
   "metadata": {},
   "outputs": [],
   "source": [
    "lcl_outdegree <- calcDegree(pandaLCL, type=\"tf\")\n",
    "wb_outdegree <- calcDegree(pandaWB, type=\"tf\")\n",
    "lcl_indegree <- calcDegree(pandaLCL, type=\"gene\")\n",
    "wb_indegree <- calcDegree(pandaWB, type=\"gene\")\n",
    "# Calculate the gene in-degree difference for two different panda regulatory networks (LCL minus whole blood)\n",
    "degreeDiff <- calcDegreeDifference(pandaLCL, pandaWB, type=\"gene\")\n",
    "head(degreeDiff)"
   ]
  },
  {
   "cell_type": "markdown",
   "metadata": {
    "lines_to_next_cell": 0
   },
   "source": [
    "# Gene Set Enrichment Analysis\n",
    "Well will use the fgsea package to perform gene set enrichment analysis. We need to point to a ranked gene list (for example the gene in-degree difference between LCL and whole blood), and a list of gene sets (or signatures) in gmt format to test for enrichment. The gene sets can be downloaded from MSigDB: http://software.broadinstitute.org/gsea/msigdb Same gene annotation should be used in the ranked gene list and gene sets. In our example we will use the KEGG pathways downloaded from MSigDB.\n",
    "\n",
    "## Run fgsea"
   ]
  },
  {
   "cell_type": "code",
   "execution_count": null,
   "metadata": {
    "message": false,
    "warning": false
   },
   "outputs": [],
   "source": [
    "system(\"curl -O  https://netzoo.s3.us-east-2.amazonaws.com/netZooR/tutorial_datasets/c2.cp.kegg.v7.0.symbols.gmt\")\n",
    "pathways <- gmtPathways(\"./c2.cp.kegg.v7.0.symbols.gmt\")\n",
    "# To retrieve biological-relevant processes, we will load and use the complete ranked gene list (27,175 genes) calculated from the complete network instead of the 1,000 subset genes we used in this tutorial example to build PANDA networks within a very short run time.\n",
    "system(\"curl -O  https://netzoo.s3.us-east-2.amazonaws.com/netZooR/tutorial_datasets/lclWB_indegreeDifference.rnk\")\n",
    "degreeDiff_all <- read.delim(\"./lclWB_indegreeDifference.rnk\",stringsAsFactors = F,header=F)\n",
    "degreeDiff_all <- setNames(degreeDiff_all[,2], degreeDiff_all[,1])\n",
    "fgseaRes <- fgsea(pathways, degreeDiff_all, minSize=15, maxSize=500, nperm=1000)\n",
    "head(fgseaRes)\n",
    "# Subset to pathways with FDR < 0.05\n",
    "sig <- fgseaRes[fgseaRes$padj < 0.05,]\n",
    "# Get the top 10 significant pathways enriched for genes having lower targeting in LCLs  \n",
    "sig[order(sig$NES)[1:10],]"
   ]
  },
  {
   "cell_type": "markdown",
   "metadata": {},
   "source": [
    "## Bubble plot of top differentially targeted pathways\n",
    "Bubble plot of gene sets (KEGG pathways) on y-axis and adjusted p-value (padj) on x-axis. Bubble size indicates the number of genes in each gene set, and bubble color indicates the normalized enrichment score (NES). Blue is for negative NES (enrichment of higher targeted genes in whole blood), and red is for positive NES (enrichment of higher targeted genes in LCL)."
   ]
  },
  {
   "cell_type": "code",
   "execution_count": null,
   "metadata": {
    "fig.height": 6,
    "fig.width": 7,
    "message": false,
    "warning": false
   },
   "outputs": [],
   "source": [
    "dat <- data.frame(fgseaRes)\n",
    "# Settings\n",
    "fdrcut <- 0.05 # FDR cut-off to use as output for significant signatures\n",
    "dencol_neg <- \"blue\" # bubble plot color for negative ES\n",
    "dencol_pos <- \"red\" # bubble plot color for positive ES\n",
    "signnamelength <- 4 # set to remove prefix from signature names (2 for \"GO\", 4 for \"KEGG\", 8 for \"REACTOME\")\n",
    "asp <- 3 # aspect ratio of bubble plot\n",
    "charcut <- 100 # cut signature name in heatmap to this nr of characters\n",
    "# Make signature names more readable\n",
    "a <- as.character(dat$pathway) # 'a' is a great variable name to substitute row names with something more readable\n",
    "for (j in 1:length(a)){\n",
    "  a[j] <- substr(a[j], signnamelength+2, nchar(a[j]))\n",
    "}\n",
    "a <- tolower(a) # convert to lower case (you may want to comment this out, it really depends on what signatures you are looking at, c6 signatures contain gene names, and converting those to lower case may be confusing)\n",
    "for (j in 1:length(a)){\n",
    "  if(nchar(a[j])>charcut) { a[j] <- paste(substr(a[j], 1, charcut), \"...\", sep=\" \")}\n",
    "} # cut signature names that have more characters than charcut, and add \"...\"\n",
    "a <- gsub(\"_\", \" \", a)\n",
    "dat$NAME <- a\n",
    "# Determine what signatures to plot (based on FDR cut)\n",
    "dat2 <- dat[dat[,\"padj\"]<fdrcut,]\n",
    "dat2 <- dat2[order(dat2[,\"padj\"]),] \n",
    "dat2$signature <- factor(dat2$NAME, rev(as.character(dat2$NAME)))\n",
    "# Determine what labels to color\n",
    "sign_neg <- which(dat2[,\"NES\"]<0)\n",
    "sign_pos <- which(dat2[,\"NES\"]>0)\n",
    "# Color labels\n",
    "signcol <- rep(NA, length(dat2$signature))\n",
    "signcol[sign_neg] <- dencol_neg # text color of negative signatures\n",
    "signcol[sign_pos] <- dencol_pos # text color of positive signatures\n",
    "signcol <- rev(signcol) # need to revert vector of colors, because ggplot starts plotting these from below\n",
    "# Plot bubble plot\n",
    "g<-ggplot(dat2, aes(x=padj,y=signature,size=size))\n",
    "g+geom_point(aes(fill=NES), shape=21, colour=\"white\")+\n",
    "  theme_bw()+ # white background, needs to be placed before the \"signcol\" line\n",
    "  xlim(0,fdrcut)+\n",
    "  scale_size_area(max_size=10,guide=\"none\")+\n",
    "  scale_fill_gradient2(low=dencol_neg, high=dencol_pos)+\n",
    "  theme(axis.text.y = element_text(colour=signcol))+\n",
    "  theme(aspect.ratio=asp, axis.title.y=element_blank()) # test aspect.ratio"
   ]
  }
 ],
 "metadata": {
  "jupytext": {
   "cell_metadata_filter": "message,eval,warning,tags,fig.width,fig.height,-all",
   "main_language": "R",
   "notebook_metadata_filter": "-all"
  },
  "kernelspec": {
   "display_name": "R",
   "language": "R",
   "name": "ir"
  },
  "language_info": {
   "codemirror_mode": "r",
   "file_extension": ".r",
   "mimetype": "text/x-r-source",
   "name": "R",
   "pygments_lexer": "r",
   "version": "3.6.2"
  }
 },
 "nbformat": 4,
 "nbformat_minor": 4
}
