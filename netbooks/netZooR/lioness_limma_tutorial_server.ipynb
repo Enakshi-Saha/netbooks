{
 "cells": [
  {
   "cell_type": "markdown",
   "metadata": {
    "lines_to_next_cell": 0
   },
   "source": [
    "# Comparing LIONESS Regulatory Networks using limma\n",
    "\n",
    "\n",
    "# Introduction\n",
    "LIONESS (Linear Interpolation to Obtain Network Estimates for Single Samples) is a method for creating sample-specific networks. When applied to a PANDA regulatory network, the result is a set of gene regulatory networks, one for each sample in the gene expression dataset. More information on LIONESS can be found in the published paper: https://doi.org/10.1016/j.isci.2019.03.021  \n",
    "  \n",
    "In this vignette, we will compare LIONESS regulatory networks from 207 females and 238 males with colon cancer using RNA-Seq data from TCGA. We will compare the edge weights between females and males using a linear regression model and correcting for the covariates age, race, and disease stage, as available in the limma package. We will also compare the gene's in-degree (defined as the sum of the gene's incoming edge weights from all TFs in the network). Finally, we will perform gene set enrichment analysis to find the pathways enriched for genes differentially targeted by sex in colon cancer.\n",
    "\n",
    "## Install and load packages"
   ]
  },
  {
   "cell_type": "code",
   "execution_count": null,
   "metadata": {
    "lines_to_next_cell": 2,
    "message": false,
    "warning": false
   },
   "outputs": [],
   "source": [
    "#if (!requireNamespace(\"BiocManager\", quietly = TRUE))   \n",
    "#    install.packages(\"BiocManager\",repos = \"http://cran.us.r-project.org\")  \n",
    "#BiocManager::install(\"fgsea\")\n",
    "#BiocManager::install(\"limma\")\n",
    "#BiocManager::install(\"Biobase\")\n",
    "#install.packages(\"ggplot2\")\n",
    "#install.packages(\"igraph\")\n",
    "\n",
    "library(fgsea)\n",
    "library(limma)\n",
    "library(Biobase)\n",
    "library(ggplot2)\n",
    "library(igraph)"
   ]
  },
  {
   "cell_type": "markdown",
   "metadata": {},
   "source": [
    "# Load the data\n",
    "\n",
    "For the purposes of demonstrating the workflow, we will load only a subet of LIONESS networks. Our subset shows the edge weights for 50,000 edges (rows) by 445 samples (columns).\n",
    "Let's take a look at the networks:"
   ]
  },
  {
   "cell_type": "code",
   "execution_count": null,
   "metadata": {},
   "outputs": [],
   "source": [
    "# download a subset of LIONESS networks from netZooR AWS Bucket to working directory.\n",
    "lioness <- read.delim(\"/opt/data/lioness_coloncancer_subset.txt\",stringsAsFactors = F, check.names = F)\n",
    "head(lioness[,1:5])"
   ]
  },
  {
   "cell_type": "code",
   "execution_count": null,
   "metadata": {},
   "outputs": [],
   "source": [
    "# Add row names as \"TF_gene\" and remove columns 1 and 2 with TF and gene name\n",
    "rownames(lioness) <- apply(lioness, 1, function(x){\n",
    "  paste(x[1], x[2], sep=\"_\")\n",
    "})\n",
    "# Remove TF and gene columns\n",
    "lioness <- lioness[,-(1:2)]\n",
    "head(lioness[,1:5])"
   ]
  },
  {
   "cell_type": "code",
   "execution_count": null,
   "metadata": {},
   "outputs": [],
   "source": [
    "# Load the complete gene in-degree (sum of all edge weights for each gene) and clinical data stored as an expression set\n",
    "load(\"/opt/data/inDegree_allEdges_coloncancer.rdata\")\n",
    "# Clinical information\n",
    "pData(obj1)[1:5,30:35]"
   ]
  },
  {
   "cell_type": "markdown",
   "metadata": {
    "lines_to_next_cell": 0
   },
   "source": [
    "# Compare the edge weights\n",
    "Compare the edge weights between males and females using linear regression model (limma package) and adjusting for covariates: stage, age, race.  \n",
    "\n",
    "## Run limma"
   ]
  },
  {
   "cell_type": "code",
   "execution_count": null,
   "metadata": {
    "lines_to_next_cell": 0
   },
   "outputs": [],
   "source": [
    "# Define the covariates\n",
    "gender <- factor(as.character(pData(obj1)$gender),levels=c(\"MALE\",\"FEMALE\"))\n",
    "stage <- (as.character(pData(obj1)$uicc_stage))\n",
    "stage[which(is.na(stage))] <- \"NA\"    \n",
    "stage <- as.factor(stage)\n",
    "race <- as.character(pData(obj1)$race)\n",
    "race[which(is.na(race))] <- \"NA\"\n",
    "race <- as.factor(race)\n",
    "age <- as.numeric(pData(obj1)$age_at_initial_pathologic_diagnosis)\n",
    "age[which(is.na(age))] <- mean(age,na.rm=TRUE)\n",
    "design = model.matrix(~ stage + race + age + gender)\n",
    "# Run limma\n",
    "fitGood = lmFit(as.matrix(lioness),design)\n",
    "fitGood = eBayes(fitGood)\n",
    "tb = topTable(fitGood,coef=\"genderFEMALE\",number=Inf)\n",
    "head(tb)"
   ]
  },
  {
   "cell_type": "markdown",
   "metadata": {},
   "source": [
    "## Visualize the top edges with differential weights by sex\n",
    "We select the top 50 edges with differential edge weights by sex and convert them into an igraph graph.data.frame object for visualization. We color edges red if they have higher coefficients in the female group, and blue if they have higher coefficients in the male group."
   ]
  },
  {
   "cell_type": "code",
   "execution_count": null,
   "metadata": {},
   "outputs": [],
   "source": [
    "toptable_edges <- t(matrix(unlist(c(strsplit(row.names(tb), \"_\"))),2))\n",
    "z <- cbind(toptable_edges[1:50,], tb$logFC[1:50])\n",
    "g <- graph.data.frame(z, directed=FALSE)\n",
    "E(g)$weight <- as.numeric(z[,3])\n",
    "E(g)$color[E(g)$weight<0] <- \"blue\"\n",
    "E(g)$color[E(g)$weight>0] <- \"red\"\n",
    "E(g)$weight <- 1\n",
    "par(mar=c(0,0,0,0))\n",
    "plot(g, vertex.label.cex=0.7, vertex.size=10,  vertex.label.font=3, edge.width=5*(abs(as.numeric(z[,3]))))"
   ]
  },
  {
   "cell_type": "markdown",
   "metadata": {
    "lines_to_next_cell": 0
   },
   "source": [
    "# Compare the gene in-degree\n",
    "Compare the gene in-degree between males and females using linear regression model (limma package) and adjusting for covariates: stage, age, race.\n",
    "\n",
    "## Run limma"
   ]
  },
  {
   "cell_type": "code",
   "execution_count": null,
   "metadata": {},
   "outputs": [],
   "source": [
    "indegree <- assayData(obj1)[[\"quantile\"]]\n",
    "head(indegree[,1:3])"
   ]
  },
  {
   "cell_type": "code",
   "execution_count": null,
   "metadata": {},
   "outputs": [],
   "source": [
    "# Use the same design matrix as before\n",
    "fitGood = lmFit(indegree,design)\n",
    "fitGood = eBayes(fitGood)\n",
    "tb_degree = topTable(fitGood,coef=\"genderFEMALE\",number=Inf)\n",
    "head(tb_degree)"
   ]
  },
  {
   "cell_type": "code",
   "execution_count": null,
   "metadata": {},
   "outputs": [],
   "source": [
    "# Create gene ranks\n",
    "indegree_rank <- setNames(object=tb_degree[,\"t\"], rownames(tb_degree))\n",
    "head(indegree_rank)"
   ]
  },
  {
   "cell_type": "markdown",
   "metadata": {
    "lines_to_next_cell": 0
   },
   "source": [
    "# Gene Set Enrichment Analysis\n",
    "Well will use the fgsea package to perform gene set enrichment analysis. We need to point to a ranked gene list (for example the gene in-degree statistical difference (t value) between males and females), and a list of gene sets (or signatures) in gmt format to test for enrichment. The gene sets can be downloaded from MSigDB: http://software.broadinstitute.org/gsea/msigdb Same gene annotation should be used in the ranked gene list and gene sets.\n",
    "\n",
    "## Run fgsea"
   ]
  },
  {
   "cell_type": "code",
   "execution_count": null,
   "metadata": {
    "message": false,
    "warning": false
   },
   "outputs": [],
   "source": [
    "pathways <- gmtPathways(\"/opt/data/c2.cp.kegg.v7.0.symbols.gmt\")\n",
    "fgseaRes <- fgsea(pathways, indegree_rank, minSize=15, maxSize=500, nperm=1000)\n",
    "head(fgseaRes)"
   ]
  },
  {
   "cell_type": "code",
   "execution_count": null,
   "metadata": {},
   "outputs": [],
   "source": [
    "# Subset to pathways with FDR < 0.05\n",
    "sig <- fgseaRes[fgseaRes$padj < 0.05,]"
   ]
  },
  {
   "cell_type": "code",
   "execution_count": null,
   "metadata": {},
   "outputs": [],
   "source": [
    "# Top 10 pathways enriched in females\n",
    "sig$pathway[sig$NES > 0][1:10]"
   ]
  },
  {
   "cell_type": "code",
   "execution_count": null,
   "metadata": {},
   "outputs": [],
   "source": [
    "# Top 10 pathways enriched in males\n",
    "sig$pathway[sig$NES < 0][1:10]"
   ]
  },
  {
   "cell_type": "markdown",
   "metadata": {},
   "source": [
    "## Bubble plot of differentially targeted pathways by sex\n",
    "Bubble plot of gene sets on y-axis and adjusted p-value (padj) on x-axis. Bubble size indicates the number of genes in each gene set, and bubble color indicates the normalized enrichment score (NES). Blue is for negative NES (enrichment of higher targeted genes in males), and red is for positive NES (enrichment of higher targeted genes in females)."
   ]
  },
  {
   "cell_type": "code",
   "execution_count": null,
   "metadata": {
    "fig.height": 6,
    "fig.width": 7,
    "message": false,
    "warning": false
   },
   "outputs": [],
   "source": [
    "dat <- data.frame(fgseaRes)\n",
    "# Settings\n",
    "fdrcut <- 0.05 # FDR cut-off to use as output for significant signatures\n",
    "dencol_neg <- \"blue\" # bubble plot color for negative ES\n",
    "dencol_pos <- \"red\" # bubble plot color for positive ES\n",
    "signnamelength <- 4 # set to remove prefix from signature names (2 for \"GO\", 4 for \"KEGG\", 8 for \"REACTOME\")\n",
    "asp <- 3 # aspect ratio of bubble plot\n",
    "charcut <- 100 # cut signature name in heatmap to this nr of characters\n",
    "# Make signature names more readable\n",
    "a <- as.character(dat$pathway) # 'a' is a great variable name to substitute row names with something more readable\n",
    "for (j in 1:length(a)){\n",
    "  a[j] <- substr(a[j], signnamelength+2, nchar(a[j]))\n",
    "}\n",
    "a <- tolower(a) # convert to lower case (you may want to comment this out, it really depends on what signatures you are looking at, c6 signatures contain gene names, and converting those to lower case may be confusing)\n",
    "for (j in 1:length(a)){\n",
    "  if(nchar(a[j])>charcut) { a[j] <- paste(substr(a[j], 1, charcut), \"...\", sep=\" \")}\n",
    "} # cut signature names that have more characters than charcut, and add \"...\"\n",
    "a <- gsub(\"_\", \" \", a)\n",
    "dat$NAME <- a\n",
    "# Determine what signatures to plot (based on FDR cut)\n",
    "dat2 <- dat[dat[,\"padj\"]<fdrcut,]\n",
    "dat2 <- dat2[order(dat2[,\"padj\"]),] \n",
    "dat2$signature <- factor(dat2$NAME, rev(as.character(dat2$NAME)))\n",
    "# Determine what labels to color\n",
    "sign_neg <- which(dat2[,\"NES\"]<0)\n",
    "sign_pos <- which(dat2[,\"NES\"]>0)\n",
    "# Color labels\n",
    "signcol <- rep(NA, length(dat2$signature))\n",
    "signcol[sign_neg] <- dencol_neg # text color of negative signatures\n",
    "signcol[sign_pos] <- dencol_pos # text color of positive signatures\n",
    "signcol <- rev(signcol) # need to revert vector of colors, because ggplot starts plotting these from below\n",
    "# Plot bubble plot\n",
    "g<-ggplot(dat2, aes(x=padj,y=signature,size=size))\n",
    "g+geom_point(aes(fill=NES), shape=21, colour=\"white\")+\n",
    "  theme_bw()+ # white background, needs to be placed before the \"signcol\" line\n",
    "  xlim(0,fdrcut)+\n",
    "  scale_size_area(max_size=10,guide=\"none\")+\n",
    "  scale_fill_gradient2(low=dencol_neg, high=dencol_pos)+\n",
    "  theme(axis.text.y = element_text(colour=signcol))+\n",
    "  theme(aspect.ratio=asp, axis.title.y=element_blank()) # test aspect.ratio"
   ]
  }
 ],
 "metadata": {
  "jupytext": {
   "cell_metadata_filter": "warning,message,fig.width,fig.height,tags,-all",
   "main_language": "R",
   "notebook_metadata_filter": "-all"
  },
  "kernelspec": {
   "display_name": "R",
   "language": "R",
   "name": "ir"
  },
  "language_info": {
   "codemirror_mode": "r",
   "file_extension": ".r",
   "mimetype": "text/x-r-source",
   "name": "R",
   "pygments_lexer": "r",
   "version": "4.0.2"
  }
 },
 "nbformat": 4,
 "nbformat_minor": 2
}
