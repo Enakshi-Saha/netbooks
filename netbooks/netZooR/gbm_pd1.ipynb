{
 "cells": [
  {
   "cell_type": "markdown",
   "metadata": {},
   "source": [
    "# Gene regulatory network analysis in Glioblastoma \n",
    "Author: Camila Lopes-Ramos<sup>1</sup>\n",
    "\n",
    "<sup>1</sup> Department of Biostatistics, Harvard T.H. Chan School of Public Health, Boston, MA.\n",
    "\n",
    "## Introduction\n",
    "This tutorial comes with our recent study of gene regulatory networks in Glioblastoma<sup>1</sup>. All the generated networks in this analysis are available in [GRAND database](https://grand.networkmedicine.org/cancers/).\n",
    "## Load packages\n",
    "\n",
    "We start first by loading the required packages."
   ]
  },
  {
   "cell_type": "code",
   "execution_count": null,
   "metadata": {},
   "outputs": [],
   "source": [
    "library(limma) # for differential targeting analysis\n",
    "library(reshape2) # for data processing\n",
    "library(ggplot2) # for plotting\n",
    "library(tidyr)  for data processing\n",
    "library(ggpubr)"
   ]
  },
  {
   "cell_type": "markdown",
   "metadata": {},
   "source": [
    "## 1. Differential methylation analysis\n",
    "Differential methylation analysis using limma on methylation B-values quantile normalized (limited to probes on PD1 pathway) to compare short- vs long-survival groups, and correcting for gender, adjuvant therapy and age."
   ]
  },
  {
   "cell_type": "code",
   "execution_count": null,
   "metadata": {},
   "outputs": [],
   "source": [
    "# Function to perform differential methylation analysis using limma and correcting for the covariates: gender, adj therapy and age\n",
    "methyl_limma<-function(obj,quantileNorm=TRUE){ \n",
    "  obj<-obj[,!is.na(pData(obj)$survival)]\n",
    "  gene <- unlist(lapply(fData(obj)$pd1_genes, function(x) paste(x, collapse = \", \")))\n",
    "  # Covariates\n",
    "  surv <- factor(pData(obj)$survival, levels=c(\"long\", \"short\"))\n",
    "  gender <- as.character(pData(obj)$gender.y)\n",
    "  gender[which(is.na(gender))] <- \"NA\"    \n",
    "  gender <- as.factor(gender)\n",
    "  adj <- as.character(pData(obj)$neoadjuvanttherapy)\n",
    "  adj[which(is.na(adj))] <- \"NA\"    \n",
    "  adj <- as.factor(adj)\n",
    "  age <- as.numeric(pData(obj)$yearstobirth)\n",
    "  age[which(is.na(age))] <- mean(age,na.rm=TRUE)\n",
    "  # limma\n",
    "  design <- model.matrix(~ gender + adj + age + surv)\n",
    "  mat_lmFit<-exprs(obj)\n",
    "  if(quantileNorm==TRUE) mat_lmFit<-normalizeQuantiles(mat_lmFit)\n",
    "  fitGood <- lmFit(mat_lmFit,design)\n",
    "  fitGood <- eBayes(fitGood)\n",
    "  # Save output table\n",
    "  deg <- topTable(fitGood,coef=\"survshort\",number=Inf, genelist=gene)\n",
    "  Mean <- t(apply(mat_lmFit, 1, function(x) by(x, surv, mean, na.rm=TRUE)))\n",
    "  Mean <- Mean[rownames(deg),]\n",
    "  tab <- data.frame(\"Gene.ID\"=deg[,\"ID\"], \"BetaMean.Short-term\"=Mean[,\"short\"], \"BetaMean.Long-term\"=Mean[,\"long\"], deg[,c(\"P.Value\",\"adj.P.Val\")])\n",
    "  tab\n",
    "}"
   ]
  },
  {
   "cell_type": "markdown",
   "metadata": {},
   "source": [
    "Run differential methylation analysis for 450K platform"
   ]
  },
  {
   "cell_type": "code",
   "execution_count": null,
   "metadata": {},
   "outputs": [],
   "source": [
    "load(\"/opt/data/netZooR/gbm/methyl_obj450_pd1.RData\")\n",
    "Platform.450K <- methyl_limma(obj450_pd1,quantileNorm=TRUE)\n",
    "head(Platform.450K)"
   ]
  },
  {
   "cell_type": "markdown",
   "metadata": {},
   "source": [
    "Run differential methylation analysis for 27K platform"
   ]
  },
  {
   "cell_type": "code",
   "execution_count": null,
   "metadata": {},
   "outputs": [],
   "source": [
    "load(\"/opt/data/netZooR/gbm/methyl_obj27_pd1.RData\")\n",
    "Platform.27K <- methyl_limma(obj27_pd1,quantileNorm=TRUE)\n",
    "head(Platform.27K)"
   ]
  },
  {
   "cell_type": "markdown",
   "metadata": {},
   "source": [
    "## 2. Estimation of cell compositions\n",
    "This is code for Supplemental Figure S1<sup>1</sup>.\n",
    "We used xCell to estimate cell compositions in each tumor sample in each of the three datasets. The scores calculated by xCell approximate cell type fractions, and adjust for overlap between closely related cell types. We applied the xCell pipeline (https://xcell.ucsf.edu) to each of the datasets and used the default threshold of 0.2 to filter out cell types not present in the datasets.\n",
    "We performed t-test followed by p-value adjustment by FDR to compare xCell score values between short and long-term survival groups.\n",
    "Figure S1 shows boxplots comparing xCell score values between short and long-term survival groups in the discovery and validation datasets. Here we included only cell types with significant abundance levels (xCell scores > 0.2 in at least one sample) as well as total immune and microenvironment scores.\n",
    "## 2.1. Data processing\n",
    "#### Supplemental Figure S1.A - Discovery dataset 1"
   ]
  },
  {
   "cell_type": "code",
   "execution_count": null,
   "metadata": {},
   "outputs": [],
   "source": [
    "# Load xCell scores data\n",
    "dat1_xcell <- read.delim(\"/opt/data/netZooR/gbm/xCell_score_discoverySet1.txt\",stringsAsFactors = F, check.names = F)\n",
    "# Keep only cell types present with an xCell score of at least 0.2 in at least 1 sample\n",
    "idx <-  apply(dat1_xcell, 2, function(x) sum(x > 0.2) >= 1 )\n",
    "dat1_xcellsub <- dat1_xcell[,idx]\n",
    "# Calculate adjusted p-values\n",
    "a1 <- which(dat1_xcellsub$survival==\"long\")\n",
    "a2 <- which(dat1_xcellsub$survival==\"short\")\n",
    "pvals <-  apply(dat1_xcellsub[,1:ncol(dat1_xcellsub)-1], 2, function(x) t.test(x[a1],x[a2])$p.val )\n",
    "adjp <- p.adjust(pvals)\n",
    "# Cell types with significantly different abundance between long- and short-term survival\n",
    "# CD8+ naive T-cells FDR=0.01491527\n",
    "adjp[which(adjp<0.05)] \n",
    "# Boxplot comparing xCell score values between long- and short-term survival\n",
    "dat1_xcellsub_plot <- melt(dat1_xcellsub)\n",
    "colnames(dat1_xcellsub_plot)[2] <- \"celltype\"\n",
    "ggplot(dat1_xcellsub_plot, aes(x = reorder(celltype, -value, FUN = median), y = value, fill = survival))  + geom_boxplot()+ theme(axis.text.x = element_text(angle = 90, hjust = 1, vjust=.3)) +scale_fill_manual(values=c(\"dodgerblue\", \"firebrick1\")) +labs(title = \"Discovery dataset 1\", x = \"Cell Type\", y= \"xCell Value\") #ordered x axis descending"
   ]
  },
  {
   "cell_type": "markdown",
   "metadata": {},
   "source": [
    "#### Supplemental Figure S1.B - Discovery dataset 2"
   ]
  },
  {
   "cell_type": "code",
   "execution_count": null,
   "metadata": {},
   "outputs": [],
   "source": [
    "# Load xCell scores data\n",
    "dat2_xcell <- read.delim(\"/opt/data/netZooR/gbm/xCell_score_discoverySet2.txt\",stringsAsFactors = F, check.names = F)\n",
    "# Keep only cell types present with an xCell score of at least 0.2 in at least 1 sample\n",
    "idx <-  apply(dat2_xcell, 2, function(x) sum(x > 0.2) >= 1 )\n",
    "dat2_xcellsub <- dat2_xcell[,idx]\n",
    "# Calculate adjusted p-values\n",
    "a1 <- which(dat2_xcellsub$survival==\"long\")\n",
    "a2 <- which(dat2_xcellsub$survival==\"short\")\n",
    "pvals <-  apply(dat2_xcellsub[,1:ncol(dat2_xcellsub)-1], 2, function(x) t.test(x[a1],x[a2])$p.val )\n",
    "adjp <- p.adjust(pvals)\n",
    "# Cell types with significantly different abundance between long- and short-term survival\n",
    "# CD8+ naive T-cells FDR=0.07766112\n",
    "# CD4+ memory T-cells FDR=0.09203959\n",
    "adjp[which(adjp<0.1)] \n",
    "# Boxplot comparing xCell score values between long- and short-term survival\n",
    "dat2_xcellsub_plot <- melt(dat2_xcellsub)\n",
    "colnames(dat2_xcellsub_plot)[2] <- \"celltype\"\n",
    "ggplot(dat2_xcellsub_plot, aes(x = reorder(celltype, -value, FUN = median), y = value, fill = survival))  + geom_boxplot()+ theme(axis.text.x = element_text(angle = 90, hjust = 1, vjust=.3)) +scale_fill_manual(values=c(\"dodgerblue\", \"firebrick1\")) +labs(title = \"Discovery dataset 2\", x = \"Cell Type\", y= \"xCell Value\") #ordered x axis descending"
   ]
  },
  {
   "cell_type": "markdown",
   "metadata": {},
   "source": [
    "#### Supplemental Figure S1.C - Validation dataset"
   ]
  },
  {
   "cell_type": "code",
   "execution_count": null,
   "metadata": {},
   "outputs": [],
   "source": [
    "# Load xCell scores data\n",
    "dat3_xcell <- read.delim(\"/opt/data/netZooR/gbm/xCell_score_validationSet.txt\",stringsAsFactors = F, check.names = F)\n",
    "# Keep only cell types present with an xCell score of at least 0.2 in at least 1 sample\n",
    "idx <-  apply(dat3_xcell, 2, function(x) sum(x > 0.2) >= 1 )\n",
    "dat3_xcellsub <- dat3_xcell[,idx]\n",
    "# Calculate adjusted p-values\n",
    "a1 <- which(dat3_xcellsub$survival==\"long\")\n",
    "a2 <- which(dat3_xcellsub$survival==\"short\")\n",
    "pvals <-  apply(dat3_xcellsub[,1:ncol(dat3_xcellsub)-1], 2, function(x) t.test(x[a1],x[a2])$p.val )\n",
    "adjp <- p.adjust(pvals)\n",
    "# Cell types with significantly different abundance between long- and short-term survival\n",
    "# No cell types found with FDR<0.1\n",
    "adjp[which(adjp<0.1)] \n",
    "# Boxplot comparing xCell score values between long- and short-term survival\n",
    "dat3_xcellsub_plot <- melt(dat3_xcellsub)\n",
    "colnames(dat3_xcellsub_plot)[2] <- \"celltype\"\n",
    "ggplot(dat3_xcellsub_plot, aes(x = reorder(celltype, -value, FUN = median), y = value, fill = survival))  + geom_boxplot()+ theme(axis.text.x = element_text(angle = 90, hjust = 1, vjust=.3)) +scale_fill_manual(values=c(\"dodgerblue\", \"firebrick1\")) +labs(title = \"Validation dataset\", x = \"Cell Type\", y= \"xCell Value\") #ordered x axis descending"
   ]
  },
  {
   "cell_type": "markdown",
   "metadata": {},
   "source": [
    "### Comparing short and long-term survival groups\n",
    "\n",
    "This is the code for Supplemental Figure S2<sup>1</sup>."
   ]
  },
  {
   "cell_type": "code",
   "execution_count": null,
   "metadata": {},
   "outputs": [],
   "source": [
    "# Load xCell scores data\n",
    "dat1_xcell <- read.delim(\"/opt/data/netZooR/gbm/xCell_score_discoverySet1.txt\",stringsAsFactors = F, check.names = F)\n",
    "dat2_xcell <- read.delim(\"/opt/data/netZooR/gbm/xCell_score_discoverySet2.txt\",stringsAsFactors = F, check.names = F)\n",
    "dat3_xcell <- read.delim(\"/opt/data/netZooR/gbm/xCell_score_validationSet.txt\",stringsAsFactors = F, check.names = F)"
   ]
  },
  {
   "cell_type": "code",
   "execution_count": null,
   "metadata": {},
   "outputs": [],
   "source": [
    "# Load indegree for PD1 pathway genes\n",
    "# The PD1 pathway targeting score is the average indegree for genes in the PD1 pathway.\n",
    "dat1_pd1_deg <- read.delim(\"/opt/data/netZooR/gbm/indegree_pd1genes_discoverySet1.txt\", stringsAsFactors = F)\n",
    "dat2_pd1_deg <- read.delim(\"/opt/data/netZooR/gbm/indegree_pd1genes_discoverySet2.txt\", stringsAsFactors = F)\n",
    "dat3_pd1_deg <- read.delim(\"/opt/data/netZooR/gbm/indegree_pd1genes_validationSet.txt\", stringsAsFactors = F)"
   ]
  },
  {
   "cell_type": "markdown",
   "metadata": {},
   "source": [
    "A) Boxplots comparing the distributions of immune scores from xCell between short- and long-term survival groups in the discovery and validation datasets."
   ]
  },
  {
   "cell_type": "code",
   "execution_count": null,
   "metadata": {},
   "outputs": [],
   "source": [
    "# A) Boxplots comparing the distributions of immune scores from xCell between short- and long-term survival groups in the discovery and validation datasets.\n",
    "boxplot_one_cellType<-function(xcell_exp,cellType,datasetName){\n",
    "  xcell <- xcell_exp %>% gather (key = cell_type, value = xcell_value, cellType)\n",
    "  xcell$xcell_value <-as.numeric(xcell$xcell_value)\n",
    "  xcell$cell_type <- as.factor(xcell$cell_type)\n",
    "  xcell$survival <- sub(\"long\",\"long-term\",xcell$survival)\n",
    "  xcell$survival <- sub(\"short\",\"short-term\",xcell$survival)\n",
    "  xcell$survival <- factor(xcell$survival, levels=c(\"long-term\", \"short-term\"))\n",
    "  plot<-ggboxplot(xcell, x = \"survival\",y= \"xcell_value\", fill = \"survival\",palette = c(\"dodgerblue\", \"firebrick1\")) + labs(title = datasetName, x = \"Survival\", y= \"xCell Immune Score\")\n",
    "  plot\n",
    "}\n",
    "\n",
    "immune_score_box1<-boxplot_one_cellType(dat1_xcell, \"ImmuneScore\", \"Discovery dataset 1\")\n",
    "immune_score_box2<-boxplot_one_cellType(dat2_xcell, \"ImmuneScore\", \"Discovery dataset 2\")\n",
    "immune_score_box3<-boxplot_one_cellType(dat3_xcell, \"ImmuneScore\", \"Validation dataset\")"
   ]
  },
  {
   "cell_type": "markdown",
   "metadata": {},
   "source": [
    "B) Scatter plots of xCell immune scores and PD1 pathway targeting scores in the discovery and validation datasets. Regression lines with confidence intervals of 0.95 are shown for the long-term (blue) and short-term (red) groups."
   ]
  },
  {
   "cell_type": "code",
   "execution_count": null,
   "metadata": {},
   "outputs": [],
   "source": [
    "# B) Scatter plots of xCell immune scores and PD1 pathway targeting scores in the discovery and validation datasets. Regression lines with confidence intervals of 0.95 are shown for the long-term (blue) and short-term (red) groups.\n",
    "scatterplot_indegree_cellTypeScore<-function(xcell_exp, pd1_deg, cellType, datasetName){\n",
    "  celltype_score<-xcell_exp[c(cellType,\"survival\")] \n",
    "  celltype_info<-merge(celltype_score, as.data.frame(t(pd1_deg)), by = \"row.names\")\n",
    "  celltype_info$pd1_mean<-rowMeans(celltype_info[4:(length(colnames(celltype_info)))])\n",
    "  plot <-  ggscatter(celltype_info,x=\"pd1_mean\", y=\"ImmuneScore\", color = \"survival\", add = \"reg.line\", conf.int = TRUE ,palette = c(\"dodgerblue\", \"firebrick1\"))+stat_cor(aes(color = survival)) + labs(title = datasetName, x = \"PD1 pathway targeting score\", y= \"xCell Immune Score\")\n",
    "  plot\n",
    "}\n",
    "\n",
    "immune_score_scatter1<- scatterplot_indegree_cellTypeScore(dat1_xcell, dat1_pd1_deg, \"ImmuneScore\", \"Discovery dataset 1\")\n",
    "immune_score_scatter2<- scatterplot_indegree_cellTypeScore(dat2_xcell, dat2_pd1_deg, \"ImmuneScore\", \"Discovery dataset 2\")\n",
    "immune_score_scatter3<- scatterplot_indegree_cellTypeScore(dat3_xcell, dat3_pd1_deg, \"ImmuneScore\", \"Validation dataset\")"
   ]
  },
  {
   "cell_type": "code",
   "execution_count": null,
   "metadata": {},
   "outputs": [],
   "source": [
    "# Plot supplemental figure 2\n",
    "ggarrange(immune_score_box1, immune_score_box2, immune_score_box3, immune_score_scatter1, immune_score_scatter2, immune_score_scatter3, ncol = 3, nrow = 2)"
   ]
  },
  {
   "cell_type": "markdown",
   "metadata": {},
   "source": [
    "## References\n",
    "\n",
    "1- Lopes-Ramos, Camila Miranda, et al. \"Regulation of PD1 signaling is associated with prognosis in glioblastoma multiforme.\" bioRxiv (2021)."
   ]
  }
 ],
 "metadata": {
  "kernelspec": {
   "display_name": "R",
   "language": "R",
   "name": "ir"
  },
  "language_info": {
   "codemirror_mode": "r",
   "file_extension": ".r",
   "mimetype": "text/x-r-source",
   "name": "R",
   "pygments_lexer": "r",
   "version": "4.0.3"
  }
 },
 "nbformat": 4,
 "nbformat_minor": 4
}
