{
 "cells": [
  {
   "cell_type": "markdown",
   "metadata": {},
   "source": [
    "# netZooR application with TB dataset\n",
    "Author: Tian Wang<sup>1</sup>\n",
    "\n",
    "<sup>1</sup> Department of Biostatistics, Harvard T.H. Chan School of Public Health, Boston, MA."
   ]
  },
  {
   "cell_type": "markdown",
   "metadata": {},
   "source": [
    "# netZooR\n",
    "\n",
    "netZooR is an R package which consists of  seven main algorithms and is able to construct, analyse and plot gene regulatory networks.\n",
    "\n",
    "* **PANDA**(Passing Attributes between Networks for Data Assimilation) is a message-passing model to gene regulatory network reconstruction. It integrates multiple sources of biological data, including protein-protein interaction, gene expression, and transcription factor binding motifs information to reconstruct genome-wide, condition-specific regulatory networks.[[Glass et al. 2013]](http://journals.plos.org/plosone/article?id=10.1371/journal.pone.0064832)\n",
    "\n",
    "* **LIONESS**(Linear Interpolation to Obtain Network Estimates for Single Samples) is a method to estimate sample-specific regulatory networks by applying linear interpolation to the predictions made by existing aggregate network inference approaches.[[Kuijjer et al. 2019]]](https://www.sciencedirect.com/science/article/pii/S2589004219300872)\n",
    "\n",
    "* **CONDOR** (COmplex Network Description Of Regulators) implements methods to cluster biapartite networks and estimatiing the contribution of each node to its community's modularity.[[Platig et al. 2016]](http://journals.plos.org/ploscompbiol/article?id=10.1371/journal.pcbi.1005033)\n",
    "\n",
    "* **ALPACA**(ALtered Partitions Across Community Architectures) is a method to compare two genome-scale networks derived from different phenotypic states to identify condition-specific modules. [[Padi and Quackenbush 2018]](https://www.nature.com/articles/s41540-018-0052-5)\n",
    "\n",
    "* **SAMBAR**(Subtyping Agglomerated Mutations By Annotation Relations) is a method to identify subtypes based on somatic mutation data.[[Kuijjer et al.]](https://www.nature.com/articles/s41416-018-0109-7).\n",
    "\n",
    "* **MONSTER**(Modeling Network State Transitions from Expression and Regulatory data)[[Schlauch et al.]](https://doi.org/10.1186/s12918-017-0517-y): infers transcription factor which drivers of cell state conditions at the gene regulatory network level.\n",
    "\n",
    "* **OTTER**(Optimization to Estimate Regulation) [publication in preparation]: models gene regulation estimation as a graph matrching problem"
   ]
  },
  {
   "cell_type": "markdown",
   "metadata": {},
   "source": [
    "## Getting Started\n",
    "\n",
    "### Prerequisites\n",
    "\n",
    "Using this pacakage requires [**Python**](https://www.python.org/downloads/) (3.X) and some [Python libraries](#required-python-libraries), [**R**](https://cran.r-project.org/) (>= 3.3.3), and stable **Internet access**.\n",
    "\n",
    "Some plotting functions will require the [**Cytoscape**](https://cytoscape.org/) installed.\n",
    "\n",
    "### Required Python libraries\n",
    "\n",
    "How to install Python libraries depends varies from different platforms. More instructions could be find [here](https://packaging.python.org/tutorials/installing-packages/). \n",
    "\n",
    "The following Python libraries (or packages) are required by running PANDA and LIONESS algorithms:\n",
    "\n",
    "The required Python packages are: [pandas](https://pandas.pydata.org/), [numpy](http://www.numpy.org/), [networkx](https://networkx.github.io/), [matplotlib.pyplot](https://matplotlib.org/api/pyplot_api.html).\n",
    "\n",
    "### Installing\n",
    "This package could be downloaded via `install_github()` function from `devtools` package."
   ]
  },
  {
   "cell_type": "code",
   "execution_count": null,
   "metadata": {
    "eval": false
   },
   "outputs": [],
   "source": [
    "# install.packages(\"devtools\") \n",
    "library(devtools)\n",
    "# install netZooR pkg with vignettes, otherwise remove the \"build_vignettes = TRUE\" argument.\n",
    "#devtools::install_github(\"netZoo/netZooR\", build_vignettes = TRUE)\n",
    "library(viridisLite)#To visualize communities"
   ]
  },
  {
   "cell_type": "markdown",
   "metadata": {},
   "source": [
    "## Data Resources\n",
    "\n",
    "### Motif data\n",
    "Here is some pre-prepared specie-sepcific PANDA-ready transcription factor binding motifs data stored in our AWS bucket https://s3.console.aws.amazon.com/s3/buckets/netzoo/netZooR/example_datasets/PANDA_ready_motif_prior/?region=us-east-2&tab=overview, which are derived from motif scan and motif info files located on https://sites.google.com/a/channing.harvard.edu/kimberlyglass/tools/resourcesby .\n",
    "\n",
    "### PPI\n",
    "This package includes a function `source.PPI` may source a Protein-Protein Interactions (PPI) througt STRING database given a list of proteins of interest. The [STRINGdb](http://www.bioconductor.org/packages/release/bioc/html/STRINGdb.html) is already loaded while loading netZooR."
   ]
  },
  {
   "cell_type": "code",
   "execution_count": null,
   "metadata": {
    "eval": false
   },
   "outputs": [],
   "source": [
    "# TF is a data frame with single column filled with TFs of Mycobacterium tuberculosis H37Rv.\n",
    "PPI <- source.PPI(TF, STRING.version=\"10\", species.index=83332, score_threshold=0)"
   ]
  },
  {
   "cell_type": "markdown",
   "metadata": {},
   "source": [
    "## Running the sample TB datasets\n"
   ]
  },
  {
   "cell_type": "code",
   "execution_count": null,
   "metadata": {},
   "outputs": [],
   "source": [
    "library(netZooR)"
   ]
  },
  {
   "cell_type": "markdown",
   "metadata": {
    "lines_to_next_cell": 0
   },
   "source": [
    "Accessing the help pages for the  usage of core functions."
   ]
  },
  {
   "cell_type": "code",
   "execution_count": null,
   "metadata": {
    "eval": false
   },
   "outputs": [],
   "source": [
    "?panda.py\n",
    "?create.condor.object\n",
    "?panda.to.condor.object\n",
    "?lioness.py\n",
    "?alpaca\n",
    "?panda.to.alpaca\n",
    "?sambar"
   ]
  },
  {
   "cell_type": "markdown",
   "metadata": {
    "lines_to_next_cell": 0
   },
   "source": [
    "This package will invoke the Python in R environment through reticulate package.\n",
    "Configure which version of Python to use if necessary, here in netZooR, Python 3.X is required. \n",
    "More details can be found [here](https://cran.r-project.org/web/packages/reticulate/vignettes/versions.html)"
   ]
  },
  {
   "cell_type": "code",
   "execution_count": null,
   "metadata": {
    "eval": false
   },
   "outputs": [],
   "source": [
    "#check your Python configuration and the specific version of Python in use currently\n",
    "#py_config()\n",
    "\n",
    "# reset to Python 3.X if necessary, like below:\n",
    "#use_python(\"/usr/local/bin/python3\")"
   ]
  },
  {
   "cell_type": "markdown",
   "metadata": {},
   "source": [
    "The previous command is necessary to bind R to Python since we are calling PANDA from Python because netZooPy has an optimized implementation of PANDA. Check [this tutorial](http://netbooks.networkmedicine.org/user/marouenbg/notebooks/netZooR/panda_gtex_tutorial_server.ipynb) for an example using a pure R implementation of PANDA. However, it is only necessary when we're working locally. On this Jupyter notebook server, we just need to tell R where to find Python using this command:"
   ]
  },
  {
   "cell_type": "code",
   "execution_count": null,
   "metadata": {},
   "outputs": [],
   "source": [
    "Sys.setenv(RETICULATE_PYTHON = \"/opt/anaconda3/py38/bin/python\")"
   ]
  },
  {
   "cell_type": "markdown",
   "metadata": {
    "lines_to_next_cell": 0
   },
   "source": [
    "Use example datasets within package to test this package.\n",
    "Refer to four input datasets files: one TB expression dataset control group , one TB expression dataset treated, one transcription factor binding motifs dataset, and one protein-protein interaction datasets from either inst/extdat or AWS.\n",
    "\n",
    "retrieve the file path of these files came with the netZooR package."
   ]
  },
  {
   "cell_type": "code",
   "execution_count": null,
   "metadata": {},
   "outputs": [],
   "source": [
    "# retrieve the file path of these files\n",
    "treated_expression_file_path <- system.file(\"extdata\", \"expr4.txt\", package = \"netZooR\", mustWork = TRUE)\n",
    "control_expression_file_path <- system.file(\"extdata\", \"expr10.txt\", package = \"netZooR\", mustWork = TRUE)\n",
    "motif_file_path <- system.file(\"extdata\", \"chip.txt\", package = \"netZooR\", mustWork = TRUE)\n",
    "ppi_file_path <- system.file(\"extdata\", \"ppi.txt\", package = \"netZooR\", mustWork = TRUE)"
   ]
  },
  {
   "cell_type": "markdown",
   "metadata": {
    "lines_to_next_cell": 0
   },
   "source": [
    "or, download to working directory from AWS."
   ]
  },
  {
   "cell_type": "code",
   "execution_count": null,
   "metadata": {
    "eval": false
   },
   "outputs": [],
   "source": [
    "#system(\"curl -O  https://netzoo.s3.us-east-2.amazonaws.com/netZooR/example_datasets/expr4.txt\")\n",
    "treated_expression_file_path <- \"/opt/data/expr4.txt\"\n",
    "#system(\"curl -O  https://netzoo.s3.us-east-2.amazonaws.com/netZooR/example_datasets/expr10.txt\")\n",
    "control_expression_file_path <- \"/opt/data/expr10.txt\"\n",
    "#system(\"curl -O  https://netzoo.s3.us-east-2.amazonaws.com/netZooR/example_datasets/chip.txt\")\n",
    "motif_file_path <- \"/opt/data/chip.txt\"\n",
    "#system(\"curl -O  https://netzoo.s3.us-east-2.amazonaws.com/netZooR/example_datasets/ppi.txt\")\n",
    "ppi_file_path <- \"/opt/data/ppi.txt\""
   ]
  },
  {
   "cell_type": "markdown",
   "metadata": {
    "lines_to_next_cell": 0
   },
   "source": [
    "### PANDA algorithm\n",
    "\n",
    "Assign the above file paths to flag `e`(refers to \"expression dataset\"), `m`(refers to \"motif dataset\"), and `ppi`(refers to \"PPI\" dataset), respectively. Then set option `rm_missing` to `TRUE` to run **PANDA** to generate an aggregate network without unmatched TF and genes.\n",
    "\n",
    "Repeat with control group. "
   ]
  },
  {
   "cell_type": "code",
   "execution_count": null,
   "metadata": {
    "message": false,
    "tags": [
     "remove_output"
    ]
   },
   "outputs": [],
   "source": [
    "treated_all_panda_result <- panda.py(expr_file = treated_expression_file_path, motif_file = motif_file_path, ppi_file= ppi_file_path,modeProcess=\"legacy\",  remove_missing = TRUE )\n",
    "control_all_panda_result <- panda.py(expr_file = control_expression_file_path,motif_file = motif_file_path, ppi_file= ppi_file_path,modeProcess=\"legacy\",  remove_missing = TRUE )"
   ]
  },
  {
   "cell_type": "markdown",
   "metadata": {
    "lines_to_next_cell": 0
   },
   "source": [
    "Vector `treated_all_panda_result` and vector `control_all_panda_result` below are large lists with three elements: the entire PANDA network, indegree (\"to\" nodes) nodes and score, outdegree (\"from\" nodes) nodes and score. Use `$panda`,`$indegree` and `$outdegree` to access each list item resepctively.\n",
    "\n",
    "Use `$panda`to access the entire PANDA network."
   ]
  },
  {
   "cell_type": "code",
   "execution_count": null,
   "metadata": {},
   "outputs": [],
   "source": [
    "treated_net <- treated_all_panda_result$panda\n",
    "control_net <- control_all_panda_result$panda"
   ]
  },
  {
   "cell_type": "markdown",
   "metadata": {},
   "source": [
    "### PANDA Cytoscape Plotting\n",
    "Cytoscape is an interactivity network visualization tool highly recommanded to explore the PANDA network. Before using this function `plot.panda.in.cytoscape`, please install and launch Cytoscape (3.6.1 or greater) and keep it running whenever using."
   ]
  },
  {
   "cell_type": "code",
   "execution_count": null,
   "metadata": {
    "eval": false
   },
   "outputs": [],
   "source": [
    "# select top 1000 edges in PANDA network by edge weight.\n",
    "panda.net <- head(treated_net[order(control_net$force,decreasing = TRUE),], 1000)\n",
    " \n",
    "# run this function to create a network in Cytoscape.\n",
    "vis.panda.in.cytoscape(panda.net, network.name=\"PANDA\")"
   ]
  },
  {
   "cell_type": "markdown",
   "metadata": {},
   "source": [
    "### LIONESS Algorithm \n",
    "How to run LIONESS is mostly idential with method how to run PANDA in this package, unless the return values of `lioness.py()` is a data frame where first two columns represent TFs (regulators) and Genes (targets) while the rest columns represent each sample. each cell filled with estimated score calculated by LIONESS."
   ]
  },
  {
   "cell_type": "code",
   "execution_count": null,
   "metadata": {
    "message": false,
    "tags": [
     "remove_output"
    ]
   },
   "outputs": [],
   "source": [
    "# Run LIONESS algorithm for the first two samples\n",
    "# removing start_sample and end_sample arguments to generate whole LIONESS network with all samples.\n",
    "control_lioness_result <- lioness.py(expr_file = control_expression_file_path,motif_file = motif_file_path, ppi_file= ppi_file_path,modeProcess=\"legacy\",  remove_missing = TRUE, start_sample=1, end_sample=2)"
   ]
  },
  {
   "cell_type": "markdown",
   "metadata": {},
   "source": [
    "### CONDOR Algorithm and plotting\n",
    "PANDA network can simply be converted into condor.object by `panda.to.condor.object(panda.net, threshold)`\n",
    "Defaults option  `threshold` is the average of [median weight of non-prior edges] and [median weight of prior edges], all weights mentioned previous are transformationed with formula `w'=ln(e^w+1)` before calculating the median and average. But all the edges selected will remain the orginal weights calculated by PANDA."
   ]
  },
  {
   "cell_type": "code",
   "execution_count": null,
   "metadata": {},
   "outputs": [],
   "source": [
    "treated_condor_object <- panda.to.condor.object(treated_net, threshold = 0)"
   ]
  },
  {
   "cell_type": "markdown",
   "metadata": {
    "lines_to_next_cell": 0
   },
   "source": [
    "The communities structure can be plotted by igraph."
   ]
  },
  {
   "cell_type": "code",
   "execution_count": null,
   "metadata": {},
   "outputs": [],
   "source": [
    "treated_condor_object <-condor.cluster(treated_condor_object,project = FALSE)\n",
    "treated_color_num <- max(treated_condor_object$red.memb$com)\n",
    "treated_color <- viridis(treated_color_num, alpha = 1, begin = 0, end = 1, direction = 1, option = \"D\")\n",
    "condor.plot.communities(treated_condor_object, color_list=treated_color, point.size=0.04, xlab=\"Genes\", ylab=\"TFs\")"
   ]
  },
  {
   "cell_type": "markdown",
   "metadata": {},
   "source": [
    "### ALPACA Algorithm\n",
    "\n",
    "ALPACA community structure can also be generated from two PANDA network by `panda.to.alpaca`"
   ]
  },
  {
   "cell_type": "code",
   "execution_count": null,
   "metadata": {},
   "outputs": [],
   "source": [
    "alpaca<- panda.to.alpaca(treated_net, control_net, NULL, verbose=FALSE)"
   ]
  },
  {
   "cell_type": "markdown",
   "metadata": {},
   "source": [
    "## More tutorials\n",
    "\n",
    "Browse with `browseVignettes(\"netZooR\")` locally or check this link for [cloud notebooks](http://netbooks.networkmedicine.org/).\n",
    "\n",
    "## Note\n",
    "If there is an error like `Error in fetch(key) : lazy-load database.rdb' is corrupt` when accessing the help pages of functions in this package after being loaded. It's [a limitation of base R](https://github.com/r-lib/devtools/issues/1660) and has not been solved yet. Restart R session and re-load this package will help.\n"
   ]
  }
 ],
 "metadata": {
  "jupytext": {
   "cell_metadata_filter": "eval,tags,message,-all",
   "main_language": "R",
   "notebook_metadata_filter": "-all"
  },
  "kernelspec": {
   "display_name": "R",
   "language": "R",
   "name": "ir"
  },
  "language_info": {
   "codemirror_mode": "r",
   "file_extension": ".r",
   "mimetype": "text/x-r-source",
   "name": "R",
   "pygments_lexer": "r",
   "version": "3.6.2"
  }
 },
 "nbformat": 4,
 "nbformat_minor": 4
}
