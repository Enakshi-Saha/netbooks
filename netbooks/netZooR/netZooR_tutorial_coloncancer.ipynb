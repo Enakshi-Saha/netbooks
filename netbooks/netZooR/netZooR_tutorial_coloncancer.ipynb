{
 "cells": [
  {
   "cell_type": "markdown",
   "metadata": {},
   "source": [
    "# Using netZooR to analyze the regulatory processes of obesity in colon cancer\n",
    "\n",
    "Authors: Tian Wang<sup>1</sup>, Camila Lopes-Ramos<sup>1</sup>, Marouen Ben Guebila<sup>1</sup>\n",
    "\n",
    "<sup>1</sup> Department of Biostatistics, Harvard T.H. Chan School of Public Health, Boston, MA.\n",
    "\n",
    "## Introduction to The network Zoo (netZoo)\n",
    "\n",
    "The Network Zoo (netZoo) is an open-source integrated software suite to reconstruct and analyze gene regulatory networks.\n",
    "\n",
    "It is available in four programming languages: R (netZooR), Python (netZooPy), MATLAB (netZooM), and C (netZooC), as separate packages. \n",
    "<br><br>The netZoo includes the following tools: PANDA (netZooR, netZooPy, netZooM, netZooC), LIONESS (netZooR, netZooPy, netZooM), CONDOR (netZooR, netZooPy), MONSTER (netZooR), ALPACA (netZooR), PUMA (netZooPy, netZooM, netZooC), SAMBAR (netZooR, netZooPy), SPIDER (netZooM), OTTER (netZooR, netZooPy, netZooM), CRANE (netZooR). For more details of each tool and their publications please check the netZoo homepage [https://netzoo.github.io](https://netzoo.github.io/), and the source code in GitHub: https://github.com/netZoo."
   ]
  },
  {
   "cell_type": "markdown",
   "metadata": {
    "lines_to_next_cell": 0
   },
   "source": [
    "## 1. Regulatory network differences associated with obesity in colon cancer\n",
    "In this case study, we will demostrate the utility of *netZooR* package in analyzing biological networks, by using PANDA, CONDOR, and ALPACA to model colon cancer gene expression data from [The Cancer Genome Atlas (TCGA)](https://gdc.cancer.gov) and analyze the regulatory network differences associated with obesity in colon cancer. We start first by loading the data."
   ]
  },
  {
   "cell_type": "code",
   "execution_count": null,
   "metadata": {},
   "outputs": [],
   "source": [
    "load(\"/opt/data/netZooR/colonObesity/netZooR_tutorial_coloncancer.RData\")"
   ]
  },
  {
   "cell_type": "markdown",
   "metadata": {
    "lines_to_next_cell": 0
   },
   "source": [
    "### Install netZooR\n",
    "The we download and install netZooR package from Github https://github.com/netZoo/netZooR. Since they were already installed on the server, we can skip this part."
   ]
  },
  {
   "cell_type": "code",
   "execution_count": null,
   "metadata": {
    "eval": false
   },
   "outputs": [],
   "source": [
    "#install.packages(\"devtools\")\n",
    "#library(devtools)\n",
    "# install netZooR package development repo\n",
    "#devtools::install_github(\"netZoo/netZooR@devel\")"
   ]
  },
  {
   "cell_type": "markdown",
   "metadata": {
    "lines_to_next_cell": 0
   },
   "source": [
    "### Install the dependency packages\n",
    "Also we can install additional packages to help us carry out the analysis. These lines are commented out in netbooks server since these packages are already installed."
   ]
  },
  {
   "cell_type": "code",
   "execution_count": null,
   "metadata": {
    "message": false,
    "tags": [
     "remove_output"
    ],
    "warning": false
   },
   "outputs": [],
   "source": [
    "#if (!requireNamespace(\"BiocManager\", quietly = TRUE))\n",
    "#    install.packages(\"BiocManager\")\n",
    "#BiocManager::install(\"fgsea\")\n",
    "#BiocManager::install(\"limma\")"
   ]
  },
  {
   "cell_type": "markdown",
   "metadata": {
    "lines_to_next_cell": 0
   },
   "source": [
    "### Load the packages\n",
    "Now, we can load all the required packages."
   ]
  },
  {
   "cell_type": "code",
   "execution_count": null,
   "metadata": {
    "lines_to_next_cell": 2,
    "message": false,
    "warning": false
   },
   "outputs": [],
   "source": [
    "library('netZooR')     # load panda, condor, alpaca\n",
    "library('fgsea')       # for enrichment analysis\n",
    "library('ggplot2')     # for plotting\n",
    "library('reshape2')    # to resize data frames\n",
    "library('limma')       # to compute differential targeting\n",
    "library('viridisLite') # plot communities\n",
    "library('visNetwork')  # for network visualization"
   ]
  },
  {
   "cell_type": "markdown",
   "metadata": {},
   "source": [
    "### 1.1. PANDA\n",
    "PANDA (Passing Attributes between Networks for Data Assimilation) is a method for constructing gene regulatory networks. It uses message passing to merge 3 different data layers: protein-protein interaction (PPI), gene expression, and transcription factor (TF) motif data.\n",
    "\n",
    "More details can be found in the published paper [(1)](https://doi.org/10.1371/journal.pone.0064832).\n",
    "\n",
    "### The pre-processed RNA-seq data of primary colon tumor samples from TCGA\n",
    "We pre-processed level 3 RNASeq V2 and clinical data for colon cancer from [The Cancer Genome Atlas (TCGA)]((https://tcga-data.nci.nih.gov) on June 16, 2016 . After performing quality control steps, the discovery dataset included 445 primary colon tumor samples and 12817 genes before [treatment](https://www.ncbi.nlm.nih.gov/pmc/articles/PMC6169995/). To correct for batch effects, we applied smooth quantile normalization (qsmooth) and stored them in an `.Rdata` file. This file can also be downloaded using [this link](https://netzoo.s3.us-east-2.amazonaws.com/netZooR/colon_cancer_case_study/data/tcga_matched_XY.rdata)."
   ]
  },
  {
   "cell_type": "code",
   "execution_count": null,
   "metadata": {},
   "outputs": [],
   "source": [
    "# load tcga ExpressionSet data\n",
    "load(\"/opt/data/netZooR/colonObesity/tcga_matched_XY.rdata\")\n",
    "# overview of colon cancer data from TCGA\n",
    "class(tcga5)\n",
    "dim(tcga5)"
   ]
  },
  {
   "cell_type": "markdown",
   "metadata": {
    "lines_to_next_cell": 0
   },
   "source": [
    "### Calculate Body Mass Index (BMI)\n",
    "We calculate the Body Mass Index (BMI) using the weight and the height, using the following formula: [weight (kg) / [height (m)]2](https://www.cdc.gov/healthyweight/assessing/bmi/childrens_bmi/childrens_bmi_formula.html).\n",
    "\n",
    "According to the [CDC](https://www.cdc.gov/healthyweight/assessing/bmi/adult_bmi/index.html#Interpreted), the following different BMI range define different weight status:\n",
    "<br>Below 18.5:\tUnderweight\n",
    "<br>18.5 – 24.9:\tNormal or healthy Weight\n",
    "<br>25.0 – 29.9: Overweight \n",
    "<br>30.0 and Above:\tObese.\n",
    "\n",
    "Then, we use this standard to classify our data:"
   ]
  },
  {
   "cell_type": "code",
   "execution_count": null,
   "metadata": {
    "lines_to_next_cell": 0,
    "warning": false
   },
   "outputs": [],
   "source": [
    "# calculate BMI values\n",
    "tcga5$BMI <- as.numeric(tcga5$weight_kg_at_diagnosis)/(as.numeric(tcga5$height_cm_at_diagnosis)/100)^2\n",
    "# subset BMI numeric vector into category vector\n",
    "bmi <- as.numeric(pData(tcga5)$BMI)\n",
    "bmi_cat <- as.character(ifelse(bmi <= 18.5, \"UNDER\", ifelse((bmi >= 18.5) & (bmi <= 24.9), \"NORMAL\", ifelse((bmi >= 25) & (bmi <= 29.9), \"OVER\", \"OBESE\"))))\n",
    "bmi_cat[which(is.na(bmi_cat))] <- \"NA\"\n",
    "tcga5$BMI_cat <- bmi_cat\n",
    "# summary of BMI \n",
    "table(bmi_cat)"
   ]
  },
  {
   "cell_type": "markdown",
   "metadata": {
    "lines_to_next_cell": 0
   },
   "source": [
    "### Expression data files\n",
    "For our analysis, we only consider two sample groups: **obese** and **normal weight**. Therefore, we extract the normalized expression data of those samples from the entire `ExpressionSet` object of our processed gene expression data, then we write to a `.txt` file to be given as an input to PANDA.\n",
    "The columnn represents sample ID and the rows represent gene identifiers."
   ]
  },
  {
   "cell_type": "code",
   "execution_count": null,
   "metadata": {
    "lines_to_next_cell": 2
   },
   "outputs": [],
   "source": [
    "all_expr <- as.data.frame(assayData(tcga5)$logQsmooth)\n",
    "# expression data of normal weight (i.e. BMI_cat == \"NORMAL\")\n",
    "normal_expr <- all_expr[,bmi_cat==\"NORMAL\"]\n",
    "head(normal_expr)\n",
    "#write.table(normal_expr, file = \"normal_weight_expr.txt\", sep = \"\\t\",\n",
    "#            row.names = T, col.names = F)\n",
    "\n",
    "# expression data of obese\n",
    "obese_expr <- all_expr[,bmi_cat==\"OBESE\"]\n",
    "\n",
    "#write.table(obese_expr, file = \"obese_expr.txt\", sep = \"\\t\",\n",
    "#            row.names = T, col.names = F)"
   ]
  },
  {
   "cell_type": "markdown",
   "metadata": {},
   "source": [
    "### Motif prior data\n",
    "The transcription factor motif prior represents putative regulation events where a transcription factor (TF) binds in the promotor of a gene to regulate its expression, as predicted by the presence of transcription factor binding motifs in the promotor region of the gene. The motif prior is thus a directed network linking transcription factors to their predicted gene targets. These are small example priors for the purposes of demonstrating this method. A complete set of priors by species can be downloaded from: https://sites.google.com/a/channing.harvard.edu/kimberlyglass/tools/resources.\n",
    "\n",
    "In our case study, we will use a motif prior network of the Human Motif Scan (Homo sapiens; hg38), which is a three-columns table, the first column represents TFs and the second column represents gene identifier. The third column is a binary variable, which means that TF-Gene edge exists if it is equal to 1 and 0 otherwise."
   ]
  },
  {
   "cell_type": "code",
   "execution_count": null,
   "metadata": {
    "lines_to_next_cell": 0
   },
   "outputs": [],
   "source": [
    "motif <- read.delim(\"/opt/data/netZooR/colonObesity/motif_hg38.txt\", stringsAsFactors=F, header=F)\n",
    "motif[1:5,]"
   ]
  },
  {
   "cell_type": "markdown",
   "metadata": {},
   "source": [
    "### Protein-protein interaction\n",
    "The protein-protein interaction (PPI) network is an undirected network that represents physical and other types of interactions between transcription factor proteins. Here, we use the function `source.PPI()` in netZooR package to obtain PPI network in STRINGdb v10 between the TFs present in the motif prior. The PPI network is a network with three columns, the first two colums are proteins, and the third column represents an interaction score between the two proteins. We provide a precomputed PPI network so we can skip this part."
   ]
  },
  {
   "cell_type": "code",
   "execution_count": null,
   "metadata": {},
   "outputs": [],
   "source": [
    "# obtain Protein-protein cooperative interaction data in STRINGdb by using source.PPI()\n",
    "#TF <- data.frame(TF=motif$V1)\n",
    "#PPI <- source.PPI(TF,version=\"10\", species=9606)\n",
    "#head(PPI)\n",
    "#write.table(PPI, file = \"ppi_hg38.txt\", sep = \"\\t\",\n",
    "#            row.names = F, col.names = F)"
   ]
  },
  {
   "cell_type": "markdown",
   "metadata": {},
   "source": [
    "### Building a PANDA regulatory network\n",
    "Now we run PANDA by calling the function `panda.py` in netZooR, pointing it to the parsed expression data, motif prior, and ppi prior to generate the regulatory network for normal weight cohort and obese cohort. We use the \"intersection\" mode of PANDA, which will select the genes present in both expression data and motif prior, and TFs present in both motif prior and PPI data, to build a PANDA network."
   ]
  },
  {
   "cell_type": "code",
   "execution_count": null,
   "metadata": {},
   "outputs": [],
   "source": [
    "# generate PANDA list (entire PANDA network, indegree network, and outdegree network)\n",
    "normal_panda <- panda.py(\"/opt/data/netZooR/colonObesity/normal_weight_expr.txt\", \"/opt/data/netZooR/colonObesity/motif_hg38.txt\", \"/opt/data/netZooR/colonObesity/ppi_hg38.txt\", modeProcess = \"intersection\")$panda\n",
    "obese_panda<- panda.py(\"/opt/data/netZooR/colonObesity/obese_expr.txt\", \"/opt/data/netZooR/colonObesity/motif_hg38.txt\", \"/opt/data/netZooR/colonObesity/ppi_hg38.txt\", modeProcess = \"intersection\")$panda"
   ]
  },
  {
   "cell_type": "markdown",
   "metadata": {
    "lines_to_next_cell": 0
   },
   "source": [
    "The final PANDA network consists of four columns: the first column \"TF\" is TF identifier, the second column \"Gene\" is Gene identifier, the third column \"Motif\" is a binary vector that represents the existence of TF-Gene edge in the motif prior, and the fourth column is the edge weight calculated by PANDA, representing the \"likelihood\" that a transcription factor binds the promotor of and regulates the expression of its target gene.  "
   ]
  },
  {
   "cell_type": "code",
   "execution_count": null,
   "metadata": {},
   "outputs": [],
   "source": [
    "head(obese_panda)"
   ]
  },
  {
   "cell_type": "markdown",
   "metadata": {
    "lines_to_next_cell": 0
   },
   "source": [
    "Both aggregate PANDA networks of obese and normal weight patients consist of 712 TFs and 12500 Genes. Since PANDA networks are complete, this represents 8900000 edges in total."
   ]
  },
  {
   "cell_type": "code",
   "execution_count": null,
   "metadata": {
    "lines_to_next_cell": 0
   },
   "outputs": [],
   "source": [
    "dim(normal_panda)\n",
    "length(unique(normal_panda$TF))\n",
    "length(unique(normal_panda$Gene))"
   ]
  },
  {
   "cell_type": "code",
   "execution_count": null,
   "metadata": {},
   "outputs": [],
   "source": [
    "dim(obese_panda)\n",
    "length(unique(obese_panda$TF))\n",
    "length(unique(obese_panda$Gene))"
   ]
  },
  {
   "cell_type": "markdown",
   "metadata": {},
   "source": [
    "### Explore differential edge in PANDA networks\n",
    "### Visualize PANDA networks \n",
    "\n",
    "In this section we will visualize parts of the network using the JavaScript library `visNetwork`.\n",
    "There are other functions in netZooR that allow to export to Cytoscape such as by using function `vis.panda.in.cytoscape()` to plot networks and by using function `create.panda.style()` to create a PANDA-sepcific network style in Cytoscape.\n",
    "\n",
    "First, we select the 200 top-scoring edge of each PANDA network, and plot the sub-PANDA network in visNetwork."
   ]
  },
  {
   "cell_type": "code",
   "execution_count": null,
   "metadata": {
    "lines_to_next_cell": 2
   },
   "outputs": [],
   "source": [
    "# the 200 highest edge weights of each PANDA network\n",
    "normal_panda_top200 <- head(normal_panda[order(normal_panda$Score, decreasing = TRUE), ],200)\n",
    "obese_panda_top200 <- head(obese_panda[order(obese_panda$Score, decreasing = TRUE), ],200)\n",
    "\n",
    "edges = normal_panda_top200\n",
    "edges$arrows = \"to\" \n",
    "colnames(edges) <- c(\"from\",\"to\",\"motif\",\"force\",\"arrows\")\n",
    "nodes <- data.frame(id = unique(as.vector(as.matrix(edges[,c(1,2)]))) , \n",
    "                    label=unique(as.vector(as.matrix(edges[,c(1,2)]))))\n",
    "nodes$group <- ifelse(nodes$id %in% edges$from, \"TF\", \"gene\")\n",
    "\n",
    "net <- visNetwork(nodes, edges, width = \"100%\")\n",
    "net <- visGroups(net, groupname = \"TF\", shape = \"square\",\n",
    "                     color = list(background = \"teal\", border=\"black\"))\n",
    "net <- visGroups(net, groupname = \"gene\", shape = \"dot\",       \n",
    "                     color = list(background = \"gold\", border=\"black\"))\n",
    "visLegend(net, main=\"Legend\", position=\"right\", ncol=1) "
   ]
  },
  {
   "cell_type": "code",
   "execution_count": null,
   "metadata": {},
   "outputs": [],
   "source": [
    "edges = obese_panda_top200\n",
    "edges$arrows = \"to\" \n",
    "colnames(edges) <- c(\"from\",\"to\",\"motif\",\"force\",\"arrows\")\n",
    "nodes <- data.frame(id = unique(as.vector(as.matrix(edges[,c(1,2)]))) , \n",
    "                    label=unique(as.vector(as.matrix(edges[,c(1,2)]))))\n",
    "nodes$group <- ifelse(nodes$id %in% edges$from, \"TF\", \"gene\")\n",
    "\n",
    "net <- visNetwork(nodes, edges, width = \"100%\")\n",
    "net <- visGroups(net, groupname = \"TF\", shape = \"square\",\n",
    "                     color = list(background = \"teal\", border=\"black\"))\n",
    "net <- visGroups(net, groupname = \"gene\", shape = \"dot\",       \n",
    "                     color = list(background = \"gold\", border=\"black\"))\n",
    "visLegend(net, main=\"Legend\", position=\"right\", ncol=1) "
   ]
  },
  {
   "cell_type": "markdown",
   "metadata": {},
   "source": [
    "### Visualize the top differential edges between normal and obese cohort PANDA network\n",
    "\n",
    "We wanted to identify potential regulatory interactions that best characterized each of the subtype-specific networks. Therefore, we selected edges based both on the probability that they are “supported” in the network inference, and on whether they are “different” between the subtypes. \n",
    "\n",
    "To determine the probability that an edge is “supported,” we took the value of the cumulative distribution function of a normal distribution to assign a probability value between zero and one for each edge (instead of a z-score). \n",
    "\n",
    "To determine the probability that an edge is “different” between the networks, we first subtracted the z-score weight values estimated by PANDA for the two networks and then determined the value of the cumulative distribution for this difference. The product of these two probabilities represents the probability than an edge is both “supported” and “different.” We select edges for which this combined probability is greater than 80% (default value is 0.8) [(3)](https://pubmed.ncbi.nlm.nih.gov/25888305/).\n",
    "\n",
    "We can use function `panda.diff.edges()` to perform above calculation. Here, we use 0.98 as threshold to reduce the number of edges in VisNetwork.\n",
    "\n",
    "Green edges indicate higher edge weight in the defined condition_name parameter (normal weight in our example), and red edges indicate higher edge weight in the other condition (obese in our example). However, since we took only the positive tail of the difference between the networks, only the green edges are plotted."
   ]
  },
  {
   "cell_type": "code",
   "execution_count": null,
   "metadata": {
    "lines_to_next_cell": 2
   },
   "outputs": [],
   "source": [
    "diff_panda= head(panda.diff.edges(normal_panda,obese_panda,threshold = 0.98, condition_name = \"normal\"),200)\n",
    "\n",
    "edges = diff_panda\n",
    "edges$arrows = \"to\" \n",
    "colnames(edges) <- c(\"from\",\"to\",\"motif\",\"force\",\"normal\",\"arrows\")\n",
    "edges$color  = ifelse(edges$force > 0, \"green\", \"red\")\n",
    "nodes <- data.frame(id = unique(as.vector(as.matrix(edges[,c(1,2)]))) , \n",
    "                    label=unique(as.vector(as.matrix(edges[,c(1,2)]))))\n",
    "nodes$group <- ifelse(nodes$id %in% edges$from, \"TF\", \"gene\")\n",
    "\n",
    "net <- visNetwork(nodes, edges, width = \"100%\")\n",
    "net <- visGroups(net, groupname = \"TF\", shape = \"square\",\n",
    "                     color = list(background = \"teal\", border=\"black\"))\n",
    "net <- visGroups(net, groupname = \"gene\", shape = \"dot\",       \n",
    "                     color = list(background = \"gold\", border=\"black\"))\n",
    "visLegend(net, main=\"Legend\", position=\"right\", ncol=1) "
   ]
  },
  {
   "cell_type": "markdown",
   "metadata": {
    "lines_to_next_cell": 0
   },
   "source": [
    "### 1.2. CONDOR\n",
    "\n",
    "COmplex Network Description Of Regulators (CONDOR), is a method to analyse bipartite community structure of biological networks [(4)](https://pubmed.ncbi.nlm.nih.gov/27618581/).\n",
    "\n",
    "### Generate CONDOR object from a PANDA network\n",
    "\n",
    "We could use function `panda.to.condor.object` to convert a PANDA network to an object of the CONDOR algorithm. Since CONDOR requires positive edge weights, this function thresholds the input PANDA edges to the positive edges only."
   ]
  },
  {
   "cell_type": "code",
   "execution_count": null,
   "metadata": {},
   "outputs": [],
   "source": [
    "normal_condor <- panda.to.condor.object(normal_panda)"
   ]
  },
  {
   "cell_type": "markdown",
   "metadata": {},
   "source": [
    "### Explore CONDOR object\n",
    "Now we can perform community identification and get the membership of each node in the network."
   ]
  },
  {
   "cell_type": "code",
   "execution_count": null,
   "metadata": {},
   "outputs": [],
   "source": [
    "# cluster nodes and produce overall modularity \n",
    "normal_condor <- condor.cluster(normal_condor,project = F)\n",
    "\n",
    "# print membership of community\n",
    "normal_condor$red.memb\n",
    "normal_condor$blue.memb"
   ]
  },
  {
   "cell_type": "markdown",
   "metadata": {
    "lines_to_next_cell": 0
   },
   "source": [
    "### Plot communities in each network\n",
    "Links within communities (colored points) are shown along the diagonal, with links that go between communities in black. Community IDs are plotted along the x-axis."
   ]
  },
  {
   "cell_type": "code",
   "execution_count": null,
   "metadata": {},
   "outputs": [],
   "source": [
    "normal_color_num <- max(normal_condor$red.memb$com)\n",
    "normal_color <- viridis(normal_color_num, alpha = 1, begin = 0, end = 1, \n",
    "direction = 1, option = \"D\")\n",
    "condor.plot.communities(normal_condor, color_list=normal_color, \n",
    "point.size=0.01, xlab=\"Gene\", ylab=\"TF\")"
   ]
  },
  {
   "cell_type": "code",
   "execution_count": null,
   "metadata": {},
   "outputs": [],
   "source": [
    "obese_condor <- panda.to.condor.object(obese_panda)\n",
    "# cluster nodes and produce overall modularity \n",
    "obese_condor <- condor.cluster(obese_condor,project = F)\n",
    "\n",
    "# print membership of community\n",
    "obese_condor$red.memb\n",
    "obese_condor$blue.memb"
   ]
  },
  {
   "cell_type": "code",
   "execution_count": null,
   "metadata": {
    "lines_to_next_cell": 2
   },
   "outputs": [],
   "source": [
    "condor.plot.communities(obese_condor, color_list=normal_color, \n",
    "point.size=0.01, xlab=\"Gene\", ylab=\"TF\")"
   ]
  },
  {
   "cell_type": "markdown",
   "metadata": {
    "lines_to_next_cell": 0
   },
   "source": [
    "### 1.3. ALPACA\n",
    "\n",
    "ALtered Partitions Across Community Architectures (ALPACA) is a graph-based approach that compares two networks and identifies de novo the gene modules that best distinguish the networks. \n",
    "\n",
    "### Run ALPACA\n",
    "First, we need to remove the prefix of TF and Gene identifiers before calling ALPACA."
   ]
  },
  {
   "cell_type": "code",
   "execution_count": null,
   "metadata": {
    "lines_to_next_cell": 0
   },
   "outputs": [],
   "source": [
    "# head(normal_panda)\n",
    "# head(obese_panda)\n",
    "\n",
    "normal_panda_1 <- normal_panda\n",
    "normal_panda_1$TF <- gsub(\"reg_\",\"\",normal_panda_1$TF)\n",
    "normal_panda_1$Gene <- gsub(\"tar_\",\"\",normal_panda_1$Gene)\n",
    "\n",
    "obese_panda_1 <- obese_panda\n",
    "obese_panda_1$TF <- gsub(\"reg_\",\"\",obese_panda_1$TF)\n",
    "obese_panda_1$Gene <- gsub(\"tar_\",\"\",obese_panda_1$Gene)\n",
    "\n",
    "head(normal_panda_1)\n",
    "head(obese_panda_1)\n",
    "\n",
    "# run ALPACA\n",
    "alpaca <- panda.to.alpaca(normal_panda_1, obese_panda_1,NULL,verbose = F)"
   ]
  },
  {
   "cell_type": "markdown",
   "metadata": {
    "lines_to_next_cell": 0
   },
   "source": [
    "### Interpretation of ALPACA results\n",
    "\n",
    "In this step, we extract the top 50 genes in each community."
   ]
  },
  {
   "cell_type": "code",
   "execution_count": null,
   "metadata": {},
   "outputs": [],
   "source": [
    "summary(alpaca)\n",
    "alp_topgene <- alpaca.ExtractTopGenes(alpaca,100)\n",
    "alp_topgene"
   ]
  },
  {
   "cell_type": "markdown",
   "metadata": {
    "lines_to_next_cell": 0
   },
   "source": [
    "### GO term enrichment analysis\n",
    "Using the selected genes, we perform an enrichment analysis in Gene Ontology (GO) biological process using the function `alpaca.list.to.go`."
   ]
  },
  {
   "cell_type": "code",
   "execution_count": null,
   "metadata": {
    "lines_to_next_cell": 0
   },
   "outputs": [],
   "source": [
    "alpaca.go.list <- alpaca.list.to.go(alp_topgene[[1]],unique(normal_panda_1$Gene),alp_topgene[[2]])"
   ]
  },
  {
   "cell_type": "code",
   "execution_count": null,
   "metadata": {
    "lines_to_next_cell": 0
   },
   "outputs": [],
   "source": [
    "alpaca.go.list[,c(3,9)] <- alpaca.go.list[,c(9,3)]\n",
    "alpaca.go.list"
   ]
  },
  {
   "cell_type": "markdown",
   "metadata": {
    "lines_to_next_cell": 0
   },
   "source": [
    "Then, we sort the terms by p-value from the smallest to the largest."
   ]
  },
  {
   "cell_type": "code",
   "execution_count": null,
   "metadata": {},
   "outputs": [],
   "source": [
    "alpaca.go.list[order(alpaca.go.list$Pvalue),]"
   ]
  },
  {
   "cell_type": "markdown",
   "metadata": {
    "lines_to_next_cell": 0
   },
   "source": [
    "## 2. Sex-linked regulatory processes in obese patients with colon cancer\n",
    "\n",
    "### 2.1. LIONESS\n",
    "Linear Interpolation to Obtain Network Estimates for Single Samples(LIONESS), is a method to estimates individual sample networks by applying linear interpolation to the predictions made by existing aggregate network inference approaches (here is PANDA)."
   ]
  },
  {
   "cell_type": "code",
   "execution_count": null,
   "metadata": {},
   "outputs": [],
   "source": [
    "# do NOT run this chuck\n",
    "obese_lioness <- lioness.py(\"/opt/data/netZooR/colonObesity/obese_expr.txt\",\"/opt/data/netZooR/colonObesity/motif_hg38.txt\", \"/opt/data/netZooR/colonObesity/ppi_hg38.txt\", modeProcess = \"intersection\")"
   ]
  },
  {
   "cell_type": "markdown",
   "metadata": {
    "lines_to_next_cell": 0
   },
   "source": [
    "We can print the first 5 rows of each lioness network."
   ]
  },
  {
   "cell_type": "code",
   "execution_count": null,
   "metadata": {
    "message": false,
    "warning": false
   },
   "outputs": [],
   "source": [
    "head(obese_lioness,5)"
   ]
  },
  {
   "cell_type": "markdown",
   "metadata": {
    "lines_to_next_cell": 0
   },
   "source": [
    "Then, we can calculate the gene indegree of each network."
   ]
  },
  {
   "cell_type": "code",
   "execution_count": null,
   "metadata": {
    "lines_to_next_cell": 0
   },
   "outputs": [],
   "source": [
    "length(unique(obese_lioness$TF))\n",
    "length(unique(obese_lioness$Gene))"
   ]
  },
  {
   "cell_type": "markdown",
   "metadata": {
    "lines_to_next_cell": 0
   },
   "source": [
    "The in-degrees of genes is the sum of the weights of inbound edges around a gene."
   ]
  },
  {
   "cell_type": "code",
   "execution_count": null,
   "metadata": {
    "eval": false,
    "message": false
   },
   "outputs": [],
   "source": [
    "obese_lioness_indegree <- aggregate(.~Gene,data = obese_lioness[,-1], FUN=sum)\n",
    "# use gene names as rowname and remove Gene column\n",
    "rownames(obese_lioness_indegree) <- sub(\"tar_\", \"\", obese_lioness_indegree$Gene)\n",
    "obese_lioness_indegree <- obese_lioness_indegree[,-1]\n",
    "head(obese_lioness_indegree)"
   ]
  },
  {
   "cell_type": "markdown",
   "metadata": {
    "lines_to_next_cell": 0
   },
   "source": [
    "### 2.2. Differential targeting analysis with limma\n",
    "Using the single-sample networks, we can compare the in-degree between males and females using linear regression model (limma package) and adjusting for covariates: stage, age, race.\n",
    "\n",
    "First, we start by selecting the obese cohort by filtering the variable `OBESE` in expressionSet data tcga5."
   ]
  },
  {
   "cell_type": "code",
   "execution_count": null,
   "metadata": {
    "lines_to_next_cell": 2
   },
   "outputs": [],
   "source": [
    "obese_eset <- tcga5[,which(bmi_cat==\"OBESE\")]\n",
    "obese_eset"
   ]
  },
  {
   "cell_type": "markdown",
   "metadata": {
    "lines_to_next_cell": 0
   },
   "source": [
    "Then we build the design matrix adjusting for covariates: stage, age, race in the obsese cohort."
   ]
  },
  {
   "cell_type": "code",
   "execution_count": null,
   "metadata": {},
   "outputs": [],
   "source": [
    "# Define the covariates\n",
    "\n",
    "gender_ob <- factor(as.character(pData(obese_eset)$gender),levels=c(\"MALE\",\"FEMALE\"))\n",
    "\n",
    "stage_ob <- (as.character(pData(obese_eset)$uicc_stage))\n",
    "stage_ob[which(is.na(stage_ob))] <- \"NA\"    \n",
    "\n",
    "race_ob <- as.character(pData(obese_eset)$race)\n",
    "race_ob[which(is.na(race_ob))] <- \"NA\"\n",
    "\n",
    "age_ob <- as.numeric(pData(obese_eset)$age_at_initial_pathologic_diagnosis)\n",
    "age_ob[which(is.na(age_ob))] <- mean(age_ob,na.rm=TRUE)\n",
    "\n",
    "\n",
    "race_ob <- as.factor(race_ob)\n",
    "stage_ob <- as.factor(stage_ob)\n",
    "gender_ob <- as.factor(gender_ob)\n",
    "\n",
    "# define design matrix\n",
    "design_ob = model.matrix(~ stage_ob + race_ob + age_ob + gender_ob)"
   ]
  },
  {
   "cell_type": "markdown",
   "metadata": {
    "lines_to_next_cell": 0
   },
   "source": [
    "Finally, we compute differential gene targeting (gene in-degree) using limma."
   ]
  },
  {
   "cell_type": "code",
   "execution_count": null,
   "metadata": {
    "lines_to_next_cell": 0
   },
   "outputs": [],
   "source": [
    "# Run limma\n",
    "fit_ob = lmFit(as.matrix(obese_lioness_indegree),design_ob)\n",
    "fit_ob = eBayes(fit_ob)"
   ]
  },
  {
   "cell_type": "markdown",
   "metadata": {
    "lines_to_next_cell": 0
   },
   "source": [
    "We can see the top results for females by selecting the variable `gender_obFEMALE` in `topTable`."
   ]
  },
  {
   "cell_type": "code",
   "execution_count": null,
   "metadata": {
    "lines_to_next_cell": 2
   },
   "outputs": [],
   "source": [
    "tb_ob = topTable(fit_ob,coef=\"gender_obFEMALE\",number=Inf)\n",
    "head(tb_ob)"
   ]
  },
  {
   "cell_type": "markdown",
   "metadata": {
    "lines_to_next_cell": 0
   },
   "source": [
    "### 2.3. Gene Set Enrichment Analysis (GSEA)\n",
    "\n",
    "Gene set enrichment analysis (GSEA) is a widely used tool for analyzing gene expression data. \n",
    "\n",
    "We will use `fgsea()` function from package `fgsea` to run pre-ranked GSEA, where the function requires a list of gene sets, and a named vector of gene-level statistics, where the names should be the same as the gene names in the pathways list"
   ]
  },
  {
   "cell_type": "code",
   "execution_count": null,
   "metadata": {},
   "outputs": [],
   "source": [
    "# store named vector of test statistics\n",
    "indegree_rank_ob <- setNames(object=tb_ob[,\"t\"], rownames(tb_ob))\n",
    "head(indegree_rank_ob)"
   ]
  },
  {
   "cell_type": "markdown",
   "metadata": {
    "lines_to_next_cell": 0
   },
   "source": [
    "Then we enrich the gene list in KEGG canonical pathways using unsorted gene list.\n",
    "The gene sets can be downloaded from MSigDB: http://software.broadinstitute.org/gsea/msigdb, here, we use `c2.cp.kegg.v7.1.symbols` pathways."
   ]
  },
  {
   "cell_type": "code",
   "execution_count": null,
   "metadata": {},
   "outputs": [],
   "source": [
    "set.seed(5) # for reproducibility\n",
    "gmt.file <- \"/opt/data/netZooR/colonObesity/c2.cp.kegg.v7.1.symbols.gmt\"\n",
    "pathways <- gmtPathways(gmt.file)\n",
    "\n",
    "fgseaRes_ob <- fgsea(pathways, indegree_rank_ob, minSize=15, maxSize=500, nperm=1000)\n",
    "head(fgseaRes_ob)\n"
   ]
  },
  {
   "cell_type": "code",
   "execution_count": null,
   "metadata": {},
   "outputs": [],
   "source": [
    "# Subset to pathways with FDR < 0.05\n",
    "sig_ob <- fgseaRes_ob[fgseaRes_ob$padj < 0.05,]\n",
    "# Top 10 pathways enriched in Female\n",
    "sig_ob$pathway[sig_ob$NES > 0][1:10]"
   ]
  },
  {
   "cell_type": "code",
   "execution_count": null,
   "metadata": {
    "lines_to_next_cell": 2
   },
   "outputs": [],
   "source": [
    "# Top 10 pathways enriched in male\n",
    "sig_ob$pathway[sig_ob$NES < 0][1:10]"
   ]
  },
  {
   "cell_type": "markdown",
   "metadata": {},
   "source": [
    "We used an FDR cut-off *0.1* to select the output for significant signatures to draw the Bubble plot of gene sets on y-axis and adjusted p-value (padj) on x-axis. Bubble size indicates the number of genes in each gene set, and bubble color indicates the normalized enrichment score (NES). Blue is for negative NES (enrichment of higher targeted genes in males), and red is for positive NES (enrichment of higher targeted genes in females)."
   ]
  },
  {
   "cell_type": "code",
   "execution_count": null,
   "metadata": {
    "lines_to_next_cell": 0
   },
   "outputs": [],
   "source": [
    "plotBubblePlot <- function(dat,fdrcut=0.05, figTitle='Obese cohort:  Female(Red) vs \\n Male(Blue)'){\n",
    "# Settings\n",
    "# fdrcut <- 0.05 # FDR cut-off to use as output for significant signatures\n",
    "dencol_neg <- \"blue\" # bubble plot color for negative ES\n",
    "dencol_pos <- \"red\" # bubble plot color for positive ES\n",
    "signnamelength <- 4 # set to remove prefix from signature names (2 for \"GO\", 4 for \"KEGG\", 8 for \"REACTOME\")\n",
    "asp <- 3 # aspect ratio of bubble plot\n",
    "charcut <- 100 # cut signature name in heatmap to this nr of characters\n",
    "\n",
    "# Make signature names more readable\n",
    "a <- as.character(dat$pathway) # 'a' is a great variable name to substitute row names with something more readable\n",
    "for (j in 1:length(a)){\n",
    "  a[j] <- substr(a[j], signnamelength+2, nchar(a[j]))\n",
    "}\n",
    "a <- tolower(a) # convert to lower case (you may want to comment this out, it really depends on what signatures you are looking at, c6 signatures contain gene names, and converting those to lower case may be confusing)\n",
    "for (j in 1:length(a)){\n",
    "  if(nchar(a[j])>charcut) { a[j] <- paste(substr(a[j], 1, charcut), \"...\", sep=\" \")}\n",
    "} # cut signature names that have more characters than charcut, and add \"...\"\n",
    "a <- gsub(\"_\", \" \", a)\n",
    "dat$NAME <- a\n",
    "\n",
    "# Determine what signatures to plot (based on FDR cut)\n",
    "dat2 <- dat[dat[,\"padj\"]<fdrcut,]\n",
    "dat2 <- dat2[order(dat2[,\"padj\"]),] \n",
    "dat2$signature <- factor(dat2$NAME, rev(as.character(dat2$NAME)))\n",
    "# Determine what labels to color\n",
    "sign_neg <- which(dat2[,\"NES\"]<0)\n",
    "sign_pos <- which(dat2[,\"NES\"]>0)\n",
    "# Color labels\n",
    "signcol <- rep(NA, length(dat2$signature))\n",
    "signcol[sign_neg] <- dencol_neg # text color of negative signatures\n",
    "signcol[sign_pos] <- dencol_pos # text color of positive signatures\n",
    "signcol <- rev(signcol) # need to revert vector of colors, because ggplot starts plotting these from below\n",
    "\n",
    "# Plot bubble plot\n",
    "g<-ggplot(dat2, aes(x=pval,y=signature,size=size))\n",
    "g+geom_point(aes(fill=NES), shape=21, colour=\"white\")+\n",
    "  theme_bw()+ # white background, needs to be placed before the \"signcol\" line\n",
    "  xlim(0,fdrcut)+\n",
    "  scale_size_area(max_size=10,guide=\"none\")+\n",
    "  scale_fill_gradient2(low=dencol_neg, high=dencol_pos)+\n",
    "  theme(axis.text.y = element_text(colour=signcol))+\n",
    "  theme(aspect.ratio=asp, axis.title.y=element_blank())+ggtitle(figTitle) # test aspect.ratio\n",
    "}\n",
    "\n",
    "plotBubblePlot(as.data.frame(fgseaRes_ob,fdrcut=0.05))"
   ]
  },
  {
   "cell_type": "markdown",
   "metadata": {},
   "source": [
    "Finally, the top enriched terms in KEGG database were defined as follows:\n",
    "\n",
    "In Male: \n",
    "**ECM-receptor interaction**-The extracellular matrix (ECM) consists of a complex mixture of structural and functional macromolecules and serves an important role in tissue and organ morphogenesis and in the maintenance of cell and tissue structure and function. Specific interactions between cells and the ECM are mediated by transmembrane molecules, mainly integrins and perhaps also proteoglycans, CD36, or other cell-surface-associated components. These interactions lead to a direct or indirect control of cellular activities such as adhesion, migration, differentiation, proliferation, and apoptosis. In addition, integrins function as mechanoreceptors and provide a force-transmitting physical link between the ECM and the cytoskeleton. Integrins are a family of glycosylated, heterodimeric transmembrane adhesion receptors that consist of noncovalently bound alpha- and beta-subunits.\n",
    "\n",
    "**NOD-like receptor signaling pathway - Homo sapiens (human)**-Specific families of pattern recognition receptors are responsible for detecting various pathogens and generating innate immune responses. The intracellular NOD-like receptor (NLR) family contains more than 20 members in mammals and plays a pivotal role in the recognition of intracellular ligands. NOD1 and NOD2, two prototypic NLRs, sense the cytosolic presence of the bacterial peptidoglycan fragments that escaped from endosomal compartments, driving the activation of NF-{kappa}B and MAPK, cytokine production and apoptosis. On the other hand, a different set of NLRs induces caspase-1 activation through the assembly of multiprotein complexes called inflammasomes. The activated of caspase-1 regulates maturation of the pro-inflammatory cytokines IL-1B, IL-18 and drives pyroptosis."
   ]
  }
 ],
 "metadata": {
  "jupytext": {
   "cell_metadata_filter": "eval,warning,tags,message,-all",
   "main_language": "R",
   "notebook_metadata_filter": "-all"
  },
  "kernelspec": {
   "display_name": "R",
   "language": "R",
   "name": "ir"
  },
  "language_info": {
   "codemirror_mode": "r",
   "file_extension": ".r",
   "mimetype": "text/x-r-source",
   "name": "R",
   "pygments_lexer": "r",
   "version": "4.0.3"
  }
 },
 "nbformat": 4,
 "nbformat_minor": 4
}
