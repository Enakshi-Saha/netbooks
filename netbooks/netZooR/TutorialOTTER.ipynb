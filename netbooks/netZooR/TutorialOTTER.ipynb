{
 "cells": [
  {
   "cell_type": "markdown",
   "metadata": {},
   "source": [
    "# Inferring Gene Regulatory Networks from GTEx Gene Expression Data in R with OTTER\n",
    "Author: Rebekka Burkholz<sup>1</sup>\n",
    "\n",
    "<sup>1</sup> Department of Biostatistics, Harvard T.H. Chan School of Public Health, Boston, MA."
   ]
  },
  {
   "cell_type": "markdown",
   "metadata": {
    "lines_to_next_cell": 0
   },
   "source": [
    "# Introduction\n",
    "In this tutorial, we will learn how to infer OTTER gene regulatory networks from gene expression data with netZooR. It is an adaptation of the PANDA tutorial written by Camila Lopes-Ramos.\n",
    "We will focus on two examples: (1) the LCL cell line and (2) whole blood samples from the GTEx gene expression data. OTTER has been developed from a machine learning perspective in close analogy to PANDA.\n",
    "For this reason, we will follow the same steps as in the respective tutorial for PANDA.\n",
    "\n",
    "First, we will build one regulatory network for LCL cell line samples and one for whole blood samples. Next, we will compare the two networks by a pathway enrichment analysis for differentially targeted genes.\n",
    "\n",
    "Cell lines are an essential tool in biomedical research and are often used as surrogates for tissues. LCLs (obtained from the transformation of B cells present in whole blood) are among the most widely used continuous cell lines with the ability to proliferate indefinitely. By comparing the regulatory networks of LCL cell lines with its tissue of origin (whole blood), we find that LCLs exhibit large changes in their patterns of transcription factor regulation, specifically a loss of repressive transcription factor targeting of cell cycle genes.\n",
    "\n",
    "## Install packages\n",
    "You might need to install these packages on your computer if you are running the tutorial locally."
   ]
  },
  {
   "cell_type": "code",
   "execution_count": null,
   "metadata": {
    "lines_to_next_cell": 0,
    "message": false,
    "tags": [
     "remove_output"
    ],
    "warning": false
   },
   "outputs": [],
   "source": [
    "#if (!requireNamespace(\"BiocManager\", quietly = TRUE))\n",
    "#    install.packages(\"BiocManager\",repos = \"http://cran.us.r-project.org\")\n",
    "#BiocManager::install(\"fgsea\")\n",
    "#install.packages(\"reshape2\",repos = \"http://cran.us.r-project.org\")\n",
    "#install.packages(\"ggplot2\",repos = \"http://cran.us.r-project.org\")\n",
    "#install.packages(\"devtools\")\n",
    "#library(devtools)\n",
    "#devtools::install_github(\"netZoo/netZooR\", build_vignettes = FALSE)"
   ]
  },
  {
   "cell_type": "markdown",
   "metadata": {
    "lines_to_next_cell": 0
   },
   "source": [
    "## Load packages"
   ]
  },
  {
   "cell_type": "code",
   "execution_count": null,
   "metadata": {
    "lines_to_next_cell": 2,
    "message": false,
    "warning": false
   },
   "outputs": [],
   "source": [
    "library(netZooR)\n",
    "library(fgsea)\n",
    "library(ggplot2)\n",
    "library(reshape2)\n",
    "library(data.table)"
   ]
  },
  {
   "cell_type": "markdown",
   "metadata": {},
   "source": [
    "# OTTER\n",
    "\n",
    "## Background of OTTER\n",
    "OTTER (Optimize to Estimate Regulation) is a general method to infer a bipartite network $W$ from noisy observations of its projections $WW^T$ and $W^TW$. It is explained in detail in the accompanying publication https://www.biorxiv.org/content/10.1101/2020.06.23.167999v2.\n",
    "In this tutorial, we are particularly interested in constructing a gene regulatory network $W$ between transcription factors (TFs) and genes. Higher link weights are associated with a higher probability of TFs binding to the promoter region of a gene. \n",
    "![Inference of a bipartite gene regulatory network between transcription factors (TFs) and genes.](https://netzoo.s3.us-east-2.amazonaws.com/netZooR/tutorial_datasets/genereg.png)\n",
    "\n",
    "OTTER requires the following inputs: (1) a correlation matrix $C$, which is based on gene expression data, (2) protein-protein interactions represented by the matrix $P$, and (3) an initial guess $W_0$ of $W$, which we base on TF binding motifs.\n",
    "Feel free to play with other choices of $C$, $P$, and $W_0$ as well.\n",
    "\n",
    "OTTER solves the following optimization problem with ADAM gradient descent:\n",
    "$$\\min_W \\frac{(1-\\lambda)}{4}\\Vert WW^T - \\tilde{P} \\Vert^2 + \\frac{\\lambda}{4} \\Vert W^TW - C \\Vert^2 + \\frac{\\gamma}{2} \\Vert W \\Vert^2,$$\n",
    "which links transformed protein-protein interactions $\\tilde{P} = P+2.2$ and the gene expression correlation matrix $C$ with the projections of the unknown gene regulatory network $W$. \n",
    "![OTTER infers the gene regulatory network W assuming that P and C are its (noise corrupted) projections.](https://netzoo.s3.us-east-2.amazonaws.com/netZooR/tutorial_datasets/BipartiteProjections.png)\n",
    "\n",
    "Gradient descent is an iterative optimization method, which needs to be initialized. OTTER starts from $\\tilde{P}W_0$, as this choice defines the current state-of-the-art in gene regulatory network inference based on gene expression data (see the original paper).\n",
    "The transformation $\\tilde{P}W_0$ assumes that binding events to genes with a high number of TF bindings sites are more likely. More details can be found in the original paper. "
   ]
  },
  {
   "cell_type": "markdown",
   "metadata": {},
   "source": [
    "## OTTER parameters\n",
    "The success of OTTER depends greatly on the right choice of parameters. Some parameters are related to the OTTER objective, while others refer to the ADAM gradient descent approach. If we want to call OTTER with the original parameters that have been tuned to infer gene regulatory networks for breast cancer and cervix cancer tissues (see original paper), we can simply call the otter function as $W <- otter(W_0,P,C)$.\n",
    "\n",
    "This sets the original parameters to $\\lambda = 0.0035, \\gamma = 0.335, Iter = 32, \\eta = 0.00001, bexp = 1$, where $\\lambda \\in [0,1]$ is a tuning parameter in the OTTER objective that decides how much importance we give to matching $C$ or $\\tilde{P}$. \n",
    "\n",
    "$\\gamma \\geq 0$ is a regularization parameter in the OTTER objective, which corrects for high noise in $\\tilde{P}$ and $C$.\n",
    "\n",
    "The parameters $Iter = 32, \\eta = 0.00001, bexp = 1$ refer to the gradient descent procedure, where $Iter$ controls the number of gradient steps, $\\eta$ the stepsize, and $bexp$ the exponential decay of the stepsize.\n",
    "In the examples that we study next, we will only use the default parameters for simplicity."
   ]
  },
  {
   "cell_type": "markdown",
   "metadata": {},
   "source": [
    "## OTTER Network Inference\n",
    "\n",
    "First, we have to define the input matrices $P$, $C$, and $W_0$.\n",
    "Let's start with $P$ and $W_0$ and locate our ppi data (to construct P) and motif priors (for W_0). The ppi represents physical interactions between transcription factor proteins, and is an undirected network. The transcription factor motif prior represents putative regulation events where a transcription factor binds in the promotor of a gene to regulate its expression, as predicted by the presence of transcription factor binding motifs in the promotor region of the gene. The motif prior is thus a directed bipartite network linking transcription factors to their predicted gene targets. These are small example priors for the purposes of demonstrating this method. A complete set of priors by species can be downloaded from: https://sites.google.com/a/channing.harvard.edu/kimberlyglass/tools/resources\n",
    "\n",
    "If you are running the tutorial locally, please download the files to your local directory using these commands and change the argument in `read.delim` with the relevant file paths."
   ]
  },
  {
   "cell_type": "code",
   "execution_count": null,
   "metadata": {},
   "outputs": [],
   "source": [
    "# download motif and ppi file from AWS Bucket\n",
    "#system(\"curl -O  https://netzoo.s3.us-east-2.amazonaws.com/netZooR/tutorial_datasets/motif_subset.txt\")\n",
    "#system(\"curl -O https://netzoo.s3.us-east-2.amazonaws.com/netZooR/tutorial_datasets/ppi_subset.txt\")"
   ]
  },
  {
   "cell_type": "markdown",
   "metadata": {},
   "source": [
    "Let's take a look at the priors:"
   ]
  },
  {
   "cell_type": "code",
   "execution_count": null,
   "metadata": {},
   "outputs": [],
   "source": [
    "motif <- read.delim(\"/opt/data/motif_subset.txt\", stringsAsFactors=F, header=F)\n",
    "ppi <- read.delim(\"/opt/data/ppi_subset.txt\", stringsAsFactors=F, header=F)\n",
    "ppi[1:5,]\n",
    "motif[1:5,]\n",
    "print(dim(ppi))\n",
    "print(dim(motif))"
   ]
  },
  {
   "cell_type": "markdown",
   "metadata": {},
   "source": [
    "Next we locate our expression data and filter out genes, which are not expressed in too many samples. As example, we will use a subset of the GTEx version 7 RNA-Seq data, downloaded from https://gtexportal.org/home/datasets. We start with a subset of RNA-Seq data (tpm normalized) for 1,000 genes from 130 LCL cell line samples and 407 whole blood samples. \n",
    "\n",
    "If you are running the tutorial locally, use this command to download the files."
   ]
  },
  {
   "cell_type": "code",
   "execution_count": null,
   "metadata": {},
   "outputs": [],
   "source": [
    "# dowload and load the GTEx expression matrix (tpm normalized expression)\n",
    "#system(\"curl -O  https://netzoo.s3.us-east-2.amazonaws.com/netZooR/tutorial_datasets/expression_tpm_lcl_blood_subset.txt\")"
   ]
  },
  {
   "cell_type": "markdown",
   "metadata": {},
   "source": [
    "Now, we can load the files."
   ]
  },
  {
   "cell_type": "code",
   "execution_count": null,
   "metadata": {
    "lines_to_next_cell": 0
   },
   "outputs": [],
   "source": [
    "exp <- read.delim(\"/opt/data/expression_tpm_lcl_blood_subset.txt\", stringsAsFactors = F, check.names = F)\n",
    "# Log transform the tpm normalized expression\n",
    "exp <- log2(exp+1)\n",
    "# Determine the number of non-NA/non-zero rows in the expression data. This ensures that we have enough values in the vectors to calculate pearson correlations between gene expression profiles in the construction of the gene co-expression prior.\n",
    "zero_na_counts <- apply(exp, MARGIN = 1, FUN = function(x) length(x[(!is.na(x) & x!=0) ]))\n",
    "# Maintain only genes with at least 20 valid gene expression entries\n",
    "exp <- exp[zero_na_counts > 20,]\n",
    "# The set of genes in the expression, motif and ppi matrices must be the same\n",
    "exp <- exp[rownames(exp) %in% motif$V2,]\n",
    "motif_subset <- motif[(motif$V1 %in% rownames(exp)) & (motif$V2 %in% rownames(exp)),]\n",
    "ppi_subset <- ppi[(ppi$V1 %in% motif_subset$V1) & (ppi$V2 %in% motif_subset$V1),]"
   ]
  },
  {
   "cell_type": "markdown",
   "metadata": {},
   "source": [
    "If you are running the tutorial locally, use this command to download the files."
   ]
  },
  {
   "cell_type": "code",
   "execution_count": null,
   "metadata": {},
   "outputs": [],
   "source": [
    "# Load the sample ids of LCL samples\n",
    "#system(\"curl -O  https://netzoo.s3.us-east-2.amazonaws.com/netZooR/tutorial_datasets/LCL_samples.txt\")"
   ]
  },
  {
   "cell_type": "markdown",
   "metadata": {},
   "source": [
    "Now, we can load the files."
   ]
  },
  {
   "cell_type": "code",
   "execution_count": null,
   "metadata": {},
   "outputs": [],
   "source": [
    "lcl_samples <-fread(\"/opt/data/LCL_samples.txt\", header = FALSE, data.table=FALSE)\n",
    "# Select the columns of the expression matrix corresponding to the LCL samples\n",
    "lcl_exp <- exp[,colnames(exp) %in% lcl_samples[,1]]"
   ]
  },
  {
   "cell_type": "markdown",
   "metadata": {},
   "source": [
    "If you are running the tutorial locally, use this command to download the files."
   ]
  },
  {
   "cell_type": "code",
   "execution_count": null,
   "metadata": {},
   "outputs": [],
   "source": [
    "# Load the sample ids of whole blood samples\n",
    "#system(\"curl -O https://netzoo.s3.us-east-2.amazonaws.com/netZooR/tutorial_datasets/WholeBlood_samples.txt\")"
   ]
  },
  {
   "cell_type": "markdown",
   "metadata": {},
   "source": [
    "Now, we can load the files."
   ]
  },
  {
   "cell_type": "code",
   "execution_count": null,
   "metadata": {},
   "outputs": [],
   "source": [
    "wblood_samples <-fread(\"/opt/data/WholeBlood_samples.txt\", header = FALSE, data.table=FALSE)\n",
    "# Select the columns of the expression matrix corresponding to the whole blood samples\n",
    "wb_exp <- exp[,colnames(exp) %in% wblood_samples[,1]]"
   ]
  },
  {
   "cell_type": "markdown",
   "metadata": {
    "lines_to_next_cell": 0
   },
   "source": [
    "For use in OTTER, we have to transform the edgelists into matrices and compute correlation matrices"
   ]
  },
  {
   "cell_type": "code",
   "execution_count": null,
   "metadata": {},
   "outputs": [],
   "source": [
    "#names of genes and transcription factors (tf)\n",
    "geneNames <- unique(motif_subset[,2])\n",
    "tfNames <- unique(motif_subset[,1])\n",
    "#number of genes and tf\n",
    "ng <- length(geneNames)\n",
    "ntf <- length(tfNames)\n",
    "#initial motif prior:\n",
    "W0 <- matrix(data=0, nrow = ntf, ncol=ng, dimnames = list(tfNames, geneNames))\n",
    "W0[cbind(motif_subset[,1], motif_subset[,2])] <- motif_subset[,3]\n",
    "#protein-protein interaction matrix\n",
    "P <- matrix(data=0, nrow = ntf, ncol=ntf, dimnames = list(tfNames, tfNames))\n",
    "P[cbind(ppi_subset[,1],ppi_subset[,2])] <- ppi_subset[,3]\n",
    "#correlation matrices\n",
    "C_lcl <- cor(t(lcl_exp))\n",
    "C_wb <- cor(t(wb_exp))"
   ]
  },
  {
   "cell_type": "markdown",
   "metadata": {},
   "source": [
    "Now we can run OTTER. We want to generate two gene regulatory networks for comparison, one based on the LCL and one based on the whole blood data. Hence, we also have to run OTTER twice. Note that the matrices $P$ and $W_0$ are identical in each run. The input to OTTER only differ in the correlation matrix $C_{lcl}$ or $C_{wb}$, respectively."
   ]
  },
  {
   "cell_type": "code",
   "execution_count": null,
   "metadata": {},
   "outputs": [],
   "source": [
    "otterLCL <- otter(W0, P, C_lcl)\n",
    "otterWB <- otter(W0, P, C_wb)"
   ]
  },
  {
   "cell_type": "markdown",
   "metadata": {},
   "source": [
    "OTTER networks have relatively small weights because of the internal normalization of edges. But the scaling does not matter for the prediction of regulatory links. The higher the edge weight, the higher is the probability that a transcription factor binds to the promoter region of a gene and regulates its expression. For convenience, we multiply all weights with a factor that sets the maximum weight to one."
   ]
  },
  {
   "cell_type": "code",
   "execution_count": null,
   "metadata": {},
   "outputs": [],
   "source": [
    "otterLCL <- otterLCL/max(otterLCL)\n",
    "otterWB <- otterWB/max(otterWB)"
   ]
  },
  {
   "cell_type": "markdown",
   "metadata": {
    "lines_to_next_cell": 0
   },
   "source": [
    "# Visualizing networks in Cytoscape\n",
    "In this section we will visualize parts of the network using the Cytoscape software.\n",
    "Download Cytoscape from: https://cytoscape.org\n",
    "\n",
    "## Preparing data to plot"
   ]
  },
  {
   "cell_type": "code",
   "execution_count": null,
   "metadata": {},
   "outputs": [],
   "source": [
    "# We will use the function vis.panda.in.cytoscape to plot a set of nodes and edges on Cytoscape. The input for this function is a data.frame of edges to plot with 4 columns: \"tf\", \"gene\", \"motif\" (TF motif present or not on gene promoter), \"force\" (edge weight calculated by OTTER).\n",
    "lcl_vis <- melt(otterLCL)\n",
    "wb_vis <- melt(otterWB)\n",
    "lcl_vis <- data.frame(\"TF\"=as.character(lcl_vis[,1]),\"Gene\"=as.character(lcl_vis[,2]),\"Motif\"=NA,\"Score\"=as.numeric(lcl_vis[,3]),stringsAsFactors = FALSE)\n",
    "wb_vis <- data.frame(\"TF\"=as.character(wb_vis[,1]),\"Gene\"=as.character(wb_vis[,2]),\"Motif\"=NA,\"Score\"=as.numeric(wb_vis[,3]),stringsAsFactors = FALSE)\n",
    "head(lcl_vis)"
   ]
  },
  {
   "cell_type": "markdown",
   "metadata": {
    "lines_to_next_cell": 0
   },
   "source": [
    "## Plot the 200 highest edge weights"
   ]
  },
  {
   "cell_type": "code",
   "execution_count": null,
   "metadata": {
    "eval": false
   },
   "outputs": [],
   "source": [
    "n=200 # number of edges to plot \n",
    "top <- order(lcl_vis$Score,decreasing=T)[1:n]\n",
    "lcl_vis_top <- lcl_vis[top,]\n",
    "# Plot in cytoscape (open the cytoscape software before running this command)\n",
    "vis.panda.in.cytoscape(lcl_vis_top, network_name=\"LCL\")\n",
    "# Here we will load a customized visual style for our network, in which TF nodes are orange circles, target gene nodes are blue squares, and edges shade and width are the edge weight (likelyhood of regulatory interaction between the TF and gene). You can further customize the network style directly from Cytoscape.\n",
    "create.panda.style(style_name=\"PandaStyle\")"
   ]
  },
  {
   "cell_type": "markdown",
   "metadata": {
    "lines_to_next_cell": 0
   },
   "source": [
    "## Plot the top differential edges betwen LCL and WB"
   ]
  },
  {
   "cell_type": "code",
   "execution_count": null,
   "metadata": {
    "eval": false,
    "message": false,
    "warning": false
   },
   "outputs": [],
   "source": [
    "# Select the top differential edge weights betweeen LCL and whole blood\n",
    "diffRes <- panda.diff.edges(lcl_vis, wb_vis, condition_name=\"LCL\")\n",
    "head(diffRes)\n",
    "# Number of differential edges is:\n",
    "nrow(diffRes)\n",
    "# Select the top differential edges higher in LCL to plot in Cytoscape\n",
    "n=200 # number of edges to select from each condition\n",
    "diffResLCL <- diffRes[diffRes$LCL==\"T\",]\n",
    "diffResLCL <- diffResLCL[order(diffResLCL$Score,decreasing=TRUE),][1:n,]\n",
    "# Select the top differential edges higher in whole blood to plot in Cytoscape\n",
    "diffResWB <- diffRes[diffRes$LCL==\"F\",]\n",
    "diffResWB <- diffResWB[order(diffResWB$Score,decreasing=TRUE),][1:n,]\n",
    "# Combine top differential edges in LCL and WB to plot in Cytoscape\n",
    "diffRes_vis <- rbind(diffResLCL, diffResWB)\n",
    "# Plot the network\n",
    "# Purple edges indicate higher edge weight in the defined \"condition_name\" parameter (LCL in our example), and green edges indicate higher edge weight in the other condition (whole blood in our example).\n",
    "vis.diff.panda.in.cytoscape(diffRes_vis, condition_name = \"LCL\", network_name=\"diff.PANDA\")\n",
    "# Apply the style to the network\n",
    "create.diff.panda.style(style_name=\"Diff.PandaStyle\", condition_name=\"LCL\")"
   ]
  },
  {
   "cell_type": "markdown",
   "metadata": {},
   "source": [
    "# Calculating degree  \n",
    "* out-degrees of TFs: sum of the weights of edges pointing to a TF\n",
    "* in-degrees of genes: sum of the weights of edges pointing to a gene\n"
   ]
  },
  {
   "cell_type": "code",
   "execution_count": null,
   "metadata": {},
   "outputs": [],
   "source": [
    "lcl_outdegree <- apply(otterLCL, 1, sum) \n",
    "wb_outdegree <- apply(otterWB, 1, sum) \n",
    "lcl_indegree <-  apply(otterLCL, 2, sum) \n",
    "wb_indegree <- apply(otterWB, 2, sum) \n",
    "degreeDiff <- lcl_indegree-wb_indegree \n",
    "head(degreeDiff)"
   ]
  },
  {
   "cell_type": "markdown",
   "metadata": {
    "lines_to_next_cell": 0
   },
   "source": [
    "# Gene Set Enrichment Analysis\n",
    "Well will use the fgsea package to perform a gene set enrichment analysis. Inputs are a ranked gene list (for example the gene in-degree difference between LCL and whole blood) and a list of gene sets (or signatures) in gmt format to test for enrichment. The gene sets can be downloaded from MSigDB: http://software.broadinstitute.org/gsea/msigdb The same gene annotation should be used in the ranked gene list and the gene sets. In our example, we will use the KEGG pathways downloaded from MSigDB.\n",
    "\n",
    "## Run fgsea"
   ]
  },
  {
   "cell_type": "markdown",
   "metadata": {},
   "source": [
    "First, if you are working locally, please download the pathway annotation file otherwise you can skip this step."
   ]
  },
  {
   "cell_type": "code",
   "execution_count": null,
   "metadata": {},
   "outputs": [],
   "source": [
    "#system(\"curl -O  https://netzoo.s3.us-east-2.amazonaws.com/netZooR/tutorial_datasets/c2.cp.kegg.v7.0.symbols.gmt\")"
   ]
  },
  {
   "cell_type": "code",
   "execution_count": null,
   "metadata": {},
   "outputs": [],
   "source": [
    "pathways <- gmtPathways(\"/opt/data/c2.cp.kegg.v7.0.symbols.gmt\")"
   ]
  },
  {
   "cell_type": "markdown",
   "metadata": {},
   "source": [
    "To retrieve biological-relevant processes, we will load and use the complete ranked gene list (consisting of 26,077 out of 27,174 genes). The in-degree difference has been calculated based on the complete networks instead of the subnetworks, which we constructed in this tutorial as small examples (with reduced run time). First, let's download the precomputed results if we are working locally."
   ]
  },
  {
   "cell_type": "code",
   "execution_count": null,
   "metadata": {},
   "outputs": [],
   "source": [
    "#system(\"curl -O  https://netzoo.s3.us-east-2.amazonaws.com/netZooR/tutorial_datasets/lclWB_indegreeDifference_otter.txt\")"
   ]
  },
  {
   "cell_type": "markdown",
   "metadata": {},
   "source": [
    "Then, let's check perform the actual enrichment analysis."
   ]
  },
  {
   "cell_type": "code",
   "execution_count": null,
   "metadata": {
    "message": false,
    "warning": false
   },
   "outputs": [],
   "source": [
    "degreeDiff_all <- read.delim(\"/opt/data/lclWB_indegreeDifference_otter.txt\",stringsAsFactors = F,header=F)\n",
    "degreeDiff_all <- setNames(degreeDiff_all[,2], degreeDiff_all[,1])\n",
    "fgseaRes <- fgsea(pathways, degreeDiff_all, minSize=15, maxSize=500, nperm=1000)\n",
    "head(fgseaRes)\n",
    "# Subset to pathways with FDR < 0.05\n",
    "sig <- fgseaRes[fgseaRes$padj < 0.05,]\n",
    "# Get the top 10 significant pathways enriched for genes having lower targeting in LCLs  \n",
    "sig[order(sig$NES)[1:10],]"
   ]
  },
  {
   "cell_type": "markdown",
   "metadata": {},
   "source": [
    "## Bubble plot of top differentially targeted pathways\n",
    "Bubble plot of gene sets (KEGG pathways) on y-axis and adjusted p-value (padj) on x-axis. Bubble size indicates the number of genes in each gene set, and bubble color indicates the normalized enrichment score (NES). Blue is for negative NES (enrichment of higher targeted genes in whole blood), and red is for positive NES (enrichment of higher targeted genes in LCL)."
   ]
  },
  {
   "cell_type": "code",
   "execution_count": null,
   "metadata": {
    "lines_to_next_cell": 0
   },
   "outputs": [],
   "source": [
    "dat <- data.frame(fgseaRes)\n",
    "# Settings\n",
    "fdrcut <- 0.05 # FDR cut-off to use as output for significant signatures\n",
    "dencol_neg <- \"blue\" # bubble plot color for negative ES\n",
    "dencol_pos <- \"red\" # bubble plot color for positive ES\n",
    "signnamelength <- 4 # set to remove prefix from signature names (2 for \"GO\", 4 for \"KEGG\", 8 for \"REACTOME\")\n",
    "asp <- 3 # aspect ratio of bubble plot\n",
    "charcut <- 100 # cut signature name in heatmap to this nr of characters\n",
    "# Make signature names more readable\n",
    "a <- as.character(dat$pathway) # 'a' is a great variable name to substitute row names with something more readable\n",
    "for (j in 1:length(a)){\n",
    "  a[j] <- substr(a[j], signnamelength+2, nchar(a[j]))\n",
    "}\n",
    "a <- tolower(a) # convert to lower case (you may want to comment this out, it really depends on what signatures you are looking at, c6 signatures contain gene names, and converting those to lower case may be confusing)\n",
    "for (j in 1:length(a)){\n",
    "  if(nchar(a[j])>charcut) { a[j] <- paste(substr(a[j], 1, charcut), \"...\", sep=\" \")}\n",
    "} # cut signature names that have more characters than charcut, and add \"...\"\n",
    "a <- gsub(\"_\", \" \", a)\n",
    "dat$NAME <- a\n",
    "# Determine what signatures to plot (based on FDR cut)\n",
    "dat2 <- dat[dat[,\"padj\"]<fdrcut,]\n",
    "dat2 <- dat2[order(dat2[,\"padj\"]),] \n",
    "dat2$signature <- factor(dat2$NAME, rev(as.character(dat2$NAME)))\n",
    "# Determine what labels to color\n",
    "sign_neg <- which(dat2[,\"NES\"]<0)\n",
    "sign_pos <- which(dat2[,\"NES\"]>0)\n",
    "# Color labels\n",
    "signcol <- rep(NA, length(dat2$signature))\n",
    "signcol[sign_neg] <- dencol_neg # text color of negative signatures\n",
    "signcol[sign_pos] <- dencol_pos # text color of positive signatures\n",
    "signcol <- rev(signcol) # need to revert vector of colors, because ggplot starts plotting these from below\n",
    "# Plot bubble plot\n",
    "g<-ggplot(dat2, aes(x=padj,y=signature,size=size))\n",
    "g+geom_point(aes(fill=NES), shape=21, colour=\"white\")+\n",
    "  theme_bw()+ # white background, needs to be placed before the \"signcol\" line\n",
    "  xlim(0,fdrcut)+\n",
    "  scale_size_area(max_size=10,guide=\"none\")+\n",
    "  scale_fill_gradient2(low=dencol_neg, high=dencol_pos)+\n",
    "  theme(axis.text.y = element_text(colour=signcol))+\n",
    "  theme(aspect.ratio=asp, axis.title.y=element_blank()) # test aspect.ratio"
   ]
  },
  {
   "cell_type": "markdown",
   "metadata": {},
   "source": [
    "\n"
   ]
  }
 ],
 "metadata": {
  "jupytext": {
   "cell_metadata_filter": "message,eval,warning,tags,-all",
   "main_language": "R",
   "notebook_metadata_filter": "-all"
  },
  "kernelspec": {
   "display_name": "R",
   "language": "R",
   "name": "ir"
  },
  "language_info": {
   "codemirror_mode": "r",
   "file_extension": ".r",
   "mimetype": "text/x-r-source",
   "name": "R",
   "pygments_lexer": "r",
   "version": "3.6.2"
  }
 },
 "nbformat": 4,
 "nbformat_minor": 4
}
