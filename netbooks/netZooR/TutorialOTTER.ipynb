{
 "cells": [
  {
   "cell_type": "markdown",
   "metadata": {},
   "source": [
    "# Inferring Gene Regulatory Networks from GTEx Gene Expression Data in R with OTTER\n",
    "Author: Rebekka Burkholz<sup>1</sup>\n",
    "\n",
    "<sup>1</sup> Department of Biostatistics, Harvard T.H. Chan School of Public Health, Boston, MA."
   ]
  },
  {
   "cell_type": "markdown",
   "metadata": {
    "lines_to_next_cell": 0
   },
   "source": [
    "# 1. Introduction\n",
    "In this tutorial, we will learn how to infer OTTER gene regulatory networks from gene expression data with netZooR. We will focus on two examples: (1) the LCL cell line<sup>1</sup> and (2) whole blood (WB) samples from the GTEx gene expression data<sup>4</sup>. OTTER<sup>2</sup> has been developed from a machine learning perspective in close analogy to PANDA<sup>3</sup>.\n",
    "For this reason, we will follow the same steps as in [the respective tutorial for PANDA](../netZooR/panda_gtex_tutorial_server.ipynb).\n",
    "\n",
    "First, we will build one regulatory network for LCL cell line samples and one for whole blood samples. Next, we will compare the two networks by a pathway enrichment analysis for differentially targeted genes.\n",
    "\n",
    "Cell lines are an essential tool in biomedical research and are often used as surrogates for tissues. LCLs (obtained from the transformation of B cells present in whole blood) are among the most widely used continuous cell lines with the ability to proliferate indefinitely. By comparing the regulatory networks of LCL cell lines with its tissue of origin (whole blood), we find that LCLs exhibit large changes in their patterns of transcription factor regulation, specifically a loss of repressive transcription factor targeting of cell cycle genes.\n",
    "\n",
    "## Package installation\n",
    "\n",
    "This tutorial can be ran on the server and locally by setting the following parameter."
   ]
  },
  {
   "cell_type": "code",
   "execution_count": null,
   "metadata": {},
   "outputs": [],
   "source": [
    "runserver=1"
   ]
  },
  {
   "cell_type": "markdown",
   "metadata": {},
   "source": [
    "Next, we need to set the files paths on the server."
   ]
  },
  {
   "cell_type": "code",
   "execution_count": null,
   "metadata": {},
   "outputs": [],
   "source": [
    "if(runserver==1){\n",
    "    ppath='/opt/data/'\n",
    "}else if (runserver==0){\n",
    "    ppath=''\n",
    "}"
   ]
  },
  {
   "cell_type": "markdown",
   "metadata": {},
   "source": [
    "You might need to install these packages on your computer if you are running the tutorial locally."
   ]
  },
  {
   "cell_type": "code",
   "execution_count": null,
   "metadata": {
    "lines_to_next_cell": 0,
    "message": false,
    "tags": [
     "remove_output"
    ],
    "warning": false
   },
   "outputs": [],
   "source": [
    "if(runserver==0){\n",
    "    if (!requireNamespace(\"BiocManager\", quietly = TRUE))\n",
    "        install.packages(\"BiocManager\",repos = \"http://cran.us.r-project.org\")\n",
    "    BiocManager::install(\"fgsea\")\n",
    "    install.packages(\"reshape2\",repos = \"http://cran.us.r-project.org\")\n",
    "    install.packages(\"ggplot2\",repos = \"http://cran.us.r-project.org\")\n",
    "    install.packages(\"remotes\")\n",
    "    library(remotes)\n",
    "    remotes::install_github(\"netZoo/netZooR\", build_vignettes = FALSE)\n",
    "}"
   ]
  },
  {
   "cell_type": "markdown",
   "metadata": {
    "lines_to_next_cell": 0
   },
   "source": [
    "## Loading packages\n",
    "In this step, we are going to load the libraries for the analysis."
   ]
  },
  {
   "cell_type": "code",
   "execution_count": null,
   "metadata": {
    "lines_to_next_cell": 2,
    "message": false,
    "warning": false
   },
   "outputs": [],
   "source": [
    "library(netZooR)       # To load OTTER from netZooR\n",
    "library(fgsea)         # For gene enrichment analysis\n",
    "library(ggplot2)       # For plotting\n",
    "library(reshape2)      # For data loading\n",
    "library(data.table)    # For data processing\n",
    "library(visNetwork)    # For network visualization"
   ]
  },
  {
   "cell_type": "markdown",
   "metadata": {},
   "source": [
    "# 2. OTTER\n",
    "\n",
    "## 2.1. Background of OTTER\n",
    "OTTER (Optimize to Estimate Regulation) is a general method to infer a bipartite network $W$ from noisy observations of its projections $WW^T$ and $W^TW$. It is explained in detail in the accompanying publication<sup>3</sup>.\n",
    "In this tutorial, we are particularly interested in constructing a gene regulatory network $W$ between transcription factors (TFs) and genes. Higher link weights are associated with a higher probability of TFs binding to the promoter region of a gene. \n",
    "![Inference of a bipartite gene regulatory network between transcription factors (TFs) and genes.](https://netzoo.s3.us-east-2.amazonaws.com/netZooR/tutorial_datasets/genereg.png)\n",
    "\n",
    "OTTER requires the following inputs: (1) a correlation matrix $C$, which is based on gene expression data, (2) protein-protein interactions represented by the matrix $P$, and (3) an initial guess $W_0$ of $W$, which we base on TF binding motifs.\n",
    "Feel free to play with other choices of $C$, $P$, and $W_0$ as well.\n",
    "\n",
    "OTTER solves the following optimization problem with ADAM gradient descent:\n",
    "$$\\min_W \\frac{(1-\\lambda)}{4}\\Vert WW^T - \\tilde{P} \\Vert^2 + \\frac{\\lambda}{4} \\Vert W^TW - C \\Vert^2 + \\frac{\\gamma}{2} \\Vert W \\Vert^2,$$\n",
    "which links transformed protein-protein interactions $\\tilde{P} = P+2.2$ and the gene expression correlation matrix $C$ with the projections of the unknown gene regulatory network $W$. \n",
    "![OTTER infers the gene regulatory network W assuming that P and C are its (noise corrupted) projections.](https://netzoo.s3.us-east-2.amazonaws.com/netZooR/tutorial_datasets/BipartiteProjections.png)\n",
    "\n",
    "Gradient descent is an iterative optimization method, which needs to be initialized. OTTER starts from $\\tilde{P}W_0$, as this choice defines the current state-of-the-art in gene regulatory network inference based on gene expression data (see the original paper).\n",
    "The transformation $\\tilde{P}W_0$ assumes that binding events to genes with a high number of TF bindings sites are more likely. More details can be found in the original paper. "
   ]
  },
  {
   "cell_type": "markdown",
   "metadata": {},
   "source": [
    "## 2.2. OTTER parameters\n",
    "The success of OTTER depends greatly on the right choice of parameters. Some parameters are related to the OTTER objective, while others refer to the ADAM gradient descent approach. If we want to call OTTER with the original parameters that have been tuned to infer gene regulatory networks for breast cancer and cervix cancer tissues (see original paper), we can simply call the otter function as $W \\leftarrow otter(W_0,P,C)$.\n",
    "\n",
    "This sets the original parameters to $\\lambda = 0.0035, \\gamma = 0.335, Iter = 32, \\eta = 0.00001, bexp = 1$, where $\\lambda \\in [0,1]$ is a tuning parameter in the OTTER objective that decides how much importance we give to matching $C$ or $\\tilde{P}$. \n",
    "\n",
    "$\\gamma \\geq 0$ is a regularization parameter in the OTTER objective, which corrects for high noise in $\\tilde{P}$ and $C$.\n",
    "\n",
    "The parameters $Iter = 32, \\eta = 0.00001, bexp = 1$ refer to the gradient descent procedure, where $Iter$ controls the number of gradient steps, $\\eta$ the stepsize, and $bexp$ the exponential decay of the stepsize.\n",
    "In the examples that we study next, we will only use the default parameters for simplicity."
   ]
  },
  {
   "cell_type": "markdown",
   "metadata": {},
   "source": [
    "## 2.3. OTTER Network Inference\n",
    "\n",
    "First, we have to define the input matrices $P$, $C$, and $W_0$.\n",
    "Let's start with $P$ and $W_0$ and locate our ppi data (to construct P) and motif priors (for $W_0$). The ppi represents physical interactions between transcription factor proteins, and is an undirected network. The transcription factor motif prior represents putative regulation events where a transcription factor binds in the promotor of a gene to regulate its expression, as predicted by the presence of transcription factor binding motifs in the promotor region of the gene. The motif prior is thus a directed bipartite network linking transcription factors to their predicted gene targets. These are small example priors for the purposes of demonstrating this method. A complete set of priors by species can be downloaded from: https://sites.google.com/a/channing.harvard.edu/kimberlyglass/tools/resources\n",
    "\n",
    "If you are running the tutorial locally, please download the files to your local directory using these commands and change the argument in `read.delim` with the relevant file paths."
   ]
  },
  {
   "cell_type": "code",
   "execution_count": null,
   "metadata": {},
   "outputs": [],
   "source": [
    "if(runserver==0){\n",
    "    # download motif and ppi file from AWS Bucket\n",
    "    system(\"curl -O  https://netzoo.s3.us-east-2.amazonaws.com/netZooR/tutorial_datasets/motif_subset.txt\")\n",
    "    system(\"curl -O https://netzoo.s3.us-east-2.amazonaws.com/netZooR/tutorial_datasets/ppi_subset.txt\")\n",
    "}"
   ]
  },
  {
   "cell_type": "markdown",
   "metadata": {},
   "source": [
    "Let's take a look at the motif prior."
   ]
  },
  {
   "cell_type": "code",
   "execution_count": null,
   "metadata": {},
   "outputs": [],
   "source": [
    "motif <- read.delim(paste0(ppath,\"motif_subset.txt\"), stringsAsFactors=F, header=F)"
   ]
  },
  {
   "cell_type": "markdown",
   "metadata": {},
   "source": [
    "It contains edges between TFs that has a DNA binding motif in the promoter region of their target genes. The third column is binary, it has 1 if the binding is confirmed otherwise, it will have 0."
   ]
  },
  {
   "cell_type": "code",
   "execution_count": null,
   "metadata": {},
   "outputs": [],
   "source": [
    "motif[1:5,]"
   ]
  },
  {
   "cell_type": "markdown",
   "metadata": {},
   "source": [
    "There are 49950 edges in total."
   ]
  },
  {
   "cell_type": "code",
   "execution_count": null,
   "metadata": {},
   "outputs": [],
   "source": [
    "print(dim(motif))"
   ]
  },
  {
   "cell_type": "markdown",
   "metadata": {},
   "source": [
    "The PPI network has weighted egdes between pairs of TFs. The third column corresponds to edge weights and has a value between 0 and 1"
   ]
  },
  {
   "cell_type": "code",
   "execution_count": null,
   "metadata": {},
   "outputs": [],
   "source": [
    "ppi <- read.delim(paste0(ppath,\"ppi_subset.txt\"), stringsAsFactors=F, header=F)\n",
    "ppi[1:5,]"
   ]
  },
  {
   "cell_type": "markdown",
   "metadata": {},
   "source": [
    "The total number of edges is 430."
   ]
  },
  {
   "cell_type": "code",
   "execution_count": null,
   "metadata": {},
   "outputs": [],
   "source": [
    "print(dim(ppi))"
   ]
  },
  {
   "cell_type": "markdown",
   "metadata": {},
   "source": [
    "Next we locate our expression data and filter out genes, which are not expressed in too many samples. As example, we will use a subset of the GTEx version 7 RNA-Seq data, downloaded from https://gtexportal.org/home/datasets. We start with a subset of RNA-Seq data (tpm normalized) for 1,000 genes from 130 LCL cell line samples and 407 whole blood samples. \n",
    "\n",
    "If you are running the tutorial locally, use this command to download the files."
   ]
  },
  {
   "cell_type": "code",
   "execution_count": null,
   "metadata": {},
   "outputs": [],
   "source": [
    "if(runserver==0){\n",
    "    #dowload and load the GTEx expression matrix (tpm normalized expression)\n",
    "    system(\"curl -O  https://netzoo.s3.us-east-2.amazonaws.com/netZooR/tutorial_datasets/expression_tpm_lcl_blood_subset.txt\")\n",
    "    }"
   ]
  },
  {
   "cell_type": "markdown",
   "metadata": {},
   "source": [
    "Now, we can load the gene expression file for whole blood."
   ]
  },
  {
   "cell_type": "code",
   "execution_count": null,
   "metadata": {
    "lines_to_next_cell": 0
   },
   "outputs": [],
   "source": [
    "exp <- read.delim(paste0(ppath,\"expression_tpm_lcl_blood_subset.txt\"), stringsAsFactors = F, check.names = F)"
   ]
  },
  {
   "cell_type": "markdown",
   "metadata": {},
   "source": [
    "Then, we normalize the data by log transforming the expresion values."
   ]
  },
  {
   "cell_type": "code",
   "execution_count": null,
   "metadata": {},
   "outputs": [],
   "source": [
    "exp <- log2(exp+1)"
   ]
  },
  {
   "cell_type": "markdown",
   "metadata": {},
   "source": [
    "Next, we determine the number of non-NA/non-zero rows in the expression data. This ensures that we have enough values in the vectors to calculate pearson correlations between gene expression profiles in the construction of the gene co-expression prior."
   ]
  },
  {
   "cell_type": "code",
   "execution_count": null,
   "metadata": {},
   "outputs": [],
   "source": [
    "zero_na_counts <- apply(exp, MARGIN = 1, FUN = function(x) length(x[(!is.na(x) & x!=0) ]))"
   ]
  },
  {
   "cell_type": "markdown",
   "metadata": {},
   "source": [
    "We keep only genes with at least 20 valid gene expression entries."
   ]
  },
  {
   "cell_type": "code",
   "execution_count": null,
   "metadata": {},
   "outputs": [],
   "source": [
    "exp <- exp[zero_na_counts > 20,]"
   ]
  },
  {
   "cell_type": "markdown",
   "metadata": {},
   "source": [
    "Finally, we intersect the motif, PPI, and expression data so that the set of genes is the same."
   ]
  },
  {
   "cell_type": "code",
   "execution_count": null,
   "metadata": {},
   "outputs": [],
   "source": [
    "exp <- exp[rownames(exp) %in% motif$V2,]\n",
    "motif_subset <- motif[(motif$V1 %in% rownames(exp)) & (motif$V2 %in% rownames(exp)),]\n",
    "ppi_subset <- ppi[(ppi$V1 %in% motif_subset$V1) & (ppi$V2 %in% motif_subset$V1),]"
   ]
  },
  {
   "cell_type": "markdown",
   "metadata": {},
   "source": [
    "Now, that we donwloaded the gene expression for both LCL and whole blood, we need to download the annotation for each sample to identify which sample belongs to either LCL or whole blood."
   ]
  },
  {
   "cell_type": "code",
   "execution_count": null,
   "metadata": {},
   "outputs": [],
   "source": [
    "if(runserver==0){\n",
    "    #Load the sample ids of LCL samples\n",
    "    systm(\"curl -O  https://netzoo.s3.us-east-2.amazonaws.com/netZooR/tutorial_datasets/LCL_samples.txt\")\n",
    "}"
   ]
  },
  {
   "cell_type": "markdown",
   "metadata": {},
   "source": [
    "Then, we load the file."
   ]
  },
  {
   "cell_type": "code",
   "execution_count": null,
   "metadata": {},
   "outputs": [],
   "source": [
    "lcl_samples <-fread(paste0(ppath,\"LCL_samples.txt\"), header = FALSE, data.table=FALSE)"
   ]
  },
  {
   "cell_type": "markdown",
   "metadata": {},
   "source": [
    "And we select the columns of the expression matrix corresponding to the LCL samples."
   ]
  },
  {
   "cell_type": "code",
   "execution_count": null,
   "metadata": {},
   "outputs": [],
   "source": [
    "lcl_exp <- exp[,colnames(exp) %in% lcl_samples[,1]]"
   ]
  },
  {
   "cell_type": "markdown",
   "metadata": {},
   "source": [
    "Now, we do the same for whole blood. We download the sample names."
   ]
  },
  {
   "cell_type": "code",
   "execution_count": null,
   "metadata": {},
   "outputs": [],
   "source": [
    "if(runserver==0){\n",
    "    # Load the sample ids of whole blood samples\n",
    "    system(\"curl -O https://netzoo.s3.us-east-2.amazonaws.com/netZooR/tutorial_datasets/WholeBlood_samples.txt\")\n",
    "}"
   ]
  },
  {
   "cell_type": "markdown",
   "metadata": {},
   "source": [
    "And load the annotation file."
   ]
  },
  {
   "cell_type": "code",
   "execution_count": null,
   "metadata": {},
   "outputs": [],
   "source": [
    "wblood_samples <-fread(paste0(ppath,\"WholeBlood_samples.txt\"), header = FALSE, data.table=FALSE)"
   ]
  },
  {
   "cell_type": "markdown",
   "metadata": {},
   "source": [
    "Using the annotation file, we can separate the whole blood gene expression columns from our original matrix."
   ]
  },
  {
   "cell_type": "code",
   "execution_count": null,
   "metadata": {},
   "outputs": [],
   "source": [
    "wb_exp <- exp[,colnames(exp) %in% wblood_samples[,1]]"
   ]
  },
  {
   "cell_type": "markdown",
   "metadata": {
    "lines_to_next_cell": 0
   },
   "source": [
    "For use in OTTER, we have to transform the networks from an edge list format into adjacency matrix. First, we need to define gene and TF names from our data."
   ]
  },
  {
   "cell_type": "code",
   "execution_count": null,
   "metadata": {},
   "outputs": [],
   "source": [
    "geneNames <- unique(motif_subset[,2])\n",
    "tfNames <- unique(motif_subset[,1])"
   ]
  },
  {
   "cell_type": "markdown",
   "metadata": {},
   "source": [
    "As well as their sizes."
   ]
  },
  {
   "cell_type": "code",
   "execution_count": null,
   "metadata": {},
   "outputs": [],
   "source": [
    "ng <- length(geneNames)\n",
    "ntf <- length(tfNames)"
   ]
  },
  {
   "cell_type": "markdown",
   "metadata": {},
   "source": [
    "We then start by transforming the motif network into adjacency matrix."
   ]
  },
  {
   "cell_type": "code",
   "execution_count": null,
   "metadata": {},
   "outputs": [],
   "source": [
    "W0 <- matrix(data=0, nrow = ntf, ncol=ng, dimnames = list(tfNames, geneNames))\n",
    "W0[cbind(motif_subset[,1], motif_subset[,2])] <- motif_subset[,3]"
   ]
  },
  {
   "cell_type": "markdown",
   "metadata": {},
   "source": [
    "Then, the protein-protein interaction network."
   ]
  },
  {
   "cell_type": "code",
   "execution_count": null,
   "metadata": {},
   "outputs": [],
   "source": [
    "P <- matrix(data=0, nrow = ntf, ncol=ntf, dimnames = list(tfNames, tfNames))\n",
    "P[cbind(ppi_subset[,1],ppi_subset[,2])] <- ppi_subset[,3]"
   ]
  },
  {
   "cell_type": "markdown",
   "metadata": {},
   "source": [
    "For gene expression data, we need to compute the gene co-expression matrix, that will be used as an input to OTTER."
   ]
  },
  {
   "cell_type": "code",
   "execution_count": null,
   "metadata": {},
   "outputs": [],
   "source": [
    "C_lcl <- cor(t(lcl_exp))\n",
    "C_wb <- cor(t(wb_exp))"
   ]
  },
  {
   "cell_type": "markdown",
   "metadata": {},
   "source": [
    "Now we can run OTTER. We want to generate two gene regulatory networks for comparison, one based on the LCL:"
   ]
  },
  {
   "cell_type": "code",
   "execution_count": null,
   "metadata": {},
   "outputs": [],
   "source": [
    "otterLCL <- otter(W0, P, C_lcl)"
   ]
  },
  {
   "cell_type": "markdown",
   "metadata": {},
   "source": [
    "and one based on the whole blood data:"
   ]
  },
  {
   "cell_type": "code",
   "execution_count": null,
   "metadata": {},
   "outputs": [],
   "source": [
    "otterWB <- otter(W0, P, C_wb)"
   ]
  },
  {
   "cell_type": "markdown",
   "metadata": {},
   "source": [
    "Hence, we also have to run OTTER twice. Note that the matrices $P$ and $W_0$ are identical in each run. The input to OTTER only differ in the correlation matrix $C_{lcl}$ or $C_{wb}$, respectively."
   ]
  },
  {
   "cell_type": "markdown",
   "metadata": {},
   "source": [
    "OTTER networks have relatively small weights because of the internal normalization of edges. But the scaling does not matter for the prediction of regulatory links. The higher the edge weight, the higher is the probability that a transcription factor binds to the promoter region of a gene and regulates its expression. For convenience, we multiply all weights with a factor that sets the maximum weight to one."
   ]
  },
  {
   "cell_type": "code",
   "execution_count": null,
   "metadata": {},
   "outputs": [],
   "source": [
    "otterLCL <- otterLCL/max(otterLCL)\n",
    "otterWB  <- otterWB/max(otterWB)"
   ]
  },
  {
   "cell_type": "markdown",
   "metadata": {
    "lines_to_next_cell": 0
   },
   "source": [
    "# 3. Visualizing the networks\n",
    "In this section we will visualize parts of the network using the `visNetwork` package."
   ]
  },
  {
   "cell_type": "markdown",
   "metadata": {
    "lines_to_next_cell": 0
   },
   "source": [
    "## 3.1. Plotting the LCL network\n",
    "\n",
    "As a visualization example, we will plot the LCL cell line OTTER network by taking the 200 largest edge weights in the network by absolute value."
   ]
  },
  {
   "cell_type": "code",
   "execution_count": null,
   "metadata": {},
   "outputs": [],
   "source": [
    "nDiffs= 200"
   ]
  },
  {
   "cell_type": "markdown",
   "metadata": {},
   "source": [
    "Then, we build the input data for `visNetwork` which requires an edges dataframe."
   ]
  },
  {
   "cell_type": "code",
   "execution_count": null,
   "metadata": {},
   "outputs": [],
   "source": [
    "diffNet = otterLCL\n",
    "nTFs  = dim(diffNet)[1]\n",
    "\n",
    "# Edges data frame\n",
    "edges           = matrix(0L, nDiffs, 3)\n",
    "colnames(edges) = c(\"from\",\"to\",\"value\")\n",
    "edges = as.data.frame(edges)\n",
    "aa    = order(as.matrix(abs(diffNet)), decreasing = TRUE)\n",
    "bb    = sort(as.matrix(abs(diffNet)), decreasing = TRUE)\n",
    "edges$value  = as.matrix(diffNet)[aa[1:nDiffs]]\n",
    "geneIdsTop   = (aa[1:nDiffs] %/% dim(diffNet)[1]) + 1\n",
    "tfIdsTop     = aa[1:nDiffs] %% dim(diffNet)[1]\n",
    "tfIdsTop[tfIdsTop == 0] = nTFs\n",
    "edges$to     = colnames(diffNet)[geneIdsTop]\n",
    "edges$from   = rownames(diffNet)[tfIdsTop]                                  \n",
    "edges$arrows = \"to\"   \n",
    "edges$value  = exp(edges$value)\n",
    "edges$color  = \"grey\""
   ]
  },
  {
   "cell_type": "markdown",
   "metadata": {},
   "source": [
    "Then a nodes dataframe."
   ]
  },
  {
   "cell_type": "code",
   "execution_count": null,
   "metadata": {
    "eval": false
   },
   "outputs": [],
   "source": [
    "# Nodes data frame\n",
    "nodes       = data.frame(id = unique(as.vector(as.matrix(edges[,c(1,2)]))), \n",
    "                    label=unique(as.vector(as.matrix(edges[,c(1,2)]))))\n",
    "nodes$group = ifelse(nodes$id %in% edges$from, \"TF\", \"gene\")"
   ]
  },
  {
   "cell_type": "markdown",
   "metadata": {},
   "source": [
    "We can finally, plot the network, using TFs as yellow triangle and genes as black circles."
   ]
  },
  {
   "cell_type": "code",
   "execution_count": null,
   "metadata": {},
   "outputs": [],
   "source": [
    "net <- visNetwork(nodes, edges, width = \"100%\")%>% \n",
    "  visHierarchicalLayout()\n",
    "net <- visGroups(net, groupname = \"TF\", shape = \"triangle\",\n",
    "                 color = list(background = \"yellow\", border=\"black\"))\n",
    "net <- visGroups(net, groupname = \"gene\", shape = \"dot\",       \n",
    "                 color = list(background = \"black\", border=\"black\"))\n",
    "visLegend(net, main=\"Legend\", position=\"right\", ncol=1) "
   ]
  },
  {
   "cell_type": "markdown",
   "metadata": {
    "lines_to_next_cell": 0
   },
   "source": [
    "## 3.2. Plot the top differential edges betwen OTTER LCL and WB networks\n",
    "\n",
    "We can use the LCL and whole blood networks to compare regulatory differences between LCL cell lines and their tissue of origin (whole blood). We can compute a differential network by taking the difference of edge weights using the LCL cell line as a reference group."
   ]
  },
  {
   "cell_type": "code",
   "execution_count": null,
   "metadata": {},
   "outputs": [],
   "source": [
    "diffNet = otterLCL - otterWB"
   ]
  },
  {
   "cell_type": "markdown",
   "metadata": {},
   "source": [
    "To plot the network, we can take the 200 top edges with largest absolute value."
   ]
  },
  {
   "cell_type": "code",
   "execution_count": null,
   "metadata": {},
   "outputs": [],
   "source": [
    "nDiffs= 200 "
   ]
  },
  {
   "cell_type": "markdown",
   "metadata": {},
   "source": [
    "Then, we define the parameters for `visNetwork`."
   ]
  },
  {
   "cell_type": "code",
   "execution_count": null,
   "metadata": {
    "eval": false,
    "message": false,
    "warning": false
   },
   "outputs": [],
   "source": [
    "# Edges data frame\n",
    "edges           = matrix(0L, nDiffs, 3)\n",
    "colnames(edges) = c(\"from\",\"to\",\"value\")\n",
    "edges = as.data.frame(edges)\n",
    "aa    = order(as.matrix(abs(diffNet)), decreasing = TRUE)\n",
    "bb    = sort(as.matrix(abs(diffNet)), decreasing = TRUE)\n",
    "edges$value  = as.matrix(diffNet)[aa[1:nDiffs]]\n",
    "geneIdsTop   = (aa[1:nDiffs] %/% dim(diffNet)[1]) + 1\n",
    "tfIdsTop     = aa[1:nDiffs] %% dim(diffNet)[1]\n",
    "tfIdsTop[tfIdsTop == 0] = nTFs\n",
    "edges$to     = colnames(diffNet)[geneIdsTop]\n",
    "edges$from   = rownames(diffNet)[tfIdsTop]                                  \n",
    "edges$arrows = \"to\"   \n",
    "edges$color  = ifelse(edges$value > 0, \"green\", \"red\")\n",
    "edges$value  = abs(edges$value)\n",
    "\n",
    "# Nodes data frame\n",
    "nodes       = data.frame(id = unique(as.vector(as.matrix(edges[,c(1,2)]))), \n",
    "                    label=unique(as.vector(as.matrix(edges[,c(1,2)]))))\n",
    "nodes$group = ifelse(nodes$id %in% edges$from, \"TF\", \"gene\")"
   ]
  },
  {
   "cell_type": "markdown",
   "metadata": {},
   "source": [
    "Finally, we plot the network as we did previously. Green edges are those larger in our reference group LCL and red edges are smaller in whole blood in comparison to LCL. "
   ]
  },
  {
   "cell_type": "code",
   "execution_count": null,
   "metadata": {},
   "outputs": [],
   "source": [
    "net <- visNetwork(nodes, edges, width = \"100%\")%>% \n",
    "  visHierarchicalLayout()\n",
    "net <- visGroups(net, groupname = \"TF\", shape = \"triangle\",\n",
    "                 color = list(background = \"black\", border=\"black\"))\n",
    "net <- visGroups(net, groupname = \"gene\", shape = \"dot\",       \n",
    "                 color = list(background = \"yellow\", border=\"black\"))\n",
    "visLegend(net, main=\"Legend\", position=\"right\", ncol=1) "
   ]
  },
  {
   "cell_type": "markdown",
   "metadata": {},
   "source": [
    "# 4. Calculating node degree  \n",
    "\n",
    "We can calculte node degree in the network as follows:\n",
    "* out-degrees of TFs: sum of the weights of edges pointing to a TF\n",
    "* in-degrees of genes: sum of the weights of edges pointing to a gene\n",
    "\n",
    "This is particularly useful to reduce the networks to a single summary vector that we can use for Gene Set Enrichment Analysis, which will allow us to understand the enriched pathways in our differential network. First, we compute the outdegree."
   ]
  },
  {
   "cell_type": "code",
   "execution_count": null,
   "metadata": {},
   "outputs": [],
   "source": [
    "lcl_outdegree <- apply(otterLCL, 1, sum) \n",
    "wb_outdegree  <- apply(otterWB, 1, sum) "
   ]
  },
  {
   "cell_type": "markdown",
   "metadata": {},
   "source": [
    "Then, the node indegree."
   ]
  },
  {
   "cell_type": "code",
   "execution_count": null,
   "metadata": {},
   "outputs": [],
   "source": [
    "lcl_indegree  <- apply(otterLCL, 2, sum) \n",
    "wb_indegree   <- apply(otterWB, 2, sum) "
   ]
  },
  {
   "cell_type": "markdown",
   "metadata": {},
   "source": [
    "Finally, we compute the difference between the node degrees. In this case, since we are interested in gene enrichment analysis, we take the node indegree because OTTER networks are directed networks that links TFs to their target genes."
   ]
  },
  {
   "cell_type": "code",
   "execution_count": null,
   "metadata": {},
   "outputs": [],
   "source": [
    "degreeDiff    <- lcl_indegree-wb_indegree \n",
    "head(degreeDiff)"
   ]
  },
  {
   "cell_type": "markdown",
   "metadata": {
    "lines_to_next_cell": 0
   },
   "source": [
    "# 5. Gene Set Enrichment Analysis\n",
    "We will use the `fgsea` package to perform a gene set enrichment analysis. Inputs are a ranked gene list (for example the gene in-degree difference between LCL and whole blood) and a list of gene sets (or signatures) in `gmt` format to test for enrichment. The gene sets can be downloaded from MSigDB: http://software.broadinstitute.org/gsea/msigdb The same gene annotation should be used in the ranked gene list and the gene sets. In our example, we will use the KEGG pathways downloaded from MSigDB.\n",
    "\n",
    "## 5.1. Run fgsea"
   ]
  },
  {
   "cell_type": "markdown",
   "metadata": {},
   "source": [
    "First, if you are working locally, please download the pathway annotation file otherwise you can skip this step."
   ]
  },
  {
   "cell_type": "code",
   "execution_count": null,
   "metadata": {},
   "outputs": [],
   "source": [
    "if(runserver==0){\n",
    "    system(\"curl -O  https://netzoo.s3.us-east-2.amazonaws.com/netZooR/tutorial_datasets/c2.cp.kegg.v7.0.symbols.gmt\")\n",
    "}"
   ]
  },
  {
   "cell_type": "markdown",
   "metadata": {},
   "source": [
    "The we read the file that contains pathways and the genes associated to them as determined by the KEGG database<sup>5</sup>."
   ]
  },
  {
   "cell_type": "code",
   "execution_count": null,
   "metadata": {},
   "outputs": [],
   "source": [
    "pathways <- gmtPathways(paste0(ppath,\"c2.cp.kegg.v7.0.symbols.gmt\"))"
   ]
  },
  {
   "cell_type": "markdown",
   "metadata": {},
   "source": [
    "To retrieve biological-relevant processes, we will load and use the complete ranked gene list (consisting of 26,077 out of 27,174 genes). The in-degree difference has been calculated based on the complete networks instead of the subnetworks, which we constructed in this tutorial as small examples (with reduced run time). First, let's download the precomputed results if we are working locally."
   ]
  },
  {
   "cell_type": "code",
   "execution_count": null,
   "metadata": {},
   "outputs": [],
   "source": [
    "if(runserver==0){\n",
    "    system(\"curl -O  https://netzoo.s3.us-east-2.amazonaws.com/netZooR/tutorial_datasets/lclWB_indegreeDifference_otter.txt\")\n",
    "}"
   ]
  },
  {
   "cell_type": "markdown",
   "metadata": {},
   "source": [
    "Then, let's test the enrichment of our list of genes for pathways in KEGG. First, we need to load the differential targeting profile we computed earlier."
   ]
  },
  {
   "cell_type": "code",
   "execution_count": null,
   "metadata": {},
   "outputs": [],
   "source": [
    "degreeDiff_all <- read.delim(paste0(ppath,\"lclWB_indegreeDifference_otter.txt\"),stringsAsFactors = F,header=F)\n",
    "degreeDiff_all <- setNames(degreeDiff_all[,2], degreeDiff_all[,1])"
   ]
  },
  {
   "cell_type": "markdown",
   "metadata": {},
   "source": [
    "Then, we run fgsea as follows:"
   ]
  },
  {
   "cell_type": "code",
   "execution_count": null,
   "metadata": {},
   "outputs": [],
   "source": [
    "fgseaRes <- fgsea(pathways, degreeDiff_all, minSize=15, maxSize=500, nperm=1000)\n",
    "head(fgseaRes)"
   ]
  },
  {
   "cell_type": "markdown",
   "metadata": {},
   "source": [
    "We obtain a set of pathways linked to our inuput geness. Significance of association can be assessed through the p-value and multiple-testing corrected p-value. Here, we can take an adjusted p-value of 0.05 as our threshold:"
   ]
  },
  {
   "cell_type": "code",
   "execution_count": null,
   "metadata": {
    "message": false,
    "warning": false
   },
   "outputs": [],
   "source": [
    "sig <- fgseaRes[fgseaRes$padj < 0.05,]"
   ]
  },
  {
   "cell_type": "markdown",
   "metadata": {},
   "source": [
    "Then, we can get the top 10 significant pathways enriched for genes having lower targeting in LCLs by evaluating the Normalized Enrichment Score (NES). This score is positive if our reference group (LCL) is enriched for pathways and negative otherwise. "
   ]
  },
  {
   "cell_type": "code",
   "execution_count": null,
   "metadata": {},
   "outputs": [],
   "source": [
    "sig[order(sig$NES)[1:10],]"
   ]
  },
  {
   "cell_type": "markdown",
   "metadata": {},
   "source": [
    "## 5.2. Bubble plot of top differentially targeted pathways\n",
    "Bubble plot of gene sets (KEGG pathways) on y-axis and adjusted p-value (padj) on x-axis. Bubble size indicates the number of genes in each gene set, and bubble color indicates the normalized enrichment score (NES). Blue is for negative NES (enrichment of higher targeted genes in whole blood), and red is for positive NES (enrichment of higher targeted genes in LCL). First, we need ot convert our fgsea results to a dataframe as input to the bubble plot function"
   ]
  },
  {
   "cell_type": "code",
   "execution_count": null,
   "metadata": {},
   "outputs": [],
   "source": [
    "dat <- data.frame(fgseaRes)"
   ]
  },
  {
   "cell_type": "markdown",
   "metadata": {},
   "source": [
    "We set our significance threshold to 0.05."
   ]
  },
  {
   "cell_type": "code",
   "execution_count": null,
   "metadata": {},
   "outputs": [],
   "source": [
    "fdrcut <- 0.05 # FDR cut-off to use as output for significant signatures"
   ]
  },
  {
   "cell_type": "markdown",
   "metadata": {},
   "source": [
    "Then, we specify as set of parameters for plotting, such as the color of bubble for enriched terms."
   ]
  },
  {
   "cell_type": "code",
   "execution_count": null,
   "metadata": {},
   "outputs": [],
   "source": [
    "dencol_neg <- \"blue\" # bubble plot color for negative ES\n",
    "dencol_pos <- \"red\" # bubble plot color for positive ES\n",
    "signnamelength <- 4 # set to remove prefix from signature names (2 for \"GO\", 4 for \"KEGG\", 8 for \"REACTOME\")\n",
    "asp <- 3 # aspect ratio of bubble plot\n",
    "charcut <- 100 # cut signature name in heatmap to this nr of characters"
   ]
  },
  {
   "cell_type": "markdown",
   "metadata": {},
   "source": [
    "We clean pathway names to make the plot readable."
   ]
  },
  {
   "cell_type": "code",
   "execution_count": null,
   "metadata": {},
   "outputs": [],
   "source": [
    "a <- as.character(dat$pathway) # 'a' is a great variable name to substitute row names with something more readable\n",
    "for (j in 1:length(a)){\n",
    "  a[j] <- substr(a[j], signnamelength+2, nchar(a[j]))\n",
    "}\n",
    "a <- tolower(a) # convert to lower case (you may want to comment this out, it really depends on what signatures you are looking at, c6 signatures contain gene names, and converting those to lower case may be confusing)\n",
    "for (j in 1:length(a)){\n",
    "  if(nchar(a[j])>charcut) { a[j] <- paste(substr(a[j], 1, charcut), \"...\", sep=\" \")}\n",
    "} # cut signature names that have more characters than charcut, and add \"...\"\n",
    "a <- gsub(\"_\", \" \", a)\n",
    "dat$NAME <- a"
   ]
  },
  {
   "cell_type": "markdown",
   "metadata": {},
   "source": [
    "Next, we set determine what signatures to plot (based on FDR cut)."
   ]
  },
  {
   "cell_type": "code",
   "execution_count": null,
   "metadata": {},
   "outputs": [],
   "source": [
    "dat2 <- dat[dat[,\"padj\"]<fdrcut,]\n",
    "dat2 <- dat2[order(dat2[,\"padj\"]),] \n",
    "dat2$signature <- factor(dat2$NAME, rev(as.character(dat2$NAME)))"
   ]
  },
  {
   "cell_type": "markdown",
   "metadata": {},
   "source": [
    "Then, we define the colors based the enrichement for each group as defined earlier."
   ]
  },
  {
   "cell_type": "code",
   "execution_count": null,
   "metadata": {},
   "outputs": [],
   "source": [
    "# Determine what labels to color\n",
    "sign_neg <- which(dat2[,\"NES\"]<0)\n",
    "sign_pos <- which(dat2[,\"NES\"]>0)\n",
    "# Color labels\n",
    "signcol <- rep(NA, length(dat2$signature))\n",
    "signcol[sign_neg] <- dencol_neg # text color of negative signatures\n",
    "signcol[sign_pos] <- dencol_pos # text color of positive signatures\n",
    "signcol <- rev(signcol) # need to revert vector of colors, because ggplot starts plotting these from below"
   ]
  },
  {
   "cell_type": "markdown",
   "metadata": {},
   "source": [
    "Finally, we draw the bubble plot."
   ]
  },
  {
   "cell_type": "code",
   "execution_count": null,
   "metadata": {
    "lines_to_next_cell": 0
   },
   "outputs": [],
   "source": [
    "g<-ggplot(dat2, aes(x=padj,y=signature,size=size))\n",
    "g+geom_point(aes(fill=NES), shape=21, colour=\"white\")+\n",
    "  theme_bw()+ # white background, needs to be placed before the \"signcol\" line\n",
    "  xlim(0,fdrcut)+\n",
    "  scale_size_area(max_size=10,guide=\"none\")+\n",
    "  scale_fill_gradient2(low=dencol_neg, high=dencol_pos)+\n",
    "  theme(axis.text.y = element_text(colour=signcol))+\n",
    "  theme(aspect.ratio=asp, axis.title.y=element_blank()) # test aspect.ratio"
   ]
  },
  {
   "cell_type": "markdown",
   "metadata": {},
   "source": [
    "The plot summarizes our findings in the gene enrichment analysis, we see in particular that there are notable differences between LCL and whole blood, which denotes differences in regualtory processes between cell lines and their tissues of origin. In particular, we see the term `patwhays in cancer` enriched in LCL cell line. This is not surprising since LCLs are immortalized by EBV infection, which is linked itself to increased cases of cancer<sup>6</sup>."
   ]
  },
  {
   "cell_type": "markdown",
   "metadata": {},
   "source": [
    "# References\n",
    "\n",
    "1- Lopes-Ramos, Camila M., et al. \"Regulatory network changes between cell lines and their tissues of origin.\" BMC genomics 18.1 (2017): 1-13.\n",
    "\n",
    "2- Glass, Kimberly, et al. \"Passing messages between biological networks to refine predicted interactions.\" PloS one 8.5 (2013): e64832.\n",
    "\n",
    "3- Weighill, Deborah, et al. \"Gene regulatory network inference as relaxed graph matching.\" Proceedings of the... AAAI Conference on Artificial Intelligence. AAAI Conference on Artificial Intelligence. Vol. 35. No. 11. NIH Public Access, 2021.\n",
    "\n",
    "4- GTEx Consortium, et al. \"The Genotype-Tissue Expression (GTEx) pilot analysis: Multitissue gene regulation in humans.\" Science 348.6235 (2015): 648-660.\n",
    "\n",
    "5- Kanehisa, Minoru, and Susumu Goto. \"KEGG: kyoto encyclopedia of genes and genomes.\" Nucleic acids research 28.1 (2000): 27-30.\n",
    "\n",
    "6- Thompson, Matthew P., and Razelle Kurzrock. \"Epstein-Barr virus and cancer.\" Clinical cancer research 10.3 (2004): 803-821."
   ]
  }
 ],
 "metadata": {
  "jupytext": {
   "cell_metadata_filter": "message,eval,warning,tags,-all",
   "main_language": "R",
   "notebook_metadata_filter": "-all"
  },
  "kernelspec": {
   "display_name": "R",
   "language": "R",
   "name": "ir"
  },
  "language_info": {
   "codemirror_mode": "r",
   "file_extension": ".r",
   "mimetype": "text/x-r-source",
   "name": "R",
   "pygments_lexer": "r",
   "version": "4.1.1"
  }
 },
 "nbformat": 4,
 "nbformat_minor": 4
}
