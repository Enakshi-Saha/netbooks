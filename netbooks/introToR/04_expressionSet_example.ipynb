{
 "cells": [
  {
   "cell_type": "raw",
   "metadata": {
    "lines_to_next_cell": 0
   },
   "source": [
    "---\n",
    "title: \"Exploring the ExpressionSet class\"\n",
    "date: \"11/24/2020\"\n",
    "output:\n",
    "  html_document:\n",
    "    df_print: paged\n",
    "    toc: yes\n",
    "    toc_float: true\n",
    "---"
   ]
  },
  {
   "cell_type": "markdown",
   "metadata": {
    "lines_to_next_cell": 0
   },
   "source": [
    "The ExpressionSet class from the Biobase package is designed to combine different sources of information into one standardized structure. It is very convenient to represent genomic data as it can include expression data, ‘meta-data’ describing samples in the experiment, annotations about the genes, and a flexible structure to describe the experiment. Here we will explore and understand the parts of an ExpressionSet.\n",
    "\n",
    "## Load packages"
   ]
  },
  {
   "cell_type": "code",
   "execution_count": null,
   "metadata": {
    "message": false
   },
   "outputs": [],
   "source": [
    "library(Biobase)\n",
    "library(GEOquery)\n",
    "library(gplots)"
   ]
  },
  {
   "cell_type": "markdown",
   "metadata": {
    "lines_to_next_cell": 0
   },
   "source": [
    "## Download data from the GEO public gene expression data repository\n",
    "http://www.ncbi.nlm.nih.gov/geo/query/acc.cgi?acc=GSE1577"
   ]
  },
  {
   "cell_type": "code",
   "execution_count": null,
   "metadata": {
    "lines_to_next_cell": 0,
    "message": false,
    "warning": false
   },
   "outputs": [],
   "source": [
    "eset <- getGEO('GSE1577')[[1]]\n",
    "class(eset)\n",
    "show(eset)\n",
    "\n",
    "# Dimensions of the ExpressionSet\n",
    "dim(eset)\n",
    "# Number of features (genes)\n",
    "nrow(eset) \n",
    "# Number of samples\n",
    "ncol(eset) \n",
    "\n",
    "# \"names\" of samples--must be unique\n",
    "sampleNames(eset)[1:8]\n",
    "# \"names\" of features--must be unique\n",
    "featureNames(eset)[1:8]"
   ]
  },
  {
   "cell_type": "markdown",
   "metadata": {
    "lines_to_next_cell": 0
   },
   "source": [
    "## featureData - gene information"
   ]
  },
  {
   "cell_type": "code",
   "execution_count": null,
   "metadata": {
    "lines_to_next_cell": 0
   },
   "outputs": [],
   "source": [
    "class(fData(eset))\n",
    "dim(fData(eset))\n",
    "all.equal(featureNames(eset),rownames(fData(eset)))\n",
    "head(fData(eset)[,c(10:12)])\n",
    "colnames(fData(eset))"
   ]
  },
  {
   "cell_type": "markdown",
   "metadata": {
    "lines_to_next_cell": 0
   },
   "source": [
    "## phenoData - sample information"
   ]
  },
  {
   "cell_type": "code",
   "execution_count": null,
   "metadata": {
    "lines_to_next_cell": 0
   },
   "outputs": [],
   "source": [
    "class(pData(eset))\n",
    "dim(pData(eset))\n",
    "all.equal(sampleNames(eset),rownames(pData(eset)))\n",
    "head(pData(eset))\n",
    "colnames(pData(eset))"
   ]
  },
  {
   "cell_type": "markdown",
   "metadata": {
    "lines_to_next_cell": 0
   },
   "source": [
    "## assayData - expression information"
   ]
  },
  {
   "cell_type": "code",
   "execution_count": null,
   "metadata": {},
   "outputs": [],
   "source": [
    "head(exprs(eset))\n",
    "# OR\n",
    "head(assayDataElement(eset,'exprs')) \n",
    "# OR\n",
    "head(assayData(eset)[['exprs']])\n",
    " \n",
    "class(exprs(eset))\n",
    "summary(exprs(eset))\n",
    "all.equal(colnames(exprs(eset)),sampleNames(eset))\n",
    "all.equal(rownames(exprs(eset)),featureNames(eset))"
   ]
  },
  {
   "cell_type": "markdown",
   "metadata": {
    "lines_to_next_cell": 0
   },
   "source": [
    "## Subsetting ExpressionSets\n",
    "Subsetting works similarly to data.frames or matrices (columns represent samples, and rows represent genes or features)."
   ]
  },
  {
   "cell_type": "code",
   "execution_count": null,
   "metadata": {},
   "outputs": [],
   "source": [
    "eset[1:10,]\n",
    "eset[,1:10]\n",
    "\n",
    "# Subset our ExpressionSet to include only the \"Bone Marrow\" samples\n",
    "levels(pData(eset)$source_name_ch1)\n",
    "eset[,pData(eset)$source_name_ch1==\"Bone marrow sample\"]"
   ]
  },
  {
   "cell_type": "markdown",
   "metadata": {
    "lines_to_next_cell": 0
   },
   "source": [
    "## Make a heatmap with the top 20 most variable genes"
   ]
  },
  {
   "cell_type": "code",
   "execution_count": null,
   "metadata": {},
   "outputs": [],
   "source": [
    "# Prepare data for heatmap\n",
    "summary(exprs(eset))\n",
    "hist(exprs(eset))\n",
    "# Put the expression values in log2 space\n",
    "summary(log2(exprs(eset)))\n",
    "hist(log2(exprs(eset)))\n",
    "# Replace the expression values in our ExpressionSet with the log2-transformed values\n",
    "exprs(eset) <- log2(exprs(eset))\n",
    "hist(exprs(eset))\n",
    "# Compute the expression standard deviation for each feature in the ExpressionSet\n",
    "stdDev <- apply(exprs(eset),1,sd)\n",
    "hist(stdDev)\n",
    "# Subset the expression data to include the top 20 most variable genes\n",
    "eset2 <- eset[order(stdDev,decreasing=TRUE)[1:20],]\n",
    "eset2\n",
    "# Make the heatmap\n",
    "heatmap.2(exprs(eset2),trace='none')\n",
    "# Make a more informative heatmap - change probe ID to gene symbol and add the sample types as a color bar\n",
    "cols <- pData(eset2)$source_name_ch1\n",
    "heatmapColColors <- c(\"blue\", \"red\")[factor(cols)]\n",
    "heatmap.2(exprs(eset2),trace='none',labRow=fData(eset2)$'Gene Symbol', labCol=pData(eset2)$source_name_ch1,ColSideColors=heatmapColColors,margins=c(10,12))\n",
    "legend(3.5,4, legend=unique(cols),fill=unique(heatmapColColors), xpd=TRUE, box.lwd=NA, cex=0.7) "
   ]
  }
 ],
 "metadata": {
  "jupytext": {
   "cell_metadata_filter": "message,warning,-all",
   "main_language": "R",
   "notebook_metadata_filter": "-all"
  },
  "kernelspec": {
   "display_name": "R",
   "language": "R",
   "name": "ir"
  },
  "language_info": {
   "codemirror_mode": "r",
   "file_extension": ".r",
   "mimetype": "text/x-r-source",
   "name": "R",
   "pygments_lexer": "r",
   "version": "3.6.2"
  }
 },
 "nbformat": 4,
 "nbformat_minor": 4
}
