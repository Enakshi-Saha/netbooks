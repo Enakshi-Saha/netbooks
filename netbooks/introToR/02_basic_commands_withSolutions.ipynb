{
 "cells": [
  {
   "cell_type": "raw",
   "metadata": {},
   "source": [
    "---\n",
    "title: \"Basic R commands\"\n",
    "date: \"11/24/2020\"\n",
    "output:\n",
    "  html_document:\n",
    "    df_print: paged\n",
    "    toc: yes\n",
    "    toc_float: true\n",
    "---"
   ]
  },
  {
   "cell_type": "code",
   "execution_count": null,
   "metadata": {
    "tags": [
     "remove_input"
    ]
   },
   "outputs": [],
   "source": [
    "# This is to limit the number of lines showing as the result of a code chunck (see https://community.rstudio.com/t/showing-only-the-first-few-lines-of-the-results-of-a-code-chunk/6963/2)\n",
    "library(knitr)\n",
    "hook_output <- knit_hooks$get(\"output\")\n",
    "knit_hooks$set(output = function(x, options) {\n",
    "  lines <- options$output.lines\n",
    "  if (is.null(lines)) {\n",
    "    return(hook_output(x, options))  # pass to default hook\n",
    "  }\n",
    "  x <- unlist(strsplit(x, \"\\n\"))\n",
    "  more <- \"...\"\n",
    "  if (length(lines)==1) {        # first n lines\n",
    "    if (length(x) > lines) {\n",
    "      # truncate the output, but add ....\n",
    "      x <- c(head(x, lines), more)\n",
    "    }\n",
    "  } else {\n",
    "    x <- c(more, x[lines], more)\n",
    "  }\n",
    "  # paste these lines together\n",
    "  x <- paste(c(x, \"\"), collapse = \"\\n\")\n",
    "  hook_output(x, options)\n",
    "})"
   ]
  },
  {
   "cell_type": "markdown",
   "metadata": {
    "lines_to_next_cell": 0
   },
   "source": [
    "We will review basic commands in R.  \n",
    "We will take a look at the results from a differential expression analysis between males and females with colon cancer.\n",
    "\n",
    "## Reading data from files\n",
    "First, you can set the directory that you're working in. \n",
    "If you don't want to write out the full path file, in RStudio you can use the menu option:  \n",
    "Session > Set Working Directory > Choose Directory"
   ]
  },
  {
   "cell_type": "code",
   "execution_count": null,
   "metadata": {
    "eval": false,
    "lines_to_next_cell": 0
   },
   "outputs": [],
   "source": [
    " # To check the working directory\n",
    "getwd()"
   ]
  },
  {
   "cell_type": "code",
   "execution_count": null,
   "metadata": {},
   "outputs": [],
   "source": [
    "# To set the working directory use setwd()"
   ]
  },
  {
   "cell_type": "markdown",
   "metadata": {
    "lines_to_next_cell": 0
   },
   "source": [
    "Now, load the data and assign it to a variable."
   ]
  },
  {
   "cell_type": "code",
   "execution_count": null,
   "metadata": {
    "lines_to_next_cell": 0
   },
   "outputs": [],
   "source": [
    "dge <- read.delim(\"DEresults_colonCancer.txt\", stringsAsFactors = FALSE)\n",
    "annotations <- read.delim(\"gene_annotations.txt\", stringsAsFactors = FALSE) "
   ]
  },
  {
   "cell_type": "markdown",
   "metadata": {
    "lines_to_next_cell": 0
   },
   "source": [
    "In RStudio you can load the data using the menu option: File > Import Dataset > From Text  \n",
    "\n",
    "Let's look the first six rows of each data (stored as a variable)"
   ]
  },
  {
   "cell_type": "code",
   "execution_count": null,
   "metadata": {
    "lines_to_next_cell": 2
   },
   "outputs": [],
   "source": [
    "head(dge)\n",
    "head(annotations)"
   ]
  },
  {
   "cell_type": "markdown",
   "metadata": {
    "lines_to_next_cell": 0
   },
   "source": [
    "####Access data by index, by name or by logical vector  \n",
    "Select the first column"
   ]
  },
  {
   "cell_type": "code",
   "execution_count": null,
   "metadata": {
    "lines_to_next_cell": 0,
    "output.lines": 4
   },
   "outputs": [],
   "source": [
    "dge[1]\n",
    "dge[,1]\n",
    "dge[,\"logFC\"]\n",
    "dge$logFC"
   ]
  },
  {
   "cell_type": "markdown",
   "metadata": {
    "lines_to_next_cell": 0
   },
   "source": [
    "Select the first row"
   ]
  },
  {
   "cell_type": "code",
   "execution_count": null,
   "metadata": {
    "lines_to_next_cell": 0
   },
   "outputs": [],
   "source": [
    "dge[1,]\n",
    "dge[\"DDX3Y\",]"
   ]
  },
  {
   "cell_type": "markdown",
   "metadata": {
    "lines_to_next_cell": 0
   },
   "source": [
    "Select the element in the first row and second column"
   ]
  },
  {
   "cell_type": "code",
   "execution_count": null,
   "metadata": {
    "lines_to_next_cell": 0
   },
   "outputs": [],
   "source": [
    "dge[1,2]"
   ]
  },
  {
   "cell_type": "markdown",
   "metadata": {
    "lines_to_next_cell": 0
   },
   "source": [
    "Select the first three columns"
   ]
  },
  {
   "cell_type": "code",
   "execution_count": null,
   "metadata": {
    "lines_to_next_cell": 0,
    "output.lines": 4
   },
   "outputs": [],
   "source": [
    "dge[,1:3]"
   ]
  },
  {
   "cell_type": "markdown",
   "metadata": {
    "lines_to_next_cell": 0
   },
   "source": [
    "Select all columns except first"
   ]
  },
  {
   "cell_type": "code",
   "execution_count": null,
   "metadata": {
    "output.lines": 4
   },
   "outputs": [],
   "source": [
    "dge[2:ncol(dge)]\n",
    "dge[-1]"
   ]
  },
  {
   "cell_type": "markdown",
   "metadata": {
    "lines_to_next_cell": 0
   },
   "source": [
    "##Logical test operators\n",
    "Operator  | Details\n",
    "--------- | ----------------------------------------------------------------------\n",
    "== | equal to    \n",
    "!= |  not equal to  \n",
    "& |  and   \n",
    "\\| |  or  \n",
    "< |  less than  \n",
    ">  | greater than    \n",
    "<= |  less than or equal to  \n",
    ">= |  greater than or equal to  \n",
    "\n",
    "####Logical tests\n",
    "A logical test will return a logical vector (true or false result)."
   ]
  },
  {
   "cell_type": "code",
   "execution_count": null,
   "metadata": {
    "lines_to_next_cell": 0
   },
   "outputs": [],
   "source": [
    "x <- 1:10\n",
    "x == 5\n",
    "x < 5\n",
    "x >= 5\n",
    "table(x == 5)"
   ]
  },
  {
   "cell_type": "markdown",
   "metadata": {
    "lines_to_next_cell": 0
   },
   "source": [
    "Now we can pull out the associated values resulted from the logical test.  \n",
    "Return values in x smaller than 5"
   ]
  },
  {
   "cell_type": "code",
   "execution_count": null,
   "metadata": {
    "lines_to_next_cell": 0
   },
   "outputs": [],
   "source": [
    "x[x < 5]"
   ]
  },
  {
   "cell_type": "markdown",
   "metadata": {
    "lines_to_next_cell": 0
   },
   "source": [
    "####Conditional statements and filtering\n",
    "We can extend the same principle to data frames.  \n",
    "Let's extract only the rows for genes with logFC greater than 2."
   ]
  },
  {
   "cell_type": "code",
   "execution_count": null,
   "metadata": {
    "lines_to_next_cell": 0,
    "output.lines": 4
   },
   "outputs": [],
   "source": [
    "dge[dge$logFC > 2,]"
   ]
  },
  {
   "cell_type": "markdown",
   "metadata": {
    "lines_to_next_cell": 0
   },
   "source": [
    "Select the rows for genes with logFC greater than 2 or less than -2"
   ]
  },
  {
   "cell_type": "code",
   "execution_count": null,
   "metadata": {
    "lines_to_next_cell": 0,
    "output.lines": 4
   },
   "outputs": [],
   "source": [
    "dge[dge$logFC > 2 | dge$logFC < -2,]\n",
    "dge[abs(dge$logFC) > 2,]"
   ]
  },
  {
   "cell_type": "markdown",
   "metadata": {
    "lines_to_next_cell": 0
   },
   "source": [
    "Select genes that are on chromosome Y"
   ]
  },
  {
   "cell_type": "code",
   "execution_count": null,
   "metadata": {
    "lines_to_next_cell": 0,
    "output.lines": 4
   },
   "outputs": [],
   "source": [
    "is_chrY <- annotations$chrom == \"chrY\"\n",
    "is_chrY\n",
    "annotations[is_chrY,]\n",
    "# You can invert the result using a logical not operation\n",
    "annotations[!(is_chrY),]"
   ]
  },
  {
   "cell_type": "markdown",
   "metadata": {
    "lines_to_next_cell": 0
   },
   "source": [
    "Select genes that are in a defined group of lncRNAs"
   ]
  },
  {
   "cell_type": "code",
   "execution_count": null,
   "metadata": {
    "lines_to_next_cell": 0,
    "output.lines": 4
   },
   "outputs": [],
   "source": [
    "lncRNAs <- c(\"LINC01128\", \"LINC00115\", \"LINC01342\", \"LINC00982\", \"LINC00278\", \"LINC00280\", \"LINC00279\", \"LINC00265-2P\", \"LINC00266-2P\", \"LINC00266-4P\", \"LINC00265-3P\")\n",
    "is_lncRNAs <- annotations$name %in% lncRNAs\n",
    "annotations[is_lncRNAs,]"
   ]
  },
  {
   "cell_type": "markdown",
   "metadata": {
    "lines_to_next_cell": 0
   },
   "source": [
    "Combine multiple criteria with AND (&) operation"
   ]
  },
  {
   "cell_type": "code",
   "execution_count": null,
   "metadata": {
    "lines_to_next_cell": 2,
    "output.lines": 4
   },
   "outputs": [],
   "source": [
    "selection_criteria <- is_lncRNAs & is_chrY\n",
    "annotations[selection_criteria, ]"
   ]
  },
  {
   "cell_type": "markdown",
   "metadata": {
    "lines_to_next_cell": 0
   },
   "source": [
    "####Sorting and ordering"
   ]
  },
  {
   "cell_type": "code",
   "execution_count": null,
   "metadata": {
    "output.lines": 4
   },
   "outputs": [],
   "source": [
    "sort(dge$logFC)\n",
    "sort(dge$logFC, decreasing = TRUE)\n",
    "dge[order(dge$logFC, decreasing=TRUE),]"
   ]
  },
  {
   "cell_type": "markdown",
   "metadata": {
    "lines_to_next_cell": 0
   },
   "source": [
    "## Text manipulation\n",
    "Combining text vectors together"
   ]
  },
  {
   "cell_type": "code",
   "execution_count": null,
   "metadata": {
    "lines_to_next_cell": 0,
    "output.lines": 4
   },
   "outputs": [],
   "source": [
    "paste(annotations$chrom)\n",
    "paste(annotations$chrom, \":\", annotations$start, \"-\", annotations$end)\n",
    "paste(annotations$chrom, \":\", annotations$start, \"-\", annotations$end, sep=\"\")"
   ]
  },
  {
   "cell_type": "markdown",
   "metadata": {
    "lines_to_next_cell": 0
   },
   "source": [
    "Searching and replacing"
   ]
  },
  {
   "cell_type": "code",
   "execution_count": null,
   "metadata": {
    "lines_to_next_cell": 0,
    "output.lines": 4
   },
   "outputs": [],
   "source": [
    "grep(\"MIR\", annotations$name)\n",
    "grep(\"MIR\", annotations$name, value=TRUE)\n",
    "# You can also invert\n",
    "grep(\"MIR\", annotations$name, value=TRUE, invert=TRUE)\n",
    "\n",
    "# Create a vector with the genomic coordinates\n",
    "genome <- paste(annotations$chrom, \":\", annotations$start, \"-\", annotations$end, sep=\"\")\n",
    "head(genome)\n",
    "# Replace \"chr\" by \"chromosome\"\n",
    "gsub(\"chr\", \"chromosome\", genome)\n",
    "# Now remove the text \"chr\" (you can just replace \"chr\" by blank)\n",
    "gsub(\"chr\", \"\", genome)"
   ]
  },
  {
   "cell_type": "markdown",
   "metadata": {
    "lines_to_next_cell": 0
   },
   "source": [
    "Find the chromosome location to each gene in the dge data by matching the gene names in dge and annotations"
   ]
  },
  {
   "cell_type": "code",
   "execution_count": null,
   "metadata": {
    "lines_to_next_cell": 2,
    "output.lines": 4
   },
   "outputs": [],
   "source": [
    "match(rownames(dge), annotations$name)\n",
    "chrom <- annotations[match(rownames(dge), annotations$name), \"chrom\"]\n",
    "head(chrom)"
   ]
  },
  {
   "cell_type": "markdown",
   "metadata": {
    "lines_to_next_cell": 0
   },
   "source": [
    "## Looping\n",
    "The “for loop”"
   ]
  },
  {
   "cell_type": "code",
   "execution_count": null,
   "metadata": {
    "lines_to_next_cell": 0,
    "output.lines": 4
   },
   "outputs": [],
   "source": [
    "my_vector <- c(10,11,12,13) \n",
    "for (item in my_vector){\n",
    "  print(item)\n",
    "  #do actual operations here\n",
    "}"
   ]
  },
  {
   "cell_type": "markdown",
   "metadata": {
    "lines_to_next_cell": 0
   },
   "source": [
    "Apply will perform an operation on each row or each column of a data frame"
   ]
  },
  {
   "cell_type": "code",
   "execution_count": null,
   "metadata": {
    "lines_to_next_cell": 0,
    "output.lines": 4
   },
   "outputs": [],
   "source": [
    "?apply\n",
    "apply(dge, 1, mean)\n",
    "apply(dge, 2, mean)\n",
    "colMeans(dge)"
   ]
  },
  {
   "cell_type": "markdown",
   "metadata": {
    "lines_to_next_cell": 0
   },
   "source": [
    "tapply can be used to perform a function on subsets of your data.  \n",
    "tapply(vector of values, vector of categories, function to apply)  \n",
    "For example, what is the first position a gene occupies in each chromosome? "
   ]
  },
  {
   "cell_type": "code",
   "execution_count": null,
   "metadata": {
    "lines_to_next_cell": 0,
    "output.lines": 4
   },
   "outputs": [],
   "source": [
    "?tapply\n",
    "tapply(annotations$start, annotations$chrom, min)\n",
    "tapply(annotations$start, annotations$chrom, max)"
   ]
  },
  {
   "cell_type": "markdown",
   "metadata": {},
   "source": [
    "You can also do looping through lists and vectors (lapply and sapply)"
   ]
  },
  {
   "cell_type": "markdown",
   "metadata": {
    "lines_to_next_cell": 0
   },
   "source": [
    "## Final questions\n",
    "1. Add the chromosome information (chromosome, start and end position) to the differential gene expression results (dge data).\n",
    "2. Calculate the gene length.\n",
    "3. What is the gene length mean?\n",
    "4. Subset the dge data to include only statistically significant genes with a cutoff of FDR < 0.05 and absolute logFC greater than 2.\n",
    "5. Get the gene names for the statistically significant genes located on the Y chromosome.\n",
    "\n",
    "####Solutions"
   ]
  },
  {
   "cell_type": "code",
   "execution_count": null,
   "metadata": {
    "output.lines": 4
   },
   "outputs": [],
   "source": [
    "chr <- annotations[match(rownames(dge), annotations$name), c(\"chrom\", \"start\", \"end\")]\n",
    "dge <- cbind(dge, chr)\n",
    "dim(dge)\n",
    "dge$gene_length <- dge$end - dge$start\n",
    "mean(dge$gene_length, na.rm=TRUE)\n",
    "apply(dge[\"gene_length\"],2, function(x) mean(x,na.rm=TRUE))\n",
    "sig <- dge[abs(dge$logFC) > 2 & dge$adj.P.Val < 0.05,]\n",
    "rownames(sig)[sig$chrom == \"chrY\"]"
   ]
  }
 ],
 "metadata": {
  "jupytext": {
   "cell_metadata_filter": "tags,output.lines,eval,-all",
   "main_language": "R",
   "notebook_metadata_filter": "-all"
  },
  "kernelspec": {
   "display_name": "R",
   "language": "R",
   "name": "ir"
  },
  "language_info": {
   "codemirror_mode": "r",
   "file_extension": ".r",
   "mimetype": "text/x-r-source",
   "name": "R",
   "pygments_lexer": "r",
   "version": "3.6.2"
  }
 },
 "nbformat": 4,
 "nbformat_minor": 4
}
